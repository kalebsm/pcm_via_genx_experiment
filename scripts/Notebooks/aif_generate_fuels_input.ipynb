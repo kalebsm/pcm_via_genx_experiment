{
 "cells": [
  {
   "cell_type": "code",
   "execution_count": 7,
   "metadata": {},
   "outputs": [],
   "source": [
    "import pandas as pd\n",
    "import numpy as np\n",
    "import os"
   ]
  },
  {
   "cell_type": "code",
   "execution_count": 8,
   "metadata": {},
   "outputs": [
    {
     "name": "stdout",
     "output_type": "stream",
     "text": [
      "['10_Hr_BESS', '10_Hr_BESS_Fuelx2', '2_Hr_BESS', '2_Hr_BESS_Fuelx2', '4_Hr_BESS', '4_Hr_BESS_Fuelx2', '4_Hr_BESS_Fuelx3', '4_Hr_BESS_Fuelx4', '6_Hr_BESS', '6_Hr_BESS_Fuelx2', '8_Hr_BESS', '8_Hr_BESS_Fuelx2', 'Thermal_Case']\n"
     ]
    }
   ],
   "source": [
    "# define location of cost assumptions\n",
    "generator_assumptions_path = os.path.join('..', 'data', 'cases')\n",
    "# define path locations for CEM and LACs where inputs are going\n",
    "genx_cem_loc = os.path.join('..', 'GenX.jl', 'research_systems')\n",
    "spcm_lac_loc = os.path.join('..', 'SPCM', 'research_systems')\n",
    "\n",
    "# Get the list of all files in the generator_assumptions_path directory\n",
    "case_names_list = []\n",
    "for xlsx_name in os.listdir(generator_assumptions_path):\n",
    "    if os.path.isfile(os.path.join(generator_assumptions_path, xlsx_name)):\n",
    "        case_name = xlsx_name.replace('.xlsx', '')\n",
    "        case_names_list.append(case_name)\n",
    "print(case_names_list)"
   ]
  },
  {
   "cell_type": "code",
   "execution_count": 9,
   "metadata": {},
   "outputs": [],
   "source": [
    "# load in a_upd_generator.csv\n",
    "full_generator_df = pd.read_csv('a_upd_generator_df.csv')"
   ]
  },
  {
   "cell_type": "code",
   "execution_count": 10,
   "metadata": {},
   "outputs": [],
   "source": [
    "# load in ercot actuals data\n",
    "ercot_actuals_loc = os.path.join('..', 'scenario_generation', 'sequential_NORTA', 'data')\n",
    "ercot_actuals_df = pd.read_csv(ercot_actuals_loc + '/actuals_ercot2018.csv')\n",
    "\n",
    "lac_length = len(ercot_actuals_df)\n",
    "period = range(0,lac_length)\n",
    "cem_length = lac_length - 50\n",
    "\n",
    "# for some reason, fuel lengths need to be one longer than the actual data\n",
    "cem_fuel_length = cem_length + 1\n",
    "lac_fuel_length = lac_length + 1"
   ]
  },
  {
   "cell_type": "code",
   "execution_count": 11,
   "metadata": {},
   "outputs": [],
   "source": [
    "# read in data_source_comparisons\n",
    "manual_db_rel = pd.read_csv(os.path.join('..', 'data','manual_db_rel.csv'))"
   ]
  },
  {
   "cell_type": "code",
   "execution_count": null,
   "metadata": {},
   "outputs": [
    {
     "name": "stdout",
     "output_type": "stream",
     "text": [
      "0\n",
      "5\n",
      "2\n",
      "1\n",
      "0\n",
      "5\n",
      "2\n",
      "1\n",
      "0\n",
      "5\n",
      "2\n",
      "1\n",
      "0\n",
      "5\n",
      "2\n",
      "1\n",
      "0\n",
      "5\n",
      "2\n",
      "1\n",
      "0\n",
      "5\n",
      "2\n",
      "1\n",
      "0\n",
      "5\n",
      "2\n",
      "1\n",
      "0\n",
      "5\n",
      "2\n",
      "1\n",
      "0\n",
      "5\n",
      "2\n",
      "1\n",
      "0\n",
      "5\n",
      "2\n",
      "1\n",
      "0\n",
      "5\n",
      "2\n",
      "1\n",
      "0\n",
      "5\n",
      "2\n",
      "1\n",
      "0\n",
      "5\n",
      "2\n",
      "1\n"
     ]
    }
   ],
   "source": [
    "for case_name in case_names_list:\n",
    "# for case_name in case_names_list[0:1]:\n",
    "    # load cem and lac paths\n",
    "    genx_cem_system_path = os.path.join(genx_cem_loc, case_name, 'system')\n",
    "    spcm_lac_system_path = os.path.join(spcm_lac_loc, case_name, 'system')\n",
    "\n",
    "    # read in cost assumption in generator_assumptions_path for case\n",
    "    case_assumptions = pd.read_excel(os.path.join(generator_assumptions_path, case_name + '.xlsx'))\n",
    "\n",
    "    # get set of resources in case assumptions\n",
    "    resources = case_assumptions['Technical Name']\n",
    "    # get fuel types for each resource from full_generator_df\n",
    "    fuel_types = full_generator_df[full_generator_df['Resource'].isin(resources)]['Fuel'].unique()\n",
    "    # replace nan with 'None'\n",
    "    fuel_types = np.where(pd.isna(fuel_types), 'None', fuel_types)\n",
    "\n",
    "    # create a dataframe to put fuel timeseries in\n",
    "    cem_fuel_timeseries = pd.DataFrame()\n",
    "    lac_fuel_timeseries = pd.DataFrame()\n",
    "\n",
    "    cem_fuel_timeseries['Time_Index'] = range(0, cem_fuel_length)\n",
    "    lac_fuel_timeseries['Time_Index'] = range(0, lac_fuel_length)\n",
    "\n",
    "    # find the first_fuel_cost_factor in case_assumptions for each fuel type\n",
    "    first_fuel_cost_factors = {}\n",
    "    for fuel in fuel_types:\n",
    "        if fuel == 'None':\n",
    "            first_fuel_cost_factors[fuel] = 0\n",
    "            continue\n",
    "        else:\n",
    "            first_occurence_idx = manual_db_rel[manual_db_rel['Fuel ID'] == fuel].index[0]\n",
    "        # get generator name at first occurrence index\n",
    "        first_gen_name = manual_db_rel.at[first_occurence_idx, 'Resource']\n",
    "\n",
    "        first_fuel_cost_factors[fuel] = case_assumptions[case_assumptions['Technical Name'] == first_gen_name]['Fuel_Cost_factor'].values[0]\n",
    "\n",
    "    \n",
    "    # use hardcoded fuel costs for now\n",
    "    fuel_cost_df = pd.DataFrame({'BIT': 2.37 * first_fuel_cost_factors['BIT'],\n",
    "                                'NG': 5.28 * first_fuel_cost_factors['NG'],\n",
    "                                'DFO': 6 * first_fuel_cost_factors['DFO'],\n",
    "                                'UM': 0.86 * first_fuel_cost_factors['UM'],\n",
    "                                'None': 0}, index=[0])\n",
    "    \n",
    "    for fuel in fuel_types:\n",
    "        # get a timeseries of fuel costs at for fuel column using fuel_cost_df at length of cem and lac\n",
    "        cem_fuel_timeseries[fuel] = [fuel_cost_df.at[0, fuel]] * (cem_fuel_length) # for some reason, needs one extra\n",
    "        lac_fuel_timeseries[fuel] = [fuel_cost_df.at[0, fuel]] * (lac_fuel_length)\n",
    "\n",
    "\n",
    "        # save resource_min_caps to genx_cem_resources_path\n",
    "    cem_fuel_timeseries.to_csv(os.path.join(genx_cem_system_path, \\\n",
    "                            'Fuels_data.csv'), index=False)\n",
    "    lac_fuel_timeseries.to_csv(os.path.join(spcm_lac_system_path, \\\n",
    "                            'Fuels_data.csv'), index=False)"
   ]
  },
  {
   "cell_type": "code",
   "execution_count": 13,
   "metadata": {},
   "outputs": [
    {
     "data": {
      "text/html": [
       "<div>\n",
       "<style scoped>\n",
       "    .dataframe tbody tr th:only-of-type {\n",
       "        vertical-align: middle;\n",
       "    }\n",
       "\n",
       "    .dataframe tbody tr th {\n",
       "        vertical-align: top;\n",
       "    }\n",
       "\n",
       "    .dataframe thead th {\n",
       "        text-align: right;\n",
       "    }\n",
       "</style>\n",
       "<table border=\"1\" class=\"dataframe\">\n",
       "  <thead>\n",
       "    <tr style=\"text-align: right;\">\n",
       "      <th></th>\n",
       "      <th>Process Name</th>\n",
       "      <th>Energy Type</th>\n",
       "      <th>Fuel Type</th>\n",
       "      <th>Fuel ID</th>\n",
       "      <th>Primary Mover Type</th>\n",
       "      <th>Primary Mover ID</th>\n",
       "      <th>Simple Name</th>\n",
       "      <th>GenX Name</th>\n",
       "      <th>Technical Name</th>\n",
       "      <th>Cost Source</th>\n",
       "      <th>...</th>\n",
       "      <th>Inv_Cost_per_MWyr_factor</th>\n",
       "      <th>Inv_Cost_per_MWhyr_factor</th>\n",
       "      <th>Inv_Cost_Charge_per_MWyr_factor</th>\n",
       "      <th>Fixed_OM_Cost_per_MWyr_factor</th>\n",
       "      <th>Fixed_OM_Cost_per_MWhyr_factor</th>\n",
       "      <th>Fixed_OM_Cost_Charge_per_MWyr_factor</th>\n",
       "      <th>Var_OM_Cost_per_MWh_factor</th>\n",
       "      <th>Var_OM_Cost_per_MWh_In_factor</th>\n",
       "      <th>Fuel_Cost_factor</th>\n",
       "      <th>duration</th>\n",
       "    </tr>\n",
       "  </thead>\n",
       "  <tbody>\n",
       "  </tbody>\n",
       "</table>\n",
       "<p>0 rows × 21 columns</p>\n",
       "</div>"
      ],
      "text/plain": [
       "Empty DataFrame\n",
       "Columns: [Process Name, Energy Type, Fuel Type, Fuel ID, Primary Mover Type, Primary Mover ID, Simple Name, GenX Name, Technical Name, Cost Source, Parameter Source, Inv_Cost_per_MWyr_factor, Inv_Cost_per_MWhyr_factor, Inv_Cost_Charge_per_MWyr_factor, Fixed_OM_Cost_per_MWyr_factor, Fixed_OM_Cost_per_MWhyr_factor, Fixed_OM_Cost_Charge_per_MWyr_factor, Var_OM_Cost_per_MWh_factor, Var_OM_Cost_per_MWh_In_factor, Fuel_Cost_factor, duration]\n",
       "Index: []\n",
       "\n",
       "[0 rows x 21 columns]"
      ]
     },
     "execution_count": 13,
     "metadata": {},
     "output_type": "execute_result"
    }
   ],
   "source": [
    "case_assumptions[case_assumptions['Fuel ID'] == None]"
   ]
  }
 ],
 "metadata": {
  "kernelspec": {
   "display_name": "base",
   "language": "python",
   "name": "python3"
  },
  "language_info": {
   "codemirror_mode": {
    "name": "ipython",
    "version": 3
   },
   "file_extension": ".py",
   "mimetype": "text/x-python",
   "name": "python",
   "nbconvert_exporter": "python",
   "pygments_lexer": "ipython3",
   "version": "3.11.7"
  }
 },
 "nbformat": 4,
 "nbformat_minor": 2
}
