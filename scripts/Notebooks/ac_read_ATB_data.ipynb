{
 "cells": [
  {
   "cell_type": "code",
   "execution_count": 1,
   "metadata": {},
   "outputs": [],
   "source": [
    "import pandas as pd\n",
    "import numpy as np\n",
    "import shutil\n",
    "import os\n",
    "import sys\n",
    "from datetime import datetime as dt"
   ]
  },
  {
   "cell_type": "code",
   "execution_count": 2,
   "metadata": {},
   "outputs": [
    {
     "data": {
      "text/plain": [
       "'c:\\\\Users\\\\ks885\\\\Documents\\\\aa_research\\\\Modeling\\\\spcm_genx_experiment\\\\scripts'"
      ]
     },
     "execution_count": 2,
     "metadata": {},
     "output_type": "execute_result"
    }
   ],
   "source": [
    "os.path.dirname(os.getcwd())"
   ]
  },
  {
   "cell_type": "code",
   "execution_count": 3,
   "metadata": {},
   "outputs": [
    {
     "data": {
      "text/plain": [
       "'c:\\\\Users\\\\ks885\\\\Documents\\\\aa_research\\\\Modeling\\\\spcm_genx_experiment\\\\scripts\\\\Notebooks'"
      ]
     },
     "execution_count": 3,
     "metadata": {},
     "output_type": "execute_result"
    }
   ],
   "source": [
    "os.getcwd()"
   ]
  },
  {
   "cell_type": "code",
   "execution_count": 4,
   "metadata": {},
   "outputs": [
    {
     "data": {
      "text/plain": [
       "'c:\\\\Users\\\\ks885\\\\Documents\\\\aa_research\\\\Modeling\\\\spcm_genx_experiment\\\\scripts'"
      ]
     },
     "execution_count": 4,
     "metadata": {},
     "output_type": "execute_result"
    }
   ],
   "source": [
    "os.path.join(os.path.dirname(os.getcwd()))"
   ]
  },
  {
   "cell_type": "code",
   "execution_count": 5,
   "metadata": {},
   "outputs": [
    {
     "data": {
      "text/plain": [
       "'..\\\\ATB-calc'"
      ]
     },
     "execution_count": 5,
     "metadata": {},
     "output_type": "execute_result"
    }
   ],
   "source": [
    "os.path.join('..','ATB-calc')"
   ]
  },
  {
   "cell_type": "code",
   "execution_count": 6,
   "metadata": {},
   "outputs": [],
   "source": [
    "# Add the path to the ATB-calc directory to the system path\n",
    "sys.path.insert(0, os.path.join('..','ATB-calc'))"
   ]
  },
  {
   "cell_type": "code",
   "execution_count": 7,
   "metadata": {},
   "outputs": [
    {
     "data": {
      "text/plain": [
       "'c:\\\\Users\\\\ks885\\\\Documents\\\\aa_research\\\\Modeling\\\\spcm_genx_experiment\\\\scripts'"
      ]
     },
     "execution_count": 7,
     "metadata": {},
     "output_type": "execute_result"
    }
   ],
   "source": [
    "os.path.dirname(os.getcwd())"
   ]
  },
  {
   "cell_type": "code",
   "execution_count": 8,
   "metadata": {},
   "outputs": [],
   "source": [
    "# Add the path to the ATB-calc directory to the system path\n",
    "sys.path.insert(0, os.path.join('..','ATB-calc'))"
   ]
  },
  {
   "cell_type": "code",
   "execution_count": 9,
   "metadata": {},
   "outputs": [
    {
     "data": {
      "text/plain": [
       "'c:\\\\Users\\\\ks885\\\\Documents\\\\aa_research\\\\Modeling\\\\spcm_genx_experiment\\\\scripts\\\\..\\\\ATB-calc'"
      ]
     },
     "execution_count": 9,
     "metadata": {},
     "output_type": "execute_result"
    }
   ],
   "source": [
    "os.path.join(os.path.dirname(os.getcwd()), '..','ATB-calc')"
   ]
  },
  {
   "cell_type": "code",
   "execution_count": 10,
   "metadata": {},
   "outputs": [
    {
     "ename": "ModuleNotFoundError",
     "evalue": "No module named 'xlwings'",
     "output_type": "error",
     "traceback": [
      "\u001b[1;31m---------------------------------------------------------------------------\u001b[0m",
      "\u001b[1;31mModuleNotFoundError\u001b[0m                       Traceback (most recent call last)",
      "Cell \u001b[1;32mIn[10], line 3\u001b[0m\n\u001b[0;32m      1\u001b[0m \u001b[38;5;66;03m# Add the path to the ATB-calc directory to the system path\u001b[39;00m\n\u001b[0;32m      2\u001b[0m sys\u001b[38;5;241m.\u001b[39mpath\u001b[38;5;241m.\u001b[39minsert(\u001b[38;5;241m0\u001b[39m, os\u001b[38;5;241m.\u001b[39mpath\u001b[38;5;241m.\u001b[39mjoin(os\u001b[38;5;241m.\u001b[39mpath\u001b[38;5;241m.\u001b[39mdirname(os\u001b[38;5;241m.\u001b[39mgetcwd()), \u001b[38;5;124m'\u001b[39m\u001b[38;5;124m..\u001b[39m\u001b[38;5;124m'\u001b[39m,\u001b[38;5;124m'\u001b[39m\u001b[38;5;124mATB-calc\u001b[39m\u001b[38;5;124m'\u001b[39m))\n\u001b[1;32m----> 3\u001b[0m \u001b[38;5;28;01mfrom\u001b[39;00m \u001b[38;5;21;01mlcoe_calculator\u001b[39;00m\u001b[38;5;21;01m.\u001b[39;00m\u001b[38;5;21;01mprocess_all\u001b[39;00m \u001b[38;5;28;01mimport\u001b[39;00m ProcessAll\n\u001b[0;32m      4\u001b[0m \u001b[38;5;28;01mfrom\u001b[39;00m \u001b[38;5;21;01mlcoe_calculator\u001b[39;00m\u001b[38;5;21;01m.\u001b[39;00m\u001b[38;5;21;01mtech_processors\u001b[39;00m \u001b[38;5;28;01mimport\u001b[39;00m (ALL_TECHS,\n\u001b[0;32m      5\u001b[0m     OffShoreWindProc, LandBasedWindProc, DistributedWindProc,\n\u001b[0;32m      6\u001b[0m     UtilityPvProc, CommPvProc, ResPvProc, UtilityPvPlusBatteryProc,\n\u001b[1;32m   (...)\u001b[0m\n\u001b[0;32m      9\u001b[0m     UtilityBatteryProc, CommBatteryProc, ResBatteryProc,\n\u001b[0;32m     10\u001b[0m     CoalRetrofitProc, NaturalGasRetrofitProc, NaturalGasFuelCellProc)\n\u001b[0;32m     12\u001b[0m \u001b[38;5;28;01mfrom\u001b[39;00m \u001b[38;5;21;01mIPython\u001b[39;00m\u001b[38;5;21;01m.\u001b[39;00m\u001b[38;5;21;01mdisplay\u001b[39;00m \u001b[38;5;28;01mimport\u001b[39;00m display, HTML\n",
      "File \u001b[1;32mc:\\Users\\ks885\\Documents\\aa_research\\Modeling\\spcm_genx_experiment\\scripts\\..\\ATB-calc\\lcoe_calculator\\process_all.py:15\u001b[0m\n\u001b[0;32m     12\u001b[0m \u001b[38;5;28;01mimport\u001b[39;00m \u001b[38;5;21;01mclick\u001b[39;00m\n\u001b[0;32m     13\u001b[0m \u001b[38;5;28;01mimport\u001b[39;00m \u001b[38;5;21;01mpandas\u001b[39;00m \u001b[38;5;28;01mas\u001b[39;00m \u001b[38;5;21;01mpd\u001b[39;00m\n\u001b[1;32m---> 15\u001b[0m \u001b[38;5;28;01mfrom\u001b[39;00m \u001b[38;5;21;01m.\u001b[39;00m\u001b[38;5;21;01mtech_processors\u001b[39;00m \u001b[38;5;28;01mimport\u001b[39;00m ALL_TECHS\n\u001b[0;32m     16\u001b[0m \u001b[38;5;28;01mfrom\u001b[39;00m \u001b[38;5;21;01m.\u001b[39;00m\u001b[38;5;21;01mbase_processor\u001b[39;00m \u001b[38;5;28;01mimport\u001b[39;00m TechProcessor\n\u001b[0;32m     17\u001b[0m \u001b[38;5;28;01mfrom\u001b[39;00m \u001b[38;5;21;01m.\u001b[39;00m\u001b[38;5;21;01mconfig\u001b[39;00m \u001b[38;5;28;01mimport\u001b[39;00m (\n\u001b[0;32m     18\u001b[0m     FINANCIAL_CASES,\n\u001b[0;32m     19\u001b[0m     MARKET_FIN_CASE,\n\u001b[1;32m   (...)\u001b[0m\n\u001b[0;32m     22\u001b[0m     TAX_CREDIT_CASES,\n\u001b[0;32m     23\u001b[0m )\n",
      "File \u001b[1;32mc:\\Users\\ks885\\Documents\\aa_research\\Modeling\\spcm_genx_experiment\\scripts\\..\\ATB-calc\\lcoe_calculator\\tech_processors.py:17\u001b[0m\n\u001b[0;32m     14\u001b[0m \u001b[38;5;28;01mfrom\u001b[39;00m \u001b[38;5;21;01mlcoe_calculator\u001b[39;00m\u001b[38;5;21;01m.\u001b[39;00m\u001b[38;5;21;01mabstract_extractor\u001b[39;00m \u001b[38;5;28;01mimport\u001b[39;00m AbstractExtractor\n\u001b[0;32m     16\u001b[0m \u001b[38;5;28;01mfrom\u001b[39;00m \u001b[38;5;21;01m.\u001b[39;00m\u001b[38;5;21;01mconfig\u001b[39;00m \u001b[38;5;28;01mimport\u001b[39;00m MARKET_FIN_CASE, CrpChoiceType\n\u001b[1;32m---> 17\u001b[0m \u001b[38;5;28;01mfrom\u001b[39;00m \u001b[38;5;21;01m.\u001b[39;00m\u001b[38;5;21;01mextractor\u001b[39;00m \u001b[38;5;28;01mimport\u001b[39;00m Extractor\n\u001b[0;32m     18\u001b[0m \u001b[38;5;28;01mfrom\u001b[39;00m \u001b[38;5;21;01m.\u001b[39;00m\u001b[38;5;21;01mtech_extractors\u001b[39;00m \u001b[38;5;28;01mimport\u001b[39;00m PVBatteryExtractor\n\u001b[0;32m     19\u001b[0m \u001b[38;5;28;01mfrom\u001b[39;00m \u001b[38;5;21;01m.\u001b[39;00m\u001b[38;5;21;01mmacrs\u001b[39;00m \u001b[38;5;28;01mimport\u001b[39;00m MACRS_6, MACRS_16, MACRS_21\n",
      "File \u001b[1;32mc:\\Users\\ks885\\Documents\\aa_research\\Modeling\\spcm_genx_experiment\\scripts\\..\\ATB-calc\\lcoe_calculator\\extractor.py:15\u001b[0m\n\u001b[0;32m     13\u001b[0m \u001b[38;5;28;01mimport\u001b[39;00m \u001b[38;5;21;01mpandas\u001b[39;00m \u001b[38;5;28;01mas\u001b[39;00m \u001b[38;5;21;01mpd\u001b[39;00m\n\u001b[0;32m     14\u001b[0m \u001b[38;5;28;01mimport\u001b[39;00m \u001b[38;5;21;01mnumpy\u001b[39;00m \u001b[38;5;28;01mas\u001b[39;00m \u001b[38;5;21;01mnp\u001b[39;00m\n\u001b[1;32m---> 15\u001b[0m \u001b[38;5;28;01mimport\u001b[39;00m \u001b[38;5;21;01mxlwings\u001b[39;00m \u001b[38;5;28;01mas\u001b[39;00m \u001b[38;5;21;01mxw\u001b[39;00m\n\u001b[0;32m     17\u001b[0m \u001b[38;5;28;01mfrom\u001b[39;00m \u001b[38;5;21;01m.\u001b[39;00m\u001b[38;5;21;01mabstract_extractor\u001b[39;00m \u001b[38;5;28;01mimport\u001b[39;00m AbstractExtractor\n\u001b[0;32m     18\u001b[0m \u001b[38;5;28;01mfrom\u001b[39;00m \u001b[38;5;21;01m.\u001b[39;00m\u001b[38;5;21;01mconfig\u001b[39;00m \u001b[38;5;28;01mimport\u001b[39;00m FINANCIAL_CASES, YEARS, TECH_DETAIL_SCENARIO_COL, CrpChoiceType\n",
      "\u001b[1;31mModuleNotFoundError\u001b[0m: No module named 'xlwings'"
     ]
    }
   ],
   "source": [
    "\n",
    "# Add the path to the ATB-calc directory to the system path\n",
    "sys.path.insert(0, os.path.join(os.path.dirname(os.getcwd()), '..','ATB-calc'))\n",
    "from lcoe_calculator.process_all import ProcessAll\n",
    "from lcoe_calculator.tech_processors import (ALL_TECHS,\n",
    "    OffShoreWindProc, LandBasedWindProc, DistributedWindProc,\n",
    "    UtilityPvProc, CommPvProc, ResPvProc, UtilityPvPlusBatteryProc,\n",
    "    CspProc, GeothermalProc, HydropowerProc, PumpedStorageHydroProc,\n",
    "    CoalProc, NaturalGasProc, NuclearProc, BiopowerProc,\n",
    "    UtilityBatteryProc, CommBatteryProc, ResBatteryProc,\n",
    "    CoalRetrofitProc, NaturalGasRetrofitProc, NaturalGasFuelCellProc)\n",
    "\n",
    "from IPython.display import display, HTML\n",
    "display(HTML(\"<style>.container { width:90% !important; }</style>\"))"
   ]
  },
  {
   "cell_type": "code",
   "execution_count": null,
   "metadata": {},
   "outputs": [
    {
     "ename": "NameError",
     "evalue": "name 'LandBasedWindProc' is not defined",
     "output_type": "error",
     "traceback": [
      "\u001b[1;31m---------------------------------------------------------------------------\u001b[0m",
      "\u001b[1;31mNameError\u001b[0m                                 Traceback (most recent call last)",
      "Cell \u001b[1;32mIn[5], line 8\u001b[0m\n\u001b[0;32m      4\u001b[0m atb_electricity_workbook \u001b[38;5;241m=\u001b[39m os\u001b[38;5;241m.\u001b[39mpath\u001b[38;5;241m.\u001b[39mjoin(\u001b[38;5;124m'\u001b[39m\u001b[38;5;124m..\u001b[39m\u001b[38;5;124m'\u001b[39m, \u001b[38;5;124m'\u001b[39m\u001b[38;5;124mdata\u001b[39m\u001b[38;5;124m'\u001b[39m, \u001b[38;5;124m'\u001b[39m\u001b[38;5;124m2024 v2 Annual Technology Baseline Workbook Errata 7-19-2024.xlsx\u001b[39m\u001b[38;5;124m'\u001b[39m)\n\u001b[0;32m      5\u001b[0m \u001b[38;5;66;03m# atb_electricity_workbook = os.path.join('..', 'data', '2024 v1 Annual Technology Baseline Workbook Original 6-24-2024.xlsx')\u001b[39;00m\n\u001b[0;32m      6\u001b[0m \u001b[38;5;66;03m# ---- Comment/uncomment the below lines to process all techs or a subset of techs\u001b[39;00m\n\u001b[0;32m      7\u001b[0m \u001b[38;5;66;03m# Process all technologies\u001b[39;00m\n\u001b[1;32m----> 8\u001b[0m techs \u001b[38;5;241m=\u001b[39m [\u001b[43mLandBasedWindProc\u001b[49m, UtilityPvProc, CoalProc, NaturalGasProc, UtilityBatteryProc]\n\u001b[0;32m     10\u001b[0m \u001b[38;5;66;03m# Initiate the processor with the workbook location and desired technologies\u001b[39;00m\n\u001b[0;32m     11\u001b[0m processor \u001b[38;5;241m=\u001b[39m ProcessAll(atb_electricity_workbook, techs)\n",
      "\u001b[1;31mNameError\u001b[0m: name 'LandBasedWindProc' is not defined"
     ]
    }
   ],
   "source": [
    "if 'atb_df' not in globals() or atb_df is None:\n",
    "    # The below line MUST be updated to reflect the location of the ATB workbook on your computer\n",
    "    # atb_electricity_workbook = 'C:\\\\Users\\\\ks885\\Documents\\\\aa_research\\Data\\Energy\\\\NRELs_ATB\\ATB-calc\\\\data\\\\2023-ATB-Data_Master_v9.0.xlsx'\n",
    "    atb_electricity_workbook = os.path.join('..', 'data', '2024 v2 Annual Technology Baseline Workbook Errata 7-19-2024.xlsx')\n",
    "    # atb_electricity_workbook = os.path.join('..', 'data', '2024 v1 Annual Technology Baseline Workbook Original 6-24-2024.xlsx')\n",
    "    # ---- Comment/uncomment the below lines to process all techs or a subset of techs\n",
    "    # Process all technologies\n",
    "    techs = [LandBasedWindProc, UtilityPvProc, CoalProc, NaturalGasProc, UtilityBatteryProc]\n",
    "\n",
    "    # Initiate the processor with the workbook location and desired technologies\n",
    "    processor = ProcessAll(atb_electricity_workbook, techs)\n",
    "\n",
    "    start = dt.now()\n",
    "    processor.process()\n",
    "    print('Processing completed in ', dt.now() - start)\n",
    "\n",
    "    atb_df = processor.data\n"
   ]
  },
  {
   "cell_type": "code",
   "execution_count": null,
   "metadata": {},
   "outputs": [],
   "source": [
    "# define location of cost assumptions\n",
    "generator_assumptions_path = os.path.join('..', 'data', 'cases')"
   ]
  },
  {
   "cell_type": "code",
   "execution_count": null,
   "metadata": {},
   "outputs": [],
   "source": [
    "# load in generator param data shell\n",
    "upd_gen_df = pd.read_csv('a_upd_generator_df.csv')\n",
    "atb_upd_gen_df = upd_gen_df.copy()"
   ]
  },
  {
   "cell_type": "code",
   "execution_count": null,
   "metadata": {},
   "outputs": [
    {
     "data": {
      "text/html": [
       "<div>\n",
       "<style scoped>\n",
       "    .dataframe tbody tr th:only-of-type {\n",
       "        vertical-align: middle;\n",
       "    }\n",
       "\n",
       "    .dataframe tbody tr th {\n",
       "        vertical-align: top;\n",
       "    }\n",
       "\n",
       "    .dataframe thead th {\n",
       "        text-align: right;\n",
       "    }\n",
       "</style>\n",
       "<table border=\"1\" class=\"dataframe\">\n",
       "  <thead>\n",
       "    <tr style=\"text-align: right;\">\n",
       "      <th></th>\n",
       "      <th>Unnamed: 0</th>\n",
       "      <th>Resource</th>\n",
       "      <th>Model</th>\n",
       "      <th>New_Build</th>\n",
       "      <th>Can_Retire</th>\n",
       "      <th>Zone</th>\n",
       "      <th>THERM</th>\n",
       "      <th>MUST_RUN</th>\n",
       "      <th>STOR</th>\n",
       "      <th>FLEX</th>\n",
       "      <th>...</th>\n",
       "      <th>MinCapTag_2</th>\n",
       "      <th>MinCapTag_3</th>\n",
       "      <th>MGA</th>\n",
       "      <th>Resource_Type</th>\n",
       "      <th>CapRes_1</th>\n",
       "      <th>ESR_1</th>\n",
       "      <th>ESR_2</th>\n",
       "      <th>region</th>\n",
       "      <th>cluster</th>\n",
       "      <th>LDS</th>\n",
       "    </tr>\n",
       "  </thead>\n",
       "  <tbody>\n",
       "    <tr>\n",
       "      <th>0</th>\n",
       "      <td>1</td>\n",
       "      <td>Coal-new</td>\n",
       "      <td>NaN</td>\n",
       "      <td>NaN</td>\n",
       "      <td>NaN</td>\n",
       "      <td>NaN</td>\n",
       "      <td>NaN</td>\n",
       "      <td>NaN</td>\n",
       "      <td>NaN</td>\n",
       "      <td>NaN</td>\n",
       "      <td>...</td>\n",
       "      <td>NaN</td>\n",
       "      <td>NaN</td>\n",
       "      <td>NaN</td>\n",
       "      <td>NaN</td>\n",
       "      <td>NaN</td>\n",
       "      <td>NaN</td>\n",
       "      <td>NaN</td>\n",
       "      <td>NaN</td>\n",
       "      <td>NaN</td>\n",
       "      <td>NaN</td>\n",
       "    </tr>\n",
       "    <tr>\n",
       "      <th>1</th>\n",
       "      <td>2</td>\n",
       "      <td>HTGR</td>\n",
       "      <td>NaN</td>\n",
       "      <td>NaN</td>\n",
       "      <td>NaN</td>\n",
       "      <td>NaN</td>\n",
       "      <td>NaN</td>\n",
       "      <td>NaN</td>\n",
       "      <td>NaN</td>\n",
       "      <td>NaN</td>\n",
       "      <td>...</td>\n",
       "      <td>NaN</td>\n",
       "      <td>NaN</td>\n",
       "      <td>NaN</td>\n",
       "      <td>NaN</td>\n",
       "      <td>NaN</td>\n",
       "      <td>NaN</td>\n",
       "      <td>NaN</td>\n",
       "      <td>NaN</td>\n",
       "      <td>NaN</td>\n",
       "      <td>NaN</td>\n",
       "    </tr>\n",
       "    <tr>\n",
       "      <th>2</th>\n",
       "      <td>3</td>\n",
       "      <td>Land-Based Wind - Class 1 - Technology 1</td>\n",
       "      <td>NaN</td>\n",
       "      <td>NaN</td>\n",
       "      <td>NaN</td>\n",
       "      <td>NaN</td>\n",
       "      <td>NaN</td>\n",
       "      <td>NaN</td>\n",
       "      <td>NaN</td>\n",
       "      <td>NaN</td>\n",
       "      <td>...</td>\n",
       "      <td>NaN</td>\n",
       "      <td>NaN</td>\n",
       "      <td>NaN</td>\n",
       "      <td>NaN</td>\n",
       "      <td>NaN</td>\n",
       "      <td>NaN</td>\n",
       "      <td>NaN</td>\n",
       "      <td>NaN</td>\n",
       "      <td>NaN</td>\n",
       "      <td>NaN</td>\n",
       "    </tr>\n",
       "    <tr>\n",
       "      <th>3</th>\n",
       "      <td>4</td>\n",
       "      <td>Microreactor</td>\n",
       "      <td>NaN</td>\n",
       "      <td>NaN</td>\n",
       "      <td>NaN</td>\n",
       "      <td>NaN</td>\n",
       "      <td>NaN</td>\n",
       "      <td>NaN</td>\n",
       "      <td>NaN</td>\n",
       "      <td>NaN</td>\n",
       "      <td>...</td>\n",
       "      <td>NaN</td>\n",
       "      <td>NaN</td>\n",
       "      <td>NaN</td>\n",
       "      <td>NaN</td>\n",
       "      <td>NaN</td>\n",
       "      <td>NaN</td>\n",
       "      <td>NaN</td>\n",
       "      <td>NaN</td>\n",
       "      <td>NaN</td>\n",
       "      <td>NaN</td>\n",
       "    </tr>\n",
       "    <tr>\n",
       "      <th>4</th>\n",
       "      <td>5</td>\n",
       "      <td>NG 2-on-1 Combined Cycle (F-Frame)</td>\n",
       "      <td>NaN</td>\n",
       "      <td>NaN</td>\n",
       "      <td>NaN</td>\n",
       "      <td>NaN</td>\n",
       "      <td>NaN</td>\n",
       "      <td>NaN</td>\n",
       "      <td>NaN</td>\n",
       "      <td>NaN</td>\n",
       "      <td>...</td>\n",
       "      <td>NaN</td>\n",
       "      <td>NaN</td>\n",
       "      <td>NaN</td>\n",
       "      <td>NaN</td>\n",
       "      <td>NaN</td>\n",
       "      <td>NaN</td>\n",
       "      <td>NaN</td>\n",
       "      <td>NaN</td>\n",
       "      <td>NaN</td>\n",
       "      <td>NaN</td>\n",
       "    </tr>\n",
       "    <tr>\n",
       "      <th>5</th>\n",
       "      <td>6</td>\n",
       "      <td>NG 2-on-1 Combined Cycle (H-Frame) 95% CCS</td>\n",
       "      <td>NaN</td>\n",
       "      <td>NaN</td>\n",
       "      <td>NaN</td>\n",
       "      <td>NaN</td>\n",
       "      <td>NaN</td>\n",
       "      <td>NaN</td>\n",
       "      <td>NaN</td>\n",
       "      <td>NaN</td>\n",
       "      <td>...</td>\n",
       "      <td>NaN</td>\n",
       "      <td>NaN</td>\n",
       "      <td>NaN</td>\n",
       "      <td>NaN</td>\n",
       "      <td>NaN</td>\n",
       "      <td>NaN</td>\n",
       "      <td>NaN</td>\n",
       "      <td>NaN</td>\n",
       "      <td>NaN</td>\n",
       "      <td>NaN</td>\n",
       "    </tr>\n",
       "    <tr>\n",
       "      <th>6</th>\n",
       "      <td>7</td>\n",
       "      <td>NG Combustion Turbine (F-Frame)</td>\n",
       "      <td>NaN</td>\n",
       "      <td>NaN</td>\n",
       "      <td>NaN</td>\n",
       "      <td>NaN</td>\n",
       "      <td>NaN</td>\n",
       "      <td>NaN</td>\n",
       "      <td>NaN</td>\n",
       "      <td>NaN</td>\n",
       "      <td>...</td>\n",
       "      <td>NaN</td>\n",
       "      <td>NaN</td>\n",
       "      <td>NaN</td>\n",
       "      <td>NaN</td>\n",
       "      <td>NaN</td>\n",
       "      <td>NaN</td>\n",
       "      <td>NaN</td>\n",
       "      <td>NaN</td>\n",
       "      <td>NaN</td>\n",
       "      <td>NaN</td>\n",
       "    </tr>\n",
       "    <tr>\n",
       "      <th>7</th>\n",
       "      <td>8</td>\n",
       "      <td>PBR-HTGR</td>\n",
       "      <td>NaN</td>\n",
       "      <td>NaN</td>\n",
       "      <td>NaN</td>\n",
       "      <td>NaN</td>\n",
       "      <td>NaN</td>\n",
       "      <td>NaN</td>\n",
       "      <td>NaN</td>\n",
       "      <td>NaN</td>\n",
       "      <td>...</td>\n",
       "      <td>NaN</td>\n",
       "      <td>NaN</td>\n",
       "      <td>NaN</td>\n",
       "      <td>NaN</td>\n",
       "      <td>NaN</td>\n",
       "      <td>NaN</td>\n",
       "      <td>NaN</td>\n",
       "      <td>NaN</td>\n",
       "      <td>NaN</td>\n",
       "      <td>NaN</td>\n",
       "    </tr>\n",
       "    <tr>\n",
       "      <th>8</th>\n",
       "      <td>9</td>\n",
       "      <td>RICE</td>\n",
       "      <td>NaN</td>\n",
       "      <td>NaN</td>\n",
       "      <td>NaN</td>\n",
       "      <td>NaN</td>\n",
       "      <td>NaN</td>\n",
       "      <td>NaN</td>\n",
       "      <td>NaN</td>\n",
       "      <td>NaN</td>\n",
       "      <td>...</td>\n",
       "      <td>NaN</td>\n",
       "      <td>NaN</td>\n",
       "      <td>NaN</td>\n",
       "      <td>NaN</td>\n",
       "      <td>NaN</td>\n",
       "      <td>NaN</td>\n",
       "      <td>NaN</td>\n",
       "      <td>NaN</td>\n",
       "      <td>NaN</td>\n",
       "      <td>NaN</td>\n",
       "    </tr>\n",
       "    <tr>\n",
       "      <th>9</th>\n",
       "      <td>10</td>\n",
       "      <td>Utility PV - Class 1</td>\n",
       "      <td>NaN</td>\n",
       "      <td>NaN</td>\n",
       "      <td>NaN</td>\n",
       "      <td>NaN</td>\n",
       "      <td>NaN</td>\n",
       "      <td>NaN</td>\n",
       "      <td>NaN</td>\n",
       "      <td>NaN</td>\n",
       "      <td>...</td>\n",
       "      <td>NaN</td>\n",
       "      <td>NaN</td>\n",
       "      <td>NaN</td>\n",
       "      <td>NaN</td>\n",
       "      <td>NaN</td>\n",
       "      <td>NaN</td>\n",
       "      <td>NaN</td>\n",
       "      <td>NaN</td>\n",
       "      <td>NaN</td>\n",
       "      <td>NaN</td>\n",
       "    </tr>\n",
       "    <tr>\n",
       "      <th>10</th>\n",
       "      <td>11</td>\n",
       "      <td>Utility-Scale Battery Storage - 10Hr</td>\n",
       "      <td>NaN</td>\n",
       "      <td>NaN</td>\n",
       "      <td>NaN</td>\n",
       "      <td>NaN</td>\n",
       "      <td>NaN</td>\n",
       "      <td>NaN</td>\n",
       "      <td>NaN</td>\n",
       "      <td>NaN</td>\n",
       "      <td>...</td>\n",
       "      <td>NaN</td>\n",
       "      <td>NaN</td>\n",
       "      <td>NaN</td>\n",
       "      <td>NaN</td>\n",
       "      <td>NaN</td>\n",
       "      <td>NaN</td>\n",
       "      <td>NaN</td>\n",
       "      <td>NaN</td>\n",
       "      <td>NaN</td>\n",
       "      <td>NaN</td>\n",
       "    </tr>\n",
       "    <tr>\n",
       "      <th>11</th>\n",
       "      <td>12</td>\n",
       "      <td>Utility-Scale Battery Storage - 2Hr</td>\n",
       "      <td>NaN</td>\n",
       "      <td>NaN</td>\n",
       "      <td>NaN</td>\n",
       "      <td>NaN</td>\n",
       "      <td>NaN</td>\n",
       "      <td>NaN</td>\n",
       "      <td>NaN</td>\n",
       "      <td>NaN</td>\n",
       "      <td>...</td>\n",
       "      <td>NaN</td>\n",
       "      <td>NaN</td>\n",
       "      <td>NaN</td>\n",
       "      <td>NaN</td>\n",
       "      <td>NaN</td>\n",
       "      <td>NaN</td>\n",
       "      <td>NaN</td>\n",
       "      <td>NaN</td>\n",
       "      <td>NaN</td>\n",
       "      <td>NaN</td>\n",
       "    </tr>\n",
       "    <tr>\n",
       "      <th>12</th>\n",
       "      <td>13</td>\n",
       "      <td>Utility-Scale Battery Storage - 4Hr</td>\n",
       "      <td>NaN</td>\n",
       "      <td>NaN</td>\n",
       "      <td>NaN</td>\n",
       "      <td>NaN</td>\n",
       "      <td>NaN</td>\n",
       "      <td>NaN</td>\n",
       "      <td>NaN</td>\n",
       "      <td>NaN</td>\n",
       "      <td>...</td>\n",
       "      <td>NaN</td>\n",
       "      <td>NaN</td>\n",
       "      <td>NaN</td>\n",
       "      <td>NaN</td>\n",
       "      <td>NaN</td>\n",
       "      <td>NaN</td>\n",
       "      <td>NaN</td>\n",
       "      <td>NaN</td>\n",
       "      <td>NaN</td>\n",
       "      <td>NaN</td>\n",
       "    </tr>\n",
       "    <tr>\n",
       "      <th>13</th>\n",
       "      <td>14</td>\n",
       "      <td>Utility-Scale Battery Storage - 6Hr</td>\n",
       "      <td>NaN</td>\n",
       "      <td>NaN</td>\n",
       "      <td>NaN</td>\n",
       "      <td>NaN</td>\n",
       "      <td>NaN</td>\n",
       "      <td>NaN</td>\n",
       "      <td>NaN</td>\n",
       "      <td>NaN</td>\n",
       "      <td>...</td>\n",
       "      <td>NaN</td>\n",
       "      <td>NaN</td>\n",
       "      <td>NaN</td>\n",
       "      <td>NaN</td>\n",
       "      <td>NaN</td>\n",
       "      <td>NaN</td>\n",
       "      <td>NaN</td>\n",
       "      <td>NaN</td>\n",
       "      <td>NaN</td>\n",
       "      <td>NaN</td>\n",
       "    </tr>\n",
       "    <tr>\n",
       "      <th>14</th>\n",
       "      <td>15</td>\n",
       "      <td>Utility-Scale Battery Storage - 8Hr</td>\n",
       "      <td>NaN</td>\n",
       "      <td>NaN</td>\n",
       "      <td>NaN</td>\n",
       "      <td>NaN</td>\n",
       "      <td>NaN</td>\n",
       "      <td>NaN</td>\n",
       "      <td>NaN</td>\n",
       "      <td>NaN</td>\n",
       "      <td>...</td>\n",
       "      <td>NaN</td>\n",
       "      <td>NaN</td>\n",
       "      <td>NaN</td>\n",
       "      <td>NaN</td>\n",
       "      <td>NaN</td>\n",
       "      <td>NaN</td>\n",
       "      <td>NaN</td>\n",
       "      <td>NaN</td>\n",
       "      <td>NaN</td>\n",
       "      <td>NaN</td>\n",
       "    </tr>\n",
       "    <tr>\n",
       "      <th>15</th>\n",
       "      <td>16</td>\n",
       "      <td>iPWR_Pack</td>\n",
       "      <td>NaN</td>\n",
       "      <td>NaN</td>\n",
       "      <td>NaN</td>\n",
       "      <td>NaN</td>\n",
       "      <td>NaN</td>\n",
       "      <td>NaN</td>\n",
       "      <td>NaN</td>\n",
       "      <td>NaN</td>\n",
       "      <td>...</td>\n",
       "      <td>NaN</td>\n",
       "      <td>NaN</td>\n",
       "      <td>NaN</td>\n",
       "      <td>NaN</td>\n",
       "      <td>NaN</td>\n",
       "      <td>NaN</td>\n",
       "      <td>NaN</td>\n",
       "      <td>NaN</td>\n",
       "      <td>NaN</td>\n",
       "      <td>NaN</td>\n",
       "    </tr>\n",
       "  </tbody>\n",
       "</table>\n",
       "<p>16 rows × 68 columns</p>\n",
       "</div>"
      ],
      "text/plain": [
       "    Unnamed: 0                                    Resource  Model  New_Build  \\\n",
       "0            1                                    Coal-new    NaN        NaN   \n",
       "1            2                                        HTGR    NaN        NaN   \n",
       "2            3    Land-Based Wind - Class 1 - Technology 1    NaN        NaN   \n",
       "3            4                                Microreactor    NaN        NaN   \n",
       "4            5          NG 2-on-1 Combined Cycle (F-Frame)    NaN        NaN   \n",
       "5            6  NG 2-on-1 Combined Cycle (H-Frame) 95% CCS    NaN        NaN   \n",
       "6            7             NG Combustion Turbine (F-Frame)    NaN        NaN   \n",
       "7            8                                    PBR-HTGR    NaN        NaN   \n",
       "8            9                                        RICE    NaN        NaN   \n",
       "9           10                        Utility PV - Class 1    NaN        NaN   \n",
       "10          11        Utility-Scale Battery Storage - 10Hr    NaN        NaN   \n",
       "11          12         Utility-Scale Battery Storage - 2Hr    NaN        NaN   \n",
       "12          13         Utility-Scale Battery Storage - 4Hr    NaN        NaN   \n",
       "13          14         Utility-Scale Battery Storage - 6Hr    NaN        NaN   \n",
       "14          15         Utility-Scale Battery Storage - 8Hr    NaN        NaN   \n",
       "15          16                                   iPWR_Pack    NaN        NaN   \n",
       "\n",
       "    Can_Retire  Zone  THERM  MUST_RUN  STOR  FLEX  ...  MinCapTag_2  \\\n",
       "0          NaN   NaN    NaN       NaN   NaN   NaN  ...          NaN   \n",
       "1          NaN   NaN    NaN       NaN   NaN   NaN  ...          NaN   \n",
       "2          NaN   NaN    NaN       NaN   NaN   NaN  ...          NaN   \n",
       "3          NaN   NaN    NaN       NaN   NaN   NaN  ...          NaN   \n",
       "4          NaN   NaN    NaN       NaN   NaN   NaN  ...          NaN   \n",
       "5          NaN   NaN    NaN       NaN   NaN   NaN  ...          NaN   \n",
       "6          NaN   NaN    NaN       NaN   NaN   NaN  ...          NaN   \n",
       "7          NaN   NaN    NaN       NaN   NaN   NaN  ...          NaN   \n",
       "8          NaN   NaN    NaN       NaN   NaN   NaN  ...          NaN   \n",
       "9          NaN   NaN    NaN       NaN   NaN   NaN  ...          NaN   \n",
       "10         NaN   NaN    NaN       NaN   NaN   NaN  ...          NaN   \n",
       "11         NaN   NaN    NaN       NaN   NaN   NaN  ...          NaN   \n",
       "12         NaN   NaN    NaN       NaN   NaN   NaN  ...          NaN   \n",
       "13         NaN   NaN    NaN       NaN   NaN   NaN  ...          NaN   \n",
       "14         NaN   NaN    NaN       NaN   NaN   NaN  ...          NaN   \n",
       "15         NaN   NaN    NaN       NaN   NaN   NaN  ...          NaN   \n",
       "\n",
       "    MinCapTag_3  MGA  Resource_Type  CapRes_1  ESR_1  ESR_2  region  cluster  \\\n",
       "0           NaN  NaN            NaN       NaN    NaN    NaN     NaN      NaN   \n",
       "1           NaN  NaN            NaN       NaN    NaN    NaN     NaN      NaN   \n",
       "2           NaN  NaN            NaN       NaN    NaN    NaN     NaN      NaN   \n",
       "3           NaN  NaN            NaN       NaN    NaN    NaN     NaN      NaN   \n",
       "4           NaN  NaN            NaN       NaN    NaN    NaN     NaN      NaN   \n",
       "5           NaN  NaN            NaN       NaN    NaN    NaN     NaN      NaN   \n",
       "6           NaN  NaN            NaN       NaN    NaN    NaN     NaN      NaN   \n",
       "7           NaN  NaN            NaN       NaN    NaN    NaN     NaN      NaN   \n",
       "8           NaN  NaN            NaN       NaN    NaN    NaN     NaN      NaN   \n",
       "9           NaN  NaN            NaN       NaN    NaN    NaN     NaN      NaN   \n",
       "10          NaN  NaN            NaN       NaN    NaN    NaN     NaN      NaN   \n",
       "11          NaN  NaN            NaN       NaN    NaN    NaN     NaN      NaN   \n",
       "12          NaN  NaN            NaN       NaN    NaN    NaN     NaN      NaN   \n",
       "13          NaN  NaN            NaN       NaN    NaN    NaN     NaN      NaN   \n",
       "14          NaN  NaN            NaN       NaN    NaN    NaN     NaN      NaN   \n",
       "15          NaN  NaN            NaN       NaN    NaN    NaN     NaN      NaN   \n",
       "\n",
       "    LDS  \n",
       "0   NaN  \n",
       "1   NaN  \n",
       "2   NaN  \n",
       "3   NaN  \n",
       "4   NaN  \n",
       "5   NaN  \n",
       "6   NaN  \n",
       "7   NaN  \n",
       "8   NaN  \n",
       "9   NaN  \n",
       "10  NaN  \n",
       "11  NaN  \n",
       "12  NaN  \n",
       "13  NaN  \n",
       "14  NaN  \n",
       "15  NaN  \n",
       "\n",
       "[16 rows x 68 columns]"
      ]
     },
     "execution_count": 32,
     "metadata": {},
     "output_type": "execute_result"
    }
   ],
   "source": [
    "atb_upd_gen_df"
   ]
  },
  {
   "cell_type": "code",
   "execution_count": null,
   "metadata": {},
   "outputs": [
    {
     "name": "stdout",
     "output_type": "stream",
     "text": [
      "['10_Hr_BESS', '10_Hr_BESS_Fuelx2', '2_Hr_BESS', '2_Hr_BESS_Fuelx2', '4_Hr_BESS', '4_Hr_BESS_Fuelx2', '4_Hr_BESS_Fuelx3', '4_Hr_BESS_Fuelx4', '6_Hr_BESS', '6_Hr_BESS_Fuelx2', '8_Hr_BESS', '8_Hr_BESS_Fuelx2', 'Thermal_Case']\n"
     ]
    }
   ],
   "source": [
    "# Get the list of all files in the generator_assumptions_path directory\n",
    "case_names_list = []\n",
    "for xlsx_name in os.listdir(generator_assumptions_path):\n",
    "    if os.path.isfile(os.path.join(generator_assumptions_path, xlsx_name)):\n",
    "        case_name = xlsx_name.replace('.xlsx', '')\n",
    "        case_names_list.append(case_name)\n",
    "print(case_names_list)"
   ]
  },
  {
   "cell_type": "code",
   "execution_count": null,
   "metadata": {},
   "outputs": [],
   "source": [
    "# load initialized generator df csv\n",
    "gen_2_model_df = pd.read_csv('a_initialized_generator_df.csv')\n",
    "gen_2_model_names = gen_2_model_df['Resource']"
   ]
  },
  {
   "cell_type": "code",
   "execution_count": null,
   "metadata": {},
   "outputs": [
    {
     "data": {
      "text/plain": [
       "0                                       Coal-new\n",
       "1                                           HTGR\n",
       "2       Land-Based Wind - Class 1 - Technology 1\n",
       "3                                   Microreactor\n",
       "4             NG 2-on-1 Combined Cycle (F-Frame)\n",
       "5     NG 2-on-1 Combined Cycle (H-Frame) 95% CCS\n",
       "6                NG Combustion Turbine (F-Frame)\n",
       "7                                       PBR-HTGR\n",
       "8                                           RICE\n",
       "9                           Utility PV - Class 1\n",
       "10          Utility-Scale Battery Storage - 10Hr\n",
       "11           Utility-Scale Battery Storage - 2Hr\n",
       "12           Utility-Scale Battery Storage - 4Hr\n",
       "13           Utility-Scale Battery Storage - 6Hr\n",
       "14           Utility-Scale Battery Storage - 8Hr\n",
       "15                                     iPWR_Pack\n",
       "Name: Resource, dtype: object"
      ]
     },
     "execution_count": 35,
     "metadata": {},
     "output_type": "execute_result"
    }
   ],
   "source": [
    "gen_2_model_names"
   ]
  },
  {
   "cell_type": "code",
   "execution_count": null,
   "metadata": {},
   "outputs": [
    {
     "data": {
      "text/plain": [
       "Index([    'Parameter',          'Case', 'TaxCreditCase',      'CRPYears',\n",
       "          'Technology',   'DisplayName',      'Scenario',            2022,\n",
       "                  2023,            2024,            2025,            2026,\n",
       "                  2027,            2028,            2029,            2030,\n",
       "                  2031,            2032,            2033,            2034,\n",
       "                  2035,            2036,            2037,            2038,\n",
       "                  2039,            2040,            2041,            2042,\n",
       "                  2043,            2044,            2045,            2046,\n",
       "                  2047,            2048,            2049,            2050],\n",
       "      dtype='object')"
      ]
     },
     "execution_count": 36,
     "metadata": {},
     "output_type": "execute_result"
    }
   ],
   "source": [
    "atb_df.keys()"
   ]
  },
  {
   "cell_type": "code",
   "execution_count": null,
   "metadata": {},
   "outputs": [
    {
     "data": {
      "text/plain": [
       "array(['Inflation Rate', 'Interest Rate Nominal',\n",
       "       'Calculated Interest Rate Real',\n",
       "       'Interest During Construction - Nominal',\n",
       "       'Rate of Return on Equity Nominal',\n",
       "       'Calculated Rate of Return on Equity Real', 'Debt Fraction',\n",
       "       'Tax Rate (Federal and State)', 'WACC Nominal', 'WACC Real', 'CRF',\n",
       "       'FCR', 'CF', 'OCC', 'GCC', 'Fixed O&M', 'Variable O&M', 'CFC',\n",
       "       'LCOE', 'CAPEX', 'Heat Rate'], dtype=object)"
      ]
     },
     "execution_count": 37,
     "metadata": {},
     "output_type": "execute_result"
    }
   ],
   "source": [
    "atb_df['Parameter'].unique()"
   ]
  },
  {
   "cell_type": "code",
   "execution_count": null,
   "metadata": {},
   "outputs": [
    {
     "data": {
      "text/plain": [
       "array(['LandbasedWind', 'UtilityPV', 'Coal_FE', 'NaturalGas_FE',\n",
       "       'Utility-Scale Battery Storage'], dtype=object)"
      ]
     },
     "execution_count": 38,
     "metadata": {},
     "output_type": "execute_result"
    }
   ],
   "source": [
    "atb_df['Technology'].unique()\n",
    "# so then we need to go through unique gen names, get technology type associated, "
   ]
  },
  {
   "cell_type": "code",
   "execution_count": null,
   "metadata": {},
   "outputs": [],
   "source": [
    "# get list of gen names in ATB\n",
    "atb_gen_names = atb_df['DisplayName'].unique()"
   ]
  },
  {
   "cell_type": "code",
   "execution_count": null,
   "metadata": {},
   "outputs": [
    {
     "data": {
      "text/plain": [
       "array(['*', 'Land-Based Wind - Class 1 - Technology 1',\n",
       "       'Land-Based Wind - Class 2 - Technology 1',\n",
       "       'Land-Based Wind - Class 3 - Technology 1',\n",
       "       'Land-Based Wind - Class 4 - Technology 1',\n",
       "       'Land-Based Wind - Class 5 - Technology 1',\n",
       "       'Land-Based Wind - Class 6 - Technology 1',\n",
       "       'Land-Based Wind - Class 7 - Technology 1',\n",
       "       'Land-Based Wind - Class 8 - Technology 2',\n",
       "       'Land-Based Wind - Class 9 - Technology 3',\n",
       "       'Land-Based Wind - Class 10 - Technology 4',\n",
       "       'Utility PV - Class 1', 'Utility PV - Class 2',\n",
       "       'Utility PV - Class 3', 'Utility PV - Class 4',\n",
       "       'Utility PV - Class 5', 'Utility PV - Class 6',\n",
       "       'Utility PV - Class 7', 'Utility PV - Class 8',\n",
       "       'Utility PV - Class 9', 'Utility PV - Class 10', 'Coal-new',\n",
       "       'Coal-95%-CCS', 'Coal-99%-CCS', 'Coal-IGCC', 'Coal-IGCC-90%-CCS',\n",
       "       'NG Combustion Turbine (F-Frame)',\n",
       "       'NG 2-on-1 Combined Cycle (F-Frame)',\n",
       "       'NG 2-on-1 Combined Cycle (H-Frame)',\n",
       "       'NG 1-on-1 Combined Cycle (H-Frame)',\n",
       "       'NG 2-on-1 Combined Cycle (F-Frame) 95% CCS',\n",
       "       'NG 2-on-1 Combined Cycle (H-Frame) 95% CCS',\n",
       "       'NG 1-on-1 Combined Cycle (H-Frame) 95% CCS',\n",
       "       'NG 2-on-1 Combined Cycle (F-Frame) 97% CCS',\n",
       "       'NG 2-on-1 Combined Cycle (H-Frame) 97% CCS',\n",
       "       'NG 1-on-1 Combined Cycle (H-Frame) 97% CCS',\n",
       "       'Utility-Scale Battery Storage - 2Hr',\n",
       "       'Utility-Scale Battery Storage - 4Hr',\n",
       "       'Utility-Scale Battery Storage - 6Hr',\n",
       "       'Utility-Scale Battery Storage - 8Hr',\n",
       "       'Utility-Scale Battery Storage - 10Hr'], dtype=object)"
      ]
     },
     "execution_count": 40,
     "metadata": {},
     "output_type": "execute_result"
    }
   ],
   "source": [
    "atb_gen_names"
   ]
  },
  {
   "cell_type": "code",
   "execution_count": null,
   "metadata": {},
   "outputs": [
    {
     "data": {
      "text/plain": [
       "['NG 2-on-1 Combined Cycle (H-Frame) 95% CCS',\n",
       " 'Utility-Scale Battery Storage - 10Hr',\n",
       " 'Utility PV - Class 1',\n",
       " 'Utility-Scale Battery Storage - 8Hr',\n",
       " 'Coal-new',\n",
       " 'Utility-Scale Battery Storage - 6Hr',\n",
       " 'NG 2-on-1 Combined Cycle (F-Frame)',\n",
       " 'NG Combustion Turbine (F-Frame)',\n",
       " 'Land-Based Wind - Class 1 - Technology 1',\n",
       " 'Utility-Scale Battery Storage - 2Hr',\n",
       " 'Utility-Scale Battery Storage - 4Hr']"
      ]
     },
     "execution_count": 41,
     "metadata": {},
     "output_type": "execute_result"
    }
   ],
   "source": [
    "# find the intersection of the two lists\n",
    "inters_names = list(set(gen_2_model_names).intersection(set(atb_gen_names)))\n",
    "inters_names"
   ]
  },
  {
   "cell_type": "markdown",
   "metadata": {},
   "source": [
    "# list the assumptions here:\n",
    "* Market case\n",
    "* CRP Years - capital return period, 20 or 15 for bat\n",
    "* scenario - moderate\n",
    "* year = 2022"
   ]
  },
  {
   "cell_type": "code",
   "execution_count": null,
   "metadata": {},
   "outputs": [],
   "source": [
    "assumed_case = 'Market'\n",
    "assumed_crpyears = 20\n",
    "assumed_scenario =  'Moderate'\n",
    "assumed_year = 2022\n",
    "assumed_interest = 0.8"
   ]
  },
  {
   "cell_type": "code",
   "execution_count": null,
   "metadata": {},
   "outputs": [],
   "source": [
    "# write dictionary of parameters in GenX title vs ATB title\n",
    "gen_2_atb_dict = {\n",
    "    \"Inv_Cost_per_MWyr\": \"CAPEX\",\n",
    "    \"Fixed_OM_Cost_per_MWyr\": \"Fixed O&M\",\n",
    "    \"Var_OM_Cost_per_MWh\": \"Variable O&M\",\n",
    "    \"Heat Rate\": \"Heat Rate\",\n",
    "}"
   ]
  },
  {
   "cell_type": "code",
   "execution_count": null,
   "metadata": {},
   "outputs": [],
   "source": [
    "# for gen_name in inters_names[0:1]:\n",
    "for gen_name in inters_names:\n",
    "    # get technology type\n",
    "    tech_type = atb_df[atb_df['DisplayName'] == gen_name]['Technology'].values[0]\n",
    "    \n",
    "    atb_gen_df = atb_df[(atb_df['Case'] == assumed_case) \n",
    "                        & (atb_df['CRPYears'] == assumed_crpyears) \n",
    "                         & (atb_df['Scenario'] == assumed_scenario) \n",
    "                         & (atb_df['DisplayName'] == gen_name)]\n",
    "\n",
    "\n",
    "    inv_cost_kilowatt = atb_gen_df[atb_gen_df['Parameter'] == 'CAPEX'][assumed_year].values[0]\n",
    "    fixed_om_kilowatt = atb_gen_df[atb_gen_df['Parameter'] == 'Fixed O&M'][assumed_year].values[0]\n",
    "    var_om_mw = atb_gen_df[atb_gen_df['Parameter'] == 'Variable O&M'][assumed_year].values[0]\n",
    "\n",
    "\n",
    "    Inv_Cost_per_MWyr = inv_cost_kilowatt * 1000 / assumed_crpyears\n",
    "    Fixed_OM_cost_per_MWyr = fixed_om_kilowatt * 1000\n",
    "    Var_OM_Cost_per_MWh = var_om_mw\n",
    "\n",
    "\n",
    "    Heat_Rate_MMBTU_per_MWh = None\n",
    "    # get into resource specific costs\n",
    "    if tech_type == 'Utility-Scale Battery Storage':\n",
    "        pass\n",
    "    elif tech_type == 'UtilityPV':\n",
    "        Var_OM_Cost_per_MWh = 0.1\n",
    "    elif tech_type == 'LandbasedWind':\n",
    "        Var_OM_Cost_per_MWh = 0.1\n",
    "    elif tech_type == 'Coal_FE' or tech_type == 'NaturalGas_FE':\n",
    "        Heat_Rate_MMBTU_per_MWh = atb_gen_df[atb_gen_df['Parameter'] == 'Heat Rate'][assumed_year].values[0]\n",
    "    else:\n",
    "        raise ValueError(f\"Unhandled technology type: {tech_type}\")\n",
    "    \n",
    "    atb_upd_gen_df.loc[atb_upd_gen_df['Resource'] == gen_name, 'Inv_Cost_per_MWyr'] = Inv_Cost_per_MWyr\n",
    "    atb_upd_gen_df.loc[atb_upd_gen_df['Resource'] == gen_name,'Fixed_OM_Cost_per_MWyr'] = Fixed_OM_cost_per_MWyr\n",
    "    atb_upd_gen_df.loc[atb_upd_gen_df['Resource'] == gen_name,'Var_OM_Cost_per_MWh'] = Var_OM_Cost_per_MWh\n",
    "    atb_upd_gen_df.loc[atb_upd_gen_df['Resource'] == gen_name,'Heat_Rate_MMBTU_per_MWh'] = Heat_Rate_MMBTU_per_MWh\n",
    "\n",
    "    # save the \n",
    "    # atb_gen_df = atb_df[(atb_df['DisplayName'] == gen_name)]"
   ]
  },
  {
   "cell_type": "code",
   "execution_count": null,
   "metadata": {},
   "outputs": [],
   "source": [
    "# print out updated generator df\n",
    "atb_upd_gen_df.to_csv('a_upd_generator_df.csv', index=False)"
   ]
  }
 ],
 "metadata": {
  "kernelspec": {
   "display_name": "master-env",
   "language": "python",
   "name": "python3"
  },
  "language_info": {
   "codemirror_mode": {
    "name": "ipython",
    "version": 3
   },
   "file_extension": ".py",
   "mimetype": "text/x-python",
   "name": "python",
   "nbconvert_exporter": "python",
   "pygments_lexer": "ipython3",
   "version": "3.11.11"
  }
 },
 "nbformat": 4,
 "nbformat_minor": 2
}
