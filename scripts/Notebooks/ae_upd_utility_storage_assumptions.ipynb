{
 "cells": [
  {
   "cell_type": "code",
   "execution_count": 1,
   "metadata": {},
   "outputs": [],
   "source": [
    "import pandas as pd\n",
    "import numpy as np\n",
    "import os\n",
    "import shutil\n",
    "import sys\n",
    "from datetime import datetime as dt"
   ]
  },
  {
   "cell_type": "code",
   "execution_count": 2,
   "metadata": {},
   "outputs": [],
   "source": [
    "# read in upd_gen csv\n",
    "upd_gen_df = pd.read_csv('a_upd_generator_df.csv')\n",
    "bess_upd_gen_df = upd_gen_df.copy()"
   ]
  },
  {
   "cell_type": "code",
   "execution_count": 3,
   "metadata": {},
   "outputs": [
    {
     "name": "stdout",
     "output_type": "stream",
     "text": [
      "    Unnamed: 0                              Resource  Model  New_Build  \\\n",
      "10          11  Utility-Scale Battery Storage - 10Hr    NaN        NaN   \n",
      "11          12   Utility-Scale Battery Storage - 2Hr    NaN        NaN   \n",
      "12          13   Utility-Scale Battery Storage - 4Hr    NaN        NaN   \n",
      "13          14   Utility-Scale Battery Storage - 6Hr    NaN        NaN   \n",
      "14          15   Utility-Scale Battery Storage - 8Hr    NaN        NaN   \n",
      "\n",
      "    Can_Retire  Zone  THERM  MUST_RUN  STOR  FLEX  ...  MinCapTag_2  \\\n",
      "10         NaN   NaN    NaN       NaN   NaN   NaN  ...          NaN   \n",
      "11         NaN   NaN    NaN       NaN   NaN   NaN  ...          NaN   \n",
      "12         NaN   NaN    NaN       NaN   NaN   NaN  ...          NaN   \n",
      "13         NaN   NaN    NaN       NaN   NaN   NaN  ...          NaN   \n",
      "14         NaN   NaN    NaN       NaN   NaN   NaN  ...          NaN   \n",
      "\n",
      "    MinCapTag_3  MGA  Resource_Type  CapRes_1  ESR_1  ESR_2  region  cluster  \\\n",
      "10          NaN  NaN            NaN       NaN    NaN    NaN     NaN      NaN   \n",
      "11          NaN  NaN            NaN       NaN    NaN    NaN     NaN      NaN   \n",
      "12          NaN  NaN            NaN       NaN    NaN    NaN     NaN      NaN   \n",
      "13          NaN  NaN            NaN       NaN    NaN    NaN     NaN      NaN   \n",
      "14          NaN  NaN            NaN       NaN    NaN    NaN     NaN      NaN   \n",
      "\n",
      "    LDS  \n",
      "10  NaN  \n",
      "11  NaN  \n",
      "12  NaN  \n",
      "13  NaN  \n",
      "14  NaN  \n",
      "\n",
      "[5 rows x 68 columns]\n"
     ]
    }
   ],
   "source": [
    "# load utility-scale battery storage data\n",
    "utility_scale_battery_df = bess_upd_gen_df[bess_upd_gen_df['Resource'].str.contains('Utility-Scale Battery Storage', na=False)]\n",
    "print(utility_scale_battery_df)"
   ]
  },
  {
   "cell_type": "code",
   "execution_count": 4,
   "metadata": {},
   "outputs": [],
   "source": [
    "reqd_bess_data = [\n",
    "                #   'Zone',\n",
    "                #   'Model',\n",
    "                #   'New_Build',\n",
    "                #   'Can_Retire',\n",
    "                #   'Existing_Cap_MW',\n",
    "                #   'Max_Cap_MW',\n",
    "                #   'Max_Cap_MWh',\n",
    "                #   'Min_Cap_MW',\n",
    "                  # 'Min_Cap_MWh',\n",
    "                  'Inv_Cost_per_MWyr',\n",
    "                  'Inv_Cost_per_MWhyr',\n",
    "                  'Fixed_OM_Cost_per_MWyr',\n",
    "                  'Fixed_OM_Cost_per_MWhyr',\n",
    "                  'Var_OM_Cost_per_MWh',\n",
    "                  'Var_OM_Cost_per_MWh_In',\n",
    "                  'Self_Disch',\n",
    "                  'Eff_Up',\n",
    "                  'Eff_Down',\n",
    "                  'Min_Duration',\n",
    "                  'Max_Duration',\n",
    "                #   'Reg_Max',\n",
    "                #   'Rsv_Max',\n",
    "                #   'Reg_Cost',\n",
    "                #   'Rsv_Cost',\n",
    "                #   'region',\n",
    "                #   'cluster',\n",
    "]"
   ]
  },
  {
   "cell_type": "code",
   "execution_count": 5,
   "metadata": {},
   "outputs": [
    {
     "name": "stdout",
     "output_type": "stream",
     "text": [
      "Utility-Scale Battery Storage - 10Hr\n",
      "Inv_Cost_per_MWhyr, Fixed_OM_Cost_per_MWhyr, Var_OM_Cost_per_MWh_In,\n",
      "Self_Disch, Eff_Up, Eff_Down, Min_Duration, Max_Duration\n",
      "\n",
      "Utility-Scale Battery Storage - 2Hr\n",
      "Inv_Cost_per_MWhyr, Fixed_OM_Cost_per_MWhyr, Var_OM_Cost_per_MWh_In,\n",
      "Self_Disch, Eff_Up, Eff_Down, Min_Duration, Max_Duration\n",
      "\n",
      "Utility-Scale Battery Storage - 4Hr\n",
      "Inv_Cost_per_MWhyr, Fixed_OM_Cost_per_MWhyr, Var_OM_Cost_per_MWh_In,\n",
      "Self_Disch, Eff_Up, Eff_Down, Min_Duration, Max_Duration\n",
      "\n",
      "Utility-Scale Battery Storage - 6Hr\n",
      "Inv_Cost_per_MWhyr, Fixed_OM_Cost_per_MWhyr, Var_OM_Cost_per_MWh_In,\n",
      "Self_Disch, Eff_Up, Eff_Down, Min_Duration, Max_Duration\n",
      "\n",
      "Utility-Scale Battery Storage - 8Hr\n",
      "Inv_Cost_per_MWhyr, Fixed_OM_Cost_per_MWhyr, Var_OM_Cost_per_MWh_In,\n",
      "Self_Disch, Eff_Up, Eff_Down, Min_Duration, Max_Duration\n",
      "\n"
     ]
    }
   ],
   "source": [
    "import textwrap\n",
    "\n",
    "# for each battery, check that all required data is present\n",
    "missing_data = {}\n",
    "\n",
    "for index, row in utility_scale_battery_df.iterrows():\n",
    "    missing_columns = [col for col in reqd_bess_data if pd.isna(row[col])]\n",
    "    if missing_columns:\n",
    "        missing_data[row['Resource']] = missing_columns\n",
    "\n",
    "for resource, columns in missing_data.items():\n",
    "    print(resource)\n",
    "    print(textwrap.fill(\", \".join(columns), width=70))\n",
    "    print()"
   ]
  },
  {
   "cell_type": "code",
   "execution_count": 6,
   "metadata": {},
   "outputs": [],
   "source": [
    "# assume costs are accounted for in MWyr instead of MWhyr\n",
    "bess_upd_gen_df['Inv_Cost_per_MWhyr'] = 0\n",
    "bess_upd_gen_df['Fixed_OM_Cost_per_MWhyr'] = 0\n",
    "bess_upd_gen_df['Var_OM_Cost_per_MWh_In'] = 0\n",
    "bess_upd_gen_df['Self_Disch'] = 0\n"
   ]
  },
  {
   "cell_type": "code",
   "execution_count": 7,
   "metadata": {},
   "outputs": [],
   "source": [
    "# assume efficiency is 85%\n",
    "bess_upd_gen_df['Eff_Up'] = 0.85\n",
    "bess_upd_gen_df['Eff_Down'] = 0.85"
   ]
  },
  {
   "cell_type": "code",
   "execution_count": 8,
   "metadata": {},
   "outputs": [],
   "source": [
    "# loop through each battery and set min duration and max duration equal to the number in their name\n",
    "for index, row in bess_upd_gen_df.iterrows():\n",
    "    if 'Battery Storage' in row['Resource']:\n",
    "        duration = int(row['Resource'].split('-')[-1].replace('Hr', ''))\n",
    "        bess_upd_gen_df.at[index, 'Min_Duration'] = duration\n",
    "        bess_upd_gen_df.at[index, 'Max_Duration'] = duration"
   ]
  },
  {
   "cell_type": "code",
   "execution_count": 9,
   "metadata": {},
   "outputs": [
    {
     "name": "stdout",
     "output_type": "stream",
     "text": [
      "No batteries are missing data.\n"
     ]
    }
   ],
   "source": [
    "# check that no batteries are missing data\n",
    "missing_data = {}\n",
    "# select only battery storage resources\n",
    "second_check_bess_df = bess_upd_gen_df[bess_upd_gen_df['Resource'].str.contains('Battery Storage', na=False)]\n",
    "\n",
    "for index, row in second_check_bess_df.iterrows():\n",
    "    missing_columns = [col for col in reqd_bess_data if pd.isna(row[col])]\n",
    "    if missing_columns:\n",
    "        missing_data[row['Resource']] = missing_columns\n",
    "\n",
    "if not missing_data:\n",
    "    print(\"No batteries are missing data.\")\n",
    "else:\n",
    "    for resource, columns in missing_data.items():\n",
    "        print(resource)\n",
    "        print(textwrap.fill(\", \".join(columns), width=70))\n",
    "        print()"
   ]
  },
  {
   "cell_type": "code",
   "execution_count": 10,
   "metadata": {},
   "outputs": [],
   "source": [
    "bess_upd_gen_df.to_csv('a_upd_generator_df.csv', index=False)"
   ]
  }
 ],
 "metadata": {
  "kernelspec": {
   "display_name": "base",
   "language": "python",
   "name": "python3"
  },
  "language_info": {
   "codemirror_mode": {
    "name": "ipython",
    "version": 3
   },
   "file_extension": ".py",
   "mimetype": "text/x-python",
   "name": "python",
   "nbconvert_exporter": "python",
   "pygments_lexer": "ipython3",
   "version": "3.11.7"
  }
 },
 "nbformat": 4,
 "nbformat_minor": 2
}
