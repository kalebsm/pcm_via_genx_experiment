{
 "cells": [
  {
   "cell_type": "code",
   "execution_count": 1,
   "metadata": {},
   "outputs": [],
   "source": [
    "import pandas as pd\n",
    "import numpy as np\n",
    "import shutil\n",
    "import os\n",
    "import sys\n",
    "from datetime import datetime as dt"
   ]
  },
  {
   "cell_type": "code",
   "execution_count": 2,
   "metadata": {},
   "outputs": [],
   "source": [
    "# define location of cost assumptions\n",
    "generator_assumptions_path = os.path.join('..', 'data', 'cases')"
   ]
  },
  {
   "cell_type": "code",
   "execution_count": 3,
   "metadata": {},
   "outputs": [],
   "source": [
    "# define path locations for CEM and LACs where inputs are going\n",
    "genx_cem_loc = os.path.join('..', 'GenX.jl', 'research_systems')\n",
    "spcm_lac_loc = os.path.join('..', 'SPCM', 'research_systems')"
   ]
  },
  {
   "cell_type": "code",
   "execution_count": null,
   "metadata": {},
   "outputs": [],
   "source": [
    "# generate research systems folder if it does not already exist\n"
   ]
  },
  {
   "cell_type": "code",
   "execution_count": 4,
   "metadata": {},
   "outputs": [
    {
     "name": "stdout",
     "output_type": "stream",
     "text": [
      "['10_Hr_BESS', '10_Hr_BESS_Fuelx2', '2_Hr_BESS', '2_Hr_BESS_Fuelx2', '4_Hr_BESS', '4_Hr_BESS_Fuelx2', '4_Hr_BESS_Fuelx3', '4_Hr_BESS_Fuelx4', '6_Hr_BESS', '6_Hr_BESS_Fuelx2', '8_Hr_BESS', '8_Hr_BESS_Fuelx2', 'Thermal_Case']\n"
     ]
    }
   ],
   "source": [
    "# Get the list of all files in the generator_assumptions_path directory\n",
    "case_names_list = []\n",
    "for xlsx_name in os.listdir(generator_assumptions_path):\n",
    "    if os.path.isfile(os.path.join(generator_assumptions_path, xlsx_name)):\n",
    "        case_name = xlsx_name.replace('.xlsx', '')\n",
    "        case_names_list.append(case_name)\n",
    "print(case_names_list)"
   ]
  },
  {
   "cell_type": "code",
   "execution_count": null,
   "metadata": {},
   "outputs": [],
   "source": [
    "# create a function that takes the current case and loc and generates folders: \n",
    "# policies, resources, settings, system\n",
    "def create_case_folders(case_name, base_loc):\n",
    "    folders = ['policies', 'resources', 'settings', 'system']\n",
    "    for folder in folders:\n",
    "        # print(base_loc, case_name, folder)\n",
    "        folder_path = os.path.join(base_loc, folder)\n",
    "        if not os.path.exists(folder_path):\n",
    "            os.makedirs(folder_path)\n",
    "        if folder == 'resources':\n",
    "            policy_assignments_path = os.path.join(folder_path, 'policy_assignments')\n",
    "            if not os.path.exists(policy_assignments_path):\n",
    "                os.makedirs(policy_assignments_path)"
   ]
  },
  {
   "cell_type": "code",
   "execution_count": null,
   "metadata": {},
   "outputs": [],
   "source": [
    "# create folders in GenX and SPCM research systems for each case\n",
    "for case_name in case_names_list:\n",
    "    genx_cem_unabr_case_loc = os.path.join(genx_cem_loc, case_name)\n",
    "    # genx_cem_abbr_case_loc = os.path.join(genx_cem_loc, case_name + '_abbr')\n",
    "    spcm_lac_case_loc = os.path.join(spcm_lac_loc, case_name)\n",
    "\n",
    "    if not os.path.exists(genx_cem_unabr_case_loc):\n",
    "        os.makedirs(genx_cem_unabr_case_loc)  \n",
    "    create_case_folders(case_name, genx_cem_unabr_case_loc)\n",
    "    # if not os.path.exists(genx_cem_abbr_case_loc):\n",
    "    #     os.makedirs(genx_cem_abbr_case_loc)\n",
    "    # create_case_folders(case_name, genx_cem_abbr_case_loc)\n",
    "    if not os.path.exists(spcm_lac_case_loc):\n",
    "        os.makedirs(spcm_lac_case_loc)\n",
    "    create_case_folders(case_name, spcm_lac_case_loc)"
   ]
  }
 ],
 "metadata": {
  "kernelspec": {
   "display_name": "base",
   "language": "python",
   "name": "python3"
  },
  "language_info": {
   "codemirror_mode": {
    "name": "ipython",
    "version": 3
   },
   "file_extension": ".py",
   "mimetype": "text/x-python",
   "name": "python",
   "nbconvert_exporter": "python",
   "pygments_lexer": "ipython3",
   "version": "3.11.7"
  }
 },
 "nbformat": 4,
 "nbformat_minor": 2
}
