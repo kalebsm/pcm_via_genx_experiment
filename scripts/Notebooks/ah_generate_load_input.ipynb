{
 "cells": [
  {
   "cell_type": "code",
   "execution_count": 1,
   "metadata": {},
   "outputs": [],
   "source": [
    "import pandas as pd\n",
    "import numpy as np\n",
    "import os"
   ]
  },
  {
   "cell_type": "code",
   "execution_count": 2,
   "metadata": {},
   "outputs": [],
   "source": [
    "# load in ercot actuals data\n",
    "ercot_actuals_loc = os.path.join('..', 'scenario_generation', 'sequential_NORTA', 'data')\n",
    "ercot_actuals_df = pd.read_csv(ercot_actuals_loc + '/actuals_ercot2018.csv')"
   ]
  },
  {
   "cell_type": "code",
   "execution_count": 3,
   "metadata": {},
   "outputs": [],
   "source": [
    "lac_length = len(ercot_actuals_df)\n",
    "\n",
    "period = range(0,lac_length)\n",
    "\n",
    "cem_length = lac_length - 50"
   ]
  },
  {
   "cell_type": "code",
   "execution_count": 4,
   "metadata": {},
   "outputs": [
    {
     "data": {
      "text/plain": [
       "8686"
      ]
     },
     "execution_count": 4,
     "metadata": {},
     "output_type": "execute_result"
    }
   ],
   "source": [
    "cem_length"
   ]
  },
  {
   "cell_type": "code",
   "execution_count": 5,
   "metadata": {},
   "outputs": [],
   "source": [
    "cem_load_actuals = ercot_actuals_df['load'][range(0,cem_length)]\n",
    "lac_load_actuals = ercot_actuals_df['load']"
   ]
  },
  {
   "cell_type": "code",
   "execution_count": 6,
   "metadata": {},
   "outputs": [],
   "source": [
    "cem_load_data = pd.DataFrame({'Voll': [5000] + [None] * (cem_length - 1), \n",
    "                          'Demand_Segment': [1] + [None] * (cem_length -1),\n",
    "                          'Cost_of_Demand_Curtailment_per_MW': [1] + [None] * (cem_length - 1),\n",
    "                          'Max_Demand_Curtailment': [1] + [None] * (cem_length - 1),\n",
    "                          '$/MWh': [2000] + [None] * (cem_length - 1),\n",
    "                          'Rep_Periods': [1] + [None] * (cem_length-1),\n",
    "                          'Timesteps_per_Rep_Period': [cem_length] + [None] * (cem_length - 1),\n",
    "                          'Sub_Weights': [cem_length] + [None] * (cem_length - 1),\n",
    "                          'Time_Index': range(1,cem_length+1),\n",
    "                          'Demand_MW_z1': cem_load_actuals})"
   ]
  },
  {
   "cell_type": "code",
   "execution_count": 7,
   "metadata": {},
   "outputs": [],
   "source": [
    "lac_load_data = pd.DataFrame({'Voll': [5000] + [None] * (lac_length - 1), \n",
    "                          'Demand_Segment': [1] + [None] * (lac_length -1),\n",
    "                          'Cost_of_Demand_Curtailment_per_MW': [1] + [None] * (lac_length - 1),\n",
    "                          'Max_Demand_Curtailment': [1] + [None] * (lac_length - 1),\n",
    "                          '$/MWh': [2000] + [None] * (lac_length - 1),\n",
    "                          'Rep_Periods': [1] + [None] * (lac_length-1),\n",
    "                          'Timesteps_per_Rep_Period': [cem_length] + [None] * (lac_length - 1),\n",
    "                          'Sub_Weights': [cem_length] + [None] * (lac_length - 1),\n",
    "                          'Time_Index': range(1,lac_length+1),\n",
    "                          'Demand_MW_z1': lac_load_actuals})"
   ]
  },
  {
   "cell_type": "code",
   "execution_count": 8,
   "metadata": {},
   "outputs": [
    {
     "name": "stdout",
     "output_type": "stream",
     "text": [
      "['10_Hr_BESS', '10_Hr_BESS_Fuelx2', '2_Hr_BESS', '2_Hr_BESS_Fuelx2', '4_Hr_BESS', '4_Hr_BESS_Fuelx2', '4_Hr_BESS_Fuelx3', '4_Hr_BESS_Fuelx4', '6_Hr_BESS', '6_Hr_BESS_Fuelx2', '8_Hr_BESS', '8_Hr_BESS_Fuelx2', 'Thermal_Case']\n"
     ]
    }
   ],
   "source": [
    "# define location of cost assumptions\n",
    "generator_assumptions_path = os.path.join('..', 'data', 'cases')\n",
    "# define path locations for CEM and LACs where inputs are going\n",
    "genx_cem_loc = os.path.join('..', 'GenX.jl', 'research_systems')\n",
    "spcm_lac_loc = os.path.join('..', 'SPCM', 'research_systems')\n",
    "\n",
    "# Get the list of all files in the generator_assumptions_path directory\n",
    "case_names_list = []\n",
    "for xlsx_name in os.listdir(generator_assumptions_path):\n",
    "    if os.path.isfile(os.path.join(generator_assumptions_path, xlsx_name)):\n",
    "        case_name = xlsx_name.replace('.xlsx', '')\n",
    "        case_names_list.append(case_name)\n",
    "print(case_names_list)"
   ]
  },
  {
   "cell_type": "code",
   "execution_count": 9,
   "metadata": {},
   "outputs": [],
   "source": [
    "for case_name in case_names_list:\n",
    "# for case_name in case_names_list[0:1]:\n",
    "    # load cem and lac paths\n",
    "    genx_cem_system_path = os.path.join(genx_cem_loc, case_name, 'system')\n",
    "    spcm_lac_system_path = os.path.join(spcm_lac_loc, case_name, 'system')\n",
    "\n",
    "        # save resource_min_caps to genx_cem_resources_path\n",
    "    cem_load_data.to_csv(os.path.join(genx_cem_system_path, \\\n",
    "                            'Demand_data.csv'), index=False)\n",
    "    lac_load_data.to_csv(os.path.join(spcm_lac_system_path, \\\n",
    "                            'Demand_data.csv'), index=False)"
   ]
  }
 ],
 "metadata": {
  "kernelspec": {
   "display_name": "base",
   "language": "python",
   "name": "python3"
  },
  "language_info": {
   "codemirror_mode": {
    "name": "ipython",
    "version": 3
   },
   "file_extension": ".py",
   "mimetype": "text/x-python",
   "name": "python",
   "nbconvert_exporter": "python",
   "pygments_lexer": "ipython3",
   "version": "3.11.7"
  }
 },
 "nbformat": 4,
 "nbformat_minor": 2
}
