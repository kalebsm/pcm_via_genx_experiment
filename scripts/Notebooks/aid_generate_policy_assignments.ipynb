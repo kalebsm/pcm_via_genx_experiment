{
 "cells": [
  {
   "cell_type": "code",
   "execution_count": 1,
   "metadata": {},
   "outputs": [],
   "source": [
    "import pandas as pd\n",
    "import numpy as np\n",
    "import os"
   ]
  },
  {
   "cell_type": "code",
   "execution_count": 2,
   "metadata": {},
   "outputs": [
    {
     "name": "stdout",
     "output_type": "stream",
     "text": [
      "['10_Hr_BESS', '10_Hr_BESS_Fuelx2', '2_Hr_BESS', '2_Hr_BESS_Fuelx2', '4_Hr_BESS', '4_Hr_BESS_Fuelx2', '4_Hr_BESS_Fuelx3', '4_Hr_BESS_Fuelx4', '6_Hr_BESS', '6_Hr_BESS_Fuelx2', '8_Hr_BESS', '8_Hr_BESS_Fuelx2', 'Thermal_Case']\n"
     ]
    }
   ],
   "source": [
    "# define location of cost assumptions\n",
    "generator_assumptions_path = os.path.join('..', 'data', 'cases')\n",
    "# define path locations for CEM and LACs where inputs are going\n",
    "genx_cem_loc = os.path.join('..', 'GenX.jl', 'research_systems')\n",
    "spcm_lac_loc = os.path.join('..', 'SPCM', 'research_systems')\n",
    "\n",
    "# Get the list of all files in the generator_assumptions_path directory\n",
    "case_names_list = []\n",
    "for xlsx_name in os.listdir(generator_assumptions_path):\n",
    "    if os.path.isfile(os.path.join(generator_assumptions_path, xlsx_name)):\n",
    "        case_name = xlsx_name.replace('.xlsx', '')\n",
    "        case_names_list.append(case_name)\n",
    "print(case_names_list)"
   ]
  },
  {
   "cell_type": "code",
   "execution_count": 3,
   "metadata": {},
   "outputs": [],
   "source": [
    "for case_name in case_names_list:\n",
    "# for case_name in case_names_list[0:1]:\n",
    "    # load cem and lac paths\n",
    "    genx_cem_resources_path = os.path.join(genx_cem_loc, case_name, 'resources')\n",
    "    spcm_lac_resources_path = os.path.join(spcm_lac_loc, case_name, 'resources')\n",
    "\n",
    "    # get case assumptions\n",
    "    case_assumptions = pd.read_excel(os.path.join(generator_assumptions_path, case_name + '.xlsx'))\n",
    "\n",
    "    # get set of resources in case assumptions\n",
    "    resources = case_assumptions['Technical Name']\n",
    "\n",
    "    # create a dataframe of resources and 'Min_Cap_1', 'Min_Cap_2', and 'Min_Cap_3' columns\n",
    "    resource_min_caps = pd.DataFrame()\n",
    "    resource_min_caps['Resource'] = resources\n",
    "    resource_min_caps['Min_Cap_1'] = 0\n",
    "    resource_min_caps['Min_Cap_2'] = 0\n",
    "    resource_min_caps['Min_Cap_3'] = 0\n",
    "\n",
    "    # save resource_min_caps to genx_cem_resources_path\n",
    "    resource_min_caps.to_csv(os.path.join(genx_cem_resources_path, \\\n",
    "                            'policy_assignments', 'Resource_minimum_capacity_requirement.csv'), index=False)\n",
    "    resource_min_caps.to_csv(os.path.join(spcm_lac_resources_path, \\\n",
    "                            'policy_assignments', 'Resource_minimum_capacity_requirement.csv'), index=False)\n",
    "\n"
   ]
  }
 ],
 "metadata": {
  "kernelspec": {
   "display_name": "base",
   "language": "python",
   "name": "python3"
  },
  "language_info": {
   "codemirror_mode": {
    "name": "ipython",
    "version": 3
   },
   "file_extension": ".py",
   "mimetype": "text/x-python",
   "name": "python",
   "nbconvert_exporter": "python",
   "pygments_lexer": "ipython3",
   "version": "3.11.7"
  }
 },
 "nbformat": 4,
 "nbformat_minor": 2
}
