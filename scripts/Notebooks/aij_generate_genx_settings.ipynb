{
 "cells": [
  {
   "cell_type": "code",
   "execution_count": 1,
   "metadata": {},
   "outputs": [],
   "source": [
    "import pandas as pd\n",
    "import numpy as np\n",
    "import os"
   ]
  },
  {
   "cell_type": "code",
   "execution_count": 5,
   "metadata": {},
   "outputs": [],
   "source": [
    "# # define location of cost assumptions\n",
    "# generator_assumptions_path = os.path.join('..', 'data', 'cases')\n",
    "# # define path locations for CEM and LACs where inputs are going\n",
    "# genx_cem_loc = os.path.join('..', 'GenX.jl', 'research_systems')\n",
    "spcm_lac_loc = os.path.join('..', 'SPCM', 'research_systems')\n",
    "\n",
    "# Get the list of all files in the generator_assumptions_path directory\n",
    "case_names_list = [\"NYISO_Case\"]\n",
    "# for xlsx_name in os.listdir(generator_assumptions_path):\n",
    "#     if os.path.isfile(os.path.join(generator_assumptions_path, xlsx_name)):\n",
    "#         case_name = xlsx_name.replace('.xlsx', '')\n",
    "#         case_names_list.append(case_name)\n",
    "# print(case_names_list)"
   ]
  },
  {
   "cell_type": "code",
   "execution_count": 6,
   "metadata": {},
   "outputs": [],
   "source": [
    "import yaml\n",
    "\n",
    "data = {\n",
    "    'OverwriteResults': 0,\n",
    "    'PrintModel': 0,\n",
    "    'NetworkExpansion': 0,\n",
    "    'Trans_Loss_Segments': 1,\n",
    "    'OperationalReserves': 1,\n",
    "    'EnergyShareRequirement': 0,\n",
    "    'CapacityReserveMargin': 0,\n",
    "    'CO2Cap': 0,\n",
    "    'StorageLosses': 0,\n",
    "    'MinCapReq': 0,\n",
    "    'MaxCapReq': 0,\n",
    "    'Solver': 'Gurobi',\n",
    "    'ParameterScale': 1,\n",
    "    'WriteShadowPrices': 1,\n",
    "    'UCommit': 2,\n",
    "    'TimeDomainReductionFolder': 'TDR_Results',\n",
    "    'TimeDomainReduction': 0,\n",
    "    'ModelingToGenerateAlternatives': 0,\n",
    "    'ModelingtoGenerateAlternativeSlack': 0.1,\n",
    "    'ModelingToGenerateAlternativeIterations': 3,\n",
    "    'MethodofMorris': 0,\n",
    "    'OutputFullTimeSeries': 1\n",
    "}\n",
    "\n",
    "# // with open('config.yml', 'w') as file:\n",
    "# //     yaml.dump(data, file, default_flow_style=False)"
   ]
  },
  {
   "cell_type": "code",
   "execution_count": 7,
   "metadata": {},
   "outputs": [
    {
     "ename": "FileNotFoundError",
     "evalue": "[Errno 2] No such file or directory: '.../SPCM/research_systems/NYISO_Case/settings/genx_settings.yml'",
     "output_type": "error",
     "traceback": [
      "\u001b[0;31m---------------------------------------------------------------------------\u001b[0m",
      "\u001b[0;31mFileNotFoundError\u001b[0m                         Traceback (most recent call last)",
      "Cell \u001b[0;32mIn[7], line 9\u001b[0m\n\u001b[1;32m      4\u001b[0m     spcm_lac_settings_path \u001b[38;5;241m=\u001b[39m os\u001b[38;5;241m.\u001b[39mpath\u001b[38;5;241m.\u001b[39mjoin(spcm_lac_loc, case_name, \u001b[38;5;124m'\u001b[39m\u001b[38;5;124msettings\u001b[39m\u001b[38;5;124m'\u001b[39m)\n\u001b[1;32m      6\u001b[0m \u001b[38;5;66;03m#     with open(os.path.join(genx_cem_settings_path, 'genx_settings.yml'), 'w') as file:\u001b[39;00m\n\u001b[1;32m      7\u001b[0m \u001b[38;5;66;03m#         yaml.dump(data, file, default_flow_style=False)\u001b[39;00m\n\u001b[0;32m----> 9\u001b[0m     \u001b[38;5;28;01mwith\u001b[39;00m \u001b[38;5;28mopen\u001b[39m(os\u001b[38;5;241m.\u001b[39mpath\u001b[38;5;241m.\u001b[39mjoin(spcm_lac_settings_path, \u001b[38;5;124m'\u001b[39m\u001b[38;5;124mgenx_settings.yml\u001b[39m\u001b[38;5;124m'\u001b[39m), \u001b[38;5;124m'\u001b[39m\u001b[38;5;124mw\u001b[39m\u001b[38;5;124m'\u001b[39m) \u001b[38;5;28;01mas\u001b[39;00m file:\n\u001b[1;32m     10\u001b[0m         yaml\u001b[38;5;241m.\u001b[39mdump(data, file, default_flow_style\u001b[38;5;241m=\u001b[39m\u001b[38;5;28;01mFalse\u001b[39;00m)\n",
      "File \u001b[0;32m~/anaconda3/lib/python3.11/site-packages/IPython/core/interactiveshell.py:284\u001b[0m, in \u001b[0;36m_modified_open\u001b[0;34m(file, *args, **kwargs)\u001b[0m\n\u001b[1;32m    277\u001b[0m \u001b[38;5;28;01mif\u001b[39;00m file \u001b[38;5;129;01min\u001b[39;00m {\u001b[38;5;241m0\u001b[39m, \u001b[38;5;241m1\u001b[39m, \u001b[38;5;241m2\u001b[39m}:\n\u001b[1;32m    278\u001b[0m     \u001b[38;5;28;01mraise\u001b[39;00m \u001b[38;5;167;01mValueError\u001b[39;00m(\n\u001b[1;32m    279\u001b[0m         \u001b[38;5;124mf\u001b[39m\u001b[38;5;124m\"\u001b[39m\u001b[38;5;124mIPython won\u001b[39m\u001b[38;5;124m'\u001b[39m\u001b[38;5;124mt let you open fd=\u001b[39m\u001b[38;5;132;01m{\u001b[39;00mfile\u001b[38;5;132;01m}\u001b[39;00m\u001b[38;5;124m by default \u001b[39m\u001b[38;5;124m\"\u001b[39m\n\u001b[1;32m    280\u001b[0m         \u001b[38;5;124m\"\u001b[39m\u001b[38;5;124mas it is likely to crash IPython. If you know what you are doing, \u001b[39m\u001b[38;5;124m\"\u001b[39m\n\u001b[1;32m    281\u001b[0m         \u001b[38;5;124m\"\u001b[39m\u001b[38;5;124myou can use builtins\u001b[39m\u001b[38;5;124m'\u001b[39m\u001b[38;5;124m open.\u001b[39m\u001b[38;5;124m\"\u001b[39m\n\u001b[1;32m    282\u001b[0m     )\n\u001b[0;32m--> 284\u001b[0m \u001b[38;5;28;01mreturn\u001b[39;00m io_open(file, \u001b[38;5;241m*\u001b[39margs, \u001b[38;5;241m*\u001b[39m\u001b[38;5;241m*\u001b[39mkwargs)\n",
      "\u001b[0;31mFileNotFoundError\u001b[0m: [Errno 2] No such file or directory: '.../SPCM/research_systems/NYISO_Case/settings/genx_settings.yml'"
     ]
    }
   ],
   "source": [
    "for case_name in case_names_list:\n",
    "# for case_name in case_names_list[0:1]:\n",
    "    # load cem and lac paths\n",
    "    spcm_lac_settings_path = os.path.join(spcm_lac_loc, case_name, 'settings')\n",
    "\n",
    "#     with open(os.path.join(genx_cem_settings_path, 'genx_settings.yml'), 'w') as file:\n",
    "#         yaml.dump(data, file, default_flow_style=False)\n",
    "    \n",
    "    with open(os.path.join(spcm_lac_settings_path, 'genx_settings.yml'), 'w') as file:\n",
    "        yaml.dump(data, file, default_flow_style=False)\n",
    "\n",
    "\n"
   ]
  },
  {
   "cell_type": "code",
   "execution_count": null,
   "metadata": {},
   "outputs": [],
   "source": []
  }
 ],
 "metadata": {
  "kernelspec": {
   "display_name": "Python 3 (ipykernel)",
   "language": "python",
   "name": "python3"
  },
  "language_info": {
   "codemirror_mode": {
    "name": "ipython",
    "version": 3
   },
   "file_extension": ".py",
   "mimetype": "text/x-python",
   "name": "python",
   "nbconvert_exporter": "python",
   "pygments_lexer": "ipython3",
   "version": "3.11.4"
  }
 },
 "nbformat": 4,
 "nbformat_minor": 2
}
