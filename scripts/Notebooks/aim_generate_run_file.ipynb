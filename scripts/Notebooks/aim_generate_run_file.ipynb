{
 "cells": [
  {
   "cell_type": "code",
   "execution_count": 9,
   "metadata": {},
   "outputs": [],
   "source": [
    "import pandas as pd\n",
    "import numpy as np\n",
    "import os"
   ]
  },
  {
   "cell_type": "code",
   "execution_count": 10,
   "metadata": {},
   "outputs": [
    {
     "name": "stdout",
     "output_type": "stream",
     "text": [
      "['10_Hr_BESS', '10_Hr_BESS_Fuelx2', '2_Hr_BESS', '2_Hr_BESS_Fuelx2', '4_Hr_BESS', '4_Hr_BESS_Fuelx2', '4_Hr_BESS_Fuelx3', '4_Hr_BESS_Fuelx4', '6_Hr_BESS', '6_Hr_BESS_Fuelx2', '8_Hr_BESS', '8_Hr_BESS_Fuelx2', 'Thermal_Case']\n"
     ]
    }
   ],
   "source": [
    "# define location of cost assumptions\n",
    "generator_assumptions_path = os.path.join('..', 'data', 'cases')\n",
    "# define path locations for CEM and LACs where inputs are going\n",
    "genx_cem_loc = os.path.join('..', 'GenX.jl', 'research_systems')\n",
    "spcm_lac_loc = os.path.join('..', 'SPCM', 'research_systems')\n",
    "\n",
    "# Get the list of all files in the generator_assumptions_path directory\n",
    "case_names_list = []\n",
    "for xlsx_name in os.listdir(generator_assumptions_path):\n",
    "    if os.path.isfile(os.path.join(generator_assumptions_path, xlsx_name)):\n",
    "        case_name = xlsx_name.replace('.xlsx', '')\n",
    "        case_names_list.append(case_name)\n",
    "print(case_names_list)"
   ]
  },
  {
   "cell_type": "code",
   "execution_count": 11,
   "metadata": {},
   "outputs": [],
   "source": [
    "julia_code = \"\"\"\n",
    "using GenX\n",
    "using Gurobi\n",
    "\n",
    "run_genx_case!(dirname(@__FILE__), Gurobi.Optimizer)\n",
    "\"\"\"\n",
    "\n",
    "# with open('run_genx_case.jl', 'w') as file:\n",
    "#     file.write(julia_code)\n",
    "\n"
   ]
  },
  {
   "cell_type": "code",
   "execution_count": 12,
   "metadata": {},
   "outputs": [],
   "source": [
    "for case_name in case_names_list:\n",
    "# for case_name in case_names_list[0:1]:\n",
    "    # load cem and lac paths\n",
    "    genx_cem_path = os.path.join(genx_cem_loc, case_name)\n",
    "    spcm_lac_path = os.path.join(spcm_lac_loc, case_name)\n",
    "\n",
    "    # # delete 'run_genx_case.jl' if it exists\n",
    "    # if os.path.exists(os.path.join(genx_cem_path, 'run_genx_case.jl')):\n",
    "    #     os.remove(os.path.join(genx_cem_path, 'run_genx_case.jl'))\n",
    "    # # write the julia_code to genx cem path\n",
    "    with open(os.path.join(genx_cem_path, 'Run.jl'), 'w') as file:\n",
    "        file.write(julia_code)"
   ]
  }
 ],
 "metadata": {
  "kernelspec": {
   "display_name": "Python 3 (ipykernel)",
   "language": "python",
   "name": "python3"
  },
  "language_info": {
   "codemirror_mode": {
    "name": "ipython",
    "version": 3
   },
   "file_extension": ".py",
   "mimetype": "text/x-python",
   "name": "python",
   "nbconvert_exporter": "python",
   "pygments_lexer": "ipython3",
   "version": "3.11.4"
  }
 },
 "nbformat": 4,
 "nbformat_minor": 2
}
