{
 "cells": [
  {
   "cell_type": "code",
   "execution_count": 1,
   "metadata": {},
   "outputs": [],
   "source": [
    "import pandas as pd\n",
    "import numpy as np\n",
    "import shutil\n",
    "import os\n",
    "import sys\n",
    "from datetime import datetime as dt"
   ]
  },
  {
   "cell_type": "code",
   "execution_count": 2,
   "metadata": {},
   "outputs": [],
   "source": [
    "# read in upd_gen csv\n",
    "upd_gen_df = pd.read_csv('a_upd_generator_df.csv')\n",
    "rice_upd_gen_df = upd_gen_df.copy()"
   ]
  },
  {
   "cell_type": "code",
   "execution_count": 3,
   "metadata": {},
   "outputs": [],
   "source": [
    "# load in the RICE data\n",
    "rice_data = rice_upd_gen_df[upd_gen_df['Resource'] == 'RICE']"
   ]
  },
  {
   "cell_type": "code",
   "execution_count": 4,
   "metadata": {},
   "outputs": [],
   "source": [
    "# the data that should exist for RICE is:\n",
    "reqd_thermal_data = [\n",
    "                  'Resource',\n",
    "                #   'Zone',\n",
    "                #   'Model',\n",
    "                #   'New_Build',\n",
    "                #   'Can_Retire',\n",
    "                #   'Existing_Cap_MW',\n",
    "                #   'Max_Cap_MW',\n",
    "                #   'Min_Cap_MW',\n",
    "                  'Inv_Cost_per_MWyr',\n",
    "                  'Fixed_OM_Cost_per_MWyr',\n",
    "                  'Var_OM_Cost_per_MWh',\n",
    "                  'Heat_Rate_MMBTU_per_MWh',\n",
    "                  'Fuel',\n",
    "                  'Cap_Size',\n",
    "                  'Start_Cost_per_MW',\n",
    "                  # 'Start_Fuel_MMBTU_per_MW',\n",
    "                  'Up_Time',\n",
    "                  'Down_Time',\n",
    "                  'Ramp_Up_Percentage',\n",
    "                  'Ramp_Dn_Percentage',\n",
    "                  'Min_Power',\n",
    "                #   'Reg_Max',\n",
    "                #   'Reg_Min',\n",
    "                #   'Reg_Cost',\n",
    "                #   'Rsv_Cost',\n",
    "                #   'region',\n",
    "                #   'cluster',\n",
    "                  ]"
   ]
  },
  {
   "cell_type": "code",
   "execution_count": 5,
   "metadata": {},
   "outputs": [
    {
     "name": "stdout",
     "output_type": "stream",
     "text": [
      "Missing data columns:\n",
      " Inv_Cost_per_MWyr\n",
      "Fixed_OM_Cost_per_MWyr\n",
      "Var_OM_Cost_per_MWh\n",
      "Heat_Rate_MMBTU_per_MWh\n"
     ]
    }
   ],
   "source": [
    "# for every column in the required data, check if \n",
    "# data exists in the RICE data\n",
    "missing_data = []\n",
    "\n",
    "for col in reqd_thermal_data:\n",
    "    if rice_data[col].isnull().all():\n",
    "        missing_data.append(col)\n",
    "\n",
    "print(\"Missing data columns:\\n\", \"\\n\".join(missing_data))"
   ]
  },
  {
   "cell_type": "code",
   "execution_count": 6,
   "metadata": {},
   "outputs": [],
   "source": [
    "## develop generator costs\n",
    "'''Data from https://www.eia.gov/analysis/studies/powerplants/capitalcost/pdf/capital_cost_AEO2020.pdf'''\n",
    "\n",
    "Heat_Rate_MMBTU_per_MWh = 9.717\n",
    "\n",
    "Cap_Size = 21.4\n",
    "Min_Power=  0.5\n",
    "\n",
    "\n",
    "gen_lifetime = 20\n",
    "Inv_Cost_per_MWyr = 1810 * 1000 / gen_lifetime\n",
    "Inv_Cost_per_MWhyr = 0 * 1000 / gen_lifetime\n",
    "\n",
    "Fixed_OM_Cost_per_MWyr = 35.16 * 1000\n",
    "Var_OM_Cost_per_MWh = 5.69"
   ]
  },
  {
   "cell_type": "code",
   "execution_count": 7,
   "metadata": {},
   "outputs": [],
   "source": [
    "### additional parameters from FERC data\n",
    "# load FERC data\n",
    "# define location of ferc data\n",
    "ferc_data_loc = os.path.join('..', 'data', 'ferc_generator_parameters')\n",
    "\n",
    "# Get the sheet names\n",
    "# assume summer data\n",
    "ferc_data_path = os.path.join(ferc_data_loc, '20120724-4012_Generator_Data_Summer.xlsx')\n",
    "ferc_excel_file = pd.ExcelFile(ferc_data_path)"
   ]
  },
  {
   "cell_type": "code",
   "execution_count": 8,
   "metadata": {},
   "outputs": [],
   "source": [
    "def get_cleaned_cost_df(gen_costs_df, spec_gen_df):\n",
    "    #\n",
    "    costs = gen_costs_df[gen_costs_df['Generic Name'].isin(spec_gen_df['Generic Name'])]\n",
    "    costs.drop('Generic Name', axis=1, inplace=True)\n",
    "    # get the nameplate capacity of the generators\n",
    "    nameplate_cap = spec_gen_df['NAMEPLATE (MWs)'].values\n",
    "    # normalize the BIT_ST_coal_costs by the nameplate capacity\n",
    "    costs_normalized = costs.div(nameplate_cap, axis=0)\n",
    "    # change the titles of the columns to reflect the normalization\n",
    "    costs_normalized.columns = ['No Load Cost ($/MW)', 'Cold Start Cost ($/MW)', 'Hot Start Cost ($/MW)']\n",
    "\n",
    "    return costs_normalized"
   ]
  },
  {
   "cell_type": "code",
   "execution_count": 9,
   "metadata": {},
   "outputs": [],
   "source": [
    "sheet_names = ferc_excel_file.sheet_names\n",
    "\n",
    "# Create a dictionary to store the separated dataframes\n",
    "separated_dataframes = {}\n",
    "\n",
    "# Iterate over each sheet and store the data in the dictionary\n",
    "for sheet_name in sheet_names:\n",
    "    separated_dataframes[sheet_name] = ferc_excel_file.parse(sheet_name)\n",
    "\n",
    "# Process for Cleaning Generator Characteristics\n",
    "gen_characteristics = separated_dataframes['Generator Characteristics']\n",
    "gen_characteristics.columns = separated_dataframes['Generator Characteristics'].iloc[0]\n",
    "gen_characteristics.drop(0, inplace=True)\n",
    "gen_characteristics.reset_index(drop=True, inplace=True)\n",
    "# gen_characteristics.drop_duplicates(gen_characteristics.columns[duplicate_index], axis=1)\n",
    "gen_characteristics= gen_characteristics.loc[:,~gen_characteristics.columns.duplicated()].copy()\n",
    "\n",
    "# Process for Cleaning Generator costs\n",
    "gen_costs = separated_dataframes['Generator Offer Curve'].iloc[:,24:28]\n",
    "gen_costs.columns = gen_costs.iloc[1]\n",
    "gen_costs.drop([0,1], inplace=True)\n",
    "gen_costs.reset_index(drop=True, inplace=True)\n",
    "gen_costs.rename(columns={'1': 'index'}, inplace=True)\n",
    "gen_costs.rename(columns={np.nan: 'Generic Name'}, inplace=True)\n",
    "\n",
    "# the important paramaters are:\n",
    "raw_key_params = ['NAMEPLATE (MWs)','RAMP UP (MW/min)', 'RAMP DOWN (MW/min)', 'Economic Minimum (MW)', 'MIN_DOWN_TIME (hr)', 'MIN_RUN_TIME (hr)']\n",
    "\n",
    "ramp_params = ['RAMP UP (MW/min)', 'RAMP DOWN (MW/min)']\n",
    "capacity_param = ['NAMEPLATE (MWs)']\n",
    "\n",
    "# Divide each row of ramp_params by NAMEPLATE (MWs) and multiply by 60 to convert to per hour\n",
    "percent_ramp =  gen_characteristics[ramp_params].div(gen_characteristics['NAMEPLATE (MWs)'], axis=0) * 60\n",
    "gen_characteristics[ramp_params] = percent_ramp\n",
    "\n",
    "# change the name of the columns to reflect the change in units for ramping\n",
    "gen_characteristics.rename(columns={'RAMP UP (MW/min)': 'PERC RAMP UP', 'RAMP DOWN (MW/min)': 'PERC RAMP DOWN'}, inplace=True)\n",
    "\n",
    "# update key param names\n",
    "cleaned_key_params = ['NAMEPLATE (MWs)','PERC RAMP UP', 'PERC RAMP DOWN', 'Economic Minimum (MW)', 'MIN_DOWN_TIME (hr)', 'MIN_RUN_TIME (hr)']"
   ]
  },
  {
   "cell_type": "code",
   "execution_count": 10,
   "metadata": {},
   "outputs": [
    {
     "name": "stderr",
     "output_type": "stream",
     "text": [
      "C:\\Users\\ks885\\AppData\\Local\\Temp\\ipykernel_21676\\2859992910.py:4: SettingWithCopyWarning: \n",
      "A value is trying to be set on a copy of a slice from a DataFrame\n",
      "\n",
      "See the caveats in the documentation: https://pandas.pydata.org/pandas-docs/stable/user_guide/indexing.html#returning-a-view-versus-a-copy\n",
      "  costs.drop('Generic Name', axis=1, inplace=True)\n"
     ]
    }
   ],
   "source": [
    "# assume fuel is DFO\n",
    "fuel_id = 'DFO'\n",
    "Fuel = fuel_id\n",
    "# assume prime mover is GT\n",
    "prime_mover = 'GT'\n",
    "\n",
    "rice = gen_characteristics[(gen_characteristics['Energy_Source_1 (Fuel)'] == fuel_id) \n",
    "                                & (gen_characteristics['PRIMEMOVER'] == prime_mover)]\n",
    "\n",
    "cleaned_cost_df = get_cleaned_cost_df(gen_costs, rice)\n",
    "mean_costs = cleaned_cost_df.mean()\n",
    "\n",
    "\n",
    "## develop generator parameters\n",
    "Start_Cost_per_MW = mean_costs.mean()\n",
    "\n",
    "# parameters \n",
    "Ramp_Up_Percentage = rice['PERC RAMP UP'].mean()\n",
    "Ramp_Dn_Percentage =  rice['PERC RAMP DOWN'].mean()\n",
    "\n",
    "\n",
    "Down_Time = rice['MIN_DOWN_TIME (hr)'].min()\n",
    "Up_Time = rice['MIN_RUN_TIME (hr)'].min()"
   ]
  },
  {
   "cell_type": "code",
   "execution_count": 11,
   "metadata": {},
   "outputs": [],
   "source": [
    "# update Rice data in the upd_gen_df\n",
    "rice_upd_gen_df.loc[rice_upd_gen_df['Resource'] == 'RICE', [\n",
    "    'Inv_Cost_per_MWyr', 'Fixed_OM_Cost_per_MWyr', 'Var_OM_Cost_per_MWh', \n",
    "    'Heat_Rate_MMBTU_per_MWh', 'Cap_Size', 'Start_Cost_per_MW', \n",
    "    'Up_Time', 'Down_Time', 'Ramp_Up_Percentage', 'Ramp_Dn_Percentage', \n",
    "    'Min_Power', 'Fuel'\n",
    "]] = [\n",
    "    Inv_Cost_per_MWyr, Fixed_OM_Cost_per_MWyr, Var_OM_Cost_per_MWh, \n",
    "    Heat_Rate_MMBTU_per_MWh, Cap_Size, Start_Cost_per_MW, \n",
    "    Up_Time, Down_Time, Ramp_Up_Percentage, Ramp_Dn_Percentage, \n",
    "    Min_Power, Fuel\n",
    "]"
   ]
  },
  {
   "cell_type": "code",
   "execution_count": 12,
   "metadata": {},
   "outputs": [
    {
     "name": "stdout",
     "output_type": "stream",
     "text": [
      "Missing data columns:\n",
      " Inv_Cost_per_MWyr\n",
      "Fixed_OM_Cost_per_MWyr\n",
      "Var_OM_Cost_per_MWh\n",
      "Heat_Rate_MMBTU_per_MWh\n"
     ]
    }
   ],
   "source": [
    "# double check no missing data\n",
    "upd_rice_data = upd_gen_df.loc[upd_gen_df['Resource'] == 'RICE']\n",
    "\n",
    "# for every column in the required data, check if \n",
    "# data exists in the RICE data\n",
    "missing_data = []\n",
    "\n",
    "for col in reqd_thermal_data:\n",
    "    if upd_rice_data[col].isnull().all():\n",
    "        missing_data.append(col)\n",
    "\n",
    "print(\"Missing data columns:\\n\", \"\\n\".join(missing_data))"
   ]
  },
  {
   "cell_type": "code",
   "execution_count": 13,
   "metadata": {},
   "outputs": [],
   "source": [
    "# save updated data to csv\n",
    "rice_upd_gen_df.to_csv('a_upd_generator_df.csv', index=False)"
   ]
  }
 ],
 "metadata": {
  "kernelspec": {
   "display_name": "base",
   "language": "python",
   "name": "python3"
  },
  "language_info": {
   "codemirror_mode": {
    "name": "ipython",
    "version": 3
   },
   "file_extension": ".py",
   "mimetype": "text/x-python",
   "name": "python",
   "nbconvert_exporter": "python",
   "pygments_lexer": "ipython3",
   "version": "3.11.7"
  }
 },
 "nbformat": 4,
 "nbformat_minor": 2
}
