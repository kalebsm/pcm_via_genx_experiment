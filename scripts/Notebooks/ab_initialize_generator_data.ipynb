{
 "cells": [
  {
   "cell_type": "code",
   "execution_count": 41,
   "metadata": {},
   "outputs": [],
   "source": [
    "import pandas as pd\n",
    "import numpy as np\n",
    "import shutil\n",
    "import os\n",
    "import sys\n",
    "from datetime import datetime as dt"
   ]
  },
  {
   "cell_type": "code",
   "execution_count": 42,
   "metadata": {},
   "outputs": [],
   "source": [
    "# define location of cost assumptions\n",
    "generator_assumptions_path = os.path.join('..', 'data', 'cases')"
   ]
  },
  {
   "cell_type": "code",
   "execution_count": 43,
   "metadata": {},
   "outputs": [],
   "source": [
    "# Get the list of all files in the generator_assumptions_path directory\n",
    "case_names_list = []\n",
    "\n",
    "unique_gen_names = set()\n",
    "\n",
    "for csv_name in os.listdir(generator_assumptions_path):\n",
    "    # save xlsx path\n",
    "    csv_path = os.path.join(generator_assumptions_path, csv_name)\n",
    "    if os.path.isfile(csv_path):\n",
    "        case_name = csv_name.replace('.xlsx', '')\n",
    "        case_names_list.append(case_name)\n",
    "\n",
    "        # for every case, read the generator assumptions file and get a list of all unique 'Technical Name'\n",
    "        df = pd.read_excel(csv_path)\n",
    "        if 'Technical Name' in df.columns:\n",
    "            unique_gen_names.update(df['Technical Name'].unique())\n",
    "\n",
    "\n",
    "# # sort names by alphabetical order\n",
    "sorted_unique_gen_names = sorted(list(unique_gen_names))\n"
   ]
  },
  {
   "cell_type": "code",
   "execution_count": 44,
   "metadata": {},
   "outputs": [
    {
     "name": "stdout",
     "output_type": "stream",
     "text": [
      "['10_Hr_BESS', '10_Hr_BESS_Fuelx2', '2_Hr_BESS', '2_Hr_BESS_Fuelx2',\n",
      "'4_Hr_BESS', '4_Hr_BESS_Fuelx2', '4_Hr_BESS_Fuelx3',\n",
      "'4_Hr_BESS_Fuelx4', '6_Hr_BESS', '6_Hr_BESS_Fuelx2', '8_Hr_BESS',\n",
      "'8_Hr_BESS_Fuelx2', 'Thermal_Case']\n",
      "{'PBR-HTGR', 'Land-Based Wind - Class 1 - Technology 1', 'Utility-\n",
      "Scale Battery Storage - 8Hr', 'Microreactor', 'Coal-new', 'HTGR',\n",
      "'Utility-Scale Battery Storage - 2Hr', 'Utility-Scale Battery Storage\n",
      "- 6Hr', 'NG Combustion Turbine (F-Frame)', 'Utility-Scale Battery\n",
      "Storage - 10Hr', 'NG 2-on-1 Combined Cycle (F-Frame)', 'RICE',\n",
      "'Utility PV - Class 1', 'NG 2-on-1 Combined Cycle (H-Frame) 95% CCS',\n",
      "'Utility-Scale Battery Storage - 4Hr', 'iPWR_Pack'}\n"
     ]
    }
   ],
   "source": [
    "import textwrap\n",
    "\n",
    "wrapped_case_names_list = textwrap.fill(str(case_names_list), width=70)\n",
    "wrapped_unique_gen_names = textwrap.fill(str(unique_gen_names), width=70)\n",
    "\n",
    "print(wrapped_case_names_list)\n",
    "print(wrapped_unique_gen_names)"
   ]
  },
  {
   "cell_type": "code",
   "execution_count": 45,
   "metadata": {},
   "outputs": [],
   "source": [
    "num_unique_gen_names = len(unique_gen_names)"
   ]
  },
  {
   "cell_type": "code",
   "execution_count": 46,
   "metadata": {},
   "outputs": [],
   "source": [
    "gen_parameter_names = [\n",
    "    \"Resource\",\n",
    "    \"Model\",\n",
    "    \"New_Build\",\n",
    "    \"Can_Retire\",\n",
    "    \"Zone\",\n",
    "    \"THERM\",\n",
    "    \"MUST_RUN\",\n",
    "    \"STOR\",\n",
    "    \"FLEX\",\n",
    "    \"HYDRO\",\n",
    "    \"VRE\",\n",
    "    \"SOLAR\",\n",
    "    \"WIND\",\n",
    "    \"Num_VRE_Bins\",\n",
    "    \"Existing_Cap_MW\",\n",
    "    \"Existing_Cap_MWh\",\n",
    "    \"Existing_Charge_Cap_MW\",\n",
    "    \"Max_Cap_MW\",\n",
    "    \"Max_Cap_MWh\",\n",
    "    \"Min_Charge_Cap_MW\",\n",
    "    \"Min_Cap_MW\",\n",
    "    \"Min_Cap_MWh\",\n",
    "    \"Min_Charge_Cap_MW\",\n",
    "    \"Inv_Cost_per_MWyr\", \n",
    "    \"Inv_Cost_per_MWhyr\", \n",
    "    \"Inv_Cost_Charge_per_MWyr\", \n",
    "    \"Fixed_OM_Cost_per_MWyr\", \n",
    "    \"Fixed_OM_Cost_per_MWhyr\", \n",
    "    \"Fixed_OM_Cost_Charge_per_MWyr\", \n",
    "    \"Var_OM_Cost_per_MWh\", \n",
    "    \"Var_OM_Cost_per_MWh_In\", \n",
    "    \"Heat_Rate_MMBTU_per_MWh\", \n",
    "    \"Fuel\", \n",
    "    \"Cap_Size\", \n",
    "    \"Start_Cost_per_MW\",  \n",
    "    \"Start_Fuel_MMBTU_per_MW\", \n",
    "    \"Up_Time\", \n",
    "    \"Down_Time\", \n",
    "    \"Ramp_Up_Percentage\", \n",
    "    \"Ramp_Dn_Percentage\", \n",
    "    \"Hydro_Energy_to_Power_Ratio\", \n",
    "    \"Min_Power\", \n",
    "    \"Self_Disch\", \n",
    "    \"Eff_Up\", \n",
    "    \"Eff_Down\", \n",
    "    \"Min_Duration\", \n",
    "    \"Max_Duration\", \n",
    "    \"Max_Flexible_Demand_Advance\", \n",
    "    \"Max_Flexible_Demand_Delay\", \n",
    "    \"Flexible_Demand_Energy_Eff\", \n",
    "    \"Reg_Max\", \n",
    "    \"Rsv_Max\",  \n",
    "    \"Reg_Min\",\n",
    "    \"Reg_Cost\", \n",
    "    \"Rsv_Cost\", \n",
    "    \"MinCapTag\", \n",
    "    \"MinCapTag_1\", \n",
    "    \"MinCapTag_2\", \n",
    "    \"MinCapTag_3\", \n",
    "    \"MGA\", \n",
    "    \"Resource_Type\", \n",
    "    \"CapRes_1\", \n",
    "    \"ESR_1\", \n",
    "    \"ESR_2\", \n",
    "    \"region\", \n",
    "    \"cluster\", \n",
    "    \"LDS\",\n",
    "]\n"
   ]
  },
  {
   "cell_type": "code",
   "execution_count": 47,
   "metadata": {},
   "outputs": [
    {
     "name": "stdout",
     "output_type": "stream",
     "text": [
      "['Resource', 'Model', 'New_Build', 'Can_Retire', 'Zone', 'THERM',\n",
      "'MUST_RUN', 'STOR', 'FLEX', 'HYDRO', 'VRE', 'SOLAR', 'WIND',\n",
      "'Num_VRE_Bins', 'Existing_Cap_MW', 'Existing_Cap_MWh',\n",
      "'Existing_Charge_Cap_MW', 'Max_Cap_MW', 'Max_Cap_MWh',\n",
      "'Min_Charge_Cap_MW', 'Min_Cap_MW', 'Min_Cap_MWh', 'Min_Charge_Cap_MW',\n",
      "'Inv_Cost_per_MWyr', 'Inv_Cost_per_MWhyr', 'Inv_Cost_Charge_per_MWyr',\n",
      "'Fixed_OM_Cost_per_MWyr', 'Fixed_OM_Cost_per_MWhyr',\n",
      "'Fixed_OM_Cost_Charge_per_MWyr', 'Var_OM_Cost_per_MWh',\n",
      "'Var_OM_Cost_per_MWh_In', 'Heat_Rate_MMBTU_per_MWh', 'Fuel',\n",
      "'Cap_Size', 'Start_Cost_per_MW', 'Start_Fuel_MMBTU_per_MW', 'Up_Time',\n",
      "'Down_Time', 'Ramp_Up_Percentage', 'Ramp_Dn_Percentage',\n",
      "'Hydro_Energy_to_Power_Ratio', 'Min_Power', 'Self_Disch', 'Eff_Up',\n",
      "'Eff_Down', 'Min_Duration', 'Max_Duration',\n",
      "'Max_Flexible_Demand_Advance', 'Max_Flexible_Demand_Delay',\n",
      "'Flexible_Demand_Energy_Eff', 'Reg_Max', 'Rsv_Max', 'Reg_Min',\n",
      "'Reg_Cost', 'Rsv_Cost', 'MinCapTag', 'MinCapTag_1', 'MinCapTag_2',\n",
      "'MinCapTag_3', 'MGA', 'Resource_Type', 'CapRes_1', 'ESR_1', 'ESR_2',\n",
      "'region', 'cluster', 'LDS']\n"
     ]
    }
   ],
   "source": [
    "import textwrap\n",
    "\n",
    "wrapped_gen_parameter_names = textwrap.fill(str(gen_parameter_names), width=70)\n",
    "print(wrapped_gen_parameter_names)"
   ]
  },
  {
   "cell_type": "code",
   "execution_count": 48,
   "metadata": {},
   "outputs": [
    {
     "data": {
      "text/plain": [
       "{'Coal-new',\n",
       " 'HTGR',\n",
       " 'Land-Based Wind - Class 1 - Technology 1',\n",
       " 'Microreactor',\n",
       " 'NG 2-on-1 Combined Cycle (F-Frame)',\n",
       " 'NG 2-on-1 Combined Cycle (H-Frame) 95% CCS',\n",
       " 'NG Combustion Turbine (F-Frame)',\n",
       " 'PBR-HTGR',\n",
       " 'RICE',\n",
       " 'Utility PV - Class 1',\n",
       " 'Utility-Scale Battery Storage - 10Hr',\n",
       " 'Utility-Scale Battery Storage - 2Hr',\n",
       " 'Utility-Scale Battery Storage - 4Hr',\n",
       " 'Utility-Scale Battery Storage - 6Hr',\n",
       " 'Utility-Scale Battery Storage - 8Hr',\n",
       " 'iPWR_Pack'}"
      ]
     },
     "execution_count": 48,
     "metadata": {},
     "output_type": "execute_result"
    }
   ],
   "source": [
    "unique_gen_names"
   ]
  },
  {
   "cell_type": "code",
   "execution_count": 49,
   "metadata": {},
   "outputs": [],
   "source": [
    "# Initialize a dataframe with indices labeled 1 through to the number of gen names and parameters as columns\n",
    "gen_df = pd.DataFrame(index=range(1, len(unique_gen_names) + 1), columns=gen_parameter_names)\n",
    "gen_df['Resource'] = sorted(list(unique_gen_names))\n",
    "\n",
    "# print dataframe to csv\n",
    "gen_df.to_csv('a_initialized_generator_df.csv', index=False)\n",
    "\n",
    "# print a updatable verison of dataframe\n",
    "gen_df.to_csv('a_upd_generator_df.csv', index=True)"
   ]
  },
  {
   "cell_type": "code",
   "execution_count": 50,
   "metadata": {},
   "outputs": [
    {
     "name": "stdout",
     "output_type": "stream",
     "text": [
      "                                      Resource Model New_Build Can_Retire  \\\n",
      "1                                     Coal-new   NaN       NaN        NaN   \n",
      "2                                         HTGR   NaN       NaN        NaN   \n",
      "3     Land-Based Wind - Class 1 - Technology 1   NaN       NaN        NaN   \n",
      "4                                 Microreactor   NaN       NaN        NaN   \n",
      "5           NG 2-on-1 Combined Cycle (F-Frame)   NaN       NaN        NaN   \n",
      "6   NG 2-on-1 Combined Cycle (H-Frame) 95% CCS   NaN       NaN        NaN   \n",
      "7              NG Combustion Turbine (F-Frame)   NaN       NaN        NaN   \n",
      "8                                     PBR-HTGR   NaN       NaN        NaN   \n",
      "9                                         RICE   NaN       NaN        NaN   \n",
      "10                        Utility PV - Class 1   NaN       NaN        NaN   \n",
      "11        Utility-Scale Battery Storage - 10Hr   NaN       NaN        NaN   \n",
      "12         Utility-Scale Battery Storage - 2Hr   NaN       NaN        NaN   \n",
      "13         Utility-Scale Battery Storage - 4Hr   NaN       NaN        NaN   \n",
      "14         Utility-Scale Battery Storage - 6Hr   NaN       NaN        NaN   \n",
      "15         Utility-Scale Battery Storage - 8Hr   NaN       NaN        NaN   \n",
      "16                                   iPWR_Pack   NaN       NaN        NaN   \n",
      "\n",
      "   Zone THERM MUST_RUN STOR FLEX HYDRO  ... MinCapTag_2 MinCapTag_3  MGA  \\\n",
      "1   NaN   NaN      NaN  NaN  NaN   NaN  ...         NaN         NaN  NaN   \n",
      "2   NaN   NaN      NaN  NaN  NaN   NaN  ...         NaN         NaN  NaN   \n",
      "3   NaN   NaN      NaN  NaN  NaN   NaN  ...         NaN         NaN  NaN   \n",
      "4   NaN   NaN      NaN  NaN  NaN   NaN  ...         NaN         NaN  NaN   \n",
      "5   NaN   NaN      NaN  NaN  NaN   NaN  ...         NaN         NaN  NaN   \n",
      "6   NaN   NaN      NaN  NaN  NaN   NaN  ...         NaN         NaN  NaN   \n",
      "7   NaN   NaN      NaN  NaN  NaN   NaN  ...         NaN         NaN  NaN   \n",
      "8   NaN   NaN      NaN  NaN  NaN   NaN  ...         NaN         NaN  NaN   \n",
      "9   NaN   NaN      NaN  NaN  NaN   NaN  ...         NaN         NaN  NaN   \n",
      "10  NaN   NaN      NaN  NaN  NaN   NaN  ...         NaN         NaN  NaN   \n",
      "11  NaN   NaN      NaN  NaN  NaN   NaN  ...         NaN         NaN  NaN   \n",
      "12  NaN   NaN      NaN  NaN  NaN   NaN  ...         NaN         NaN  NaN   \n",
      "13  NaN   NaN      NaN  NaN  NaN   NaN  ...         NaN         NaN  NaN   \n",
      "14  NaN   NaN      NaN  NaN  NaN   NaN  ...         NaN         NaN  NaN   \n",
      "15  NaN   NaN      NaN  NaN  NaN   NaN  ...         NaN         NaN  NaN   \n",
      "16  NaN   NaN      NaN  NaN  NaN   NaN  ...         NaN         NaN  NaN   \n",
      "\n",
      "   Resource_Type CapRes_1 ESR_1 ESR_2 region cluster  LDS  \n",
      "1            NaN      NaN   NaN   NaN    NaN     NaN  NaN  \n",
      "2            NaN      NaN   NaN   NaN    NaN     NaN  NaN  \n",
      "3            NaN      NaN   NaN   NaN    NaN     NaN  NaN  \n",
      "4            NaN      NaN   NaN   NaN    NaN     NaN  NaN  \n",
      "5            NaN      NaN   NaN   NaN    NaN     NaN  NaN  \n",
      "6            NaN      NaN   NaN   NaN    NaN     NaN  NaN  \n",
      "7            NaN      NaN   NaN   NaN    NaN     NaN  NaN  \n",
      "8            NaN      NaN   NaN   NaN    NaN     NaN  NaN  \n",
      "9            NaN      NaN   NaN   NaN    NaN     NaN  NaN  \n",
      "10           NaN      NaN   NaN   NaN    NaN     NaN  NaN  \n",
      "11           NaN      NaN   NaN   NaN    NaN     NaN  NaN  \n",
      "12           NaN      NaN   NaN   NaN    NaN     NaN  NaN  \n",
      "13           NaN      NaN   NaN   NaN    NaN     NaN  NaN  \n",
      "14           NaN      NaN   NaN   NaN    NaN     NaN  NaN  \n",
      "15           NaN      NaN   NaN   NaN    NaN     NaN  NaN  \n",
      "16           NaN      NaN   NaN   NaN    NaN     NaN  NaN  \n",
      "\n",
      "[16 rows x 67 columns]\n"
     ]
    }
   ],
   "source": [
    "print(gen_df)"
   ]
  }
 ],
 "metadata": {
  "kernelspec": {
   "display_name": "base",
   "language": "python",
   "name": "python3"
  },
  "language_info": {
   "codemirror_mode": {
    "name": "ipython",
    "version": 3
   },
   "file_extension": ".py",
   "mimetype": "text/x-python",
   "name": "python",
   "nbconvert_exporter": "python",
   "pygments_lexer": "ipython3",
   "version": "3.11.7"
  }
 },
 "nbformat": 4,
 "nbformat_minor": 2
}
