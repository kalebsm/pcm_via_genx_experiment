{
 "cells": [
  {
   "cell_type": "code",
   "execution_count": 1,
   "metadata": {},
   "outputs": [],
   "source": [
    "import pandas as pd\n",
    "import numpy as np\n",
    "import os"
   ]
  },
  {
   "cell_type": "code",
   "execution_count": 2,
   "metadata": {},
   "outputs": [
    {
     "name": "stdout",
     "output_type": "stream",
     "text": [
      "['10_Hr_BESS', '10_Hr_BESS_Fuelx2', '2_Hr_BESS', '2_Hr_BESS_Fuelx2', '4_Hr_BESS', '4_Hr_BESS_Fuelx2', '4_Hr_BESS_Fuelx3', '4_Hr_BESS_Fuelx4', '6_Hr_BESS', '6_Hr_BESS_Fuelx2', '8_Hr_BESS', '8_Hr_BESS_Fuelx2', 'Thermal_Case']\n"
     ]
    }
   ],
   "source": [
    "# define location of cost assumptions\n",
    "generator_assumptions_path = os.path.join('..', 'data', 'cases')\n",
    "# define path locations for CEM and LACs where inputs are going\n",
    "genx_cem_loc = os.path.join('..', 'GenX.jl', 'research_systems')\n",
    "spcm_lac_loc = os.path.join('..', 'SPCM', 'research_systems')\n",
    "\n",
    "# Get the list of all files in the generator_assumptions_path directory\n",
    "case_names_list = []\n",
    "for xlsx_name in os.listdir(generator_assumptions_path):\n",
    "    if os.path.isfile(os.path.join(generator_assumptions_path, xlsx_name)):\n",
    "        case_name = xlsx_name.replace('.xlsx', '')\n",
    "        case_names_list.append(case_name)\n",
    "print(case_names_list)"
   ]
  },
  {
   "cell_type": "code",
   "execution_count": 3,
   "metadata": {},
   "outputs": [],
   "source": [
    "import yaml\n",
    "\n",
    "data = {\n",
    "    'Feasib_Tol': 1.0e-05,          \n",
    "    'Optimal_Tol': 1e-5,            \n",
    "    'TimeLimit': 110000,            \n",
    "    'Pre_Solve': 1,                \n",
    "    'Method': 1,                    \n",
    "\n",
    "    'MIPGap': 1e-3,                  \n",
    "    'BarConvTol': 1.0e-08,         \n",
    "    'NumericFocus': 0,              \n",
    "    'Crossover': -1,                \n",
    "    'PreDual': 0,                    \n",
    "    'AggFill': 10,                  \n",
    "}\n",
    "\n",
    "# // with open('config.yml', 'w') as file:\n",
    "# //     yaml.dump(data, file, default_flow_style=False)"
   ]
  },
  {
   "cell_type": "code",
   "execution_count": 4,
   "metadata": {},
   "outputs": [],
   "source": [
    "for case_name in case_names_list:\n",
    "# for case_name in case_names_list[0:1]:\n",
    "    # load cem and lac paths\n",
    "    genx_cem_settings_path = os.path.join(genx_cem_loc, case_name, 'settings')\n",
    "    spcm_lac_settings_path = os.path.join(spcm_lac_loc, case_name, 'settings')\n",
    "\n",
    "    with open(os.path.join(genx_cem_settings_path, 'gurobi_settings.yml'), 'w') as file:\n",
    "        yaml.dump(data, file, default_flow_style=False)\n",
    "    \n",
    "    with open(os.path.join(spcm_lac_settings_path, 'gurobi_settings.yml'), 'w') as file:\n",
    "        yaml.dump(data, file, default_flow_style=False)\n",
    "\n",
    "\n"
   ]
  }
 ],
 "metadata": {
  "kernelspec": {
   "display_name": "base",
   "language": "python",
   "name": "python3"
  },
  "language_info": {
   "codemirror_mode": {
    "name": "ipython",
    "version": 3
   },
   "file_extension": ".py",
   "mimetype": "text/x-python",
   "name": "python",
   "nbconvert_exporter": "python",
   "pygments_lexer": "ipython3",
   "version": "3.11.7"
  }
 },
 "nbformat": 4,
 "nbformat_minor": 2
}
