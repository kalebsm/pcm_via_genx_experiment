{
 "cells": [
  {
   "cell_type": "code",
   "execution_count": 1,
   "metadata": {},
   "outputs": [],
   "source": [
    "import pandas as pd\n",
    "import numpy as np\n",
    "import os"
   ]
  },
  {
   "cell_type": "code",
   "execution_count": 2,
   "metadata": {},
   "outputs": [
    {
     "name": "stdout",
     "output_type": "stream",
     "text": [
      "['10_Hr_BESS', '10_Hr_BESS_Fuelx2', '2_Hr_BESS', '2_Hr_BESS_Fuelx2', '4_Hr_BESS', '4_Hr_BESS_Fuelx2', '4_Hr_BESS_Fuelx3', '4_Hr_BESS_Fuelx4', '6_Hr_BESS', '6_Hr_BESS_Fuelx2', '8_Hr_BESS', '8_Hr_BESS_Fuelx2', 'Thermal_Case']\n"
     ]
    }
   ],
   "source": [
    "# define location of cost assumptions\n",
    "generator_assumptions_path = os.path.join('..', 'data', 'cases')\n",
    "# define path locations for CEM and LACs where inputs are going\n",
    "genx_cem_loc = os.path.join('..', 'GenX.jl', 'research_systems')\n",
    "spcm_lac_loc = os.path.join('..', 'SPCM', 'research_systems')\n",
    "\n",
    "# Get the list of all files in the generator_assumptions_path directory\n",
    "case_names_list = []\n",
    "for xlsx_name in os.listdir(generator_assumptions_path):\n",
    "    if os.path.isfile(os.path.join(generator_assumptions_path, xlsx_name)):\n",
    "        case_name = xlsx_name.replace('.xlsx', '')\n",
    "        case_names_list.append(case_name)\n",
    "print(case_names_list)"
   ]
  },
  {
   "cell_type": "code",
   "execution_count": 3,
   "metadata": {},
   "outputs": [],
   "source": [
    "# get set of regions\n",
    "# XXX not implemented\n",
    "# regions = set of regions\n",
    "regions = 'ERCOT'\n",
    "zones = 'z1'\n",
    "\n",
    "# create dataframe for network\n",
    "network = pd.DataFrame({\n",
    "    '': [regions],\n",
    "    'Network_zones': [zones],\n",
    "    'Network_Lines': [1],\n",
    "    'Start_Zone': [1],\n",
    "    'End_Zone': [1],\n",
    "    'Line_Max_Flow_MW': [2950],\n",
    "    'transmission_path_name': ['ERCOT_to_ERCOT'],\n",
    "    'distance_mile': [123.0584],\n",
    "    'Line_Loss_Percentage': [0.012305837],\n",
    "    'Line_Max_Reinforcement_MW': [2950],\n",
    "    'Line_Reinforcement_Cost_per_MWyr': [12060],\n",
    "    'DerateCapRes_1': [0.95],\n",
    "    'CapREs_Excl_1': [0]\n",
    "})"
   ]
  },
  {
   "cell_type": "code",
   "execution_count": 4,
   "metadata": {},
   "outputs": [
    {
     "data": {
      "text/html": [
       "<div>\n",
       "<style scoped>\n",
       "    .dataframe tbody tr th:only-of-type {\n",
       "        vertical-align: middle;\n",
       "    }\n",
       "\n",
       "    .dataframe tbody tr th {\n",
       "        vertical-align: top;\n",
       "    }\n",
       "\n",
       "    .dataframe thead th {\n",
       "        text-align: right;\n",
       "    }\n",
       "</style>\n",
       "<table border=\"1\" class=\"dataframe\">\n",
       "  <thead>\n",
       "    <tr style=\"text-align: right;\">\n",
       "      <th></th>\n",
       "      <th></th>\n",
       "      <th>Network_zones</th>\n",
       "      <th>Network_Lines</th>\n",
       "      <th>Start_Zone</th>\n",
       "      <th>End_Zone</th>\n",
       "      <th>Line_Max_Flow_MW</th>\n",
       "      <th>transmission_path_name</th>\n",
       "      <th>distance_mile</th>\n",
       "      <th>Line_Loss_Percentage</th>\n",
       "      <th>Line_Max_Reinforcement_MW</th>\n",
       "      <th>Line_Reinforcement_Cost_per_MWyr</th>\n",
       "      <th>DerateCapRes_1</th>\n",
       "      <th>CapREs_Excl_1</th>\n",
       "    </tr>\n",
       "  </thead>\n",
       "  <tbody>\n",
       "    <tr>\n",
       "      <th>0</th>\n",
       "      <td>ERCOT</td>\n",
       "      <td>z1</td>\n",
       "      <td>1</td>\n",
       "      <td>1</td>\n",
       "      <td>1</td>\n",
       "      <td>2950</td>\n",
       "      <td>ERCOT_to_ERCOT</td>\n",
       "      <td>123.0584</td>\n",
       "      <td>0.012306</td>\n",
       "      <td>2950</td>\n",
       "      <td>12060</td>\n",
       "      <td>0.95</td>\n",
       "      <td>0</td>\n",
       "    </tr>\n",
       "  </tbody>\n",
       "</table>\n",
       "</div>"
      ],
      "text/plain": [
       "         Network_zones  Network_Lines  Start_Zone  End_Zone  Line_Max_Flow_MW  \\\n",
       "0  ERCOT            z1              1           1         1              2950   \n",
       "\n",
       "  transmission_path_name  distance_mile  Line_Loss_Percentage  \\\n",
       "0         ERCOT_to_ERCOT       123.0584              0.012306   \n",
       "\n",
       "   Line_Max_Reinforcement_MW  Line_Reinforcement_Cost_per_MWyr  \\\n",
       "0                       2950                             12060   \n",
       "\n",
       "   DerateCapRes_1  CapREs_Excl_1  \n",
       "0            0.95              0  "
      ]
     },
     "execution_count": 4,
     "metadata": {},
     "output_type": "execute_result"
    }
   ],
   "source": [
    "network"
   ]
  },
  {
   "cell_type": "code",
   "execution_count": 5,
   "metadata": {},
   "outputs": [],
   "source": [
    "for case_name in case_names_list:\n",
    "# for case_name in case_names_list[0:1]:\n",
    "    # load cem and lac paths\n",
    "    genx_cem_system_path = os.path.join(genx_cem_loc, case_name, 'system')\n",
    "    spcm_lac_system_path = os.path.join(spcm_lac_loc, case_name, 'system')\n",
    "\n",
    "        # save resource_min_caps to genx_cem_resources_path\n",
    "    network.to_csv(os.path.join(genx_cem_system_path, \\\n",
    "                            'Network.csv'), index=False)\n",
    "    network.to_csv(os.path.join(spcm_lac_system_path, \\\n",
    "                            'Network.csv'), index=False)"
   ]
  }
 ],
 "metadata": {
  "kernelspec": {
   "display_name": "base",
   "language": "python",
   "name": "python3"
  },
  "language_info": {
   "codemirror_mode": {
    "name": "ipython",
    "version": 3
   },
   "file_extension": ".py",
   "mimetype": "text/x-python",
   "name": "python",
   "nbconvert_exporter": "python",
   "pygments_lexer": "ipython3",
   "version": "3.11.7"
  }
 },
 "nbformat": 4,
 "nbformat_minor": 2
}
