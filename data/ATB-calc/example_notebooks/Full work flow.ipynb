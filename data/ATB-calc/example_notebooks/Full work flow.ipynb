{
 "cells": [
  {
   "cell_type": "markdown",
   "id": "dd65dfae",
   "metadata": {},
   "source": [
    "Copyright (c) Alliance for Sustainable Energy, LLC and Skye Analytics, Inc. See also https://github.com/NREL/ATB-calc/blob/main/LICENSE"
   ]
  },
  {
   "attachments": {},
   "cell_type": "markdown",
   "id": "ad567ffb",
   "metadata": {},
   "source": [
    "# Run ATB LCOE pipeline\n",
    "This Jupyter notebook is an example of how to run the ATB data processing pipeline and extract data from the ATB electricity data workbook. The path to the workbook on your computer needs to be updated as indicated below. The notebook will otherwise run as-is. There is commented-out code in several locations showing alternative ways to run the pipeline. "
   ]
  },
  {
   "cell_type": "code",
   "execution_count": 1,
   "id": "fbeddc7b",
   "metadata": {},
   "outputs": [
    {
     "data": {
      "text/html": [
       "<style>.container { width:90% !important; }</style>"
      ],
      "text/plain": [
       "<IPython.core.display.HTML object>"
      ]
     },
     "metadata": {},
     "output_type": "display_data"
    }
   ],
   "source": [
    "import os\n",
    "import sys\n",
    "import pandas as pd\n",
    "from datetime import datetime as dt\n",
    "\n",
    "sys.path.insert(0, os.path.dirname(os.getcwd()))\n",
    "from lcoe_calculator.process_all import ProcessAll\n",
    "from lcoe_calculator.tech_processors import (ALL_TECHS,\n",
    "    FixedOffShoreWindProc, FloatingOffShoreWindProc, LandBasedWindProc, DistributedWindProc,\n",
    "    UtilityPvProc, CommPvProc, ResPvProc, UtilityPvPlusBatteryProc,\n",
    "    CspProc, GeothermalProc, HydropowerProc, PumpedStorageHydroProc,\n",
    "    PumpedStorageHydroOneResProc,\n",
    "    CoalProc, NaturalGasProc, NuclearProc, BiopowerProc,\n",
    "    UtilityBatteryProc, CommBatteryProc, ResBatteryProc,\n",
    "    CoalRetrofitProc, NaturalGasRetrofitProc, NaturalGasFuelCellProc)\n",
    "\n",
    "from IPython.display import display, HTML\n",
    "display(HTML(\"<style>.container { width:90% !important; }</style>\"))"
   ]
  },
  {
   "attachments": {},
   "cell_type": "markdown",
   "id": "69d9294d",
   "metadata": {},
   "source": [
    "## Load the ATB data workbook & prepare for processing\n",
    "Update the path for `atb_electricity_workbook` to point to your copy of the ATB electricity data\n",
    "workbook downloaded from the [ATB website](https://atb.nrel.gov). \n",
    "\n",
    "The pipeline can be run for one, several, or all ATB electricity technologies. \n"
   ]
  },
  {
   "cell_type": "code",
   "execution_count": 11,
   "id": "fe2dd335",
   "metadata": {
    "scrolled": true
   },
   "outputs": [],
   "source": [
    "# The below line MUST be updated to reflect the location of the ATB workbook on your computer\n",
    "# atb_electricity_workbook = 'C:/Users/ks885/OneDrive/Documents/CORNELL CEE PhD/RESEARCH/00_My Work/spcm_genx_experiment/data/2024 v2 Annual Technology Baseline Workbook Errata 7-19-2024.xlsx'\n",
    "atb_electricity_workbook = 'C:/Users/ks885/OneDrive/Documents/CORNELL CEE PhD/RESEARCH/00_My Work/spcm_genx_experiment/data/2024 v1 Annual Technology Baseline Workbook Original 6-24-2024.xlsx'\n",
    "\n",
    "# atb_electricity_workbook = 'path/to/2024_v1_Workbook_06_25_24.xlsx'\n",
    "\n",
    "# ---- Comment/uncomment the below lines to process all techs or a subset of techs\n",
    "# Process all technologies\n",
    "techs = ALL_TECHS\n",
    "\n",
    "# Process a couple technologies\n",
    "techs = [LandBasedWindProc, UtilityPvProc]\n",
    "\n",
    "# Or process a single technology\n",
    "techs = LandBasedWindProc\n",
    "\n",
    "# Initiate the processor with the workbook location and desired technologies\n",
    "processor = ProcessAll(atb_electricity_workbook, techs)"
   ]
  },
  {
   "attachments": {},
   "cell_type": "markdown",
   "id": "ebba4884",
   "metadata": {},
   "source": [
    "## Run the pipeline\n",
    "Now that the processor knows where the data workbook is and which technologies we are interested in, we\n",
    "can kick it off. Depending on the number of requested technologies, this can take a couple minutes.\n",
    "Note that calculated LCOE and CAPEX is automatically compared to the values in the workbook. Not all\n",
    "technologies have LCOE and CAPEX."
   ]
  },
  {
   "cell_type": "code",
   "execution_count": 12,
   "id": "e97aabd5",
   "metadata": {
    "scrolled": true
   },
   "outputs": [
    {
     "name": "stdout",
     "output_type": "stream",
     "text": [
      "##### Processing LandbasedWind (1/1) #####\n",
      "Loading data from Land-Based Wind, for Market and 20\n"
     ]
    },
    {
     "ename": "PermissionError",
     "evalue": "[Errno 13] Permission denied: 'C:/Users/ks885/OneDrive/Documents/CORNELL CEE PhD/RESEARCH/00_My Work/spcm_genx_experiment/data/2024 v1 Annual Technology Baseline Workbook Original 6-24-2024.xlsx'",
     "output_type": "error",
     "traceback": [
      "\u001b[1;31m---------------------------------------------------------------------------\u001b[0m",
      "\u001b[1;31mPermissionError\u001b[0m                           Traceback (most recent call last)",
      "Cell \u001b[1;32mIn[12], line 2\u001b[0m\n\u001b[0;32m      1\u001b[0m start \u001b[38;5;241m=\u001b[39m dt\u001b[38;5;241m.\u001b[39mnow()\n\u001b[1;32m----> 2\u001b[0m \u001b[43mprocessor\u001b[49m\u001b[38;5;241;43m.\u001b[39;49m\u001b[43mprocess\u001b[49m\u001b[43m(\u001b[49m\u001b[43m)\u001b[49m\n\u001b[0;32m      3\u001b[0m \u001b[38;5;28mprint\u001b[39m(\u001b[38;5;124m'\u001b[39m\u001b[38;5;124mProcessing completed in \u001b[39m\u001b[38;5;124m'\u001b[39m, dt\u001b[38;5;241m.\u001b[39mnow() \u001b[38;5;241m-\u001b[39m start)\n",
      "File \u001b[1;32mc:\\Users\\ks885\\OneDrive\\Documents\\CORNELL CEE PhD\\RESEARCH\\00_My Work\\spcm_genx_experiment\\data\\ATB-calc\\lcoe_calculator\\process_all.py:105\u001b[0m, in \u001b[0;36mProcessAll.process\u001b[1;34m(self, test_capex, test_lcoe)\u001b[0m\n\u001b[0;32m    101\u001b[0m                 proc \u001b[38;5;241m=\u001b[39m \u001b[38;5;28mself\u001b[39m\u001b[38;5;241m.\u001b[39m_run_tech(\n\u001b[0;32m    102\u001b[0m                     Tech, crp, case, tc, test_capex, test_lcoe\n\u001b[0;32m    103\u001b[0m                 )\n\u001b[0;32m    104\u001b[0m         \u001b[38;5;28;01melse\u001b[39;00m:\n\u001b[1;32m--> 105\u001b[0m             proc \u001b[38;5;241m=\u001b[39m \u001b[38;5;28;43mself\u001b[39;49m\u001b[38;5;241;43m.\u001b[39;49m\u001b[43m_run_tech\u001b[49m\u001b[43m(\u001b[49m\n\u001b[0;32m    106\u001b[0m \u001b[43m                \u001b[49m\u001b[43mTech\u001b[49m\u001b[43m,\u001b[49m\u001b[43m \u001b[49m\u001b[43mcrp\u001b[49m\u001b[43m,\u001b[49m\u001b[43m \u001b[49m\u001b[43mcase\u001b[49m\u001b[43m,\u001b[49m\u001b[43m \u001b[49m\u001b[38;5;28;43;01mNone\u001b[39;49;00m\u001b[43m,\u001b[49m\u001b[43m \u001b[49m\u001b[43mtest_capex\u001b[49m\u001b[43m,\u001b[49m\u001b[43m \u001b[49m\u001b[43mtest_lcoe\u001b[49m\n\u001b[0;32m    107\u001b[0m \u001b[43m            \u001b[49m\u001b[43m)\u001b[49m\n\u001b[0;32m    109\u001b[0m meta \u001b[38;5;241m=\u001b[39m proc\u001b[38;5;241m.\u001b[39mget_meta_data()\n\u001b[0;32m    110\u001b[0m meta[\u001b[38;5;124m\"\u001b[39m\u001b[38;5;124mTech Name\u001b[39m\u001b[38;5;124m\"\u001b[39m] \u001b[38;5;241m=\u001b[39m Tech\u001b[38;5;241m.\u001b[39mtech_name\n",
      "File \u001b[1;32mc:\\Users\\ks885\\OneDrive\\Documents\\CORNELL CEE PhD\\RESEARCH\\00_My Work\\spcm_genx_experiment\\data\\ATB-calc\\lcoe_calculator\\process_all.py:70\u001b[0m, in \u001b[0;36mProcessAll._run_tech\u001b[1;34m(self, Tech, crp, case, tcc, test_capex, test_lcoe)\u001b[0m\n\u001b[0;32m     50\u001b[0m \u001b[38;5;28;01mdef\u001b[39;00m \u001b[38;5;21m_run_tech\u001b[39m(\n\u001b[0;32m     51\u001b[0m     \u001b[38;5;28mself\u001b[39m,\n\u001b[0;32m     52\u001b[0m     Tech: TechProcessor,\n\u001b[1;32m   (...)\u001b[0m\n\u001b[0;32m     57\u001b[0m     test_lcoe,\n\u001b[0;32m     58\u001b[0m ):\n\u001b[0;32m     59\u001b[0m \u001b[38;5;250m    \u001b[39m\u001b[38;5;124;03m\"\"\"\u001b[39;00m\n\u001b[0;32m     60\u001b[0m \u001b[38;5;124;03m    Runs the specified Tech with the specified parameters\u001b[39;00m\n\u001b[0;32m     61\u001b[0m \u001b[38;5;124;03m    @param Tech - TechProcessor to be processed\u001b[39;00m\n\u001b[1;32m   (...)\u001b[0m\n\u001b[0;32m     68\u001b[0m \u001b[38;5;124;03m    @returns TechProcessor with processed data from the other inputs\u001b[39;00m\n\u001b[0;32m     69\u001b[0m \u001b[38;5;124;03m    \"\"\"\u001b[39;00m\n\u001b[1;32m---> 70\u001b[0m     proc \u001b[38;5;241m=\u001b[39m \u001b[43mTech\u001b[49m\u001b[43m(\u001b[49m\u001b[38;5;28;43mself\u001b[39;49m\u001b[38;5;241;43m.\u001b[39;49m\u001b[43m_fname\u001b[49m\u001b[43m,\u001b[49m\u001b[43m \u001b[49m\u001b[43mcrp\u001b[49m\u001b[38;5;241;43m=\u001b[39;49m\u001b[43mcrp\u001b[49m\u001b[43m,\u001b[49m\u001b[43m \u001b[49m\u001b[43mcase\u001b[49m\u001b[38;5;241;43m=\u001b[39;49m\u001b[43mcase\u001b[49m\u001b[43m,\u001b[49m\u001b[43m \u001b[49m\u001b[43mtcc\u001b[49m\u001b[38;5;241;43m=\u001b[39;49m\u001b[43mtcc\u001b[49m\u001b[43m)\u001b[49m\n\u001b[0;32m     71\u001b[0m     proc\u001b[38;5;241m.\u001b[39mrun()\n\u001b[0;32m     73\u001b[0m     \u001b[38;5;28;01mif\u001b[39;00m test_capex:\n",
      "File \u001b[1;32mc:\\Users\\ks885\\OneDrive\\Documents\\CORNELL CEE PhD\\RESEARCH\\00_My Work\\spcm_genx_experiment\\data\\ATB-calc\\lcoe_calculator\\base_processor.py:177\u001b[0m, in \u001b[0;36mTechProcessor.__init__\u001b[1;34m(self, data_workbook_fname, case, crp, tcc, extractor)\u001b[0m\n\u001b[0;32m    174\u001b[0m \u001b[38;5;28mself\u001b[39m\u001b[38;5;241m.\u001b[39mdf_lcoe \u001b[38;5;241m=\u001b[39m \u001b[38;5;28;01mNone\u001b[39;00m  \u001b[38;5;66;03m# LCOE ($/MWh)\u001b[39;00m\n\u001b[0;32m    176\u001b[0m \u001b[38;5;28mself\u001b[39m\u001b[38;5;241m.\u001b[39m_ExtractorClass \u001b[38;5;241m=\u001b[39m extractor\n\u001b[1;32m--> 177\u001b[0m \u001b[38;5;28mself\u001b[39m\u001b[38;5;241m.\u001b[39m_extractor \u001b[38;5;241m=\u001b[39m \u001b[38;5;28;43mself\u001b[39;49m\u001b[38;5;241;43m.\u001b[39;49m\u001b[43m_extract_data\u001b[49m\u001b[43m(\u001b[49m\u001b[43m)\u001b[49m\n",
      "File \u001b[1;32mc:\\Users\\ks885\\OneDrive\\Documents\\CORNELL CEE PhD\\RESEARCH\\00_My Work\\spcm_genx_experiment\\data\\ATB-calc\\lcoe_calculator\\base_processor.py:392\u001b[0m, in \u001b[0;36mTechProcessor._extract_data\u001b[1;34m(self)\u001b[0m\n\u001b[0;32m    385\u001b[0m crp_msg \u001b[38;5;241m=\u001b[39m (\n\u001b[0;32m    386\u001b[0m     \u001b[38;5;28mself\u001b[39m\u001b[38;5;241m.\u001b[39m_requested_crp\n\u001b[0;32m    387\u001b[0m     \u001b[38;5;28;01mif\u001b[39;00m \u001b[38;5;28mself\u001b[39m\u001b[38;5;241m.\u001b[39m_requested_crp \u001b[38;5;241m!=\u001b[39m \u001b[38;5;124m\"\u001b[39m\u001b[38;5;124mTechLife\u001b[39m\u001b[38;5;124m\"\u001b[39m\n\u001b[0;32m    388\u001b[0m     \u001b[38;5;28;01melse\u001b[39;00m \u001b[38;5;124mf\u001b[39m\u001b[38;5;124m\"\u001b[39m\u001b[38;5;124mTechLife (\u001b[39m\u001b[38;5;132;01m{\u001b[39;00m\u001b[38;5;28mself\u001b[39m\u001b[38;5;241m.\u001b[39mtech_life\u001b[38;5;132;01m}\u001b[39;00m\u001b[38;5;124m)\u001b[39m\u001b[38;5;124m\"\u001b[39m\n\u001b[0;32m    389\u001b[0m )\n\u001b[0;32m    391\u001b[0m \u001b[38;5;28mprint\u001b[39m(\u001b[38;5;124mf\u001b[39m\u001b[38;5;124m\"\u001b[39m\u001b[38;5;124mLoading data from \u001b[39m\u001b[38;5;132;01m{\u001b[39;00m\u001b[38;5;28mself\u001b[39m\u001b[38;5;241m.\u001b[39msheet_name\u001b[38;5;132;01m}\u001b[39;00m\u001b[38;5;124m, for \u001b[39m\u001b[38;5;132;01m{\u001b[39;00m\u001b[38;5;28mself\u001b[39m\u001b[38;5;241m.\u001b[39m_case\u001b[38;5;132;01m}\u001b[39;00m\u001b[38;5;124m and \u001b[39m\u001b[38;5;132;01m{\u001b[39;00mcrp_msg\u001b[38;5;132;01m}\u001b[39;00m\u001b[38;5;124m\"\u001b[39m)\n\u001b[1;32m--> 392\u001b[0m extractor \u001b[38;5;241m=\u001b[39m \u001b[38;5;28;43mself\u001b[39;49m\u001b[38;5;241;43m.\u001b[39;49m\u001b[43m_ExtractorClass\u001b[49m\u001b[43m(\u001b[49m\n\u001b[0;32m    393\u001b[0m \u001b[43m    \u001b[49m\u001b[38;5;28;43mself\u001b[39;49m\u001b[38;5;241;43m.\u001b[39;49m\u001b[43m_data_workbook_fname\u001b[49m\u001b[43m,\u001b[49m\n\u001b[0;32m    394\u001b[0m \u001b[43m    \u001b[49m\u001b[38;5;28;43mself\u001b[39;49m\u001b[38;5;241;43m.\u001b[39;49m\u001b[43msheet_name\u001b[49m\u001b[43m,\u001b[49m\n\u001b[0;32m    395\u001b[0m \u001b[43m    \u001b[49m\u001b[38;5;28;43mself\u001b[39;49m\u001b[38;5;241;43m.\u001b[39;49m\u001b[43m_case\u001b[49m\u001b[43m,\u001b[49m\n\u001b[0;32m    396\u001b[0m \u001b[43m    \u001b[49m\u001b[38;5;28;43mself\u001b[39;49m\u001b[38;5;241;43m.\u001b[39;49m\u001b[43m_requested_crp\u001b[49m\u001b[43m,\u001b[49m\n\u001b[0;32m    397\u001b[0m \u001b[43m    \u001b[49m\u001b[38;5;28;43mself\u001b[39;49m\u001b[38;5;241;43m.\u001b[39;49m\u001b[43mscenarios\u001b[49m\u001b[43m,\u001b[49m\n\u001b[0;32m    398\u001b[0m \u001b[43m    \u001b[49m\u001b[38;5;28;43mself\u001b[39;49m\u001b[38;5;241;43m.\u001b[39;49m\u001b[43mbase_year\u001b[49m\u001b[43m,\u001b[49m\n\u001b[0;32m    399\u001b[0m \u001b[43m\u001b[49m\u001b[43m)\u001b[49m\n\u001b[0;32m    401\u001b[0m \u001b[38;5;28mprint\u001b[39m(\u001b[38;5;124m\"\u001b[39m\u001b[38;5;130;01m\\t\u001b[39;00m\u001b[38;5;124mLoading metrics\u001b[39m\u001b[38;5;124m\"\u001b[39m)\n\u001b[0;32m    402\u001b[0m \u001b[38;5;28;01mfor\u001b[39;00m metric, var_name \u001b[38;5;129;01min\u001b[39;00m \u001b[38;5;28mself\u001b[39m\u001b[38;5;241m.\u001b[39mmetrics:\n",
      "File \u001b[1;32mc:\\Users\\ks885\\OneDrive\\Documents\\CORNELL CEE PhD\\RESEARCH\\00_My Work\\spcm_genx_experiment\\data\\ATB-calc\\lcoe_calculator\\extractor.py:65\u001b[0m, in \u001b[0;36mExtractor.__init__\u001b[1;34m(self, data_workbook_fname, sheet_name, case, crp, scenarios, base_year)\u001b[0m\n\u001b[0;32m     62\u001b[0m sheet\u001b[38;5;241m.\u001b[39mrange(\u001b[38;5;124m\"\u001b[39m\u001b[38;5;124mE5\u001b[39m\u001b[38;5;124m\"\u001b[39m)\u001b[38;5;241m.\u001b[39mvalue \u001b[38;5;241m=\u001b[39m crp\n\u001b[0;32m     63\u001b[0m wb\u001b[38;5;241m.\u001b[39msave()\n\u001b[1;32m---> 65\u001b[0m df \u001b[38;5;241m=\u001b[39m \u001b[43mpd\u001b[49m\u001b[38;5;241;43m.\u001b[39;49m\u001b[43mread_excel\u001b[49m\u001b[43m(\u001b[49m\u001b[43mdata_workbook_fname\u001b[49m\u001b[43m,\u001b[49m\u001b[43m \u001b[49m\u001b[43msheet_name\u001b[49m\u001b[38;5;241;43m=\u001b[39;49m\u001b[43msheet_name\u001b[49m\u001b[43m)\u001b[49m\n\u001b[0;32m     66\u001b[0m df \u001b[38;5;241m=\u001b[39m df\u001b[38;5;241m.\u001b[39mreset_index()\n\u001b[0;32m     67\u001b[0m \u001b[38;5;66;03m# Give columns numerical names\u001b[39;00m\n",
      "File \u001b[1;32mc:\\Users\\ks885\\AppData\\Local\\anaconda3\\Lib\\site-packages\\pandas\\io\\excel\\_base.py:478\u001b[0m, in \u001b[0;36mread_excel\u001b[1;34m(io, sheet_name, header, names, index_col, usecols, dtype, engine, converters, true_values, false_values, skiprows, nrows, na_values, keep_default_na, na_filter, verbose, parse_dates, date_parser, date_format, thousands, decimal, comment, skipfooter, storage_options, dtype_backend)\u001b[0m\n\u001b[0;32m    476\u001b[0m \u001b[38;5;28;01mif\u001b[39;00m \u001b[38;5;129;01mnot\u001b[39;00m \u001b[38;5;28misinstance\u001b[39m(io, ExcelFile):\n\u001b[0;32m    477\u001b[0m     should_close \u001b[38;5;241m=\u001b[39m \u001b[38;5;28;01mTrue\u001b[39;00m\n\u001b[1;32m--> 478\u001b[0m     io \u001b[38;5;241m=\u001b[39m \u001b[43mExcelFile\u001b[49m\u001b[43m(\u001b[49m\u001b[43mio\u001b[49m\u001b[43m,\u001b[49m\u001b[43m \u001b[49m\u001b[43mstorage_options\u001b[49m\u001b[38;5;241;43m=\u001b[39;49m\u001b[43mstorage_options\u001b[49m\u001b[43m,\u001b[49m\u001b[43m \u001b[49m\u001b[43mengine\u001b[49m\u001b[38;5;241;43m=\u001b[39;49m\u001b[43mengine\u001b[49m\u001b[43m)\u001b[49m\n\u001b[0;32m    479\u001b[0m \u001b[38;5;28;01melif\u001b[39;00m engine \u001b[38;5;129;01mand\u001b[39;00m engine \u001b[38;5;241m!=\u001b[39m io\u001b[38;5;241m.\u001b[39mengine:\n\u001b[0;32m    480\u001b[0m     \u001b[38;5;28;01mraise\u001b[39;00m \u001b[38;5;167;01mValueError\u001b[39;00m(\n\u001b[0;32m    481\u001b[0m         \u001b[38;5;124m\"\u001b[39m\u001b[38;5;124mEngine should not be specified when passing \u001b[39m\u001b[38;5;124m\"\u001b[39m\n\u001b[0;32m    482\u001b[0m         \u001b[38;5;124m\"\u001b[39m\u001b[38;5;124man ExcelFile - ExcelFile already has the engine set\u001b[39m\u001b[38;5;124m\"\u001b[39m\n\u001b[0;32m    483\u001b[0m     )\n",
      "File \u001b[1;32mc:\\Users\\ks885\\AppData\\Local\\anaconda3\\Lib\\site-packages\\pandas\\io\\excel\\_base.py:1496\u001b[0m, in \u001b[0;36mExcelFile.__init__\u001b[1;34m(self, path_or_buffer, engine, storage_options)\u001b[0m\n\u001b[0;32m   1494\u001b[0m     ext \u001b[38;5;241m=\u001b[39m \u001b[38;5;124m\"\u001b[39m\u001b[38;5;124mxls\u001b[39m\u001b[38;5;124m\"\u001b[39m\n\u001b[0;32m   1495\u001b[0m \u001b[38;5;28;01melse\u001b[39;00m:\n\u001b[1;32m-> 1496\u001b[0m     ext \u001b[38;5;241m=\u001b[39m \u001b[43minspect_excel_format\u001b[49m\u001b[43m(\u001b[49m\n\u001b[0;32m   1497\u001b[0m \u001b[43m        \u001b[49m\u001b[43mcontent_or_path\u001b[49m\u001b[38;5;241;43m=\u001b[39;49m\u001b[43mpath_or_buffer\u001b[49m\u001b[43m,\u001b[49m\u001b[43m \u001b[49m\u001b[43mstorage_options\u001b[49m\u001b[38;5;241;43m=\u001b[39;49m\u001b[43mstorage_options\u001b[49m\n\u001b[0;32m   1498\u001b[0m \u001b[43m    \u001b[49m\u001b[43m)\u001b[49m\n\u001b[0;32m   1499\u001b[0m     \u001b[38;5;28;01mif\u001b[39;00m ext \u001b[38;5;129;01mis\u001b[39;00m \u001b[38;5;28;01mNone\u001b[39;00m:\n\u001b[0;32m   1500\u001b[0m         \u001b[38;5;28;01mraise\u001b[39;00m \u001b[38;5;167;01mValueError\u001b[39;00m(\n\u001b[0;32m   1501\u001b[0m             \u001b[38;5;124m\"\u001b[39m\u001b[38;5;124mExcel file format cannot be determined, you must specify \u001b[39m\u001b[38;5;124m\"\u001b[39m\n\u001b[0;32m   1502\u001b[0m             \u001b[38;5;124m\"\u001b[39m\u001b[38;5;124man engine manually.\u001b[39m\u001b[38;5;124m\"\u001b[39m\n\u001b[0;32m   1503\u001b[0m         )\n",
      "File \u001b[1;32mc:\\Users\\ks885\\AppData\\Local\\anaconda3\\Lib\\site-packages\\pandas\\io\\excel\\_base.py:1371\u001b[0m, in \u001b[0;36minspect_excel_format\u001b[1;34m(content_or_path, storage_options)\u001b[0m\n\u001b[0;32m   1368\u001b[0m \u001b[38;5;28;01mif\u001b[39;00m \u001b[38;5;28misinstance\u001b[39m(content_or_path, \u001b[38;5;28mbytes\u001b[39m):\n\u001b[0;32m   1369\u001b[0m     content_or_path \u001b[38;5;241m=\u001b[39m BytesIO(content_or_path)\n\u001b[1;32m-> 1371\u001b[0m \u001b[38;5;28;01mwith\u001b[39;00m \u001b[43mget_handle\u001b[49m\u001b[43m(\u001b[49m\n\u001b[0;32m   1372\u001b[0m \u001b[43m    \u001b[49m\u001b[43mcontent_or_path\u001b[49m\u001b[43m,\u001b[49m\u001b[43m \u001b[49m\u001b[38;5;124;43m\"\u001b[39;49m\u001b[38;5;124;43mrb\u001b[39;49m\u001b[38;5;124;43m\"\u001b[39;49m\u001b[43m,\u001b[49m\u001b[43m \u001b[49m\u001b[43mstorage_options\u001b[49m\u001b[38;5;241;43m=\u001b[39;49m\u001b[43mstorage_options\u001b[49m\u001b[43m,\u001b[49m\u001b[43m \u001b[49m\u001b[43mis_text\u001b[49m\u001b[38;5;241;43m=\u001b[39;49m\u001b[38;5;28;43;01mFalse\u001b[39;49;00m\n\u001b[0;32m   1373\u001b[0m \u001b[43m\u001b[49m\u001b[43m)\u001b[49m \u001b[38;5;28;01mas\u001b[39;00m handle:\n\u001b[0;32m   1374\u001b[0m     stream \u001b[38;5;241m=\u001b[39m handle\u001b[38;5;241m.\u001b[39mhandle\n\u001b[0;32m   1375\u001b[0m     stream\u001b[38;5;241m.\u001b[39mseek(\u001b[38;5;241m0\u001b[39m)\n",
      "File \u001b[1;32mc:\\Users\\ks885\\AppData\\Local\\anaconda3\\Lib\\site-packages\\pandas\\io\\common.py:868\u001b[0m, in \u001b[0;36mget_handle\u001b[1;34m(path_or_buf, mode, encoding, compression, memory_map, is_text, errors, storage_options)\u001b[0m\n\u001b[0;32m    859\u001b[0m         handle \u001b[38;5;241m=\u001b[39m \u001b[38;5;28mopen\u001b[39m(\n\u001b[0;32m    860\u001b[0m             handle,\n\u001b[0;32m    861\u001b[0m             ioargs\u001b[38;5;241m.\u001b[39mmode,\n\u001b[1;32m   (...)\u001b[0m\n\u001b[0;32m    864\u001b[0m             newline\u001b[38;5;241m=\u001b[39m\u001b[38;5;124m\"\u001b[39m\u001b[38;5;124m\"\u001b[39m,\n\u001b[0;32m    865\u001b[0m         )\n\u001b[0;32m    866\u001b[0m     \u001b[38;5;28;01melse\u001b[39;00m:\n\u001b[0;32m    867\u001b[0m         \u001b[38;5;66;03m# Binary mode\u001b[39;00m\n\u001b[1;32m--> 868\u001b[0m         handle \u001b[38;5;241m=\u001b[39m \u001b[38;5;28;43mopen\u001b[39;49m\u001b[43m(\u001b[49m\u001b[43mhandle\u001b[49m\u001b[43m,\u001b[49m\u001b[43m \u001b[49m\u001b[43mioargs\u001b[49m\u001b[38;5;241;43m.\u001b[39;49m\u001b[43mmode\u001b[49m\u001b[43m)\u001b[49m\n\u001b[0;32m    869\u001b[0m     handles\u001b[38;5;241m.\u001b[39mappend(handle)\n\u001b[0;32m    871\u001b[0m \u001b[38;5;66;03m# Convert BytesIO or file objects passed with an encoding\u001b[39;00m\n",
      "\u001b[1;31mPermissionError\u001b[0m: [Errno 13] Permission denied: 'C:/Users/ks885/OneDrive/Documents/CORNELL CEE PhD/RESEARCH/00_My Work/spcm_genx_experiment/data/2024 v1 Annual Technology Baseline Workbook Original 6-24-2024.xlsx'"
     ]
    }
   ],
   "source": [
    "start = dt.now()\n",
    "processor.process()\n",
    "print('Processing completed in ', dt.now() - start)"
   ]
  },
  {
   "cell_type": "markdown",
   "id": "1698b6d0",
   "metadata": {},
   "source": [
    "## Data extraction\n",
    "Congratulations! The pipeline has run and the data is available. Several options for extracting the code are shown below. "
   ]
  },
  {
   "cell_type": "code",
   "execution_count": null,
   "id": "344de363",
   "metadata": {},
   "outputs": [],
   "source": [
    "# Save data to as a CSV\n",
    "processor.to_csv('atb_data.csv')\n",
    "\n",
    "# Save flattened data to as a CSV\n",
    "processor.flat_to_csv('atb_data_flat.csv')\n",
    "\n",
    "# Save meta data to as a CSV\n",
    "processor.meta_data_to_csv('atb_meta_data.csv')\n",
    "\n",
    "# Copy data to the clipboard so it can be pasted in a spreadsheet \n",
    "processor.data.to_clipboard()"
   ]
  },
  {
   "cell_type": "markdown",
   "id": "47567906",
   "metadata": {},
   "source": [
    "## Exploring the data in the notebook\n",
    "The extracted and calculated parameters can also be viewed directly in the notebook if desired. Note that the data is a combination of all technologies that were processed and may need to be filtered. Working with a single technology processor as described in the `Tech Processor.ipynb` notebook may be easier depending on your goals. Data is internally stored as a [pandas](https://pandas.pydata.org) data frame."
   ]
  },
  {
   "cell_type": "code",
   "execution_count": null,
   "id": "e459c567",
   "metadata": {},
   "outputs": [],
   "source": [
    "data = processor.data\n",
    "\n",
    "# Show available parameters\n",
    "print('Available parameters')\n",
    "display(data.Parameter.unique())\n",
    "\n",
    "# Display LCOE\n",
    "print('Calculated LCOE')\n",
    "display(data[data.Parameter == \"LCOE\"])\n",
    "\n",
    "# Display capacity factor\n",
    "print('Capacity factor')\n",
    "display(data[data.Parameter == \"CF\"])"
   ]
  }
 ],
 "metadata": {
  "kernelspec": {
   "display_name": "base",
   "language": "python",
   "name": "python3"
  },
  "language_info": {
   "codemirror_mode": {
    "name": "ipython",
    "version": 3
   },
   "file_extension": ".py",
   "mimetype": "text/x-python",
   "name": "python",
   "nbconvert_exporter": "python",
   "pygments_lexer": "ipython3",
   "version": "3.11.7"
  }
 },
 "nbformat": 4,
 "nbformat_minor": 5
}
