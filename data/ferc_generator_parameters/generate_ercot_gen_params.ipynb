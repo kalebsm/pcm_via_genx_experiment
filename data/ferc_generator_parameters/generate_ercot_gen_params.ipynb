{
 "cells": [
  {
   "cell_type": "code",
   "execution_count": 206,
   "metadata": {},
   "outputs": [],
   "source": [
    "import numpy as np\n",
    "import pandas as pd\n",
    "\n",
    "\n",
    "\n",
    "def print_prime_mover_description(string, prime_mover_codes):\n",
    "    description = prime_mover_codes.loc[prime_mover_codes['Prime Mover Codes'] == string, 'Description'].values\n",
    "    if len(description) > 0:\n",
    "        print(description[0])\n",
    "    else:\n",
    "        print(\"No description found for the given string.\")\n",
    "\n",
    "def print_fuel_codes_description(string, fuel_codes):\n",
    "    description = fuel_codes.loc[fuel_codes['Energy Source Code'] == string, 'Description'].values\n",
    "    if len(description) > 0:\n",
    "        print(description[0])\n",
    "    else:\n",
    "        print(\"No description found for the given string.\")\n",
    "\n",
    "def get_fuel_mover(data, fuel, mover):\n",
    "    return data[(data['Energy_Source_1 (Fuel)'] == fuel) & (data['PRIMEMOVER'] == mover)]\n",
    "\n"
   ]
  },
  {
   "cell_type": "markdown",
   "metadata": {},
   "source": [
    "## Data processing"
   ]
  },
  {
   "cell_type": "code",
   "execution_count": 207,
   "metadata": {},
   "outputs": [],
   "source": [
    "# Get the sheet names\n",
    "excel_file = pd.ExcelFile('ferc_data\\\\20120724-4012_Generator_Data_Summer.xlsx')\n",
    "sheet_names = excel_file.sheet_names\n",
    "\n",
    "# Create a dictionary to store the separated dataframes\n",
    "separated_dataframes = {}\n",
    "\n",
    "# Iterate over each sheet and store the data in the dictionary\n",
    "for sheet_name in sheet_names:\n",
    "    separated_dataframes[sheet_name] = excel_file.parse(sheet_name)\n",
    "\n",
    "# Process for Cleaning Generator Characteristics\n",
    "gen_characteristics = separated_dataframes['Generator Characteristics']\n",
    "gen_characteristics.columns = separated_dataframes['Generator Characteristics'].iloc[0]\n",
    "gen_characteristics.drop(0, inplace=True)\n",
    "gen_characteristics.reset_index(drop=True, inplace=True)\n",
    "# gen_characteristics.drop_duplicates(gen_characteristics.columns[duplicate_index], axis=1)\n",
    "gen_characteristics= gen_characteristics.loc[:,~gen_characteristics.columns.duplicated()].copy()\n",
    "\n",
    "# Process for Cleaning Generator costs\n",
    "gen_costs = separated_dataframes['Generator Offer Curve'].iloc[:,24:28]\n",
    "gen_costs.columns = gen_costs.iloc[1]\n",
    "gen_costs.drop([0,1], inplace=True)\n",
    "gen_costs.reset_index(drop=True, inplace=True)\n",
    "gen_costs.rename(columns={'1': 'index'}, inplace=True)\n",
    "gen_costs.rename(columns={np.nan: 'Generic Name'}, inplace=True)"
   ]
  },
  {
   "cell_type": "code",
   "execution_count": 208,
   "metadata": {},
   "outputs": [],
   "source": [
    "# the important paramaters are:\n",
    "raw_key_params = ['NAMEPLATE (MWs)','RAMP UP (MW/min)', 'RAMP DOWN (MW/min)', 'Economic Minimum (MW)', 'MIN_DOWN_TIME (hr)', 'MIN_RUN_TIME (hr)']"
   ]
  },
  {
   "cell_type": "markdown",
   "metadata": {},
   "source": [
    "Note that ramping is in MW/min and needs to be % of MW capacity /hr"
   ]
  },
  {
   "cell_type": "code",
   "execution_count": 209,
   "metadata": {},
   "outputs": [],
   "source": [
    "ramp_params = ['RAMP UP (MW/min)', 'RAMP DOWN (MW/min)']\n",
    "capacity_param = ['NAMEPLATE (MWs)']\n",
    "\n",
    "# Divide each row of ramp_params by NAMEPLATE (MWs) and multiply by 60 to convert to per hour\n",
    "percent_ramp =  gen_characteristics[ramp_params].div(gen_characteristics['NAMEPLATE (MWs)'], axis=0) * 60\n",
    "gen_characteristics[ramp_params] = percent_ramp\n",
    "\n",
    "# change the name of the columns to reflect the change in units for ramping\n",
    "gen_characteristics.rename(columns={'RAMP UP (MW/min)': 'PERC RAMP UP', 'RAMP DOWN (MW/min)': 'PERC RAMP DOWN'}, inplace=True)\n",
    "\n",
    "# update key param names\n",
    "cleaned_key_params = ['NAMEPLATE (MWs)','PERC RAMP UP', 'PERC RAMP DOWN', 'Economic Minimum (MW)', 'MIN_DOWN_TIME (hr)', 'MIN_RUN_TIME (hr)']"
   ]
  },
  {
   "cell_type": "markdown",
   "metadata": {},
   "source": [
    "## Processing Requiring Inputs"
   ]
  },
  {
   "cell_type": "code",
   "execution_count": 210,
   "metadata": {},
   "outputs": [],
   "source": [
    "# selected fuel types and prime movers\n",
    "BIT_ST_coal = get_fuel_mover(gen_characteristics, 'BIT', 'ST')\n",
    "DFO_GT_diesel = get_fuel_mover(gen_characteristics, 'DFO', 'GT')\n",
    "NG_GT_gas = get_fuel_mover(gen_characteristics, 'NG', 'GT')\n",
    "NG_CT_gas = get_fuel_mover(gen_characteristics, 'NG', 'CT')\n",
    "NG_IT_gas = get_fuel_mover(gen_characteristics, 'NG', 'IT')"
   ]
  },
  {
   "cell_type": "code",
   "execution_count": 211,
   "metadata": {},
   "outputs": [
    {
     "data": {
      "text/plain": [
       "0        660\n",
       "1        660\n",
       "2        660\n",
       "3       18.6\n",
       "4       12.5\n",
       "        ... \n",
       "1006     198\n",
       "1007    10.8\n",
       "1008    10.8\n",
       "1009    29.4\n",
       "1010    37.8\n",
       "Name: NAMEPLATE (MWs), Length: 1011, dtype: object"
      ]
     },
     "execution_count": 211,
     "metadata": {},
     "output_type": "execute_result"
    }
   ],
   "source": [
    "gen_characteristics['NAMEPLATE (MWs)']"
   ]
  },
  {
   "cell_type": "markdown",
   "metadata": {},
   "source": [
    "Do this in generic scalable code "
   ]
  },
  {
   "cell_type": "code",
   "execution_count": 212,
   "metadata": {},
   "outputs": [],
   "source": [
    "def get_cleaned_cost_df(gen_costs_df, spec_gen_df):\n",
    "    #\n",
    "    costs = gen_costs_df[gen_costs_df['Generic Name'].isin(spec_gen_df['Generic Name'])]\n",
    "    costs.drop('Generic Name', axis=1, inplace=True)\n",
    "    # get the nameplate capacity of the generators\n",
    "    nameplate_cap = spec_gen_df['NAMEPLATE (MWs)'].values\n",
    "    # normalize the BIT_ST_coal_costs by the nameplate capacity\n",
    "    costs_normalized = costs.div(nameplate_cap, axis=0)\n",
    "    # change the titles of the columns to reflect the normalization\n",
    "    costs_normalized.columns = ['No Load Cost ($/MW)', 'Cold Start Cost ($/MW)', 'Hot Start Cost ($/MW)']\n",
    "\n",
    "    return costs_normalized"
   ]
  },
  {
   "cell_type": "code",
   "execution_count": 213,
   "metadata": {},
   "outputs": [],
   "source": [
    "# emulate reading in the data from the excel file\n",
    "fuel_id = 'DFO'\n",
    "mover_id = 'GT'"
   ]
  },
  {
   "cell_type": "code",
   "execution_count": 214,
   "metadata": {},
   "outputs": [
    {
     "name": "stderr",
     "output_type": "stream",
     "text": [
      "C:\\Users\\ks885\\AppData\\Local\\Temp\\ipykernel_19800\\575262469.py:4: SettingWithCopyWarning: \n",
      "A value is trying to be set on a copy of a slice from a DataFrame\n",
      "\n",
      "See the caveats in the documentation: https://pandas.pydata.org/pandas-docs/stable/user_guide/indexing.html#returning-a-view-versus-a-copy\n",
      "  costs.drop('Generic Name', axis=1, inplace=True)\n"
     ]
    }
   ],
   "source": [
    "specified_gen_df = gen_characteristics[(gen_characteristics['Energy_Source_1 (Fuel)'] == fuel_id) \n",
    "                        & (gen_characteristics['PRIMEMOVER'] == mover_id)]\n",
    "                        \n",
    "cleaned_cost_df = get_cleaned_cost_df(gen_costs, specified_gen_df)\n",
    "\n",
    "### Decision processes for choosing costs and parameters\n",
    "# costs\n",
    "mean_costs = cleaned_cost_df.mean()\n",
    "Start_Cost_per_MW = mean_costs.mean()\n",
    "\n",
    "# parameters \n",
    "Ramp_Up_Percentage = specified_gen_df['PERC RAMP UP'].mean()\n",
    "Ramp_Dn_Percentage =  specified_gen_df['PERC RAMP DOWN'].mean()\n",
    "Min_Power =  specified_gen_df['Economic Minimum (MW)'].mean()\n",
    "\n",
    "Down_Time =  specified_gen_df['MIN_DOWN_TIME (hr)'].min()\n",
    "Up_Time =  specified_gen_df['MIN_RUN_TIME (hr)'].min()"
   ]
  },
  {
   "cell_type": "code",
   "execution_count": 215,
   "metadata": {},
   "outputs": [
    {
     "data": {
      "text/plain": [
       "No Load Cost ($/MW)        4.367296\n",
       "Cold Start Cost ($/MW)    39.863212\n",
       "Hot Start Cost ($/MW)     30.226053\n",
       "dtype: object"
      ]
     },
     "execution_count": 215,
     "metadata": {},
     "output_type": "execute_result"
    }
   ],
   "source": [
    "mean_costs"
   ]
  }
 ],
 "metadata": {
  "kernelspec": {
   "display_name": "base",
   "language": "python",
   "name": "python3"
  },
  "language_info": {
   "codemirror_mode": {
    "name": "ipython",
    "version": 3
   },
   "file_extension": ".py",
   "mimetype": "text/x-python",
   "name": "python",
   "nbconvert_exporter": "python",
   "pygments_lexer": "ipython3",
   "version": "3.11.7"
  }
 },
 "nbformat": 4,
 "nbformat_minor": 2
}
