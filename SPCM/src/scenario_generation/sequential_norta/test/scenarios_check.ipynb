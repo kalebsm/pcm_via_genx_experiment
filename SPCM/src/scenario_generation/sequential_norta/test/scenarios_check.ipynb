{
 "cells": [
  {
   "cell_type": "code",
   "execution_count": 1,
   "id": "1883328b",
   "metadata": {},
   "outputs": [
    {
     "name": "stderr",
     "output_type": "stream",
     "text": [
      "\u001b[32m\u001b[1m  Activating\u001b[22m\u001b[39m project at `c:\\Users\\ks885\\Documents\\aa_research\\Modeling\\spcm_genx_experiment\\SPCM\\src\\scenario_generation\\sequential_norta`\n"
     ]
    }
   ],
   "source": [
    "using Revise\n",
    "using Dates\n",
    "using Distributions\n",
    "using Random\n",
    "using DataFrames\n",
    "using CSV\n",
    "using Plots\n",
    "using StatsBase\n",
    "using LinearAlgebra\n",
    "using Statistics\n",
    "import Pkg\n",
    "Pkg.activate(\"..\")\n",
    "Pkg.instantiate()\n",
    "\n",
    "using SequentialNorta"
   ]
  },
  {
   "cell_type": "code",
   "execution_count": 2,
   "id": "842ace8b",
   "metadata": {},
   "outputs": [
    {
     "name": "stdout",
     "output_type": "stream",
     "text": [
      "\u001b[36m\u001b[1mProject\u001b[22m\u001b[39m SequentialNorta v0.0.0\n",
      "\u001b[32m\u001b[1mStatus\u001b[22m\u001b[39m `C:\\Users\\ks885\\Documents\\aa_research\\Modeling\\spcm_genx_experiment\\SPCM\\src\\scenario_generation\\sequential_norta\\Project.toml`\n",
      "\u001b[32m⌃\u001b[39m \u001b[90m[336ed68f] \u001b[39mCSV v0.10.11\n",
      "\u001b[32m⌃\u001b[39m \u001b[90m[a93c6f00] \u001b[39mDataFrames v1.6.1\n",
      "  \u001b[90m[8bb1440f] \u001b[39mDelimitedFiles v1.9.1\n",
      "\u001b[32m⌃\u001b[39m \u001b[90m[31c24e10] \u001b[39mDistributions v0.25.103\n",
      "\u001b[32m⌃\u001b[39m \u001b[90m[634d3b9d] \u001b[39mDrWatson v2.13.0\n",
      "\u001b[32m⌃\u001b[39m \u001b[90m[f67ccb44] \u001b[39mHDF5 v0.17.1\n",
      "\u001b[32m⌃\u001b[39m \u001b[90m[b964fa9f] \u001b[39mLaTeXStrings v1.3.1\n",
      "\u001b[33m⌅\u001b[39m \u001b[90m[7ed4a6bd] \u001b[39mLinearSolve v2.20.0\n",
      "\u001b[32m⌃\u001b[39m \u001b[90m[91a5bcdd] \u001b[39mPlots v1.39.0\n",
      "\u001b[32m⌃\u001b[39m \u001b[90m[6f49c342] \u001b[39mRCall v0.13.18\n",
      "\u001b[33m⌅\u001b[39m \u001b[90m[2913bbd2] \u001b[39mStatsBase v0.33.21\n",
      "\u001b[32m⌃\u001b[39m \u001b[90m[9f90e835] \u001b[39mTSFrames v0.2.1\n",
      "\u001b[32m⌃\u001b[39m \u001b[90m[bd369af6] \u001b[39mTables v1.11.1\n",
      "\u001b[32m⌃\u001b[39m \u001b[90m[f269a46b] \u001b[39mTimeZones v1.13.0\n",
      "  \u001b[90m[ade2ca70] \u001b[39mDates\n",
      "  \u001b[90m[37e2e46d] \u001b[39mLinearAlgebra\n",
      "  \u001b[90m[9a3f8284] \u001b[39mRandom\n",
      "  \u001b[90m[10745b16] \u001b[39mStatistics v1.9.0\n",
      "\u001b[36m\u001b[1mInfo\u001b[22m\u001b[39m Packages marked with \u001b[32m⌃\u001b[39m and \u001b[33m⌅\u001b[39m have new versions available. Those with \u001b[32m⌃\u001b[39m may be upgradable, but those with \u001b[33m⌅\u001b[39m are restricted by compatibility constraints from upgrading. To see why use `status --outdated`\n"
     ]
    }
   ],
   "source": [
    "import Pkg\n",
    "Pkg.status()"
   ]
  },
  {
   "cell_type": "code",
   "execution_count": 3,
   "id": "0623a888",
   "metadata": {},
   "outputs": [
    {
     "name": "stdout",
     "output_type": "stream",
     "text": [
      "names(SequentialNorta; all = true) = [Symbol(\"#1#2\"), Symbol(\"#10#17\"), Symbol(\"#11#18\"), Symbol(\"#12#19\"), Symbol(\"#13#20\"), Symbol(\"#3#5\"), Symbol(\"#4#6\"), Symbol(\"#7#14\"), Symbol(\"#8#15\"), Symbol(\"#9#16\"), Symbol(\"#bind_historical_forecast\"), Symbol(\"#compute_hourly_average_actuals\"), Symbol(\"#compute_landing_probability\"), Symbol(\"#convert_ISO_standard\"), Symbol(\"#convert_hours_2018\"), Symbol(\"#convert_land_prob_to_data\"), Symbol(\"#eval\"), Symbol(\"#generate_lower_triangular_correlation\"), Symbol(\"#generate_norta_scenarios\"), Symbol(\"#generate_probability_scenarios\"), Symbol(\"#include\"), Symbol(\"#read_h5_file\"), Symbol(\"#read_input_file\"), Symbol(\"#scenario_generator_init\"), Symbol(\"#transform_landing_probability\"), Symbol(\"#write_percentiles\"), :SequentialNorta, :bind_historical_forecast, :compute_hourly_average_actuals, :compute_landing_probability, :convert_ISO_standard, :convert_hours_2018, :convert_land_prob_to_data, :eval, :fct_compute_hourly_average_actuals, :generate_lower_triangular_correlation, :generate_norta_scenarios, :generate_probability_scenarios, :include, :read_h5_file, :read_input_file, :scenario_generator_init, :transform_landing_probability, :write_percentiles]\n"
     ]
    },
    {
     "data": {
      "text/plain": [
       "44-element Vector{Symbol}:\n",
       " Symbol(\"#1#2\")\n",
       " Symbol(\"#10#17\")\n",
       " Symbol(\"#11#18\")\n",
       " Symbol(\"#12#19\")\n",
       " Symbol(\"#13#20\")\n",
       " Symbol(\"#3#5\")\n",
       " Symbol(\"#4#6\")\n",
       " Symbol(\"#7#14\")\n",
       " Symbol(\"#8#15\")\n",
       " Symbol(\"#9#16\")\n",
       " ⋮\n",
       " :generate_lower_triangular_correlation\n",
       " :generate_norta_scenarios\n",
       " :generate_probability_scenarios\n",
       " :include\n",
       " :read_h5_file\n",
       " :read_input_file\n",
       " :scenario_generator_init\n",
       " :transform_landing_probability\n",
       " :write_percentiles"
      ]
     },
     "metadata": {},
     "output_type": "display_data"
    }
   ],
   "source": [
    "@show names(SequentialNorta; all=true)"
   ]
  },
  {
   "cell_type": "code",
   "execution_count": 4,
   "id": "4618e900",
   "metadata": {},
   "outputs": [
    {
     "data": {
      "text/plain": [
       "Dict{Any, Any} with 23 entries:\n",
       "  \"solar_actual_avg_cf\"         => [0.0, 0.0, 0.0, 0.0, 0.0, 0.0, 0.0, 0.010627…\n",
       "  \"wind_marginals_by_issue\"     => DataFrame[\u001b[1m48×103 DataFrame\u001b[0m\u001b[0m…\n",
       "  \"load_landing_probabilities\"  => [0.888889, 0.585859, 0.545455, 0.505051, 0.2…\n",
       "  \"solar_actual_avg\"            => \u001b[1m8760×2 DataFrame\u001b[0m\u001b[0m…\n",
       "  \"load_marginals_by_issue\"     => DataFrame[\u001b[1m48×103 DataFrame\u001b[0m\u001b[0m…\n",
       "  \"unique_forecast_times\"       => [DateTime(\"2018-01-01T00:00:00\"), DateTime(\"…\n",
       "  \"M_load\"                      => [1.0 0.0 … 0.0 0.0; 0.860519 0.509419 … 0.0 …\n",
       "  \"solar_landing_probabilities\" => [0.99, 0.99, 0.99, 0.99, 0.99, 0.99, 0.99, 0…\n",
       "  \"forecast_scenario_length\"    => 48\n",
       "  \"wind_landing_probabilities\"  => [0.606061, 0.707071, 0.868687, 0.636364, 0.8…\n",
       "  \"sunny_decision_hours\"        => [7, 8, 9, 10, 11, 12, 13, 14, 15, 16  …  872…\n",
       "  \"load_actual_avg\"             => \u001b[1m8760×2 DataFrame\u001b[0m\u001b[0m…\n",
       "  \"corr_forecast_issue_times\"   => \u001b[1m17424×2 DataFrame\u001b[0m\u001b[0m…\n",
       "  \"unique_issue_times\"          => [DateTime(\"2017-12-31T12:00:00\"), DateTime(\"…\n",
       "  \"M_solar\"                     => [1.0 0.0 … 0.0 0.0; 0.238126 0.971234 … 0.0 …\n",
       "  \"start_date\"                  => DateTime(\"2018-01-01T00:00:00\")\n",
       "  \"M_wind\"                      => [1.0 0.0 … 0.0 0.0; 0.53953 0.841966 … 0.0 0…\n",
       "  \"wind_actual_avg\"             => \u001b[1m8760×2 DataFrame\u001b[0m\u001b[0m…\n",
       "  \"wind_actual_avg_cf\"          => [0.359188, 0.341952, 0.327147, 0.321044, 0.3…\n",
       "  ⋮                             => ⋮"
      ]
     },
     "metadata": {},
     "output_type": "display_data"
    }
   ],
   "source": [
    "scen_generator = scenario_generator_init()"
   ]
  },
  {
   "cell_type": "code",
   "execution_count": 5,
   "id": "8697b7c8",
   "metadata": {},
   "outputs": [],
   "source": [
    "# Save the objects from scen_generator into individual variables\n",
    "unique_forecast_times = scen_generator[\"unique_forecast_times\"]\n",
    "unique_issue_times = scen_generator[\"unique_issue_times\"]\n",
    "start_date = scen_generator[\"start_date\"]\n",
    "corr_forecast_issue_times = scen_generator[\"corr_forecast_issue_times\"]\n",
    "forecast_scenario_length = scen_generator[\"forecast_scenario_length\"]\n",
    "number_of_scenarios = scen_generator[\"number_of_scenarios\"]\n",
    "M_load = scen_generator[\"M_load\"]\n",
    "M_solar = scen_generator[\"M_solar\"]\n",
    "M_wind = scen_generator[\"M_wind\"]\n",
    "load_marginals_by_issue = scen_generator[\"load_marginals_by_issue\"]\n",
    "solar_marginals_by_issue = scen_generator[\"solar_marginals_by_issue\"]\n",
    "wind_marginals_by_issue = scen_generator[\"wind_marginals_by_issue\"]\n",
    "load_landing_probabilities = scen_generator[\"load_landing_probabilities\"]\n",
    "solar_landing_probabilities = scen_generator[\"solar_landing_probabilities\"]\n",
    "wind_landing_probabilities = scen_generator[\"wind_landing_probabilities\"]\n",
    "load_actual_avg = scen_generator[\"load_actual_avg\"]\n",
    "solar_actual_avg = scen_generator[\"solar_actual_avg\"]\n",
    "wind_actual_avg = scen_generator[\"wind_actual_avg\"]\n",
    "sunny_decision_hours = scen_generator[\"sunny_decision_hours\"]\n",
    "load_actual_avg_GW = scen_generator[\"load_actual_avg_GW\"]\n",
    "solar_actual_avg_cf = scen_generator[\"solar_actual_avg_cf\"]\n",
    "wind_actual_avg_cf = scen_generator[\"wind_actual_avg_cf\"]\n",
    "decision_mdl_lkd_length = scen_generator[\"decision_mdl_lkd_length\"];"
   ]
  },
  {
   "cell_type": "markdown",
   "id": "e00c6399",
   "metadata": {},
   "source": [
    "intialize other important parameters for rolling horizon"
   ]
  },
  {
   "cell_type": "code",
   "execution_count": 12,
   "id": "a648e387",
   "metadata": {},
   "outputs": [],
   "source": [
    "\n",
    "# Set the date and time for the forecasts\n",
    "start_index = findfirst(isequal(start_date), unique_forecast_times)\n",
    "\n",
    "Tstart = start_index;\n",
    "Tend = decision_mdl_lkd_length - 50; # should be -48 probablys\n",
    "\n",
    "# Initialize Locked Scenario Path Information\n",
    "scen_path = Array{Any}(undef, Tend)\n",
    "\n",
    "Random.seed!(12345);\n",
    "# intialize normal distribution\n",
    "normal_dist = Normal(0,1);"
   ]
  },
  {
   "cell_type": "markdown",
   "id": "5cda158b",
   "metadata": {},
   "source": [
    "In each of the sunny decision hours, check how the actual compares to the generated value."
   ]
  },
  {
   "cell_type": "code",
   "execution_count": 28,
   "id": "4f8de1bc",
   "metadata": {},
   "outputs": [
    {
     "data": {
      "text/plain": [
       "8686×20 Matrix{Matrix{Float64}}:\n",
       " #undef  #undef  #undef  #undef  #undef  …  #undef  #undef  #undef  #undef\n",
       " #undef  #undef  #undef  #undef  #undef     #undef  #undef  #undef  #undef\n",
       " #undef  #undef  #undef  #undef  #undef     #undef  #undef  #undef  #undef\n",
       " #undef  #undef  #undef  #undef  #undef     #undef  #undef  #undef  #undef\n",
       " #undef  #undef  #undef  #undef  #undef     #undef  #undef  #undef  #undef\n",
       " #undef  #undef  #undef  #undef  #undef  …  #undef  #undef  #undef  #undef\n",
       " #undef  #undef  #undef  #undef  #undef     #undef  #undef  #undef  #undef\n",
       " #undef  #undef  #undef  #undef  #undef     #undef  #undef  #undef  #undef\n",
       " #undef  #undef  #undef  #undef  #undef     #undef  #undef  #undef  #undef\n",
       " #undef  #undef  #undef  #undef  #undef     #undef  #undef  #undef  #undef\n",
       "   ⋮                                     ⋱                          \n",
       " #undef  #undef  #undef  #undef  #undef     #undef  #undef  #undef  #undef\n",
       " #undef  #undef  #undef  #undef  #undef     #undef  #undef  #undef  #undef\n",
       " #undef  #undef  #undef  #undef  #undef     #undef  #undef  #undef  #undef\n",
       " #undef  #undef  #undef  #undef  #undef  …  #undef  #undef  #undef  #undef\n",
       " #undef  #undef  #undef  #undef  #undef     #undef  #undef  #undef  #undef\n",
       " #undef  #undef  #undef  #undef  #undef     #undef  #undef  #undef  #undef\n",
       " #undef  #undef  #undef  #undef  #undef     #undef  #undef  #undef  #undef\n",
       " #undef  #undef  #undef  #undef  #undef     #undef  #undef  #undef  #undef\n",
       " #undef  #undef  #undef  #undef  #undef  …  #undef  #undef  #undef  #undef"
      ]
     },
     "metadata": {},
     "output_type": "display_data"
    }
   ],
   "source": [
    "# define loop as first 20 elements of sunny_decision_hours\n",
    "R = sunny_decision_hours[1:20];\n",
    "\n",
    "# initialize scenario path for load, solar and wind\n",
    "scen_path_load = Array{Matrix{Float64}}(undef, Tend, number_of_scenarios)\n",
    "scen_path_solar = Array{Matrix{Float64}}(undef, Tend, number_of_scenarios)\n",
    "scen_path_wind = Array{Matrix{Float64}}(undef, Tend, number_of_scenarios)"
   ]
  },
  {
   "cell_type": "code",
   "execution_count": 29,
   "id": "cf2fd689",
   "metadata": {},
   "outputs": [],
   "source": [
    "for r in R\n",
    "\n",
    "    global decision_date = start_date + Dates.Hour(r - 1)\n",
    "\n",
    "    #=======================================================================\n",
    "    DEFINE DATETIMES AND FORECAST VS ACTUAL VS MODEL TIMES OR HOURS\n",
    "    =======================================================================#\n",
    "\n",
    "    horizon_start_index = findfirst(isequal(decision_date), unique_forecast_times);\n",
    "\n",
    "    current_issue = corr_forecast_issue_times[horizon_start_index, :issue_time];\n",
    "\n",
    "    issue_index = findall(x -> x == current_issue, unique_issue_times)[1];\n",
    "    # find next issue time and compare to start date\n",
    "    # next_issue = unique_issue_times[issue_index + 1];\n",
    "    # define active issues (XXX workshop name) as set of forecasts that are available for the hours to use for lookahead\n",
    "    active_issues = [current_issue];\n",
    "    # get the indices of the forecasts of the active issue times\n",
    "    current_forecast_indices = findall(x -> x in active_issues, corr_forecast_issue_times[!,:issue_time]);\n",
    "\n",
    "    # get the actual forecast times of the current forecast indices\n",
    "    current_forecast_times = corr_forecast_issue_times[current_forecast_indices, :forecast_time];\n",
    "    # get the forecast times that are after the start_data\n",
    "    forecast_times_start_incl = filter(x -> x >= decision_date, current_forecast_times);\n",
    "    # calculate the length of the forecast times after the start date\n",
    "    policy_model_length = length(forecast_times_start_incl);\n",
    "    policy_lookahead_length = policy_model_length - 1; # minus one always for the existing lookahead...\n",
    "\n",
    "    # extract the actuals from the last 48 - model_forecast_length\n",
    "    # actuals_length = 48 - policy_model_length + 1;\n",
    "    policy_actuals_length = forecast_scenario_length - policy_lookahead_length;\n",
    "\n",
    "    lookahead_decision_hours = collect(policy_actuals_length:forecast_scenario_length);\n",
    "\n",
    "    load_current_marginals = load_marginals_by_issue[issue_index];\n",
    "    solar_current_marginals = solar_marginals_by_issue[issue_index];\n",
    "    wind_current_marginals = wind_marginals_by_issue[issue_index];\n",
    "    #=======================================================================\n",
    "    GENERATE SCENARIOS FOR LOAD, SOLAR, AND WIND\n",
    "    =======================================================================#\n",
    "    Y_load =  generate_norta_scenarios(number_of_scenarios, forecast_scenario_length, decision_date, horizon_start_index, \n",
    "                                        active_issues, corr_forecast_issue_times, normal_dist,  \n",
    "                                        M_load, load_current_marginals, load_landing_probabilities,\n",
    "                                        sunny_decision_hours, false)\n",
    "\n",
    "    Y_solar = generate_norta_scenarios(number_of_scenarios, forecast_scenario_length, decision_date, horizon_start_index, \n",
    "                                        active_issues, corr_forecast_issue_times, normal_dist,  \n",
    "                                        M_solar, solar_current_marginals, solar_landing_probabilities,\n",
    "                                        sunny_decision_hours, true)\n",
    "\n",
    "    Y_wind = generate_norta_scenarios(number_of_scenarios, forecast_scenario_length, decision_date, horizon_start_index, \n",
    "                                        active_issues, corr_forecast_issue_times, normal_dist,  \n",
    "                                        M_wind, wind_current_marginals, wind_landing_probabilities,\n",
    "                                        sunny_decision_hours, false)\n",
    "\n",
    "    # save the scenarios into the scen_path\n",
    "    scen_path_load[r] = Y_load\n",
    "    scen_path_solar[r] = Y_solar\n",
    "    scen_path_wind[r] = Y_wind\n",
    "\n",
    "end\n",
    "    "
   ]
  },
  {
   "cell_type": "code",
   "execution_count": 30,
   "id": "87181640",
   "metadata": {},
   "outputs": [
    {
     "data": {
      "text/plain": [
       "8736-element Vector{Float64}:\n",
       "   0.0\n",
       "   0.0\n",
       "   0.0\n",
       "   0.0\n",
       "   0.0\n",
       "   0.0\n",
       "   0.0\n",
       "   6.916941916666667\n",
       " 135.23035908333335\n",
       " 345.78694816666666\n",
       "   ⋮\n",
       "  72.38918704166666\n",
       "  55.24584775\n",
       "   5.323152916666667\n",
       "   0.0011250000000000001\n",
       "   0.0\n",
       "   0.0\n",
       "   0.0\n",
       "   0.0\n",
       "   0.0"
      ]
     },
     "metadata": {},
     "output_type": "display_data"
    }
   ],
   "source": [
    "forecast2model_indices = findall(in(unique_forecast_times), load_actual_avg[!, :time_index])\n",
    "\n",
    "solar_actuals_dec_timeseries = solar_actual_avg[forecast2model_indices, :avg_actual]"
   ]
  },
  {
   "cell_type": "code",
   "execution_count": 39,
   "id": "a18a2d8f",
   "metadata": {},
   "outputs": [
    {
     "data": {
      "text/plain": [
       "6-element Vector{Float64}:\n",
       " 345.78694816666666\n",
       " 372.167962\n",
       " 385.1170640416667\n",
       " 429.0009835416667\n",
       " 459.20847558333327\n",
       " 429.1285791666666"
      ]
     },
     "metadata": {},
     "output_type": "display_data"
    }
   ],
   "source": [
    "solar_actuals_dec_timeseries[R[4]:R[9]]"
   ]
  },
  {
   "cell_type": "code",
   "execution_count": 38,
   "id": "fe757eb1",
   "metadata": {},
   "outputs": [
    {
     "data": {
      "text/plain": [
       "345.78694816666666"
      ]
     },
     "metadata": {},
     "output_type": "display_data"
    }
   ],
   "source": [
    "solar_actuals_dec_timeseries[R[4]]"
   ]
  },
  {
   "cell_type": "code",
   "execution_count": 40,
   "id": "ab967cc2",
   "metadata": {},
   "outputs": [
    {
     "data": {
      "text/plain": [
       "20×38 Matrix{Float64}:\n",
       " 498.117  453.979  471.605  473.867  465.658  …  0.0  0.0  0.0  0.0  0.0  0.0\n",
       " 498.117  452.955  213.751  361.066  489.045     0.0  0.0  0.0  0.0  0.0  0.0\n",
       " 498.117  428.35   452.712  340.978  219.639     0.0  0.0  0.0  0.0  0.0  0.0\n",
       " 498.117  446.982  388.015  475.485  425.926     0.0  0.0  0.0  0.0  0.0  0.0\n",
       " 498.117  454.016  437.693  405.757  440.62      0.0  0.0  0.0  0.0  0.0  0.0\n",
       " 498.117  410.805  454.776  455.152  479.8    …  0.0  0.0  0.0  0.0  0.0  0.0\n",
       " 498.117  356.221  239.679  250.532  288.083     0.0  0.0  0.0  0.0  0.0  0.0\n",
       " 498.117  425.477  401.023  368.873  431.252     0.0  0.0  0.0  0.0  0.0  0.0\n",
       " 498.117  446.299  378.69   436.467  411.865     0.0  0.0  0.0  0.0  0.0  0.0\n",
       " 498.117  451.788  299.099  389.743  485.56      0.0  0.0  0.0  0.0  0.0  0.0\n",
       " 498.117  418.971  388.647  421.064  398.467  …  0.0  0.0  0.0  0.0  0.0  0.0\n",
       " 498.117  403.276  465.63   343.301  273.331     0.0  0.0  0.0  0.0  0.0  0.0\n",
       " 498.117  445.385  454.779  267.698  460.351     0.0  0.0  0.0  0.0  0.0  0.0\n",
       " 498.117  454.004  472.79   417.109  463.281     0.0  0.0  0.0  0.0  0.0  0.0\n",
       " 498.117  421.589  365.757  326.697  465.709     0.0  0.0  0.0  0.0  0.0  0.0\n",
       " 498.117  446.195  456.715  279.132  411.702  …  0.0  0.0  0.0  0.0  0.0  0.0\n",
       " 498.117  450.794  377.355  390.113  465.71      0.0  0.0  0.0  0.0  0.0  0.0\n",
       " 498.117  400.306  324.387  433.596  430.873     0.0  0.0  0.0  0.0  0.0  0.0\n",
       " 498.117  443.015  297.063  336.886  302.559     0.0  0.0  0.0  0.0  0.0  0.0\n",
       " 498.117  329.744  332.97   215.415  385.793     0.0  0.0  0.0  0.0  0.0  0.0"
      ]
     },
     "metadata": {},
     "output_type": "display_data"
    }
   ],
   "source": [
    "scen_path_solar[R[5]]"
   ]
  }
 ],
 "metadata": {
  "kernelspec": {
   "display_name": "Julia 1.9.4",
   "language": "julia",
   "name": "julia-1.9"
  },
  "language_info": {
   "file_extension": ".jl",
   "mimetype": "application/julia",
   "name": "julia",
   "version": "1.9.4"
  }
 },
 "nbformat": 4,
 "nbformat_minor": 5
}
