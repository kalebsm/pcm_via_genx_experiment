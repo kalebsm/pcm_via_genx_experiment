{
 "cells": [
  {
   "cell_type": "code",
   "execution_count": 1,
   "id": "5f363f03",
   "metadata": {},
   "outputs": [
    {
     "name": "stderr",
     "output_type": "stream",
     "text": [
      "\u001b[32m\u001b[1m  Activating\u001b[22m\u001b[39m project at `c:\\Users\\ks885\\Documents\\aa_research\\Modeling\\spcm_genx_experiment\\SPCM\\src\\scenario_generation\\sequential_norta`\n",
      "\u001b[32m\u001b[1mPrecompiling\u001b[22m\u001b[39m project...\n",
      "\u001b[32m  ✓ \u001b[39mSequentialNorta\n",
      "  1 dependency successfully precompiled in 10 seconds. 287 already precompiled.\n"
     ]
    }
   ],
   "source": [
    "using Revise\n",
    "using Dates\n",
    "using Distributions\n",
    "using Random\n",
    "using DataFrames\n",
    "using CSV\n",
    "using Plots\n",
    "using StatsBase\n",
    "using LinearAlgebra\n",
    "using Statistics\n",
    "import Pkg\n",
    "Pkg.activate(\"..\")\n",
    "Pkg.instantiate()\n",
    "\n",
    "using SequentialNorta"
   ]
  },
  {
   "cell_type": "code",
   "execution_count": 2,
   "id": "804acd90",
   "metadata": {},
   "outputs": [],
   "source": [
    "scen_generator = scenario_generator_init()\n",
    "# Save the objects from scen_generator into individual variables\n",
    "unique_forecast_times = scen_generator[\"unique_forecast_times\"]\n",
    "unique_issue_times = scen_generator[\"unique_issue_times\"]\n",
    "start_date = scen_generator[\"start_date\"]\n",
    "corr_forecast_issue_times = scen_generator[\"corr_forecast_issue_times\"]\n",
    "forecast_scenario_length = scen_generator[\"forecast_scenario_length\"]\n",
    "number_of_scenarios = scen_generator[\"number_of_scenarios\"]\n",
    "issue_idcs = scen_generator[\"issue_idcs\"]\n",
    "lp_load = scen_generator[\"lp_load\"]\n",
    "lp_solar = scen_generator[\"lp_solar\"]\n",
    "lp_wind = scen_generator[\"lp_wind\"]\n",
    "M_load = scen_generator[\"M_load\"]\n",
    "M_solar = scen_generator[\"M_solar\"]\n",
    "M_wind = scen_generator[\"M_wind\"]\n",
    "load_marginals_by_issue = scen_generator[\"load_marginals_by_issue\"]\n",
    "solar_marginals_by_issue = scen_generator[\"solar_marginals_by_issue\"]\n",
    "wind_marginals_by_issue = scen_generator[\"wind_marginals_by_issue\"]\n",
    "load_landing_probabilities = scen_generator[\"load_landing_probabilities\"]\n",
    "solar_landing_probabilities = scen_generator[\"solar_landing_probabilities\"]\n",
    "wind_landing_probabilities = scen_generator[\"wind_landing_probabilities\"]\n",
    "load_actual_avg = scen_generator[\"load_actual_avg\"]\n",
    "solar_actual_avg = scen_generator[\"solar_actual_avg\"]\n",
    "wind_actual_avg = scen_generator[\"wind_actual_avg\"]\n",
    "sunny_decision_hours = scen_generator[\"sunny_decision_hours\"]\n",
    "load_actual_avg_GW = scen_generator[\"load_actual_avg_GW\"]\n",
    "solar_actual_avg_cf = scen_generator[\"solar_actual_avg_cf\"]\n",
    "wind_actual_avg_cf = scen_generator[\"wind_actual_avg_cf\"]\n",
    "decision_mdl_lkd_length = scen_generator[\"decision_mdl_lkd_length\"];"
   ]
  },
  {
   "cell_type": "code",
   "execution_count": 3,
   "id": "c6d0b296",
   "metadata": {},
   "outputs": [
    {
     "data": {
      "text/plain": [
       "8736-element Vector{Int64}:\n",
       "    7\n",
       "    8\n",
       "    9\n",
       "   10\n",
       "   11\n",
       "   12\n",
       "   13\n",
       "   14\n",
       "   15\n",
       "   16\n",
       "    ⋮\n",
       " 8734\n",
       " 8735\n",
       " 8736\n",
       " 8737\n",
       " 8738\n",
       " 8739\n",
       " 8740\n",
       " 8741\n",
       " 8742"
      ]
     },
     "metadata": {},
     "output_type": "display_data"
    }
   ],
   "source": [
    "forecast2model_indices = findall(in(unique_forecast_times), load_actual_avg[!, :time_index])"
   ]
  },
  {
   "cell_type": "code",
   "execution_count": 4,
   "id": "daac883d",
   "metadata": {},
   "outputs": [
    {
     "data": {
      "text/plain": [
       "true"
      ]
     },
     "metadata": {},
     "output_type": "display_data"
    }
   ],
   "source": [
    "data = lp_solar\n",
    "issue_idcs = issue_idcs\n",
    "dec_mdl_lkd_len = decision_mdl_lkd_length\n",
    "is_solar = true"
   ]
  },
  {
   "cell_type": "code",
   "execution_count": 5,
   "id": "6f4b3744",
   "metadata": {},
   "outputs": [],
   "source": []
  },
  {
   "cell_type": "code",
   "execution_count": 6,
   "id": "a08a38d7",
   "metadata": {},
   "outputs": [
    {
     "data": {
      "text/plain": [
       "363×48 transpose(::Matrix{Float64}) with eltype Float64:\n",
       " 0.99  0.99  0.99  0.99  0.99  0.99  …  0.99  0.99  0.99  0.99  0.99  0.99\n",
       " 0.99  0.99  0.99  0.99  0.99  0.99     0.99  0.99  0.99  0.99  0.99  0.99\n",
       " 0.99  0.99  0.99  0.99  0.99  0.99     0.99  0.99  0.99  0.99  0.99  0.99\n",
       " 0.99  0.99  0.99  0.99  0.99  0.99     0.99  0.99  0.99  0.99  0.99  0.99\n",
       " 0.99  0.99  0.99  0.99  0.99  0.99     0.99  0.99  0.99  0.99  0.99  0.99\n",
       " 0.99  0.99  0.99  0.99  0.99  0.99  …  0.99  0.99  0.99  0.99  0.99  0.99\n",
       " 0.99  0.99  0.99  0.99  0.99  0.99     0.99  0.99  0.99  0.99  0.99  0.99\n",
       " 0.99  0.99  0.99  0.99  0.99  0.99     0.99  0.99  0.99  0.99  0.99  0.99\n",
       " 0.99  0.99  0.99  0.99  0.99  0.99     0.99  0.99  0.99  0.99  0.99  0.99\n",
       " 0.99  0.99  0.99  0.99  0.99  0.99     0.99  0.99  0.99  0.99  0.99  0.99\n",
       " ⋮                             ⋮     ⋱                    ⋮           \n",
       " 0.99  0.99  0.99  0.99  0.99  0.99     0.99  0.99  0.99  0.99  0.99  0.99\n",
       " 0.99  0.99  0.99  0.99  0.99  0.99  …  0.99  0.99  0.99  0.99  0.99  0.99\n",
       " 0.99  0.99  0.99  0.99  0.99  0.99     0.99  0.99  0.99  0.99  0.99  0.99\n",
       " 0.99  0.99  0.99  0.99  0.99  0.99     0.99  0.99  0.99  0.99  0.99  0.99\n",
       " 0.99  0.99  0.99  0.99  0.99  0.99     0.99  0.99  0.99  0.99  0.99  0.99\n",
       " 0.99  0.99  0.99  0.99  0.99  0.99     0.99  0.99  0.99  0.99  0.99  0.99\n",
       " 0.99  0.99  0.99  0.99  0.99  0.99  …  0.99  0.99  0.99  0.99  0.99  0.99\n",
       " 0.99  0.99  0.99  0.99  0.99  0.99     0.99  0.99  0.99  0.99  0.99  0.99\n",
       " 0.99  0.99  0.99  0.99  0.99  0.99     0.99  0.99  0.99  0.99  0.99  0.99"
      ]
     },
     "metadata": {},
     "output_type": "display_data"
    }
   ],
   "source": [
    "lp_solar"
   ]
  },
  {
   "cell_type": "code",
   "execution_count": 7,
   "id": "a09ab669",
   "metadata": {},
   "outputs": [],
   "source": [
    "x = copy(data)\n",
    "allequal_set = Set(findall(allequal, eachcol(x)));\n",
    "allequal_ind = sort(collect(allequal_set));\n",
    "allindex_set = Set(collect(1:48));\n",
    "alldifferent_ind = sort(collect(setdiff(allindex_set, allequal_set))); # Index for columns whose st. dev. isn't zero\n",
    "x_upd = x[:, alldifferent_ind];"
   ]
  },
  {
   "cell_type": "code",
   "execution_count": 8,
   "id": "cac57dfb",
   "metadata": {},
   "outputs": [
    {
     "data": {
      "text/html": [
       "<div><div style = \"float: left;\"><span>8736×2 DataFrame</span></div><div style = \"float: right;\"><span style = \"font-style: italic;\">8711 rows omitted</span></div><div style = \"clear: both;\"></div></div><div class = \"data-frame\" style = \"overflow-x: scroll;\"><table class = \"data-frame\" style = \"margin-bottom: 6px;\"><thead><tr class = \"header\"><th class = \"rowNumber\" style = \"font-weight: bold; text-align: right;\">Row</th><th style = \"text-align: left;\">time_index</th><th style = \"text-align: left;\">avg_actual</th></tr><tr class = \"subheader headerLastRow\"><th class = \"rowNumber\" style = \"font-weight: bold; text-align: right;\"></th><th title = \"DateTime\" style = \"text-align: left;\">DateTime</th><th title = \"Float64\" style = \"text-align: left;\">Float64</th></tr></thead><tbody><tr><td class = \"rowNumber\" style = \"font-weight: bold; text-align: right;\">1</td><td style = \"text-align: left;\">2018-01-01T00:00:00</td><td style = \"text-align: right;\">0.0</td></tr><tr><td class = \"rowNumber\" style = \"font-weight: bold; text-align: right;\">2</td><td style = \"text-align: left;\">2018-01-01T01:00:00</td><td style = \"text-align: right;\">0.0</td></tr><tr><td class = \"rowNumber\" style = \"font-weight: bold; text-align: right;\">3</td><td style = \"text-align: left;\">2018-01-01T02:00:00</td><td style = \"text-align: right;\">0.0</td></tr><tr><td class = \"rowNumber\" style = \"font-weight: bold; text-align: right;\">4</td><td style = \"text-align: left;\">2018-01-01T03:00:00</td><td style = \"text-align: right;\">0.0</td></tr><tr><td class = \"rowNumber\" style = \"font-weight: bold; text-align: right;\">5</td><td style = \"text-align: left;\">2018-01-01T04:00:00</td><td style = \"text-align: right;\">0.0</td></tr><tr><td class = \"rowNumber\" style = \"font-weight: bold; text-align: right;\">6</td><td style = \"text-align: left;\">2018-01-01T05:00:00</td><td style = \"text-align: right;\">0.0</td></tr><tr><td class = \"rowNumber\" style = \"font-weight: bold; text-align: right;\">7</td><td style = \"text-align: left;\">2018-01-01T06:00:00</td><td style = \"text-align: right;\">0.0</td></tr><tr><td class = \"rowNumber\" style = \"font-weight: bold; text-align: right;\">8</td><td style = \"text-align: left;\">2018-01-01T07:00:00</td><td style = \"text-align: right;\">6.91694</td></tr><tr><td class = \"rowNumber\" style = \"font-weight: bold; text-align: right;\">9</td><td style = \"text-align: left;\">2018-01-01T08:00:00</td><td style = \"text-align: right;\">135.23</td></tr><tr><td class = \"rowNumber\" style = \"font-weight: bold; text-align: right;\">10</td><td style = \"text-align: left;\">2018-01-01T09:00:00</td><td style = \"text-align: right;\">345.787</td></tr><tr><td class = \"rowNumber\" style = \"font-weight: bold; text-align: right;\">11</td><td style = \"text-align: left;\">2018-01-01T10:00:00</td><td style = \"text-align: right;\">372.168</td></tr><tr><td class = \"rowNumber\" style = \"font-weight: bold; text-align: right;\">12</td><td style = \"text-align: left;\">2018-01-01T11:00:00</td><td style = \"text-align: right;\">385.117</td></tr><tr><td class = \"rowNumber\" style = \"font-weight: bold; text-align: right;\">13</td><td style = \"text-align: left;\">2018-01-01T12:00:00</td><td style = \"text-align: right;\">429.001</td></tr><tr><td style = \"text-align: right;\">&vellip;</td><td style = \"text-align: right;\">&vellip;</td><td style = \"text-align: right;\">&vellip;</td></tr><tr><td class = \"rowNumber\" style = \"font-weight: bold; text-align: right;\">8725</td><td style = \"text-align: left;\">2018-12-30T12:00:00</td><td style = \"text-align: right;\">107.844</td></tr><tr><td class = \"rowNumber\" style = \"font-weight: bold; text-align: right;\">8726</td><td style = \"text-align: left;\">2018-12-30T13:00:00</td><td style = \"text-align: right;\">119.005</td></tr><tr><td class = \"rowNumber\" style = \"font-weight: bold; text-align: right;\">8727</td><td style = \"text-align: left;\">2018-12-30T14:00:00</td><td style = \"text-align: right;\">95.8901</td></tr><tr><td class = \"rowNumber\" style = \"font-weight: bold; text-align: right;\">8728</td><td style = \"text-align: left;\">2018-12-30T15:00:00</td><td style = \"text-align: right;\">72.3892</td></tr><tr><td class = \"rowNumber\" style = \"font-weight: bold; text-align: right;\">8729</td><td style = \"text-align: left;\">2018-12-30T16:00:00</td><td style = \"text-align: right;\">55.2458</td></tr><tr><td class = \"rowNumber\" style = \"font-weight: bold; text-align: right;\">8730</td><td style = \"text-align: left;\">2018-12-30T17:00:00</td><td style = \"text-align: right;\">5.32315</td></tr><tr><td class = \"rowNumber\" style = \"font-weight: bold; text-align: right;\">8731</td><td style = \"text-align: left;\">2018-12-30T18:00:00</td><td style = \"text-align: right;\">0.001125</td></tr><tr><td class = \"rowNumber\" style = \"font-weight: bold; text-align: right;\">8732</td><td style = \"text-align: left;\">2018-12-30T19:00:00</td><td style = \"text-align: right;\">0.0</td></tr><tr><td class = \"rowNumber\" style = \"font-weight: bold; text-align: right;\">8733</td><td style = \"text-align: left;\">2018-12-30T20:00:00</td><td style = \"text-align: right;\">0.0</td></tr><tr><td class = \"rowNumber\" style = \"font-weight: bold; text-align: right;\">8734</td><td style = \"text-align: left;\">2018-12-30T21:00:00</td><td style = \"text-align: right;\">0.0</td></tr><tr><td class = \"rowNumber\" style = \"font-weight: bold; text-align: right;\">8735</td><td style = \"text-align: left;\">2018-12-30T22:00:00</td><td style = \"text-align: right;\">0.0</td></tr><tr><td class = \"rowNumber\" style = \"font-weight: bold; text-align: right;\">8736</td><td style = \"text-align: left;\">2018-12-30T23:00:00</td><td style = \"text-align: right;\">0.0</td></tr></tbody></table></div>"
      ],
      "text/latex": [
       "\\begin{tabular}{r|cc}\n",
       "\t& time\\_index & avg\\_actual\\\\\n",
       "\t\\hline\n",
       "\t& DateTime & Float64\\\\\n",
       "\t\\hline\n",
       "\t1 & 2018-01-01T00:00:00 & 0.0 \\\\\n",
       "\t2 & 2018-01-01T01:00:00 & 0.0 \\\\\n",
       "\t3 & 2018-01-01T02:00:00 & 0.0 \\\\\n",
       "\t4 & 2018-01-01T03:00:00 & 0.0 \\\\\n",
       "\t5 & 2018-01-01T04:00:00 & 0.0 \\\\\n",
       "\t6 & 2018-01-01T05:00:00 & 0.0 \\\\\n",
       "\t7 & 2018-01-01T06:00:00 & 0.0 \\\\\n",
       "\t8 & 2018-01-01T07:00:00 & 6.91694 \\\\\n",
       "\t9 & 2018-01-01T08:00:00 & 135.23 \\\\\n",
       "\t10 & 2018-01-01T09:00:00 & 345.787 \\\\\n",
       "\t11 & 2018-01-01T10:00:00 & 372.168 \\\\\n",
       "\t12 & 2018-01-01T11:00:00 & 385.117 \\\\\n",
       "\t13 & 2018-01-01T12:00:00 & 429.001 \\\\\n",
       "\t14 & 2018-01-01T13:00:00 & 459.208 \\\\\n",
       "\t15 & 2018-01-01T14:00:00 & 429.129 \\\\\n",
       "\t16 & 2018-01-01T15:00:00 & 453.477 \\\\\n",
       "\t17 & 2018-01-01T16:00:00 & 312.169 \\\\\n",
       "\t18 & 2018-01-01T17:00:00 & 54.3303 \\\\\n",
       "\t19 & 2018-01-01T18:00:00 & 0.014625 \\\\\n",
       "\t20 & 2018-01-01T19:00:00 & 0.0 \\\\\n",
       "\t21 & 2018-01-01T20:00:00 & 0.0 \\\\\n",
       "\t22 & 2018-01-01T21:00:00 & 0.0 \\\\\n",
       "\t23 & 2018-01-01T22:00:00 & 0.0 \\\\\n",
       "\t24 & 2018-01-01T23:00:00 & 0.0 \\\\\n",
       "\t$\\dots$ & $\\dots$ & $\\dots$ \\\\\n",
       "\\end{tabular}\n"
      ],
      "text/plain": [
       "\u001b[1m8736×2 DataFrame\u001b[0m\n",
       "\u001b[1m  Row \u001b[0m│\u001b[1m time_index          \u001b[0m\u001b[1m avg_actual \u001b[0m\n",
       "      │\u001b[90m DateTime            \u001b[0m\u001b[90m Float64    \u001b[0m\n",
       "──────┼─────────────────────────────────\n",
       "    1 │ 2018-01-01T00:00:00    0.0\n",
       "    2 │ 2018-01-01T01:00:00    0.0\n",
       "    3 │ 2018-01-01T02:00:00    0.0\n",
       "    4 │ 2018-01-01T03:00:00    0.0\n",
       "    5 │ 2018-01-01T04:00:00    0.0\n",
       "    6 │ 2018-01-01T05:00:00    0.0\n",
       "    7 │ 2018-01-01T06:00:00    0.0\n",
       "    8 │ 2018-01-01T07:00:00    6.91694\n",
       "  ⋮   │          ⋮               ⋮\n",
       " 8730 │ 2018-12-30T17:00:00    5.32315\n",
       " 8731 │ 2018-12-30T18:00:00    0.001125\n",
       " 8732 │ 2018-12-30T19:00:00    0.0\n",
       " 8733 │ 2018-12-30T20:00:00    0.0\n",
       " 8734 │ 2018-12-30T21:00:00    0.0\n",
       " 8735 │ 2018-12-30T22:00:00    0.0\n",
       " 8736 │ 2018-12-30T23:00:00    0.0\n",
       "\u001b[36m                       8721 rows omitted\u001b[0m"
      ]
     },
     "metadata": {},
     "output_type": "display_data"
    }
   ],
   "source": [
    "solar_dec_ts_df = solar_actual_avg[forecast2model_indices, :]"
   ]
  },
  {
   "cell_type": "code",
   "execution_count": 9,
   "id": "c7da0049",
   "metadata": {},
   "outputs": [
    {
     "data": {
      "text/plain": [
       "5106-element Vector{Int64}:\n",
       "    7\n",
       "    8\n",
       "    9\n",
       "   10\n",
       "   11\n",
       "   12\n",
       "   13\n",
       "   14\n",
       "   15\n",
       "   16\n",
       "    ⋮\n",
       " 8728\n",
       " 8729\n",
       " 8730\n",
       " 8731\n",
       " 8732\n",
       " 8733\n",
       " 8734\n",
       " 8735\n",
       " 8736"
      ]
     },
     "metadata": {},
     "output_type": "display_data"
    }
   ],
   "source": [
    "sunny_decision_hours"
   ]
  },
  {
   "cell_type": "code",
   "execution_count": 10,
   "id": "91f975d6",
   "metadata": {},
   "outputs": [
    {
     "data": {
      "text/plain": [
       "4880-element Vector{Int64}:\n",
       "    8\n",
       "    9\n",
       "   10\n",
       "   11\n",
       "   12\n",
       "   13\n",
       "   14\n",
       "   15\n",
       "   16\n",
       "   17\n",
       "    ⋮\n",
       " 8723\n",
       " 8724\n",
       " 8725\n",
       " 8726\n",
       " 8727\n",
       " 8728\n",
       " 8729\n",
       " 8730\n",
       " 8731"
      ]
     },
     "metadata": {},
     "output_type": "display_data"
    }
   ],
   "source": [
    "# get the indices where solar_dec_ts_df is non-zero\n",
    "non_zero_indices = findall(solar_dec_ts_df[!, :avg_actual] .!= 0)"
   ]
  },
  {
   "cell_type": "code",
   "execution_count": 11,
   "id": "a8e05e69",
   "metadata": {},
   "outputs": [
    {
     "data": {
      "text/plain": [
       "false"
      ]
     },
     "metadata": {},
     "output_type": "display_data"
    }
   ],
   "source": [
    "sunny_decision_hours == non_zero_indices"
   ]
  },
  {
   "cell_type": "code",
   "execution_count": 12,
   "id": "e4a3c85c",
   "metadata": {},
   "outputs": [
    {
     "name": "stdout",
     "output_type": "stream",
     "text": [
      "Differences: [2574, 2598, 2622, 2646, 2670, 2694, 2718, 2742, 2766, 2790, 2814, 2838, 2862, 2886, 2910, 2934, 2958, 2982, 3006, 3030, 3054, 3078, 3102, 3126, 3150, 3174, 3198, 3222, 3246, 3270, 3294, 3318, 3342, 3366, 3390, 3414, 3438, 3462, 3486, 3510, 3534, 3558, 3582, 3606, 3630, 3654, 3678, 3702, 3726, 3750, 3774, 3798, 3822, 3846, 3870, 3894, 3918, 3942, 3966, 3990, 4014, 4038, 4062, 4086, 4110, 4134, 4158, 4182, 4206, 4230, 4254, 4278, 4302, 4326, 4350, 4374, 4398, 4422, 4446, 4470, 4494, 4518, 4542, 4566, 4590, 4614, 4638, 4662, 4686, 4710, 4734, 4758, 4782, 4806, 4830, 4854, 4878, 4902, 4926, 4950, 4974, 4998, 5022, 5046, 5070, 5094, 5118, 5142, 5166, 5190, 5214, 5238, 5262, 5286, 5310, 5334, 5358, 5382, 5406, 5430, 5454, 5478, 5502, 5526, 5550]\n"
     ]
    }
   ],
   "source": [
    "differences = setdiff(non_zero_indices, sunny_decision_hours)\n",
    "println(\"Differences: \", differences)"
   ]
  },
  {
   "cell_type": "code",
   "execution_count": 13,
   "id": "f981b03f",
   "metadata": {},
   "outputs": [
    {
     "data": {
      "text/plain": [
       "false"
      ]
     },
     "metadata": {},
     "output_type": "display_data"
    }
   ],
   "source": [
    "issubset(non_zero_indices, sunny_decision_hours)"
   ]
  },
  {
   "cell_type": "code",
   "execution_count": 14,
   "id": "e227311c",
   "metadata": {},
   "outputs": [
    {
     "name": "stdout",
     "output_type": "stream",
     "text": [
      "Indices not in sunny_decision_hours:\n",
      "2574\n",
      "2598\n",
      "2622\n",
      "2646\n",
      "2670\n",
      "2694\n",
      "2718\n",
      "2742\n",
      "2766\n",
      "2790\n",
      "2814\n",
      "2838\n",
      "2862\n",
      "2886\n",
      "2910\n",
      "2934\n",
      "2958\n",
      "2982\n",
      "3006\n",
      "3030\n",
      "3054\n",
      "3078\n",
      "3102\n",
      "3126\n",
      "3150\n",
      "3174\n",
      "3198\n",
      "3222\n",
      "3246\n",
      "3270\n",
      "3294\n",
      "3318\n",
      "3342\n",
      "3366\n",
      "3390\n",
      "3414\n",
      "3438\n",
      "3462\n",
      "3486\n",
      "3510\n",
      "3534\n",
      "3558\n",
      "3582\n",
      "3606\n",
      "3630\n",
      "3654\n",
      "3678\n",
      "3702\n",
      "3726\n",
      "3750\n",
      "3774\n",
      "3798\n",
      "3822\n",
      "3846\n",
      "3870\n",
      "3894\n",
      "3918\n",
      "3942\n",
      "3966\n",
      "3990\n",
      "4014\n",
      "4038\n",
      "4062\n",
      "4086\n",
      "4110\n",
      "4134\n",
      "4158\n",
      "4182\n",
      "4206\n",
      "4230\n",
      "4254\n",
      "4278\n",
      "4302\n",
      "4326\n",
      "4350\n",
      "4374\n",
      "4398\n",
      "4422\n",
      "4446\n",
      "4470\n",
      "4494\n",
      "4518\n",
      "4542\n",
      "4566\n",
      "4590\n",
      "4614\n",
      "4638\n",
      "4662\n",
      "4686\n",
      "4710\n",
      "4734\n",
      "4758\n",
      "4782\n",
      "4806\n",
      "4830\n",
      "4854\n",
      "4878\n",
      "4902\n",
      "4926\n",
      "4950\n",
      "4974\n",
      "4998\n",
      "5022\n",
      "5046\n",
      "5070\n",
      "5094\n",
      "5118\n",
      "5142\n",
      "5166\n",
      "5190\n",
      "5214\n",
      "5238\n",
      "5262\n",
      "5286\n",
      "5310\n",
      "5334\n",
      "5358\n",
      "5382\n",
      "5406\n",
      "5430\n",
      "5454\n",
      "5478\n",
      "5502\n",
      "5526\n",
      "5550\n"
     ]
    }
   ],
   "source": [
    "not_in_sunny_hours = setdiff(non_zero_indices, sunny_decision_hours)\n",
    "println(\"Indices not in sunny_decision_hours:\")\n",
    "for idx in not_in_sunny_hours\n",
    "    println(idx)\n",
    "end"
   ]
  },
  {
   "cell_type": "code",
   "execution_count": 15,
   "id": "7a9677d0",
   "metadata": {},
   "outputs": [
    {
     "name": "stdout",
     "output_type": "stream",
     "text": [
      "Step differences: [24, 24, 24, 24, 24, 24, 24, 24, 24, 24, 24, 24, 24, 24, 24, 24, 24, 24, 24, 24, 24, 24, 24, 24, 24, 24, 24, 24, 24, 24, 24, 24, 24, 24, 24, 24, 24, 24, 24, 24, 24, 24, 24, 24, 24, 24, 24, 24, 24, 24, 24, 24, 24, 24, 24, 24, 24, 24, 24, 24, 24, 24, 24, 24, 24, 24, 24, 24, 24, 24, 24, 24, 24, 24, 24, 24, 24, 24, 24, 24, 24, 24, 24, 24, 24, 24, 24, 24, 24, 24, 24, 24, 24, 24, 24, 24, 24, 24, 24, 24, 24, 24, 24, 24, 24, 24, 24, 24, 24, 24, 24, 24, 24, 24, 24, 24, 24, 24, 24, 24, 24, 24, 24, 24]\n"
     ]
    }
   ],
   "source": [
    "step_differences = diff(differences)\n",
    "println(\"Step differences: \", step_differences)"
   ]
  },
  {
   "cell_type": "code",
   "execution_count": 16,
   "id": "fae93dd5",
   "metadata": {},
   "outputs": [
    {
     "data": {
      "text/plain": [
       "363×28 Matrix{Float64}:\n",
       " 0.99  0.99  0.99      0.868687  …  0.343434   0.232323   0.99  0.99\n",
       " 0.99  0.99  0.01      0.01         0.171717   0.10101    0.99  0.99\n",
       " 0.99  0.99  0.01      0.505051     0.131313   0.0707071  0.99  0.99\n",
       " 0.99  0.99  0.848485  0.868687     0.232323   0.121212   0.99  0.99\n",
       " 0.99  0.99  0.757576  0.656566     0.272727   0.151515   0.99  0.99\n",
       " 0.99  0.99  0.01      0.01      …  0.505051   0.20202    0.99  0.99\n",
       " 0.99  0.99  0.99      0.01         0.494949   0.212121   0.99  0.99\n",
       " 0.99  0.99  0.575758  0.585859     0.0909091  0.141414   0.99  0.99\n",
       " 0.99  0.99  0.01      0.01         0.0808081  0.151515   0.99  0.99\n",
       " 0.99  0.99  0.01      0.01         0.363636   0.20202    0.99  0.99\n",
       " ⋮                               ⋱             ⋮                \n",
       " 0.99  0.99  0.01      0.636364     0.222222   0.0909091  0.99  0.99\n",
       " 0.99  0.99  0.01      0.01      …  0.272727   0.10101    0.99  0.99\n",
       " 0.99  0.99  0.01      0.606061     0.525253   0.171717   0.99  0.99\n",
       " 0.99  0.99  0.878788  0.959596     0.373737   0.151515   0.99  0.99\n",
       " 0.99  0.99  0.01      0.01         0.212121   0.171717   0.99  0.99\n",
       " 0.99  0.99  0.79798   0.818182     0.323232   0.10101    0.99  0.99\n",
       " 0.99  0.99  0.99      0.222222  …  0.020202   0.111111   0.99  0.99\n",
       " 0.99  0.99  0.919192  0.01         0.151515   0.191919   0.99  0.99\n",
       " 0.99  0.99  0.505051  0.252525     0.262626   0.161616   0.99  0.99"
      ]
     },
     "metadata": {},
     "output_type": "display_data"
    }
   ],
   "source": [
    "x_upd"
   ]
  },
  {
   "cell_type": "code",
   "execution_count": 17,
   "id": "b930d4b6",
   "metadata": {},
   "outputs": [],
   "source": [
    "if ishermitian(cor(x_upd))\n",
    "    Σ_Z = LinearAlgebra.cholesky(cor(x_upd));\n",
    "else\n",
    "    Σ_Z = factorize(cor(x_upd));\n",
    "end\n",
    "M = Σ_Z.L;"
   ]
  },
  {
   "cell_type": "code",
   "execution_count": 58,
   "id": "2437cf2c",
   "metadata": {},
   "outputs": [],
   "source": [
    "\n",
    "# initialize vector for indices of zeros\n",
    "solar_zero_indices = Vector{Int64}();\n",
    "\n",
    "allequal_ind_1d = allequal_ind[1:length(allequal_ind) ÷ 2];\n",
    "\n",
    "# loop through the number issue times\n",
    "for i in issue_idcs\n",
    "    solar_zero_indices = vcat(solar_zero_indices, allequal_ind_1d .+ (i-1)*24)\n",
    "end\n",
    "# checks of lengths - both are TRUE\n",
    "# println(dec_mdl_lkd_len == 363*24+24)\n",
    "# println(363*48 == size(corr_forecast_issue_times,1))\n",
    "\n",
    "solar_vector = ones(dec_mdl_lkd_len);\n",
    "# for idx in solar_zero_indices\n",
    "#     solar_vector[idx] = 0\n",
    "# end\n",
    "solar_vector[solar_zero_indices] .= 0;\n",
    "\n",
    "all_decision_hours = Set(collect(1:dec_mdl_lkd_len));\n",
    "sunny_decision_hours = sort(collect(setdiff(all_decision_hours, solar_zero_indices)));\n"
   ]
  },
  {
   "cell_type": "code",
   "execution_count": 19,
   "id": "65dea7ae",
   "metadata": {},
   "outputs": [
    {
     "data": {
      "text/plain": [
       "3630-element Vector{Int64}:\n",
       "    1\n",
       "    2\n",
       "    3\n",
       "    4\n",
       "    5\n",
       "    6\n",
       "   21\n",
       "   22\n",
       "   23\n",
       "   24\n",
       "    ⋮\n",
       " 8690\n",
       " 8691\n",
       " 8692\n",
       " 8693\n",
       " 8694\n",
       " 8709\n",
       " 8710\n",
       " 8711\n",
       " 8712"
      ]
     },
     "metadata": {},
     "output_type": "display_data"
    }
   ],
   "source": [
    "solar_zero_indices"
   ]
  },
  {
   "cell_type": "code",
   "execution_count": 59,
   "id": "9c086616",
   "metadata": {},
   "outputs": [
    {
     "data": {
      "text/plain": [
       "5469-element Vector{Int64}:\n",
       "    6\n",
       "    7\n",
       "    8\n",
       "    9\n",
       "   10\n",
       "   11\n",
       "   12\n",
       "   13\n",
       "   14\n",
       "   15\n",
       "    ⋮\n",
       " 8728\n",
       " 8729\n",
       " 8730\n",
       " 8731\n",
       " 8732\n",
       " 8733\n",
       " 8734\n",
       " 8735\n",
       " 8736"
      ]
     },
     "metadata": {},
     "output_type": "display_data"
    }
   ],
   "source": [
    "sunny_decision_hours"
   ]
  },
  {
   "cell_type": "code",
   "execution_count": 22,
   "id": "20ffd54c",
   "metadata": {},
   "outputs": [
    {
     "name": "stdout",
     "output_type": "stream",
     "text": [
      "0.012837500000000002\n",
      "Error at index: 2574\n",
      "Day of the year: 108\n",
      "0.10270000000000001\n",
      "Error at index: 2598\n",
      "Day of the year: 109\n",
      "0.07394816666666666\n",
      "Error at index: 2622\n",
      "Day of the year: 110\n",
      "0.03361\n",
      "Error at index: 2646\n",
      "Day of the year: 111\n",
      "0.15426291666666667\n",
      "Error at index: 2670\n",
      "Day of the year: 112\n",
      "0.41625500000000004\n",
      "Error at index: 2694\n",
      "Day of the year: 113\n",
      "0.48291816666666665\n",
      "Error at index: 2718\n",
      "Day of the year: 114\n",
      "0.42666541666666663\n",
      "Error at index: 2742\n",
      "Day of the year: 115\n",
      "1.0253154166666667\n",
      "Error at index: 2766\n",
      "Day of the year: 116\n",
      "1.1746949999999998\n",
      "Error at index: 2790\n",
      "Day of the year: 117\n",
      "1.4401754166666667\n",
      "Error at index: 2814\n",
      "Day of the year: 118\n",
      "2.1231381666666667\n",
      "Error at index: 2838\n",
      "Day of the year: 119\n",
      "2.716945416666667\n",
      "Error at index: 2862\n",
      "Day of the year: 120\n",
      "1.3874147083333332\n",
      "Error at index: 2886\n",
      "Day of the year: 121\n",
      "0.19481608333333333\n",
      "Error at index: 2910\n",
      "Day of the year: 122\n",
      "0.1754125\n",
      "Error at index: 2934\n",
      "Day of the year: 123\n",
      "0.109375\n",
      "Error at index: 2958\n",
      "Day of the year: 124\n",
      "2.5447700833333333\n",
      "Error at index: 2982\n",
      "Day of the year: 125\n",
      "5.583255583333333\n",
      "Error at index: 3006\n",
      "Day of the year: 126\n",
      "5.875557875000001\n",
      "Error at index: 3030\n",
      "Day of the year: 127\n",
      "6.069577083333333\n",
      "Error at index: 3054\n",
      "Day of the year: 128\n",
      "4.28059425\n",
      "Error at index: 3078\n",
      "Day of the year: 129\n",
      "7.2536832083333325\n",
      "Error at index: 3102\n",
      "Day of the year: 130\n",
      "7.4275178749999995\n",
      "Error at index: 3126\n",
      "Day of the year: 131\n",
      "6.771989083333334\n",
      "Error at index: 3150\n",
      "Day of the year: 132\n",
      "7.276474374999999\n",
      "Error at index: 3174\n",
      "Day of the year: 133\n",
      "6.7490435416666665\n",
      "Error at index: 3198\n",
      "Day of the year: 134\n",
      "5.761328208333334\n",
      "Error at index: 3222\n",
      "Day of the year: 135\n",
      "10.297176625\n",
      "Error at index: 3246\n",
      "Day of the year: 136\n",
      "10.536174916666667\n",
      "Error at index: 3270\n",
      "Day of the year: 137\n",
      "6.084159541666668\n",
      "Error at index: 3294\n",
      "Day of the year: 138\n",
      "5.908126875\n",
      "Error at index: 3318\n",
      "Day of the year: 139\n",
      "3.616717583333333\n",
      "Error at index: 3342\n",
      "Day of the year: 140\n",
      "4.904368166666667\n",
      "Error at index: 3366\n",
      "Day of the year: 141\n",
      "7.425475125000001\n",
      "Error at index: 3390\n",
      "Day of the year: 142\n",
      "13.034650958333335\n",
      "Error at index: 3414\n",
      "Day of the year: 143\n",
      "14.446677458333333\n",
      "Error at index: 3438\n",
      "Day of the year: 144\n",
      "15.058022458333333\n",
      "Error at index: 3462\n",
      "Day of the year: 145\n",
      "7.877292958333334\n",
      "Error at index: 3486\n",
      "Day of the year: 146\n",
      "14.399359166666668\n",
      "Error at index: 3510\n",
      "Day of the year: 147\n",
      "15.7378475\n",
      "Error at index: 3534\n",
      "Day of the year: 148\n",
      "15.914143583333333\n",
      "Error at index: 3558\n",
      "Day of the year: 149\n",
      "14.586579833333333\n",
      "Error at index: 3582\n",
      "Day of the year: 150\n",
      "14.160860416666667\n",
      "Error at index: 3606\n",
      "Day of the year: 151\n",
      "11.600436583333334\n",
      "Error at index: 3630\n",
      "Day of the year: 152\n",
      "9.163501958333333\n",
      "Error at index: 3654\n",
      "Day of the year: 153\n",
      "10.704165625\n",
      "Error at index: 3678\n",
      "Day of the year: 154\n",
      "4.573695708333333\n",
      "Error at index: 3702\n",
      "Day of the year: 155\n",
      "8.192142791666667\n",
      "Error at index: 3726\n",
      "Day of the year: 156\n",
      "9.707723083333335\n",
      "Error at index: 3750\n",
      "Day of the year: 157\n",
      "14.040122708333334\n",
      "Error at index: 3774\n",
      "Day of the year: 158\n",
      "12.369078041666667\n",
      "Error at index: 3798\n",
      "Day of the year: 159\n",
      "16.976189958333332\n",
      "Error at index: 3822\n",
      "Day of the year: 160\n",
      "9.031275333333333\n",
      "Error at index: 3846\n",
      "Day of the year: 161\n",
      "8.905730875000001\n",
      "Error at index: 3870\n",
      "Day of the year: 162\n",
      "12.8219335\n",
      "Error at index: 3894\n",
      "Day of the year: 163\n",
      "16.56000675\n",
      "Error at index: 3918\n",
      "Day of the year: 164\n",
      "17.048610749999998\n",
      "Error at index: 3942\n",
      "Day of the year: 165\n",
      "16.940782291666665\n",
      "Error at index: 3966\n",
      "Day of the year: 166\n",
      "15.112073416666666\n",
      "Error at index: 3990\n",
      "Day of the year: 167\n",
      "12.855268666666667\n",
      "Error at index: 4014\n",
      "Day of the year: 168\n",
      "7.349631250000001\n",
      "Error at index: 4038\n",
      "Day of the year: 169\n",
      "0.43138479166666666\n",
      "Error at index: 4062\n",
      "Day of the year: 170\n",
      "2.887492208333333\n",
      "Error at index: 4086\n",
      "Day of the year: 171\n",
      "9.169242166666667\n",
      "Error at index: 4110\n",
      "Day of the year: 172\n",
      "14.932277333333333\n",
      "Error at index: 4134\n",
      "Day of the year: 173\n",
      "14.001019249999999\n",
      "Error at index: 4158\n",
      "Day of the year: 174\n",
      "12.08165125\n",
      "Error at index: 4182\n",
      "Day of the year: 175\n",
      "6.080612958333334\n",
      "Error at index: 4206\n",
      "Day of the year: 176\n",
      "13.674554875\n",
      "Error at index: 4230\n",
      "Day of the year: 177\n",
      "15.290593791666668\n",
      "Error at index: 4254\n",
      "Day of the year: 178\n",
      "14.451541\n",
      "Error at index: 4278\n",
      "Day of the year: 179\n",
      "12.319549833333333\n",
      "Error at index: 4302\n",
      "Day of the year: 180\n",
      "6.51981275\n",
      "Error at index: 4326\n",
      "Day of the year: 181\n",
      "5.217825958333333\n",
      "Error at index: 4350\n",
      "Day of the year: 182\n",
      "9.075785875\n",
      "Error at index: 4374\n",
      "Day of the year: 183\n",
      "7.714964791666667\n",
      "Error at index: 4398\n",
      "Day of the year: 184\n",
      "1.447062\n",
      "Error at index: 4422\n",
      "Day of the year: 185\n",
      "6.1436382499999995\n",
      "Error at index: 4446\n",
      "Day of the year: 186\n",
      "9.150510291666667\n",
      "Error at index: 4470\n",
      "Day of the year: 187\n",
      "6.062033333333333\n",
      "Error at index: 4494\n",
      "Day of the year: 188\n",
      "4.263698375\n",
      "Error at index: 4518\n",
      "Day of the year: 189\n",
      "5.054836083333332\n",
      "Error at index: 4542\n",
      "Day of the year: 190\n",
      "5.789938708333334\n",
      "Error at index: 4566\n",
      "Day of the year: 191\n",
      "2.2603436250000004\n",
      "Error at index: 4590\n",
      "Day of the year: 192\n",
      "3.0204832916666664\n",
      "Error at index: 4614\n",
      "Day of the year: 193\n",
      "7.331311958333333\n",
      "Error at index: 4638\n",
      "Day of the year: 194\n",
      "7.642514000000001\n",
      "Error at index: 4662\n",
      "Day of the year: 195\n",
      "5.845733416666666\n",
      "Error at index: 4686\n",
      "Day of the year: 196\n",
      "0.7858815\n",
      "Error at index: 4710\n",
      "Day of the year: 197\n",
      "1.1028915833333335\n",
      "Error at index: 4734\n",
      "Day of the year: 198\n",
      "0.8413897499999999\n",
      "Error at index: 4758\n",
      "Day of the year: 199\n",
      "1.2566411666666666\n",
      "Error at index: 4782\n",
      "Day of the year: 200\n",
      "2.8792508333333338\n",
      "Error at index: 4806\n",
      "Day of the year: 201\n",
      "2.0102715416666666\n",
      "Error at index: 4830\n",
      "Day of the year: 202\n",
      "2.6306117500000004\n",
      "Error at index: 4854\n",
      "Day of the year: 203\n",
      "0.4012074583333333\n",
      "Error at index: 4878\n",
      "Day of the year: 204\n",
      "0.6567839583333334\n",
      "Error at index: 4902\n",
      "Day of the year: 205\n",
      "3.1981925416666663\n",
      "Error at index: 4926\n",
      "Day of the year: 206\n",
      "2.9382387083333334\n",
      "Error at index: 4950\n",
      "Day of the year: 207\n",
      "1.8341099166666666\n",
      "Error at index: 4974\n",
      "Day of the year: 208\n",
      "1.5605807916666665\n",
      "Error at index: 4998\n",
      "Day of the year: 209\n",
      "1.3318485833333333\n",
      "Error at index: 5022\n",
      "Day of the year: 210\n",
      "0.7531648333333333\n",
      "Error at index: 5046\n",
      "Day of the year: 211\n",
      "0.5544104166666667\n",
      "Error at index: 5070\n",
      "Day of the year: 212\n",
      "1.9732425000000002\n",
      "Error at index: 5094\n",
      "Day of the year: 213\n",
      "1.5387260833333336\n",
      "Error at index: 5118\n",
      "Day of the year: 214\n",
      "1.2373525\n",
      "Error at index: 5142\n",
      "Day of the year: 215\n",
      "0.9155010833333334\n",
      "Error at index: 5166\n",
      "Day of the year: 216\n",
      "0.7835549999999999\n",
      "Error at index: 5190\n",
      "Day of the year: 217\n",
      "0.9438454166666667\n",
      "Error at index: 5214\n",
      "Day of the year: 218\n",
      "0.7303675000000002\n",
      "Error at index: 5238\n",
      "Day of the year: 219\n",
      "0.38670541666666663\n",
      "Error at index: 5262\n",
      "Day of the year: 220\n",
      "0.3995429166666667\n",
      "Error at index: 5286\n",
      "Day of the year: 221\n",
      "0.08748566666666667\n",
      "Error at index: 5310\n",
      "Day of the year: 222\n",
      "0.06262791666666667\n",
      "Error at index: 5334\n",
      "Day of the year: 223\n",
      "0.003575\n",
      "Error at index: 5358\n",
      "Day of the year: 224\n",
      "0.025675000000000003\n",
      "Error at index: 5382\n",
      "Day of the year: 225\n",
      "0.025675000000000003\n",
      "Error at index: 5406\n",
      "Day of the year: 226\n",
      "0.07114541666666667\n",
      "Error at index: 5430\n",
      "Day of the year: 227\n",
      "0.05135000000000001\n",
      "Error at index: 5454\n",
      "Day of the year: 228\n",
      "0.05135000000000001\n",
      "Error at index: 5478\n",
      "Day of the year: 229\n",
      "0.047775000000000005\n",
      "Error at index: 5502\n",
      "Day of the year: 230\n",
      "0.025675000000000003\n",
      "Error at index: 5526\n",
      "Day of the year: 231\n",
      "0.025675000000000003\n",
      "Error at index: 5550\n",
      "Day of the year: 232\n"
     ]
    }
   ],
   "source": [
    "# verify that where solar_zero_indices are, that he solar_dec_ts_df is zero in :avg_actual\n",
    "for idx in solar_zero_indices\n",
    "    hour_idx = idx - 1\n",
    "    if solar_dec_ts_df[hour_idx + 1, :avg_actual] != 0\n",
    "        println(solar_dec_ts_df[hour_idx + 1, :avg_actual])\n",
    "        println(\"Error at index: \", idx)\n",
    "        println(\"Day of the year: \", Dates.dayofyear(start_date + Dates.Hour(hour_idx)))\n",
    "    end\n",
    "end"
   ]
  },
  {
   "cell_type": "code",
   "execution_count": 21,
   "id": "61873008",
   "metadata": {},
   "outputs": [
    {
     "data": {
      "text/plain": [
       "1728"
      ]
     },
     "metadata": {},
     "output_type": "display_data"
    }
   ],
   "source": [
    "72*24"
   ]
  },
  {
   "cell_type": "markdown",
   "id": "76ca97a4",
   "metadata": {},
   "source": [
    "Ok, I suspect something is wrong with sunny_decision_hours"
   ]
  },
  {
   "cell_type": "code",
   "execution_count": 23,
   "id": "7081798c",
   "metadata": {},
   "outputs": [
    {
     "data": {
      "text/plain": [
       "10-element Vector{Int64}:\n",
       "  1\n",
       "  2\n",
       "  3\n",
       "  4\n",
       "  5\n",
       "  6\n",
       " 21\n",
       " 22\n",
       " 23\n",
       " 24"
      ]
     },
     "metadata": {},
     "output_type": "display_data"
    }
   ],
   "source": [
    "allequal_ind_1d\n"
   ]
  },
  {
   "cell_type": "markdown",
   "id": "2c298353",
   "metadata": {},
   "source": [
    "So these are the columns where all the solar output should be zero but is that true?"
   ]
  },
  {
   "cell_type": "code",
   "execution_count": 28,
   "id": "fc15668d",
   "metadata": {},
   "outputs": [
    {
     "name": "stdout",
     "output_type": "stream",
     "text": [
      "Error at index: 2574\n",
      "Value: 0.012837500000000002\n",
      "Error at index: 2598\n",
      "Value: 0.10270000000000001\n",
      "Error at index: 2622\n",
      "Value: 0.07394816666666666\n",
      "Error at index: 2646\n",
      "Value: 0.03361\n",
      "Error at index: 2670\n",
      "Value: 0.15426291666666667\n",
      "Error at index: 2694\n",
      "Value: 0.41625500000000004\n",
      "Error at index: 2718\n",
      "Value: 0.48291816666666665\n",
      "Error at index: 2742\n",
      "Value: 0.42666541666666663\n",
      "Error at index: 2766\n",
      "Value: 1.0253154166666667\n",
      "Error at index: 2790\n",
      "Value: 1.1746949999999998\n",
      "Error at index: 2814\n",
      "Value: 1.4401754166666667\n",
      "Error at index: 2838\n",
      "Value: 2.1231381666666667\n",
      "Error at index: 2862\n",
      "Value: 2.716945416666667\n",
      "Error at index: 2886\n",
      "Value: 1.3874147083333332\n",
      "Error at index: 2910\n",
      "Value: 0.19481608333333333\n",
      "Error at index: 2934\n",
      "Value: 0.1754125\n",
      "Error at index: 2958\n",
      "Value: 0.109375\n",
      "Error at index: 2982\n",
      "Value: 2.5447700833333333\n",
      "Error at index: 3006\n",
      "Value: 5.583255583333333\n",
      "Error at index: 3030\n",
      "Value: 5.875557875000001\n",
      "Error at index: 3054\n",
      "Value: 6.069577083333333\n",
      "Error at index: 3078\n",
      "Value: 4.28059425\n",
      "Error at index: 3102\n",
      "Value: 7.2536832083333325\n",
      "Error at index: 3126\n",
      "Value: 7.4275178749999995\n",
      "Error at index: 3150\n",
      "Value: 6.771989083333334\n",
      "Error at index: 3174\n",
      "Value: 7.276474374999999\n",
      "Error at index: 3198\n",
      "Value: 6.7490435416666665\n",
      "Error at index: 3222\n",
      "Value: 5.761328208333334\n",
      "Error at index: 3246\n",
      "Value: 10.297176625\n",
      "Error at index: 3270\n",
      "Value: 10.536174916666667\n",
      "Error at index: 3294\n",
      "Value: 6.084159541666668\n",
      "Error at index: 3318\n",
      "Value: 5.908126875\n",
      "Error at index: 3342\n",
      "Value: 3.616717583333333\n",
      "Error at index: 3366\n",
      "Value: 4.904368166666667\n",
      "Error at index: 3390\n",
      "Value: 7.425475125000001\n",
      "Error at index: 3414\n",
      "Value: 13.034650958333335\n",
      "Error at index: 3438\n",
      "Value: 14.446677458333333\n",
      "Error at index: 3462\n",
      "Value: 15.058022458333333\n",
      "Error at index: 3486\n",
      "Value: 7.877292958333334\n",
      "Error at index: 3510\n",
      "Value: 14.399359166666668\n",
      "Error at index: 3534\n",
      "Value: 15.7378475\n",
      "Error at index: 3558\n",
      "Value: 15.914143583333333\n",
      "Error at index: 3582\n",
      "Value: 14.586579833333333\n",
      "Error at index: 3606\n",
      "Value: 14.160860416666667\n",
      "Error at index: 3630\n",
      "Value: 11.600436583333334\n",
      "Error at index: 3654\n",
      "Value: 9.163501958333333\n",
      "Error at index: 3678\n",
      "Value: 10.704165625\n",
      "Error at index: 3702\n",
      "Value: 4.573695708333333\n",
      "Error at index: 3726\n",
      "Value: 8.192142791666667\n",
      "Error at index: 3750\n",
      "Value: 9.707723083333335\n",
      "Error at index: 3774\n",
      "Value: 14.040122708333334\n",
      "Error at index: 3798\n",
      "Value: 12.369078041666667\n",
      "Error at index: 3822\n",
      "Value: 16.976189958333332\n",
      "Error at index: 3846\n",
      "Value: 9.031275333333333\n",
      "Error at index: 3870\n",
      "Value: 8.905730875000001\n",
      "Error at index: 3894\n",
      "Value: 12.8219335\n",
      "Error at index: 3918\n",
      "Value: 16.56000675\n",
      "Error at index: 3942\n",
      "Value: 17.048610749999998\n",
      "Error at index: 3966\n",
      "Value: 16.940782291666665\n",
      "Error at index: 3990\n",
      "Value: 15.112073416666666\n",
      "Error at index: 4014\n",
      "Value: 12.855268666666667\n",
      "Error at index: 4038\n",
      "Value: 7.349631250000001\n",
      "Error at index: 4062\n",
      "Value: 0.43138479166666666\n",
      "Error at index: 4086\n",
      "Value: 2.887492208333333\n",
      "Error at index: 4110\n",
      "Value: 9.169242166666667\n",
      "Error at index: 4134\n",
      "Value: 14.932277333333333\n",
      "Error at index: 4158\n",
      "Value: 14.001019249999999\n",
      "Error at index: 4182\n",
      "Value: 12.08165125\n",
      "Error at index: 4206\n",
      "Value: 6.080612958333334\n",
      "Error at index: 4230\n",
      "Value: 13.674554875\n",
      "Error at index: 4254\n",
      "Value: 15.290593791666668\n",
      "Error at index: 4278\n",
      "Value: 14.451541\n",
      "Error at index: 4302\n",
      "Value: 12.319549833333333\n",
      "Error at index: 4326\n",
      "Value: 6.51981275\n",
      "Error at index: 4350\n",
      "Value: 5.217825958333333\n",
      "Error at index: 4374\n",
      "Value: 9.075785875\n",
      "Error at index: 4398\n",
      "Value: 7.714964791666667\n",
      "Error at index: 4422\n",
      "Value: 1.447062\n",
      "Error at index: 4446\n",
      "Value: 6.1436382499999995\n",
      "Error at index: 4470\n",
      "Value: 9.150510291666667\n",
      "Error at index: 4494\n",
      "Value: 6.062033333333333\n",
      "Error at index: 4518\n",
      "Value: 4.263698375\n",
      "Error at index: 4542\n",
      "Value: 5.054836083333332\n",
      "Error at index: 4566\n",
      "Value: 5.789938708333334\n",
      "Error at index: 4590\n",
      "Value: 2.2603436250000004\n",
      "Error at index: 4614\n",
      "Value: 3.0204832916666664\n",
      "Error at index: 4638\n",
      "Value: 7.331311958333333\n",
      "Error at index: 4662\n",
      "Value: 7.642514000000001\n",
      "Error at index: 4686\n",
      "Value: 5.845733416666666\n",
      "Error at index: 4710\n",
      "Value: 0.7858815\n",
      "Error at index: 4734\n",
      "Value: 1.1028915833333335\n",
      "Error at index: 4758\n",
      "Value: 0.8413897499999999\n",
      "Error at index: 4782\n",
      "Value: 1.2566411666666666\n",
      "Error at index: 4806\n",
      "Value: 2.8792508333333338\n",
      "Error at index: 4830\n",
      "Value: 2.0102715416666666\n",
      "Error at index: 4854\n",
      "Value: 2.6306117500000004\n",
      "Error at index: 4878\n",
      "Value: 0.4012074583333333\n",
      "Error at index: 4902\n",
      "Value: 0.6567839583333334\n",
      "Error at index: 4926\n",
      "Value: 3.1981925416666663\n",
      "Error at index: 4950\n",
      "Value: 2.9382387083333334\n",
      "Error at index: 4974\n",
      "Value: 1.8341099166666666\n",
      "Error at index: 4998\n",
      "Value: 1.5605807916666665\n",
      "Error at index: 5022\n",
      "Value: 1.3318485833333333\n",
      "Error at index: 5046\n",
      "Value: 0.7531648333333333\n",
      "Error at index: 5070\n",
      "Value: 0.5544104166666667\n",
      "Error at index: 5094\n",
      "Value: 1.9732425000000002\n",
      "Error at index: 5118\n",
      "Value: 1.5387260833333336\n",
      "Error at index: 5142\n",
      "Value: 1.2373525\n",
      "Error at index: 5166\n",
      "Value: 0.9155010833333334\n",
      "Error at index: 5190\n",
      "Value: 0.7835549999999999\n",
      "Error at index: 5214\n",
      "Value: 0.9438454166666667\n",
      "Error at index: 5238\n",
      "Value: 0.7303675000000002\n",
      "Error at index: 5262\n",
      "Value: 0.38670541666666663\n",
      "Error at index: 5286\n",
      "Value: 0.3995429166666667\n",
      "Error at index: 5310\n",
      "Value: 0.08748566666666667\n",
      "Error at index: 5334\n",
      "Value: 0.06262791666666667\n",
      "Error at index: 5358\n",
      "Value: 0.003575\n",
      "Error at index: 5382\n",
      "Value: 0.025675000000000003\n",
      "Error at index: 5406\n",
      "Value: 0.025675000000000003\n",
      "Error at index: 5430\n",
      "Value: 0.07114541666666667\n",
      "Error at index: 5454\n",
      "Value: 0.05135000000000001\n",
      "Error at index: 5478\n",
      "Value: 0.05135000000000001\n",
      "Error at index: 5502\n",
      "Value: 0.047775000000000005\n",
      "Error at index: 5526\n",
      "Value: 0.025675000000000003\n",
      "Error at index: 5550\n",
      "Value: 0.025675000000000003\n"
     ]
    }
   ],
   "source": [
    "zero_indices = Vector{Int64}()\n",
    "\n",
    "for idx in allequal_ind_1d\n",
    "    for i in 0:363\n",
    "        check_idx = idx + i * 24\n",
    "        if solar_dec_ts_df[check_idx, :avg_actual] != 0\n",
    "            println(\"Error at index: \", check_idx)\n",
    "            println(\"Value: \", solar_dec_ts_df[check_idx, :avg_actual])\n",
    "        else\n",
    "            push!(zero_indices, check_idx)\n",
    "        end\n",
    "    end\n",
    "end"
   ]
  },
  {
   "cell_type": "code",
   "execution_count": 32,
   "id": "d464ce4f",
   "metadata": {},
   "outputs": [
    {
     "data": {
      "text/plain": [
       "0.0"
      ]
     },
     "metadata": {},
     "output_type": "display_data"
    }
   ],
   "source": [
    "# find the max value from solar_dec_ts_df in :avg_actual\n",
    "max_value = maximum(solar_dec_ts_df[!, :avg_actual])\n",
    "avg_value = mean(solar_dec_ts_df[!, :avg_actual])\n",
    "# find the 1 percentile value\n",
    "percentile_1 = quantile(solar_dec_ts_df[!, :avg_actual], 0.01)\n",
    "percentile_2 = quantile(solar_dec_ts_df[!, :avg_actual], 0.02)"
   ]
  },
  {
   "cell_type": "markdown",
   "id": "dfe9a9f3",
   "metadata": {},
   "source": [
    "What if I put the actuals into a matrix form and did the all same proces?"
   ]
  },
  {
   "cell_type": "code",
   "execution_count": 33,
   "id": "a3e86bce",
   "metadata": {},
   "outputs": [
    {
     "data": {
      "text/plain": [
       "17424"
      ]
     },
     "metadata": {},
     "output_type": "display_data"
    }
   ],
   "source": [
    "363*48"
   ]
  },
  {
   "cell_type": "code",
   "execution_count": 35,
   "id": "6c42933b",
   "metadata": {},
   "outputs": [
    {
     "name": "stdout",
     "output_type": "stream",
     "text": [
      "(17424, 2)"
     ]
    }
   ],
   "source": [
    "print(size(corr_forecast_issue_times))"
   ]
  },
  {
   "cell_type": "code",
   "execution_count": 45,
   "id": "a3f38498",
   "metadata": {},
   "outputs": [
    {
     "data": {
      "text/html": [
       "<div><div style = \"float: left;\"><span>8736×2 DataFrame</span></div><div style = \"float: right;\"><span style = \"font-style: italic;\">8711 rows omitted</span></div><div style = \"clear: both;\"></div></div><div class = \"data-frame\" style = \"overflow-x: scroll;\"><table class = \"data-frame\" style = \"margin-bottom: 6px;\"><thead><tr class = \"header\"><th class = \"rowNumber\" style = \"font-weight: bold; text-align: right;\">Row</th><th style = \"text-align: left;\">time_index</th><th style = \"text-align: left;\">avg_actual</th></tr><tr class = \"subheader headerLastRow\"><th class = \"rowNumber\" style = \"font-weight: bold; text-align: right;\"></th><th title = \"DateTime\" style = \"text-align: left;\">DateTime</th><th title = \"Float64\" style = \"text-align: left;\">Float64</th></tr></thead><tbody><tr><td class = \"rowNumber\" style = \"font-weight: bold; text-align: right;\">1</td><td style = \"text-align: left;\">2018-01-01T00:00:00</td><td style = \"text-align: right;\">0.0</td></tr><tr><td class = \"rowNumber\" style = \"font-weight: bold; text-align: right;\">2</td><td style = \"text-align: left;\">2018-01-01T01:00:00</td><td style = \"text-align: right;\">0.0</td></tr><tr><td class = \"rowNumber\" style = \"font-weight: bold; text-align: right;\">3</td><td style = \"text-align: left;\">2018-01-01T02:00:00</td><td style = \"text-align: right;\">0.0</td></tr><tr><td class = \"rowNumber\" style = \"font-weight: bold; text-align: right;\">4</td><td style = \"text-align: left;\">2018-01-01T03:00:00</td><td style = \"text-align: right;\">0.0</td></tr><tr><td class = \"rowNumber\" style = \"font-weight: bold; text-align: right;\">5</td><td style = \"text-align: left;\">2018-01-01T04:00:00</td><td style = \"text-align: right;\">0.0</td></tr><tr><td class = \"rowNumber\" style = \"font-weight: bold; text-align: right;\">6</td><td style = \"text-align: left;\">2018-01-01T05:00:00</td><td style = \"text-align: right;\">0.0</td></tr><tr><td class = \"rowNumber\" style = \"font-weight: bold; text-align: right;\">7</td><td style = \"text-align: left;\">2018-01-01T06:00:00</td><td style = \"text-align: right;\">0.0</td></tr><tr><td class = \"rowNumber\" style = \"font-weight: bold; text-align: right;\">8</td><td style = \"text-align: left;\">2018-01-01T07:00:00</td><td style = \"text-align: right;\">6.91694</td></tr><tr><td class = \"rowNumber\" style = \"font-weight: bold; text-align: right;\">9</td><td style = \"text-align: left;\">2018-01-01T08:00:00</td><td style = \"text-align: right;\">135.23</td></tr><tr><td class = \"rowNumber\" style = \"font-weight: bold; text-align: right;\">10</td><td style = \"text-align: left;\">2018-01-01T09:00:00</td><td style = \"text-align: right;\">345.787</td></tr><tr><td class = \"rowNumber\" style = \"font-weight: bold; text-align: right;\">11</td><td style = \"text-align: left;\">2018-01-01T10:00:00</td><td style = \"text-align: right;\">372.168</td></tr><tr><td class = \"rowNumber\" style = \"font-weight: bold; text-align: right;\">12</td><td style = \"text-align: left;\">2018-01-01T11:00:00</td><td style = \"text-align: right;\">385.117</td></tr><tr><td class = \"rowNumber\" style = \"font-weight: bold; text-align: right;\">13</td><td style = \"text-align: left;\">2018-01-01T12:00:00</td><td style = \"text-align: right;\">429.001</td></tr><tr><td style = \"text-align: right;\">&vellip;</td><td style = \"text-align: right;\">&vellip;</td><td style = \"text-align: right;\">&vellip;</td></tr><tr><td class = \"rowNumber\" style = \"font-weight: bold; text-align: right;\">8725</td><td style = \"text-align: left;\">2018-12-30T12:00:00</td><td style = \"text-align: right;\">107.844</td></tr><tr><td class = \"rowNumber\" style = \"font-weight: bold; text-align: right;\">8726</td><td style = \"text-align: left;\">2018-12-30T13:00:00</td><td style = \"text-align: right;\">119.005</td></tr><tr><td class = \"rowNumber\" style = \"font-weight: bold; text-align: right;\">8727</td><td style = \"text-align: left;\">2018-12-30T14:00:00</td><td style = \"text-align: right;\">95.8901</td></tr><tr><td class = \"rowNumber\" style = \"font-weight: bold; text-align: right;\">8728</td><td style = \"text-align: left;\">2018-12-30T15:00:00</td><td style = \"text-align: right;\">72.3892</td></tr><tr><td class = \"rowNumber\" style = \"font-weight: bold; text-align: right;\">8729</td><td style = \"text-align: left;\">2018-12-30T16:00:00</td><td style = \"text-align: right;\">55.2458</td></tr><tr><td class = \"rowNumber\" style = \"font-weight: bold; text-align: right;\">8730</td><td style = \"text-align: left;\">2018-12-30T17:00:00</td><td style = \"text-align: right;\">5.32315</td></tr><tr><td class = \"rowNumber\" style = \"font-weight: bold; text-align: right;\">8731</td><td style = \"text-align: left;\">2018-12-30T18:00:00</td><td style = \"text-align: right;\">0.001125</td></tr><tr><td class = \"rowNumber\" style = \"font-weight: bold; text-align: right;\">8732</td><td style = \"text-align: left;\">2018-12-30T19:00:00</td><td style = \"text-align: right;\">0.0</td></tr><tr><td class = \"rowNumber\" style = \"font-weight: bold; text-align: right;\">8733</td><td style = \"text-align: left;\">2018-12-30T20:00:00</td><td style = \"text-align: right;\">0.0</td></tr><tr><td class = \"rowNumber\" style = \"font-weight: bold; text-align: right;\">8734</td><td style = \"text-align: left;\">2018-12-30T21:00:00</td><td style = \"text-align: right;\">0.0</td></tr><tr><td class = \"rowNumber\" style = \"font-weight: bold; text-align: right;\">8735</td><td style = \"text-align: left;\">2018-12-30T22:00:00</td><td style = \"text-align: right;\">0.0</td></tr><tr><td class = \"rowNumber\" style = \"font-weight: bold; text-align: right;\">8736</td><td style = \"text-align: left;\">2018-12-30T23:00:00</td><td style = \"text-align: right;\">0.0</td></tr></tbody></table></div>"
      ],
      "text/latex": [
       "\\begin{tabular}{r|cc}\n",
       "\t& time\\_index & avg\\_actual\\\\\n",
       "\t\\hline\n",
       "\t& DateTime & Float64\\\\\n",
       "\t\\hline\n",
       "\t1 & 2018-01-01T00:00:00 & 0.0 \\\\\n",
       "\t2 & 2018-01-01T01:00:00 & 0.0 \\\\\n",
       "\t3 & 2018-01-01T02:00:00 & 0.0 \\\\\n",
       "\t4 & 2018-01-01T03:00:00 & 0.0 \\\\\n",
       "\t5 & 2018-01-01T04:00:00 & 0.0 \\\\\n",
       "\t6 & 2018-01-01T05:00:00 & 0.0 \\\\\n",
       "\t7 & 2018-01-01T06:00:00 & 0.0 \\\\\n",
       "\t8 & 2018-01-01T07:00:00 & 6.91694 \\\\\n",
       "\t9 & 2018-01-01T08:00:00 & 135.23 \\\\\n",
       "\t10 & 2018-01-01T09:00:00 & 345.787 \\\\\n",
       "\t11 & 2018-01-01T10:00:00 & 372.168 \\\\\n",
       "\t12 & 2018-01-01T11:00:00 & 385.117 \\\\\n",
       "\t13 & 2018-01-01T12:00:00 & 429.001 \\\\\n",
       "\t14 & 2018-01-01T13:00:00 & 459.208 \\\\\n",
       "\t15 & 2018-01-01T14:00:00 & 429.129 \\\\\n",
       "\t16 & 2018-01-01T15:00:00 & 453.477 \\\\\n",
       "\t17 & 2018-01-01T16:00:00 & 312.169 \\\\\n",
       "\t18 & 2018-01-01T17:00:00 & 54.3303 \\\\\n",
       "\t19 & 2018-01-01T18:00:00 & 0.014625 \\\\\n",
       "\t20 & 2018-01-01T19:00:00 & 0.0 \\\\\n",
       "\t21 & 2018-01-01T20:00:00 & 0.0 \\\\\n",
       "\t22 & 2018-01-01T21:00:00 & 0.0 \\\\\n",
       "\t23 & 2018-01-01T22:00:00 & 0.0 \\\\\n",
       "\t24 & 2018-01-01T23:00:00 & 0.0 \\\\\n",
       "\t$\\dots$ & $\\dots$ & $\\dots$ \\\\\n",
       "\\end{tabular}\n"
      ],
      "text/plain": [
       "\u001b[1m8736×2 DataFrame\u001b[0m\n",
       "\u001b[1m  Row \u001b[0m│\u001b[1m time_index          \u001b[0m\u001b[1m avg_actual \u001b[0m\n",
       "      │\u001b[90m DateTime            \u001b[0m\u001b[90m Float64    \u001b[0m\n",
       "──────┼─────────────────────────────────\n",
       "    1 │ 2018-01-01T00:00:00    0.0\n",
       "    2 │ 2018-01-01T01:00:00    0.0\n",
       "    3 │ 2018-01-01T02:00:00    0.0\n",
       "    4 │ 2018-01-01T03:00:00    0.0\n",
       "    5 │ 2018-01-01T04:00:00    0.0\n",
       "    6 │ 2018-01-01T05:00:00    0.0\n",
       "    7 │ 2018-01-01T06:00:00    0.0\n",
       "    8 │ 2018-01-01T07:00:00    6.91694\n",
       "  ⋮   │          ⋮               ⋮\n",
       " 8730 │ 2018-12-30T17:00:00    5.32315\n",
       " 8731 │ 2018-12-30T18:00:00    0.001125\n",
       " 8732 │ 2018-12-30T19:00:00    0.0\n",
       " 8733 │ 2018-12-30T20:00:00    0.0\n",
       " 8734 │ 2018-12-30T21:00:00    0.0\n",
       " 8735 │ 2018-12-30T22:00:00    0.0\n",
       " 8736 │ 2018-12-30T23:00:00    0.0\n",
       "\u001b[36m                       8721 rows omitted\u001b[0m"
      ]
     },
     "metadata": {},
     "output_type": "display_data"
    }
   ],
   "source": [
    "solar_dec_ts = solar_actual_avg[forecast2model_indices, :]"
   ]
  },
  {
   "cell_type": "code",
   "execution_count": 62,
   "id": "2b5b89f0",
   "metadata": {},
   "outputs": [
    {
     "data": {
      "text/html": [
       "<div><div style = \"float: left;\"><span>8736×2 DataFrame</span></div><div style = \"float: right;\"><span style = \"font-style: italic;\">8711 rows omitted</span></div><div style = \"clear: both;\"></div></div><div class = \"data-frame\" style = \"overflow-x: scroll;\"><table class = \"data-frame\" style = \"margin-bottom: 6px;\"><thead><tr class = \"header\"><th class = \"rowNumber\" style = \"font-weight: bold; text-align: right;\">Row</th><th style = \"text-align: left;\">time_index</th><th style = \"text-align: left;\">avg_actual</th></tr><tr class = \"subheader headerLastRow\"><th class = \"rowNumber\" style = \"font-weight: bold; text-align: right;\"></th><th title = \"DateTime\" style = \"text-align: left;\">DateTime</th><th title = \"Float64\" style = \"text-align: left;\">Float64</th></tr></thead><tbody><tr><td class = \"rowNumber\" style = \"font-weight: bold; text-align: right;\">1</td><td style = \"text-align: left;\">2018-01-01T00:00:00</td><td style = \"text-align: right;\">0.0</td></tr><tr><td class = \"rowNumber\" style = \"font-weight: bold; text-align: right;\">2</td><td style = \"text-align: left;\">2018-01-01T01:00:00</td><td style = \"text-align: right;\">0.0</td></tr><tr><td class = \"rowNumber\" style = \"font-weight: bold; text-align: right;\">3</td><td style = \"text-align: left;\">2018-01-01T02:00:00</td><td style = \"text-align: right;\">0.0</td></tr><tr><td class = \"rowNumber\" style = \"font-weight: bold; text-align: right;\">4</td><td style = \"text-align: left;\">2018-01-01T03:00:00</td><td style = \"text-align: right;\">0.0</td></tr><tr><td class = \"rowNumber\" style = \"font-weight: bold; text-align: right;\">5</td><td style = \"text-align: left;\">2018-01-01T04:00:00</td><td style = \"text-align: right;\">0.0</td></tr><tr><td class = \"rowNumber\" style = \"font-weight: bold; text-align: right;\">6</td><td style = \"text-align: left;\">2018-01-01T05:00:00</td><td style = \"text-align: right;\">0.0</td></tr><tr><td class = \"rowNumber\" style = \"font-weight: bold; text-align: right;\">7</td><td style = \"text-align: left;\">2018-01-01T06:00:00</td><td style = \"text-align: right;\">0.0</td></tr><tr><td class = \"rowNumber\" style = \"font-weight: bold; text-align: right;\">8</td><td style = \"text-align: left;\">2018-01-01T07:00:00</td><td style = \"text-align: right;\">6.91694</td></tr><tr><td class = \"rowNumber\" style = \"font-weight: bold; text-align: right;\">9</td><td style = \"text-align: left;\">2018-01-01T08:00:00</td><td style = \"text-align: right;\">135.23</td></tr><tr><td class = \"rowNumber\" style = \"font-weight: bold; text-align: right;\">10</td><td style = \"text-align: left;\">2018-01-01T09:00:00</td><td style = \"text-align: right;\">345.787</td></tr><tr><td class = \"rowNumber\" style = \"font-weight: bold; text-align: right;\">11</td><td style = \"text-align: left;\">2018-01-01T10:00:00</td><td style = \"text-align: right;\">372.168</td></tr><tr><td class = \"rowNumber\" style = \"font-weight: bold; text-align: right;\">12</td><td style = \"text-align: left;\">2018-01-01T11:00:00</td><td style = \"text-align: right;\">385.117</td></tr><tr><td class = \"rowNumber\" style = \"font-weight: bold; text-align: right;\">13</td><td style = \"text-align: left;\">2018-01-01T12:00:00</td><td style = \"text-align: right;\">429.001</td></tr><tr><td style = \"text-align: right;\">&vellip;</td><td style = \"text-align: right;\">&vellip;</td><td style = \"text-align: right;\">&vellip;</td></tr><tr><td class = \"rowNumber\" style = \"font-weight: bold; text-align: right;\">8725</td><td style = \"text-align: left;\">2018-12-30T12:00:00</td><td style = \"text-align: right;\">107.844</td></tr><tr><td class = \"rowNumber\" style = \"font-weight: bold; text-align: right;\">8726</td><td style = \"text-align: left;\">2018-12-30T13:00:00</td><td style = \"text-align: right;\">119.005</td></tr><tr><td class = \"rowNumber\" style = \"font-weight: bold; text-align: right;\">8727</td><td style = \"text-align: left;\">2018-12-30T14:00:00</td><td style = \"text-align: right;\">95.8901</td></tr><tr><td class = \"rowNumber\" style = \"font-weight: bold; text-align: right;\">8728</td><td style = \"text-align: left;\">2018-12-30T15:00:00</td><td style = \"text-align: right;\">72.3892</td></tr><tr><td class = \"rowNumber\" style = \"font-weight: bold; text-align: right;\">8729</td><td style = \"text-align: left;\">2018-12-30T16:00:00</td><td style = \"text-align: right;\">55.2458</td></tr><tr><td class = \"rowNumber\" style = \"font-weight: bold; text-align: right;\">8730</td><td style = \"text-align: left;\">2018-12-30T17:00:00</td><td style = \"text-align: right;\">5.32315</td></tr><tr><td class = \"rowNumber\" style = \"font-weight: bold; text-align: right;\">8731</td><td style = \"text-align: left;\">2018-12-30T18:00:00</td><td style = \"text-align: right;\">0.001125</td></tr><tr><td class = \"rowNumber\" style = \"font-weight: bold; text-align: right;\">8732</td><td style = \"text-align: left;\">2018-12-30T19:00:00</td><td style = \"text-align: right;\">0.0</td></tr><tr><td class = \"rowNumber\" style = \"font-weight: bold; text-align: right;\">8733</td><td style = \"text-align: left;\">2018-12-30T20:00:00</td><td style = \"text-align: right;\">0.0</td></tr><tr><td class = \"rowNumber\" style = \"font-weight: bold; text-align: right;\">8734</td><td style = \"text-align: left;\">2018-12-30T21:00:00</td><td style = \"text-align: right;\">0.0</td></tr><tr><td class = \"rowNumber\" style = \"font-weight: bold; text-align: right;\">8735</td><td style = \"text-align: left;\">2018-12-30T22:00:00</td><td style = \"text-align: right;\">0.0</td></tr><tr><td class = \"rowNumber\" style = \"font-weight: bold; text-align: right;\">8736</td><td style = \"text-align: left;\">2018-12-30T23:00:00</td><td style = \"text-align: right;\">0.0</td></tr></tbody></table></div>"
      ],
      "text/latex": [
       "\\begin{tabular}{r|cc}\n",
       "\t& time\\_index & avg\\_actual\\\\\n",
       "\t\\hline\n",
       "\t& DateTime & Float64\\\\\n",
       "\t\\hline\n",
       "\t1 & 2018-01-01T00:00:00 & 0.0 \\\\\n",
       "\t2 & 2018-01-01T01:00:00 & 0.0 \\\\\n",
       "\t3 & 2018-01-01T02:00:00 & 0.0 \\\\\n",
       "\t4 & 2018-01-01T03:00:00 & 0.0 \\\\\n",
       "\t5 & 2018-01-01T04:00:00 & 0.0 \\\\\n",
       "\t6 & 2018-01-01T05:00:00 & 0.0 \\\\\n",
       "\t7 & 2018-01-01T06:00:00 & 0.0 \\\\\n",
       "\t8 & 2018-01-01T07:00:00 & 6.91694 \\\\\n",
       "\t9 & 2018-01-01T08:00:00 & 135.23 \\\\\n",
       "\t10 & 2018-01-01T09:00:00 & 345.787 \\\\\n",
       "\t11 & 2018-01-01T10:00:00 & 372.168 \\\\\n",
       "\t12 & 2018-01-01T11:00:00 & 385.117 \\\\\n",
       "\t13 & 2018-01-01T12:00:00 & 429.001 \\\\\n",
       "\t14 & 2018-01-01T13:00:00 & 459.208 \\\\\n",
       "\t15 & 2018-01-01T14:00:00 & 429.129 \\\\\n",
       "\t16 & 2018-01-01T15:00:00 & 453.477 \\\\\n",
       "\t17 & 2018-01-01T16:00:00 & 312.169 \\\\\n",
       "\t18 & 2018-01-01T17:00:00 & 54.3303 \\\\\n",
       "\t19 & 2018-01-01T18:00:00 & 0.014625 \\\\\n",
       "\t20 & 2018-01-01T19:00:00 & 0.0 \\\\\n",
       "\t21 & 2018-01-01T20:00:00 & 0.0 \\\\\n",
       "\t22 & 2018-01-01T21:00:00 & 0.0 \\\\\n",
       "\t23 & 2018-01-01T22:00:00 & 0.0 \\\\\n",
       "\t24 & 2018-01-01T23:00:00 & 0.0 \\\\\n",
       "\t$\\dots$ & $\\dots$ & $\\dots$ \\\\\n",
       "\\end{tabular}\n"
      ],
      "text/plain": [
       "\u001b[1m8736×2 DataFrame\u001b[0m\n",
       "\u001b[1m  Row \u001b[0m│\u001b[1m time_index          \u001b[0m\u001b[1m avg_actual \u001b[0m\n",
       "      │\u001b[90m DateTime            \u001b[0m\u001b[90m Float64    \u001b[0m\n",
       "──────┼─────────────────────────────────\n",
       "    1 │ 2018-01-01T00:00:00    0.0\n",
       "    2 │ 2018-01-01T01:00:00    0.0\n",
       "    3 │ 2018-01-01T02:00:00    0.0\n",
       "    4 │ 2018-01-01T03:00:00    0.0\n",
       "    5 │ 2018-01-01T04:00:00    0.0\n",
       "    6 │ 2018-01-01T05:00:00    0.0\n",
       "    7 │ 2018-01-01T06:00:00    0.0\n",
       "    8 │ 2018-01-01T07:00:00    6.91694\n",
       "  ⋮   │          ⋮               ⋮\n",
       " 8730 │ 2018-12-30T17:00:00    5.32315\n",
       " 8731 │ 2018-12-30T18:00:00    0.001125\n",
       " 8732 │ 2018-12-30T19:00:00    0.0\n",
       " 8733 │ 2018-12-30T20:00:00    0.0\n",
       " 8734 │ 2018-12-30T21:00:00    0.0\n",
       " 8735 │ 2018-12-30T22:00:00    0.0\n",
       " 8736 │ 2018-12-30T23:00:00    0.0\n",
       "\u001b[36m                       8721 rows omitted\u001b[0m"
      ]
     },
     "metadata": {},
     "output_type": "display_data"
    }
   ],
   "source": [
    "solar_dec_ts"
   ]
  },
  {
   "cell_type": "code",
   "execution_count": 52,
   "id": "7bdb4f66",
   "metadata": {},
   "outputs": [],
   "source": [
    "# Organize solar_actual_avg so that every 48 hours are in a row,\n",
    "# and each row repeats the previous second half of the previous row, except the first row.\n",
    "# There will be 363 rows.\n",
    "\n",
    "solar_matrix = zeros(363, 48)\n",
    "for i in 1:363\n",
    "    if i == 1\n",
    "        solar_matrix[i, :] .= solar_dec_ts[1:48, :avg_actual]\n",
    "    else\n",
    "        solar_matrix[i, 1:24] .= solar_matrix[i-1, 25:48]\n",
    "        solar_matrix[i, 25:48] .= solar_dec_ts[(24*(i-1) + 1):(24*i), :avg_actual]\n",
    "    end\n",
    "end\n"
   ]
  },
  {
   "cell_type": "code",
   "execution_count": 47,
   "id": "d91e30cc",
   "metadata": {},
   "outputs": [
    {
     "data": {
      "text/plain": [
       "17401"
      ]
     },
     "metadata": {},
     "output_type": "display_data"
    }
   ],
   "source": [
    "48*(363-1) + 25"
   ]
  },
  {
   "cell_type": "code",
   "execution_count": 48,
   "id": "c733b0cc",
   "metadata": {},
   "outputs": [
    {
     "data": {
      "text/plain": [
       "8713"
      ]
     },
     "metadata": {},
     "output_type": "display_data"
    }
   ],
   "source": [
    "24*(363-1) + 25"
   ]
  },
  {
   "cell_type": "code",
   "execution_count": 51,
   "id": "3893b8cd",
   "metadata": {},
   "outputs": [
    {
     "data": {
      "text/plain": [
       "8665:8688"
      ]
     },
     "metadata": {},
     "output_type": "display_data"
    }
   ],
   "source": [
    "(24*(362-1) + 1):(24*362)"
   ]
  },
  {
   "cell_type": "code",
   "execution_count": 50,
   "id": "525a486a",
   "metadata": {},
   "outputs": [
    {
     "data": {
      "text/plain": [
       "8689:8712"
      ]
     },
     "metadata": {},
     "output_type": "display_data"
    }
   ],
   "source": [
    "(24*(363-1) + 1):(24*363)"
   ]
  },
  {
   "cell_type": "code",
   "execution_count": 53,
   "id": "dddaa69a",
   "metadata": {},
   "outputs": [
    {
     "data": {
      "text/plain": [
       "363×48 Matrix{Float64}:\n",
       " 0.0  0.0  0.0  0.0  0.0  0.0  0.0  …  0.018     0.0  0.0  0.0  0.0  0.0\n",
       " 0.0  0.0  0.0  0.0  0.0  0.0  0.0     0.018     0.0  0.0  0.0  0.0  0.0\n",
       " 0.0  0.0  0.0  0.0  0.0  0.0  0.0     0.001125  0.0  0.0  0.0  0.0  0.0\n",
       " 0.0  0.0  0.0  0.0  0.0  0.0  0.0     0.0045    0.0  0.0  0.0  0.0  0.0\n",
       " 0.0  0.0  0.0  0.0  0.0  0.0  0.0     0.028125  0.0  0.0  0.0  0.0  0.0\n",
       " 0.0  0.0  0.0  0.0  0.0  0.0  0.0  …  0.041625  0.0  0.0  0.0  0.0  0.0\n",
       " 0.0  0.0  0.0  0.0  0.0  0.0  0.0     0.0495    0.0  0.0  0.0  0.0  0.0\n",
       " 0.0  0.0  0.0  0.0  0.0  0.0  0.0     0.032625  0.0  0.0  0.0  0.0  0.0\n",
       " 0.0  0.0  0.0  0.0  0.0  0.0  0.0     0.068625  0.0  0.0  0.0  0.0  0.0\n",
       " 0.0  0.0  0.0  0.0  0.0  0.0  0.0     0.09675   0.0  0.0  0.0  0.0  0.0\n",
       " ⋮                        ⋮         ⋱                      ⋮         \n",
       " 0.0  0.0  0.0  0.0  0.0  0.0  0.0     0.0       0.0  0.0  0.0  0.0  0.0\n",
       " 0.0  0.0  0.0  0.0  0.0  0.0  0.0  …  0.0       0.0  0.0  0.0  0.0  0.0\n",
       " 0.0  0.0  0.0  0.0  0.0  0.0  0.0     0.0       0.0  0.0  0.0  0.0  0.0\n",
       " 0.0  0.0  0.0  0.0  0.0  0.0  0.0     0.0       0.0  0.0  0.0  0.0  0.0\n",
       " 0.0  0.0  0.0  0.0  0.0  0.0  0.0     0.0       0.0  0.0  0.0  0.0  0.0\n",
       " 0.0  0.0  0.0  0.0  0.0  0.0  0.0     0.0       0.0  0.0  0.0  0.0  0.0\n",
       " 0.0  0.0  0.0  0.0  0.0  0.0  0.0  …  0.0       0.0  0.0  0.0  0.0  0.0\n",
       " 0.0  0.0  0.0  0.0  0.0  0.0  0.0     0.0       0.0  0.0  0.0  0.0  0.0\n",
       " 0.0  0.0  0.0  0.0  0.0  0.0  0.0     0.0       0.0  0.0  0.0  0.0  0.0"
      ]
     },
     "metadata": {},
     "output_type": "display_data"
    }
   ],
   "source": [
    "solar_matrix"
   ]
  },
  {
   "cell_type": "code",
   "execution_count": 54,
   "id": "12fbd811",
   "metadata": {},
   "outputs": [],
   "source": [
    "x = copy(solar_matrix)\n",
    "allequal_set = Set(findall(allequal, eachcol(x)));\n",
    "allequal_ind = sort(collect(allequal_set));\n",
    "allindex_set = Set(collect(1:48));\n",
    "alldifferent_ind = sort(collect(setdiff(allindex_set, allequal_set))); # Index for columns whose st. dev. isn't zero\n",
    "x_upd = x[:, alldifferent_ind];"
   ]
  },
  {
   "cell_type": "code",
   "execution_count": 64,
   "id": "9a7c5f2e",
   "metadata": {},
   "outputs": [
    {
     "data": {
      "text/plain": [
       "30-element Vector{Int64}:\n",
       "  6\n",
       "  7\n",
       "  8\n",
       "  9\n",
       " 10\n",
       " 11\n",
       " 12\n",
       " 13\n",
       " 14\n",
       " 15\n",
       "  ⋮\n",
       " 36\n",
       " 37\n",
       " 38\n",
       " 39\n",
       " 40\n",
       " 41\n",
       " 42\n",
       " 43\n",
       " 44"
      ]
     },
     "metadata": {},
     "output_type": "display_data"
    }
   ],
   "source": [
    "alldifferent_ind"
   ]
  },
  {
   "cell_type": "code",
   "execution_count": 55,
   "id": "c06857f3",
   "metadata": {},
   "outputs": [
    {
     "data": {
      "text/plain": [
       "363×30 Matrix{Float64}:\n",
       " 0.0  0.0   6.91694  135.23    345.787   …  182.753   42.9719   0.018     0.0\n",
       " 0.0  0.0   7.52672  132.929    73.5261     182.753   42.9719   0.018     0.0\n",
       " 0.0  0.0   7.52672  132.929    73.5261     376.521   73.4109   0.001125  0.0\n",
       " 0.0  0.0  11.6441   204.791   480.449      150.255   14.7394   0.0045    0.0\n",
       " 0.0  0.0  19.2432   221.793   468.623      340.126   66.9729   0.028125  0.0\n",
       " 0.0  0.0   4.59919  154.795   380.23    …  278.534   55.5939   0.041625  0.0\n",
       " 0.0  0.0  19.4889   200.795   349.606      164.401   43.8404   0.0495    0.0\n",
       " 0.0  0.0   1.17991   14.334    52.6993     320.166   72.2056   0.032625  0.0\n",
       " 0.0  0.0   9.10436  147.562   321.968      253.652   67.5596   0.068625  0.0\n",
       " 0.0  0.0   3.0949    97.8714  229.354      138.537   25.3429   0.09675   0.0\n",
       " ⋮                                       ⋱                                \n",
       " 0.0  0.0  25.9218   263.514   476.343      320.147   44.5153   0.0       0.0\n",
       " 0.0  0.0  34.4267   297.39    503.967   …  293.084   40.5138   0.0       0.0\n",
       " 0.0  0.0  29.3818   203.107   329.018      307.993   45.229    0.0       0.0\n",
       " 0.0  0.0  10.3543   185.147   424.28       258.15    41.4731   0.0       0.0\n",
       " 0.0  0.0  25.3898   252.585   463.524      160.797   30.0965   0.0       0.0\n",
       " 0.0  0.0   3.6615    78.7281  100.872       72.3182  37.8111   0.0       0.0\n",
       " 0.0  0.0   4.45484   59.8799  173.763   …  308.865   53.7527   0.0       0.0\n",
       " 0.0  0.0   5.5416   178.396   353.529      154.687   46.595    0.0       0.0\n",
       " 0.0  0.0  24.8669   251.412   329.447       40.6951   6.00467  0.0       0.0"
      ]
     },
     "metadata": {},
     "output_type": "display_data"
    }
   ],
   "source": [
    "x_upd"
   ]
  },
  {
   "cell_type": "code",
   "execution_count": 61,
   "id": "218a8beb",
   "metadata": {},
   "outputs": [],
   "source": [
    "if ishermitian(cor(x_upd))\n",
    "    Σ_Z = LinearAlgebra.cholesky(cor(x_upd));\n",
    "else\n",
    "    Σ_Z = factorize(cor(x_upd));\n",
    "end\n",
    "M = Σ_Z.L;"
   ]
  }
 ],
 "metadata": {
  "kernelspec": {
   "display_name": "Julia 1.9.4",
   "language": "julia",
   "name": "julia-1.9"
  },
  "language_info": {
   "file_extension": ".jl",
   "mimetype": "application/julia",
   "name": "julia",
   "version": "1.9.4"
  }
 },
 "nbformat": 4,
 "nbformat_minor": 5
}
