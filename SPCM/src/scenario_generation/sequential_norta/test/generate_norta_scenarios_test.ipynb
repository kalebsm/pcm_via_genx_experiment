{
 "cells": [
  {
   "cell_type": "code",
   "execution_count": 115,
   "id": "1f18bbf7",
   "metadata": {},
   "outputs": [
    {
     "name": "stderr",
     "output_type": "stream",
     "text": [
      "\u001b[32m\u001b[1m  Activating\u001b[22m\u001b[39m project at `c:\\Users\\ks885\\Documents\\aa_research\\Modeling\\spcm_genx_experiment\\SPCM\\src\\scenario_generation\\sequential_norta`\n"
     ]
    }
   ],
   "source": [
    "using Revise\n",
    "using Dates\n",
    "using Distributions\n",
    "using Random\n",
    "using DataFrames\n",
    "using CSV\n",
    "using Plots\n",
    "using StatsBase\n",
    "using LinearAlgebra\n",
    "using Statistics\n",
    "import Pkg\n",
    "Pkg.activate(\"..\")\n",
    "Pkg.instantiate()\n",
    "\n",
    "using SequentialNorta"
   ]
  },
  {
   "cell_type": "code",
   "execution_count": 116,
   "id": "f552ffc8",
   "metadata": {},
   "outputs": [
    {
     "data": {
      "text/plain": [
       "Dict{Any, Any} with 28 entries:\n",
       "  \"solar_actual_avg_cf\"         => [0.0, 0.0, 0.0, 0.0, 0.0, 0.0, 0.0, 0.010627…\n",
       "  \"lp_wind\"                     => [0.606061 0.707071 … 0.818182 0.99; 0.888889…\n",
       "  \"wind_marginals_by_issue\"     => DataFrame[\u001b[1m48×103 DataFrame\u001b[0m\u001b[0m…\n",
       "  \"load_landing_probabilities\"  => [0.888889, 0.585859, 0.545455, 0.505051, 0.2…\n",
       "  \"solar_actual_avg\"            => \u001b[1m8760×2 DataFrame\u001b[0m\u001b[0m…\n",
       "  \"lp_load\"                     => [0.888889 0.585859 … 0.939394 0.919192; 0.74…\n",
       "  \"solar_well_defined_cols\"     => [7, 8, 9, 10, 11, 12, 13, 14, 15, 16  …  35,…\n",
       "  \"solar_model_data\"            => \u001b[1m8736×2 DataFrame\u001b[0m\u001b[0m…\n",
       "  \"load_marginals_by_issue\"     => DataFrame[\u001b[1m48×103 DataFrame\u001b[0m\u001b[0m…\n",
       "  \"unique_forecast_times\"       => [DateTime(\"2018-01-01T00:00:00\"), DateTime(\"…\n",
       "  \"M_load\"                      => [1.0 0.0 … 0.0 0.0; 0.860519 0.509419 … 0.0 …\n",
       "  \"solar_landing_probabilities\" => [0.99, 0.99, 0.99, 0.99, 0.99, 0.99, 0.99, 0…\n",
       "  \"forecast_scenario_length\"    => 48\n",
       "  \"wind_landing_probabilities\"  => [0.606061, 0.707071, 0.868687, 0.636364, 0.8…\n",
       "  \"load_actual_avg\"             => \u001b[1m8760×2 DataFrame\u001b[0m\u001b[0m…\n",
       "  \"corr_forecast_issue_times\"   => \u001b[1m17424×2 DataFrame\u001b[0m\u001b[0m…\n",
       "  \"unique_issue_times\"          => [DateTime(\"2017-12-31T12:00:00\"), DateTime(\"…\n",
       "  \"M_solar\"                     => [1.0 0.0 … 0.0 0.0; 0.238126 0.971234 … 0.0 …\n",
       "  \"start_date\"                  => DateTime(\"2018-01-01T00:00:00\")\n",
       "  ⋮                             => ⋮"
      ]
     },
     "metadata": {},
     "output_type": "display_data"
    }
   ],
   "source": [
    "scen_generator = scenario_generator_init()"
   ]
  },
  {
   "cell_type": "code",
   "execution_count": 117,
   "id": "7b92804c",
   "metadata": {},
   "outputs": [],
   "source": [
    "# Save the objects from scen_generator into individual variables\n",
    "unique_forecast_times = scen_generator[\"unique_forecast_times\"]\n",
    "unique_issue_times = scen_generator[\"unique_issue_times\"]\n",
    "start_date = scen_generator[\"start_date\"]\n",
    "corr_forecast_issue_times = scen_generator[\"corr_forecast_issue_times\"]\n",
    "forecast_scenario_length = scen_generator[\"forecast_scenario_length\"]\n",
    "number_of_scenarios = scen_generator[\"number_of_scenarios\"]\n",
    "solar_model_data = scen_generator[\"solar_model_data\"]\n",
    "M_load = scen_generator[\"M_load\"]\n",
    "M_solar = scen_generator[\"M_solar\"]\n",
    "M_wind = scen_generator[\"M_wind\"]\n",
    "load_marginals_by_issue = scen_generator[\"load_marginals_by_issue\"]\n",
    "solar_marginals_by_issue = scen_generator[\"solar_marginals_by_issue\"]\n",
    "wind_marginals_by_issue = scen_generator[\"wind_marginals_by_issue\"]\n",
    "load_landing_probabilities = scen_generator[\"load_landing_probabilities\"]\n",
    "solar_landing_probabilities = scen_generator[\"solar_landing_probabilities\"]\n",
    "wind_landing_probabilities = scen_generator[\"wind_landing_probabilities\"]\n",
    "load_actual_avg = scen_generator[\"load_actual_avg\"]\n",
    "solar_actual_avg = scen_generator[\"solar_actual_avg\"]\n",
    "wind_actual_avg = scen_generator[\"wind_actual_avg\"]\n",
    "solar_well_defined_cols = scen_generator[\"solar_well_defined_cols\"]\n",
    "load_actual_avg_GW = scen_generator[\"load_actual_avg_GW\"]\n",
    "solar_actual_avg_cf = scen_generator[\"solar_actual_avg_cf\"]\n",
    "wind_actual_avg_cf = scen_generator[\"wind_actual_avg_cf\"]\n",
    "decision_mdl_lkd_length = scen_generator[\"decision_mdl_lkd_length\"];"
   ]
  },
  {
   "cell_type": "code",
   "execution_count": 118,
   "id": "ca298afd",
   "metadata": {},
   "outputs": [],
   "source": [
    "\n",
    "# Set the date and time for the forecasts\n",
    "start_index = findfirst(isequal(start_date), unique_forecast_times)\n",
    "\n",
    "Tstart = start_index;\n",
    "Tend = decision_mdl_lkd_length - 50; # should be -48 probablys\n",
    "\n",
    "# Initialize Locked Scenario Path Information\n",
    "scen_path = Array{Any}(undef, Tend)\n",
    "\n",
    "Random.seed!(12345);\n",
    "# intialize normal distribution\n",
    "normal_dist = Normal(0,1);"
   ]
  },
  {
   "cell_type": "code",
   "execution_count": 119,
   "id": "e2e47a4e",
   "metadata": {},
   "outputs": [
    {
     "data": {
      "text/plain": [
       "28×28 LowerTriangular{Float64, Matrix{Float64}}:\n",
       "  1.0            ⋅           ⋅         …    ⋅            ⋅           ⋅ \n",
       "  0.238126      0.971234     ⋅              ⋅            ⋅           ⋅ \n",
       "  0.0612079     0.237465    0.969466        ⋅            ⋅           ⋅ \n",
       "  0.0563054     0.119579    0.542002        ⋅            ⋅           ⋅ \n",
       " -0.0117155    -0.0186392   0.457456        ⋅            ⋅           ⋅ \n",
       "  0.0169431    -0.0454672   0.374329   …    ⋅            ⋅           ⋅ \n",
       " -0.0554145    -0.0888184   0.218231        ⋅            ⋅           ⋅ \n",
       "  0.00503775   -0.1034      0.218244        ⋅            ⋅           ⋅ \n",
       "  0.0682595    -0.0889985   0.145198        ⋅            ⋅           ⋅ \n",
       " -0.0743783    -0.192338    0.298852        ⋅            ⋅           ⋅ \n",
       "  ⋮                                    ⋱   ⋮                        \n",
       "  0.000276425  -0.154649    0.0680437       ⋅            ⋅           ⋅ \n",
       " -0.0420961    -0.0805923   0.0950802  …    ⋅            ⋅           ⋅ \n",
       " -0.0204562    -0.0927348   0.0351913       ⋅            ⋅           ⋅ \n",
       "  0.0236964    -0.10189    -0.011185        ⋅            ⋅           ⋅ \n",
       " -0.0565808    -0.0736358   0.075584        ⋅            ⋅           ⋅ \n",
       " -0.0857926    -0.122357    0.0363563       ⋅            ⋅           ⋅ \n",
       " -0.0775346    -0.348917    0.176913   …   0.699169      ⋅           ⋅ \n",
       "  0.0406296     0.300362   -0.191111      -0.0166976    0.399945     ⋅ \n",
       "  0.211461      0.458562   -0.222526       0.00801061  -0.00922283  0.230382"
      ]
     },
     "metadata": {},
     "output_type": "display_data"
    }
   ],
   "source": [
    "M_solar"
   ]
  },
  {
   "cell_type": "code",
   "execution_count": 120,
   "id": "da84f29b",
   "metadata": {},
   "outputs": [
    {
     "data": {
      "text/plain": [
       "5082.0"
      ]
     },
     "metadata": {},
     "output_type": "display_data"
    }
   ],
   "source": [
    "363*28/2"
   ]
  },
  {
   "cell_type": "code",
   "execution_count": 121,
   "id": "a4c9fe4a",
   "metadata": {},
   "outputs": [
    {
     "data": {
      "text/html": [
       "<div><div style = \"float: left;\"><span>8736×2 DataFrame</span></div><div style = \"float: right;\"><span style = \"font-style: italic;\">8711 rows omitted</span></div><div style = \"clear: both;\"></div></div><div class = \"data-frame\" style = \"overflow-x: scroll;\"><table class = \"data-frame\" style = \"margin-bottom: 6px;\"><thead><tr class = \"header\"><th class = \"rowNumber\" style = \"font-weight: bold; text-align: right;\">Row</th><th style = \"text-align: left;\">time_index</th><th style = \"text-align: left;\">avg_actual</th></tr><tr class = \"subheader headerLastRow\"><th class = \"rowNumber\" style = \"font-weight: bold; text-align: right;\"></th><th title = \"DateTime\" style = \"text-align: left;\">DateTime</th><th title = \"Float64\" style = \"text-align: left;\">Float64</th></tr></thead><tbody><tr><td class = \"rowNumber\" style = \"font-weight: bold; text-align: right;\">1</td><td style = \"text-align: left;\">2018-01-01T00:00:00</td><td style = \"text-align: right;\">0.0</td></tr><tr><td class = \"rowNumber\" style = \"font-weight: bold; text-align: right;\">2</td><td style = \"text-align: left;\">2018-01-01T01:00:00</td><td style = \"text-align: right;\">0.0</td></tr><tr><td class = \"rowNumber\" style = \"font-weight: bold; text-align: right;\">3</td><td style = \"text-align: left;\">2018-01-01T02:00:00</td><td style = \"text-align: right;\">0.0</td></tr><tr><td class = \"rowNumber\" style = \"font-weight: bold; text-align: right;\">4</td><td style = \"text-align: left;\">2018-01-01T03:00:00</td><td style = \"text-align: right;\">0.0</td></tr><tr><td class = \"rowNumber\" style = \"font-weight: bold; text-align: right;\">5</td><td style = \"text-align: left;\">2018-01-01T04:00:00</td><td style = \"text-align: right;\">0.0</td></tr><tr><td class = \"rowNumber\" style = \"font-weight: bold; text-align: right;\">6</td><td style = \"text-align: left;\">2018-01-01T05:00:00</td><td style = \"text-align: right;\">0.0</td></tr><tr><td class = \"rowNumber\" style = \"font-weight: bold; text-align: right;\">7</td><td style = \"text-align: left;\">2018-01-01T06:00:00</td><td style = \"text-align: right;\">0.0</td></tr><tr><td class = \"rowNumber\" style = \"font-weight: bold; text-align: right;\">8</td><td style = \"text-align: left;\">2018-01-01T07:00:00</td><td style = \"text-align: right;\">6.91694</td></tr><tr><td class = \"rowNumber\" style = \"font-weight: bold; text-align: right;\">9</td><td style = \"text-align: left;\">2018-01-01T08:00:00</td><td style = \"text-align: right;\">135.23</td></tr><tr><td class = \"rowNumber\" style = \"font-weight: bold; text-align: right;\">10</td><td style = \"text-align: left;\">2018-01-01T09:00:00</td><td style = \"text-align: right;\">345.787</td></tr><tr><td class = \"rowNumber\" style = \"font-weight: bold; text-align: right;\">11</td><td style = \"text-align: left;\">2018-01-01T10:00:00</td><td style = \"text-align: right;\">372.168</td></tr><tr><td class = \"rowNumber\" style = \"font-weight: bold; text-align: right;\">12</td><td style = \"text-align: left;\">2018-01-01T11:00:00</td><td style = \"text-align: right;\">385.117</td></tr><tr><td class = \"rowNumber\" style = \"font-weight: bold; text-align: right;\">13</td><td style = \"text-align: left;\">2018-01-01T12:00:00</td><td style = \"text-align: right;\">429.001</td></tr><tr><td style = \"text-align: right;\">&vellip;</td><td style = \"text-align: right;\">&vellip;</td><td style = \"text-align: right;\">&vellip;</td></tr><tr><td class = \"rowNumber\" style = \"font-weight: bold; text-align: right;\">8725</td><td style = \"text-align: left;\">2018-12-30T12:00:00</td><td style = \"text-align: right;\">107.844</td></tr><tr><td class = \"rowNumber\" style = \"font-weight: bold; text-align: right;\">8726</td><td style = \"text-align: left;\">2018-12-30T13:00:00</td><td style = \"text-align: right;\">119.005</td></tr><tr><td class = \"rowNumber\" style = \"font-weight: bold; text-align: right;\">8727</td><td style = \"text-align: left;\">2018-12-30T14:00:00</td><td style = \"text-align: right;\">95.8901</td></tr><tr><td class = \"rowNumber\" style = \"font-weight: bold; text-align: right;\">8728</td><td style = \"text-align: left;\">2018-12-30T15:00:00</td><td style = \"text-align: right;\">72.3892</td></tr><tr><td class = \"rowNumber\" style = \"font-weight: bold; text-align: right;\">8729</td><td style = \"text-align: left;\">2018-12-30T16:00:00</td><td style = \"text-align: right;\">55.2458</td></tr><tr><td class = \"rowNumber\" style = \"font-weight: bold; text-align: right;\">8730</td><td style = \"text-align: left;\">2018-12-30T17:00:00</td><td style = \"text-align: right;\">5.32315</td></tr><tr><td class = \"rowNumber\" style = \"font-weight: bold; text-align: right;\">8731</td><td style = \"text-align: left;\">2018-12-30T18:00:00</td><td style = \"text-align: right;\">0.001125</td></tr><tr><td class = \"rowNumber\" style = \"font-weight: bold; text-align: right;\">8732</td><td style = \"text-align: left;\">2018-12-30T19:00:00</td><td style = \"text-align: right;\">0.0</td></tr><tr><td class = \"rowNumber\" style = \"font-weight: bold; text-align: right;\">8733</td><td style = \"text-align: left;\">2018-12-30T20:00:00</td><td style = \"text-align: right;\">0.0</td></tr><tr><td class = \"rowNumber\" style = \"font-weight: bold; text-align: right;\">8734</td><td style = \"text-align: left;\">2018-12-30T21:00:00</td><td style = \"text-align: right;\">0.0</td></tr><tr><td class = \"rowNumber\" style = \"font-weight: bold; text-align: right;\">8735</td><td style = \"text-align: left;\">2018-12-30T22:00:00</td><td style = \"text-align: right;\">0.0</td></tr><tr><td class = \"rowNumber\" style = \"font-weight: bold; text-align: right;\">8736</td><td style = \"text-align: left;\">2018-12-30T23:00:00</td><td style = \"text-align: right;\">0.0</td></tr></tbody></table></div>"
      ],
      "text/latex": [
       "\\begin{tabular}{r|cc}\n",
       "\t& time\\_index & avg\\_actual\\\\\n",
       "\t\\hline\n",
       "\t& DateTime & Float64\\\\\n",
       "\t\\hline\n",
       "\t1 & 2018-01-01T00:00:00 & 0.0 \\\\\n",
       "\t2 & 2018-01-01T01:00:00 & 0.0 \\\\\n",
       "\t3 & 2018-01-01T02:00:00 & 0.0 \\\\\n",
       "\t4 & 2018-01-01T03:00:00 & 0.0 \\\\\n",
       "\t5 & 2018-01-01T04:00:00 & 0.0 \\\\\n",
       "\t6 & 2018-01-01T05:00:00 & 0.0 \\\\\n",
       "\t7 & 2018-01-01T06:00:00 & 0.0 \\\\\n",
       "\t8 & 2018-01-01T07:00:00 & 6.91694 \\\\\n",
       "\t9 & 2018-01-01T08:00:00 & 135.23 \\\\\n",
       "\t10 & 2018-01-01T09:00:00 & 345.787 \\\\\n",
       "\t11 & 2018-01-01T10:00:00 & 372.168 \\\\\n",
       "\t12 & 2018-01-01T11:00:00 & 385.117 \\\\\n",
       "\t13 & 2018-01-01T12:00:00 & 429.001 \\\\\n",
       "\t14 & 2018-01-01T13:00:00 & 459.208 \\\\\n",
       "\t15 & 2018-01-01T14:00:00 & 429.129 \\\\\n",
       "\t16 & 2018-01-01T15:00:00 & 453.477 \\\\\n",
       "\t17 & 2018-01-01T16:00:00 & 312.169 \\\\\n",
       "\t18 & 2018-01-01T17:00:00 & 54.3303 \\\\\n",
       "\t19 & 2018-01-01T18:00:00 & 0.014625 \\\\\n",
       "\t20 & 2018-01-01T19:00:00 & 0.0 \\\\\n",
       "\t21 & 2018-01-01T20:00:00 & 0.0 \\\\\n",
       "\t22 & 2018-01-01T21:00:00 & 0.0 \\\\\n",
       "\t23 & 2018-01-01T22:00:00 & 0.0 \\\\\n",
       "\t24 & 2018-01-01T23:00:00 & 0.0 \\\\\n",
       "\t$\\dots$ & $\\dots$ & $\\dots$ \\\\\n",
       "\\end{tabular}\n"
      ],
      "text/plain": [
       "\u001b[1m8736×2 DataFrame\u001b[0m\n",
       "\u001b[1m  Row \u001b[0m│\u001b[1m time_index          \u001b[0m\u001b[1m avg_actual \u001b[0m\n",
       "      │\u001b[90m DateTime            \u001b[0m\u001b[90m Float64    \u001b[0m\n",
       "──────┼─────────────────────────────────\n",
       "    1 │ 2018-01-01T00:00:00    0.0\n",
       "    2 │ 2018-01-01T01:00:00    0.0\n",
       "    3 │ 2018-01-01T02:00:00    0.0\n",
       "    4 │ 2018-01-01T03:00:00    0.0\n",
       "    5 │ 2018-01-01T04:00:00    0.0\n",
       "    6 │ 2018-01-01T05:00:00    0.0\n",
       "    7 │ 2018-01-01T06:00:00    0.0\n",
       "    8 │ 2018-01-01T07:00:00    6.91694\n",
       "  ⋮   │          ⋮               ⋮\n",
       " 8730 │ 2018-12-30T17:00:00    5.32315\n",
       " 8731 │ 2018-12-30T18:00:00    0.001125\n",
       " 8732 │ 2018-12-30T19:00:00    0.0\n",
       " 8733 │ 2018-12-30T20:00:00    0.0\n",
       " 8734 │ 2018-12-30T21:00:00    0.0\n",
       " 8735 │ 2018-12-30T22:00:00    0.0\n",
       " 8736 │ 2018-12-30T23:00:00    0.0\n",
       "\u001b[36m                       8721 rows omitted\u001b[0m"
      ]
     },
     "metadata": {},
     "output_type": "display_data"
    }
   ],
   "source": [
    "solar_model_data"
   ]
  },
  {
   "cell_type": "code",
   "execution_count": 122,
   "id": "8cece310",
   "metadata": {},
   "outputs": [
    {
     "data": {
      "text/plain": [
       "4880-element Vector{Int64}:\n",
       "    8\n",
       "    9\n",
       "   10\n",
       "   11\n",
       "   12\n",
       "   13\n",
       "   14\n",
       "   15\n",
       "   16\n",
       "   17\n",
       "    ⋮\n",
       " 8723\n",
       " 8724\n",
       " 8725\n",
       " 8726\n",
       " 8727\n",
       " 8728\n",
       " 8729\n",
       " 8730\n",
       " 8731"
      ]
     },
     "metadata": {},
     "output_type": "display_data"
    }
   ],
   "source": [
    "solar_positive_indices"
   ]
  },
  {
   "cell_type": "code",
   "execution_count": 123,
   "id": "cf62e23d",
   "metadata": {},
   "outputs": [
    {
     "ename": "UndefVarError",
     "evalue": "UndefVarError: `sunny_decision_hours` not defined",
     "output_type": "error",
     "traceback": [
      "UndefVarError: `sunny_decision_hours` not defined\n"
     ]
    }
   ],
   "source": [
    "sunny_decision_hours"
   ]
  },
  {
   "cell_type": "code",
   "execution_count": 172,
   "id": "a3e1452d",
   "metadata": {},
   "outputs": [
    {
     "data": {
      "text/html": [
       "<div><div style = \"float: left;\"><span>8736×2 DataFrame</span></div><div style = \"float: right;\"><span style = \"font-style: italic;\">8711 rows omitted</span></div><div style = \"clear: both;\"></div></div><div class = \"data-frame\" style = \"overflow-x: scroll;\"><table class = \"data-frame\" style = \"margin-bottom: 6px;\"><thead><tr class = \"header\"><th class = \"rowNumber\" style = \"font-weight: bold; text-align: right;\">Row</th><th style = \"text-align: left;\">time_index</th><th style = \"text-align: left;\">avg_actual</th></tr><tr class = \"subheader headerLastRow\"><th class = \"rowNumber\" style = \"font-weight: bold; text-align: right;\"></th><th title = \"DateTime\" style = \"text-align: left;\">DateTime</th><th title = \"Float64\" style = \"text-align: left;\">Float64</th></tr></thead><tbody><tr><td class = \"rowNumber\" style = \"font-weight: bold; text-align: right;\">1</td><td style = \"text-align: left;\">2018-01-01T00:00:00</td><td style = \"text-align: right;\">0.0</td></tr><tr><td class = \"rowNumber\" style = \"font-weight: bold; text-align: right;\">2</td><td style = \"text-align: left;\">2018-01-01T01:00:00</td><td style = \"text-align: right;\">0.0</td></tr><tr><td class = \"rowNumber\" style = \"font-weight: bold; text-align: right;\">3</td><td style = \"text-align: left;\">2018-01-01T02:00:00</td><td style = \"text-align: right;\">0.0</td></tr><tr><td class = \"rowNumber\" style = \"font-weight: bold; text-align: right;\">4</td><td style = \"text-align: left;\">2018-01-01T03:00:00</td><td style = \"text-align: right;\">0.0</td></tr><tr><td class = \"rowNumber\" style = \"font-weight: bold; text-align: right;\">5</td><td style = \"text-align: left;\">2018-01-01T04:00:00</td><td style = \"text-align: right;\">0.0</td></tr><tr><td class = \"rowNumber\" style = \"font-weight: bold; text-align: right;\">6</td><td style = \"text-align: left;\">2018-01-01T05:00:00</td><td style = \"text-align: right;\">0.0</td></tr><tr><td class = \"rowNumber\" style = \"font-weight: bold; text-align: right;\">7</td><td style = \"text-align: left;\">2018-01-01T06:00:00</td><td style = \"text-align: right;\">0.0</td></tr><tr><td class = \"rowNumber\" style = \"font-weight: bold; text-align: right;\">8</td><td style = \"text-align: left;\">2018-01-01T07:00:00</td><td style = \"text-align: right;\">6.91694</td></tr><tr><td class = \"rowNumber\" style = \"font-weight: bold; text-align: right;\">9</td><td style = \"text-align: left;\">2018-01-01T08:00:00</td><td style = \"text-align: right;\">135.23</td></tr><tr><td class = \"rowNumber\" style = \"font-weight: bold; text-align: right;\">10</td><td style = \"text-align: left;\">2018-01-01T09:00:00</td><td style = \"text-align: right;\">345.787</td></tr><tr><td class = \"rowNumber\" style = \"font-weight: bold; text-align: right;\">11</td><td style = \"text-align: left;\">2018-01-01T10:00:00</td><td style = \"text-align: right;\">372.168</td></tr><tr><td class = \"rowNumber\" style = \"font-weight: bold; text-align: right;\">12</td><td style = \"text-align: left;\">2018-01-01T11:00:00</td><td style = \"text-align: right;\">385.117</td></tr><tr><td class = \"rowNumber\" style = \"font-weight: bold; text-align: right;\">13</td><td style = \"text-align: left;\">2018-01-01T12:00:00</td><td style = \"text-align: right;\">429.001</td></tr><tr><td style = \"text-align: right;\">&vellip;</td><td style = \"text-align: right;\">&vellip;</td><td style = \"text-align: right;\">&vellip;</td></tr><tr><td class = \"rowNumber\" style = \"font-weight: bold; text-align: right;\">8725</td><td style = \"text-align: left;\">2018-12-30T12:00:00</td><td style = \"text-align: right;\">107.844</td></tr><tr><td class = \"rowNumber\" style = \"font-weight: bold; text-align: right;\">8726</td><td style = \"text-align: left;\">2018-12-30T13:00:00</td><td style = \"text-align: right;\">119.005</td></tr><tr><td class = \"rowNumber\" style = \"font-weight: bold; text-align: right;\">8727</td><td style = \"text-align: left;\">2018-12-30T14:00:00</td><td style = \"text-align: right;\">95.8901</td></tr><tr><td class = \"rowNumber\" style = \"font-weight: bold; text-align: right;\">8728</td><td style = \"text-align: left;\">2018-12-30T15:00:00</td><td style = \"text-align: right;\">72.3892</td></tr><tr><td class = \"rowNumber\" style = \"font-weight: bold; text-align: right;\">8729</td><td style = \"text-align: left;\">2018-12-30T16:00:00</td><td style = \"text-align: right;\">55.2458</td></tr><tr><td class = \"rowNumber\" style = \"font-weight: bold; text-align: right;\">8730</td><td style = \"text-align: left;\">2018-12-30T17:00:00</td><td style = \"text-align: right;\">5.32315</td></tr><tr><td class = \"rowNumber\" style = \"font-weight: bold; text-align: right;\">8731</td><td style = \"text-align: left;\">2018-12-30T18:00:00</td><td style = \"text-align: right;\">0.001125</td></tr><tr><td class = \"rowNumber\" style = \"font-weight: bold; text-align: right;\">8732</td><td style = \"text-align: left;\">2018-12-30T19:00:00</td><td style = \"text-align: right;\">0.0</td></tr><tr><td class = \"rowNumber\" style = \"font-weight: bold; text-align: right;\">8733</td><td style = \"text-align: left;\">2018-12-30T20:00:00</td><td style = \"text-align: right;\">0.0</td></tr><tr><td class = \"rowNumber\" style = \"font-weight: bold; text-align: right;\">8734</td><td style = \"text-align: left;\">2018-12-30T21:00:00</td><td style = \"text-align: right;\">0.0</td></tr><tr><td class = \"rowNumber\" style = \"font-weight: bold; text-align: right;\">8735</td><td style = \"text-align: left;\">2018-12-30T22:00:00</td><td style = \"text-align: right;\">0.0</td></tr><tr><td class = \"rowNumber\" style = \"font-weight: bold; text-align: right;\">8736</td><td style = \"text-align: left;\">2018-12-30T23:00:00</td><td style = \"text-align: right;\">0.0</td></tr></tbody></table></div>"
      ],
      "text/latex": [
       "\\begin{tabular}{r|cc}\n",
       "\t& time\\_index & avg\\_actual\\\\\n",
       "\t\\hline\n",
       "\t& DateTime & Float64\\\\\n",
       "\t\\hline\n",
       "\t1 & 2018-01-01T00:00:00 & 0.0 \\\\\n",
       "\t2 & 2018-01-01T01:00:00 & 0.0 \\\\\n",
       "\t3 & 2018-01-01T02:00:00 & 0.0 \\\\\n",
       "\t4 & 2018-01-01T03:00:00 & 0.0 \\\\\n",
       "\t5 & 2018-01-01T04:00:00 & 0.0 \\\\\n",
       "\t6 & 2018-01-01T05:00:00 & 0.0 \\\\\n",
       "\t7 & 2018-01-01T06:00:00 & 0.0 \\\\\n",
       "\t8 & 2018-01-01T07:00:00 & 6.91694 \\\\\n",
       "\t9 & 2018-01-01T08:00:00 & 135.23 \\\\\n",
       "\t10 & 2018-01-01T09:00:00 & 345.787 \\\\\n",
       "\t11 & 2018-01-01T10:00:00 & 372.168 \\\\\n",
       "\t12 & 2018-01-01T11:00:00 & 385.117 \\\\\n",
       "\t13 & 2018-01-01T12:00:00 & 429.001 \\\\\n",
       "\t14 & 2018-01-01T13:00:00 & 459.208 \\\\\n",
       "\t15 & 2018-01-01T14:00:00 & 429.129 \\\\\n",
       "\t16 & 2018-01-01T15:00:00 & 453.477 \\\\\n",
       "\t17 & 2018-01-01T16:00:00 & 312.169 \\\\\n",
       "\t18 & 2018-01-01T17:00:00 & 54.3303 \\\\\n",
       "\t19 & 2018-01-01T18:00:00 & 0.014625 \\\\\n",
       "\t20 & 2018-01-01T19:00:00 & 0.0 \\\\\n",
       "\t21 & 2018-01-01T20:00:00 & 0.0 \\\\\n",
       "\t22 & 2018-01-01T21:00:00 & 0.0 \\\\\n",
       "\t23 & 2018-01-01T22:00:00 & 0.0 \\\\\n",
       "\t24 & 2018-01-01T23:00:00 & 0.0 \\\\\n",
       "\t$\\dots$ & $\\dots$ & $\\dots$ \\\\\n",
       "\\end{tabular}\n"
      ],
      "text/plain": [
       "\u001b[1m8736×2 DataFrame\u001b[0m\n",
       "\u001b[1m  Row \u001b[0m│\u001b[1m time_index          \u001b[0m\u001b[1m avg_actual \u001b[0m\n",
       "      │\u001b[90m DateTime            \u001b[0m\u001b[90m Float64    \u001b[0m\n",
       "──────┼─────────────────────────────────\n",
       "    1 │ 2018-01-01T00:00:00    0.0\n",
       "    2 │ 2018-01-01T01:00:00    0.0\n",
       "    3 │ 2018-01-01T02:00:00    0.0\n",
       "    4 │ 2018-01-01T03:00:00    0.0\n",
       "    5 │ 2018-01-01T04:00:00    0.0\n",
       "    6 │ 2018-01-01T05:00:00    0.0\n",
       "    7 │ 2018-01-01T06:00:00    0.0\n",
       "    8 │ 2018-01-01T07:00:00    6.91694\n",
       "  ⋮   │          ⋮               ⋮\n",
       " 8730 │ 2018-12-30T17:00:00    5.32315\n",
       " 8731 │ 2018-12-30T18:00:00    0.001125\n",
       " 8732 │ 2018-12-30T19:00:00    0.0\n",
       " 8733 │ 2018-12-30T20:00:00    0.0\n",
       " 8734 │ 2018-12-30T21:00:00    0.0\n",
       " 8735 │ 2018-12-30T22:00:00    0.0\n",
       " 8736 │ 2018-12-30T23:00:00    0.0\n",
       "\u001b[36m                       8721 rows omitted\u001b[0m"
      ]
     },
     "metadata": {},
     "output_type": "display_data"
    }
   ],
   "source": [
    "solar_model_data"
   ]
  },
  {
   "cell_type": "code",
   "execution_count": 124,
   "id": "96d8c06d",
   "metadata": {},
   "outputs": [
    {
     "data": {
      "text/plain": [
       "4880-element Vector{Int64}:\n",
       "    8\n",
       "    9\n",
       "   10\n",
       "   11\n",
       "   12\n",
       "   13\n",
       "   14\n",
       "   15\n",
       "   16\n",
       "   17\n",
       "    ⋮\n",
       " 8723\n",
       " 8724\n",
       " 8725\n",
       " 8726\n",
       " 8727\n",
       " 8728\n",
       " 8729\n",
       " 8730\n",
       " 8731"
      ]
     },
     "metadata": {},
     "output_type": "display_data"
    }
   ],
   "source": [
    "# get the indices of when solar_model_data is greater than 0\n",
    "solar_positive_indices = findall(row -> row[:avg_actual] > 0, eachrow(solar_model_data))"
   ]
  },
  {
   "cell_type": "code",
   "execution_count": 125,
   "id": "ff25355d",
   "metadata": {},
   "outputs": [
    {
     "data": {
      "text/plain": [
       "8686×20 Matrix{Matrix{Float64}}:\n",
       " #undef  #undef  #undef  #undef  #undef  …  #undef  #undef  #undef  #undef\n",
       " #undef  #undef  #undef  #undef  #undef     #undef  #undef  #undef  #undef\n",
       " #undef  #undef  #undef  #undef  #undef     #undef  #undef  #undef  #undef\n",
       " #undef  #undef  #undef  #undef  #undef     #undef  #undef  #undef  #undef\n",
       " #undef  #undef  #undef  #undef  #undef     #undef  #undef  #undef  #undef\n",
       " #undef  #undef  #undef  #undef  #undef  …  #undef  #undef  #undef  #undef\n",
       " #undef  #undef  #undef  #undef  #undef     #undef  #undef  #undef  #undef\n",
       " #undef  #undef  #undef  #undef  #undef     #undef  #undef  #undef  #undef\n",
       " #undef  #undef  #undef  #undef  #undef     #undef  #undef  #undef  #undef\n",
       " #undef  #undef  #undef  #undef  #undef     #undef  #undef  #undef  #undef\n",
       "   ⋮                                     ⋱                          \n",
       " #undef  #undef  #undef  #undef  #undef     #undef  #undef  #undef  #undef\n",
       " #undef  #undef  #undef  #undef  #undef     #undef  #undef  #undef  #undef\n",
       " #undef  #undef  #undef  #undef  #undef     #undef  #undef  #undef  #undef\n",
       " #undef  #undef  #undef  #undef  #undef  …  #undef  #undef  #undef  #undef\n",
       " #undef  #undef  #undef  #undef  #undef     #undef  #undef  #undef  #undef\n",
       " #undef  #undef  #undef  #undef  #undef     #undef  #undef  #undef  #undef\n",
       " #undef  #undef  #undef  #undef  #undef     #undef  #undef  #undef  #undef\n",
       " #undef  #undef  #undef  #undef  #undef     #undef  #undef  #undef  #undef\n",
       " #undef  #undef  #undef  #undef  #undef  …  #undef  #undef  #undef  #undef"
      ]
     },
     "metadata": {},
     "output_type": "display_data"
    }
   ],
   "source": [
    "# define loop as first 20 elements of sunny_decision_hours\n",
    "R = solar_positive_indices[1:20];\n",
    "\n",
    "# initialize scenario path for load, solar and wind\n",
    "scen_path_load = Array{Matrix{Float64}}(undef, Tend, number_of_scenarios)\n",
    "scen_path_solar = Array{Matrix{Float64}}(undef, Tend, number_of_scenarios)\n",
    "scen_path_wind = Array{Matrix{Float64}}(undef, Tend, number_of_scenarios)"
   ]
  },
  {
   "cell_type": "code",
   "execution_count": 126,
   "id": "8a092eb9",
   "metadata": {},
   "outputs": [
    {
     "ename": "UndefVarError",
     "evalue": "UndefVarError: `sunny_decision_hours` not defined",
     "output_type": "error",
     "traceback": [
      "UndefVarError: `sunny_decision_hours` not defined\n"
     ]
    }
   ],
   "source": [
    "sunny_decision_hours"
   ]
  },
  {
   "cell_type": "code",
   "execution_count": 127,
   "id": "c94d9c14",
   "metadata": {},
   "outputs": [
    {
     "data": {
      "text/plain": [
       "8736-element Vector{Int64}:\n",
       "    7\n",
       "    8\n",
       "    9\n",
       "   10\n",
       "   11\n",
       "   12\n",
       "   13\n",
       "   14\n",
       "   15\n",
       "   16\n",
       "    ⋮\n",
       " 8734\n",
       " 8735\n",
       " 8736\n",
       " 8737\n",
       " 8738\n",
       " 8739\n",
       " 8740\n",
       " 8741\n",
       " 8742"
      ]
     },
     "metadata": {},
     "output_type": "display_data"
    }
   ],
   "source": [
    "forecast2model_indices = findall(in(unique_forecast_times), load_actual_avg[!, :time_index])\n"
   ]
  },
  {
   "cell_type": "code",
   "execution_count": 128,
   "id": "9bfe2235",
   "metadata": {},
   "outputs": [
    {
     "data": {
      "text/plain": [
       "8736-element Vector{Float64}:\n",
       "   0.0\n",
       "   0.0\n",
       "   0.0\n",
       "   0.0\n",
       "   0.0\n",
       "   0.0\n",
       "   0.0\n",
       "   6.916941916666667\n",
       " 135.23035908333335\n",
       " 345.78694816666666\n",
       "   ⋮\n",
       "  72.38918704166666\n",
       "  55.24584775\n",
       "   5.323152916666667\n",
       "   0.0011250000000000001\n",
       "   0.0\n",
       "   0.0\n",
       "   0.0\n",
       "   0.0\n",
       "   0.0"
      ]
     },
     "metadata": {},
     "output_type": "display_data"
    }
   ],
   "source": [
    "solar_actuals_dec_timeseries = solar_actual_avg[forecast2model_indices, :avg_actual]"
   ]
  },
  {
   "cell_type": "code",
   "execution_count": 129,
   "id": "bfcb9036",
   "metadata": {},
   "outputs": [
    {
     "data": {
      "text/html": [
       "<div><div style = \"float: left;\"><span>48×103 DataFrame</span></div><div style = \"float: right;\"><span style = \"font-style: italic;\">3 columns and 23 rows omitted</span></div><div style = \"clear: both;\"></div></div><div class = \"data-frame\" style = \"overflow-x: scroll;\"><table class = \"data-frame\" style = \"margin-bottom: 6px;\"><thead><tr class = \"header\"><th class = \"rowNumber\" style = \"font-weight: bold; text-align: right;\">Row</th><th style = \"text-align: left;\">forecast_time</th><th style = \"text-align: left;\">issue_time</th><th style = \"text-align: left;\">p_1</th><th style = \"text-align: left;\">p_2</th><th style = \"text-align: left;\">p_3</th><th style = \"text-align: left;\">p_4</th><th style = \"text-align: left;\">p_5</th><th style = \"text-align: left;\">p_6</th><th style = \"text-align: left;\">p_7</th><th style = \"text-align: left;\">p_8</th><th style = \"text-align: left;\">p_9</th><th style = \"text-align: left;\">p_10</th><th style = \"text-align: left;\">p_11</th><th style = \"text-align: left;\">p_12</th><th style = \"text-align: left;\">p_13</th><th style = \"text-align: left;\">p_14</th><th style = \"text-align: left;\">p_15</th><th style = \"text-align: left;\">p_16</th><th style = \"text-align: left;\">p_17</th><th style = \"text-align: left;\">p_18</th><th style = \"text-align: left;\">p_19</th><th style = \"text-align: left;\">p_20</th><th style = \"text-align: left;\">p_21</th><th style = \"text-align: left;\">p_22</th><th style = \"text-align: left;\">p_23</th><th style = \"text-align: left;\">p_24</th><th style = \"text-align: left;\">p_25</th><th style = \"text-align: left;\">p_26</th><th style = \"text-align: left;\">p_27</th><th style = \"text-align: left;\">p_28</th><th style = \"text-align: left;\">p_29</th><th style = \"text-align: left;\">p_30</th><th style = \"text-align: left;\">p_31</th><th style = \"text-align: left;\">p_32</th><th style = \"text-align: left;\">p_33</th><th style = \"text-align: left;\">p_34</th><th style = \"text-align: left;\">p_35</th><th style = \"text-align: left;\">p_36</th><th style = \"text-align: left;\">p_37</th><th style = \"text-align: left;\">p_38</th><th style = \"text-align: left;\">p_39</th><th style = \"text-align: left;\">p_40</th><th style = \"text-align: left;\">p_41</th><th style = \"text-align: left;\">p_42</th><th style = \"text-align: left;\">p_43</th><th style = \"text-align: left;\">p_44</th><th style = \"text-align: left;\">p_45</th><th style = \"text-align: left;\">p_46</th><th style = \"text-align: left;\">p_47</th><th style = \"text-align: left;\">p_48</th><th style = \"text-align: left;\">p_49</th><th style = \"text-align: left;\">p_50</th><th style = \"text-align: left;\">p_51</th><th style = \"text-align: left;\">p_52</th><th style = \"text-align: left;\">p_53</th><th style = \"text-align: left;\">p_54</th><th style = \"text-align: left;\">p_55</th><th style = \"text-align: left;\">p_56</th><th style = \"text-align: left;\">p_57</th><th style = \"text-align: left;\">p_58</th><th style = \"text-align: left;\">p_59</th><th style = \"text-align: left;\">p_60</th><th style = \"text-align: left;\">p_61</th><th style = \"text-align: left;\">p_62</th><th style = \"text-align: left;\">p_63</th><th style = \"text-align: left;\">p_64</th><th style = \"text-align: left;\">p_65</th><th style = \"text-align: left;\">p_66</th><th style = \"text-align: left;\">p_67</th><th style = \"text-align: left;\">p_68</th><th style = \"text-align: left;\">p_69</th><th style = \"text-align: left;\">p_70</th><th style = \"text-align: left;\">p_71</th><th style = \"text-align: left;\">p_72</th><th style = \"text-align: left;\">p_73</th><th style = \"text-align: left;\">p_74</th><th style = \"text-align: left;\">p_75</th><th style = \"text-align: left;\">p_76</th><th style = \"text-align: left;\">p_77</th><th style = \"text-align: left;\">p_78</th><th style = \"text-align: left;\">p_79</th><th style = \"text-align: left;\">p_80</th><th style = \"text-align: left;\">p_81</th><th style = \"text-align: left;\">p_82</th><th style = \"text-align: left;\">p_83</th><th style = \"text-align: left;\">p_84</th><th style = \"text-align: left;\">p_85</th><th style = \"text-align: left;\">p_86</th><th style = \"text-align: left;\">p_87</th><th style = \"text-align: left;\">p_88</th><th style = \"text-align: left;\">p_89</th><th style = \"text-align: left;\">p_90</th><th style = \"text-align: left;\">p_91</th><th style = \"text-align: left;\">p_92</th><th style = \"text-align: left;\">p_93</th><th style = \"text-align: left;\">p_94</th><th style = \"text-align: left;\">p_95</th><th style = \"text-align: left;\">p_96</th><th style = \"text-align: left;\">p_97</th><th style = \"text-align: left;\">p_98</th><th style = \"text-align: right;\">&ctdot;</th></tr><tr class = \"subheader headerLastRow\"><th class = \"rowNumber\" style = \"font-weight: bold; text-align: right;\"></th><th title = \"DateTime\" style = \"text-align: left;\">DateTime</th><th title = \"DateTime\" style = \"text-align: left;\">DateTime</th><th title = \"Float64\" style = \"text-align: left;\">Float64</th><th title = \"Float64\" style = \"text-align: left;\">Float64</th><th title = \"Float64\" style = \"text-align: left;\">Float64</th><th title = \"Float64\" style = \"text-align: left;\">Float64</th><th title = \"Float64\" style = \"text-align: left;\">Float64</th><th title = \"Float64\" style = \"text-align: left;\">Float64</th><th title = \"Float64\" style = \"text-align: left;\">Float64</th><th title = \"Float64\" style = \"text-align: left;\">Float64</th><th title = \"Float64\" style = \"text-align: left;\">Float64</th><th title = \"Float64\" style = \"text-align: left;\">Float64</th><th title = \"Float64\" style = \"text-align: left;\">Float64</th><th title = \"Float64\" style = \"text-align: left;\">Float64</th><th title = \"Float64\" style = \"text-align: left;\">Float64</th><th title = \"Float64\" style = \"text-align: left;\">Float64</th><th title = \"Float64\" style = \"text-align: left;\">Float64</th><th title = \"Float64\" style = \"text-align: left;\">Float64</th><th title = \"Float64\" style = \"text-align: left;\">Float64</th><th title = \"Float64\" style = \"text-align: left;\">Float64</th><th title = \"Float64\" style = \"text-align: left;\">Float64</th><th title = \"Float64\" style = \"text-align: left;\">Float64</th><th title = \"Float64\" style = \"text-align: left;\">Float64</th><th title = \"Float64\" style = \"text-align: left;\">Float64</th><th title = \"Float64\" style = \"text-align: left;\">Float64</th><th title = \"Float64\" style = \"text-align: left;\">Float64</th><th title = \"Float64\" style = \"text-align: left;\">Float64</th><th title = \"Float64\" style = \"text-align: left;\">Float64</th><th title = \"Float64\" style = \"text-align: left;\">Float64</th><th title = \"Float64\" style = \"text-align: left;\">Float64</th><th title = \"Float64\" style = \"text-align: left;\">Float64</th><th title = \"Float64\" style = \"text-align: left;\">Float64</th><th title = \"Float64\" style = \"text-align: left;\">Float64</th><th title = \"Float64\" style = \"text-align: left;\">Float64</th><th title = \"Float64\" style = \"text-align: left;\">Float64</th><th title = \"Float64\" style = \"text-align: left;\">Float64</th><th title = \"Float64\" style = \"text-align: left;\">Float64</th><th title = \"Float64\" style = \"text-align: left;\">Float64</th><th title = \"Float64\" style = \"text-align: left;\">Float64</th><th title = \"Float64\" style = \"text-align: left;\">Float64</th><th title = \"Float64\" style = \"text-align: left;\">Float64</th><th title = \"Float64\" style = \"text-align: left;\">Float64</th><th title = \"Float64\" style = \"text-align: left;\">Float64</th><th title = \"Float64\" style = \"text-align: left;\">Float64</th><th title = \"Float64\" style = \"text-align: left;\">Float64</th><th title = \"Float64\" style = \"text-align: left;\">Float64</th><th title = \"Float64\" style = \"text-align: left;\">Float64</th><th title = \"Float64\" style = \"text-align: left;\">Float64</th><th title = \"Float64\" style = \"text-align: left;\">Float64</th><th title = \"Float64\" style = \"text-align: left;\">Float64</th><th title = \"Float64\" style = \"text-align: left;\">Float64</th><th title = \"Float64\" style = \"text-align: left;\">Float64</th><th title = \"Float64\" style = \"text-align: left;\">Float64</th><th title = \"Float64\" style = \"text-align: left;\">Float64</th><th title = \"Float64\" style = \"text-align: left;\">Float64</th><th title = \"Float64\" style = \"text-align: left;\">Float64</th><th title = \"Float64\" style = \"text-align: left;\">Float64</th><th title = \"Float64\" style = \"text-align: left;\">Float64</th><th title = \"Float64\" style = \"text-align: left;\">Float64</th><th title = \"Float64\" style = \"text-align: left;\">Float64</th><th title = \"Float64\" style = \"text-align: left;\">Float64</th><th title = \"Float64\" style = \"text-align: left;\">Float64</th><th title = \"Float64\" style = \"text-align: left;\">Float64</th><th title = \"Float64\" style = \"text-align: left;\">Float64</th><th title = \"Float64\" style = \"text-align: left;\">Float64</th><th title = \"Float64\" style = \"text-align: left;\">Float64</th><th title = \"Float64\" style = \"text-align: left;\">Float64</th><th title = \"Float64\" style = \"text-align: left;\">Float64</th><th title = \"Float64\" style = \"text-align: left;\">Float64</th><th title = \"Float64\" style = \"text-align: left;\">Float64</th><th title = \"Float64\" style = \"text-align: left;\">Float64</th><th title = \"Float64\" style = \"text-align: left;\">Float64</th><th title = \"Float64\" style = \"text-align: left;\">Float64</th><th title = \"Float64\" style = \"text-align: left;\">Float64</th><th title = \"Float64\" style = \"text-align: left;\">Float64</th><th title = \"Float64\" style = \"text-align: left;\">Float64</th><th title = \"Float64\" style = \"text-align: left;\">Float64</th><th title = \"Float64\" style = \"text-align: left;\">Float64</th><th title = \"Float64\" style = \"text-align: left;\">Float64</th><th title = \"Float64\" style = \"text-align: left;\">Float64</th><th title = \"Float64\" style = \"text-align: left;\">Float64</th><th title = \"Float64\" style = \"text-align: left;\">Float64</th><th title = \"Float64\" style = \"text-align: left;\">Float64</th><th title = \"Float64\" style = \"text-align: left;\">Float64</th><th title = \"Float64\" style = \"text-align: left;\">Float64</th><th title = \"Float64\" style = \"text-align: left;\">Float64</th><th title = \"Float64\" style = \"text-align: left;\">Float64</th><th title = \"Float64\" style = \"text-align: left;\">Float64</th><th title = \"Float64\" style = \"text-align: left;\">Float64</th><th title = \"Float64\" style = \"text-align: left;\">Float64</th><th title = \"Float64\" style = \"text-align: left;\">Float64</th><th title = \"Float64\" style = \"text-align: left;\">Float64</th><th title = \"Float64\" style = \"text-align: left;\">Float64</th><th title = \"Float64\" style = \"text-align: left;\">Float64</th><th title = \"Float64\" style = \"text-align: left;\">Float64</th><th title = \"Float64\" style = \"text-align: left;\">Float64</th><th title = \"Float64\" style = \"text-align: left;\">Float64</th><th title = \"Float64\" style = \"text-align: left;\">Float64</th><th title = \"Float64\" style = \"text-align: left;\">Float64</th><th title = \"Float64\" style = \"text-align: left;\">Float64</th><th title = \"Float64\" style = \"text-align: right;\">&ctdot;</th></tr></thead><tbody><tr><td class = \"rowNumber\" style = \"font-weight: bold; text-align: right;\">1</td><td style = \"text-align: left;\">2018-01-01T00:00:00</td><td style = \"text-align: left;\">2017-12-31T12:00:00</td><td style = \"text-align: right;\">4498.39</td><td style = \"text-align: right;\">4504.78</td><td style = \"text-align: right;\">4516.86</td><td style = \"text-align: right;\">4572.79</td><td style = \"text-align: right;\">4666.27</td><td style = \"text-align: right;\">4826.55</td><td style = \"text-align: right;\">4833.27</td><td style = \"text-align: right;\">4908.43</td><td style = \"text-align: right;\">4983.03</td><td style = \"text-align: right;\">5036.68</td><td style = \"text-align: right;\">5073.17</td><td style = \"text-align: right;\">5081.99</td><td style = \"text-align: right;\">5162.45</td><td style = \"text-align: right;\">5313.36</td><td style = \"text-align: right;\">5444.5</td><td style = \"text-align: right;\">5464.98</td><td style = \"text-align: right;\">5480.96</td><td style = \"text-align: right;\">5561.93</td><td style = \"text-align: right;\">5577.43</td><td style = \"text-align: right;\">5747.46</td><td style = \"text-align: right;\">5776.21</td><td style = \"text-align: right;\">5785.94</td><td style = \"text-align: right;\">6008.54</td><td style = \"text-align: right;\">6021.8</td><td style = \"text-align: right;\">6101.73</td><td style = \"text-align: right;\">6103.79</td><td style = \"text-align: right;\">6134.4</td><td style = \"text-align: right;\">6148.76</td><td style = \"text-align: right;\">6191.84</td><td style = \"text-align: right;\">6259.5</td><td style = \"text-align: right;\">6270.44</td><td style = \"text-align: right;\">6280.78</td><td style = \"text-align: right;\">6306.09</td><td style = \"text-align: right;\">6354.07</td><td style = \"text-align: right;\">6390.86</td><td style = \"text-align: right;\">6403.67</td><td style = \"text-align: right;\">6408.49</td><td style = \"text-align: right;\">6434.25</td><td style = \"text-align: right;\">6447.26</td><td style = \"text-align: right;\">6487.89</td><td style = \"text-align: right;\">6591.32</td><td style = \"text-align: right;\">6621.72</td><td style = \"text-align: right;\">6658.19</td><td style = \"text-align: right;\">6696.96</td><td style = \"text-align: right;\">6714.75</td><td style = \"text-align: right;\">6842.24</td><td style = \"text-align: right;\">6881.97</td><td style = \"text-align: right;\">6897.3</td><td style = \"text-align: right;\">6904.32</td><td style = \"text-align: right;\">6953.91</td><td style = \"text-align: right;\">7098.02</td><td style = \"text-align: right;\">7104.45</td><td style = \"text-align: right;\">7128.56</td><td style = \"text-align: right;\">7134.23</td><td style = \"text-align: right;\">7143.28</td><td style = \"text-align: right;\">7158.02</td><td style = \"text-align: right;\">7166.33</td><td style = \"text-align: right;\">7194.31</td><td style = \"text-align: right;\">7273.91</td><td style = \"text-align: right;\">7306.23</td><td style = \"text-align: right;\">7414.59</td><td style = \"text-align: right;\">7430.78</td><td style = \"text-align: right;\">7529.7</td><td style = \"text-align: right;\">7646.74</td><td style = \"text-align: right;\">7679.74</td><td style = \"text-align: right;\">7695.59</td><td style = \"text-align: right;\">7713.04</td><td style = \"text-align: right;\">7811.22</td><td style = \"text-align: right;\">7839.44</td><td style = \"text-align: right;\">7893.65</td><td style = \"text-align: right;\">7974.33</td><td style = \"text-align: right;\">8101.7</td><td style = \"text-align: right;\">8138.01</td><td style = \"text-align: right;\">8166.42</td><td style = \"text-align: right;\">8180.02</td><td style = \"text-align: right;\">8187.36</td><td style = \"text-align: right;\">8213.83</td><td style = \"text-align: right;\">8257.2</td><td style = \"text-align: right;\">8303.84</td><td style = \"text-align: right;\">8343.91</td><td style = \"text-align: right;\">8378.41</td><td style = \"text-align: right;\">8414.76</td><td style = \"text-align: right;\">8426.27</td><td style = \"text-align: right;\">8453.93</td><td style = \"text-align: right;\">8466.78</td><td style = \"text-align: right;\">8472.46</td><td style = \"text-align: right;\">8566.51</td><td style = \"text-align: right;\">8573.84</td><td style = \"text-align: right;\">8593.09</td><td style = \"text-align: right;\">8606.12</td><td style = \"text-align: right;\">8631.82</td><td style = \"text-align: right;\">8663.37</td><td style = \"text-align: right;\">8668.25</td><td style = \"text-align: right;\">8674.34</td><td style = \"text-align: right;\">8879.61</td><td style = \"text-align: right;\">8895.87</td><td style = \"text-align: right;\">8912.22</td><td style = \"text-align: right;\">8990.43</td><td style = \"text-align: right;\">&ctdot;</td></tr><tr><td class = \"rowNumber\" style = \"font-weight: bold; text-align: right;\">2</td><td style = \"text-align: left;\">2018-01-01T01:00:00</td><td style = \"text-align: left;\">2017-12-31T12:00:00</td><td style = \"text-align: right;\">4437.08</td><td style = \"text-align: right;\">4442.95</td><td style = \"text-align: right;\">4446.17</td><td style = \"text-align: right;\">4487.63</td><td style = \"text-align: right;\">4756.88</td><td style = \"text-align: right;\">4793.18</td><td style = \"text-align: right;\">4794.78</td><td style = \"text-align: right;\">4836.27</td><td style = \"text-align: right;\">4836.51</td><td style = \"text-align: right;\">4844.16</td><td style = \"text-align: right;\">4879.82</td><td style = \"text-align: right;\">4905.77</td><td style = \"text-align: right;\">4925.04</td><td style = \"text-align: right;\">5010.3</td><td style = \"text-align: right;\">5016.55</td><td style = \"text-align: right;\">5053.17</td><td style = \"text-align: right;\">5067.24</td><td style = \"text-align: right;\">5101.19</td><td style = \"text-align: right;\">5222.99</td><td style = \"text-align: right;\">5279.27</td><td style = \"text-align: right;\">5297.94</td><td style = \"text-align: right;\">5351.71</td><td style = \"text-align: right;\">5378.54</td><td style = \"text-align: right;\">5460.84</td><td style = \"text-align: right;\">5503.84</td><td style = \"text-align: right;\">5506.66</td><td style = \"text-align: right;\">5546.4</td><td style = \"text-align: right;\">5667.55</td><td style = \"text-align: right;\">5701.67</td><td style = \"text-align: right;\">5719.92</td><td style = \"text-align: right;\">5763.83</td><td style = \"text-align: right;\">5795.63</td><td style = \"text-align: right;\">5813.4</td><td style = \"text-align: right;\">5892.43</td><td style = \"text-align: right;\">5939.56</td><td style = \"text-align: right;\">5983.76</td><td style = \"text-align: right;\">5990.77</td><td style = \"text-align: right;\">6006.9</td><td style = \"text-align: right;\">6035.04</td><td style = \"text-align: right;\">6043.89</td><td style = \"text-align: right;\">6073.43</td><td style = \"text-align: right;\">6077.27</td><td style = \"text-align: right;\">6100.61</td><td style = \"text-align: right;\">6117.52</td><td style = \"text-align: right;\">6117.92</td><td style = \"text-align: right;\">6134.41</td><td style = \"text-align: right;\">6148.61</td><td style = \"text-align: right;\">6153.7</td><td style = \"text-align: right;\">6220.07</td><td style = \"text-align: right;\">6253.49</td><td style = \"text-align: right;\">6327.54</td><td style = \"text-align: right;\">6377.47</td><td style = \"text-align: right;\">6397.92</td><td style = \"text-align: right;\">6446.58</td><td style = \"text-align: right;\">6463.91</td><td style = \"text-align: right;\">6503.54</td><td style = \"text-align: right;\">6523.05</td><td style = \"text-align: right;\">6564.83</td><td style = \"text-align: right;\">6689.44</td><td style = \"text-align: right;\">6689.8</td><td style = \"text-align: right;\">6730.35</td><td style = \"text-align: right;\">6730.57</td><td style = \"text-align: right;\">6760.06</td><td style = \"text-align: right;\">6780.57</td><td style = \"text-align: right;\">6842.62</td><td style = \"text-align: right;\">6862.02</td><td style = \"text-align: right;\">6894.51</td><td style = \"text-align: right;\">6894.99</td><td style = \"text-align: right;\">6902.28</td><td style = \"text-align: right;\">6933.18</td><td style = \"text-align: right;\">6984.54</td><td style = \"text-align: right;\">7172.59</td><td style = \"text-align: right;\">7264.91</td><td style = \"text-align: right;\">7265.88</td><td style = \"text-align: right;\">7363.87</td><td style = \"text-align: right;\">7377.31</td><td style = \"text-align: right;\">7388.37</td><td style = \"text-align: right;\">7418.33</td><td style = \"text-align: right;\">7432.59</td><td style = \"text-align: right;\">7436.29</td><td style = \"text-align: right;\">7579.55</td><td style = \"text-align: right;\">7585.19</td><td style = \"text-align: right;\">7632.06</td><td style = \"text-align: right;\">7632.34</td><td style = \"text-align: right;\">7636.73</td><td style = \"text-align: right;\">7900.09</td><td style = \"text-align: right;\">7914.45</td><td style = \"text-align: right;\">7923.18</td><td style = \"text-align: right;\">7954.31</td><td style = \"text-align: right;\">7960.33</td><td style = \"text-align: right;\">7994.93</td><td style = \"text-align: right;\">8012.72</td><td style = \"text-align: right;\">8017.49</td><td style = \"text-align: right;\">8021.83</td><td style = \"text-align: right;\">8071.5</td><td style = \"text-align: right;\">8179.66</td><td style = \"text-align: right;\">8186.33</td><td style = \"text-align: right;\">8267.1</td><td style = \"text-align: right;\">&ctdot;</td></tr><tr><td class = \"rowNumber\" style = \"font-weight: bold; text-align: right;\">3</td><td style = \"text-align: left;\">2018-01-01T02:00:00</td><td style = \"text-align: left;\">2017-12-31T12:00:00</td><td style = \"text-align: right;\">3856.06</td><td style = \"text-align: right;\">4056.18</td><td style = \"text-align: right;\">4064.34</td><td style = \"text-align: right;\">4119.03</td><td style = \"text-align: right;\">4140.09</td><td style = \"text-align: right;\">4264.26</td><td style = \"text-align: right;\">4415.73</td><td style = \"text-align: right;\">4445.26</td><td style = \"text-align: right;\">4484.64</td><td style = \"text-align: right;\">4553.4</td><td style = \"text-align: right;\">4565.05</td><td style = \"text-align: right;\">4659.15</td><td style = \"text-align: right;\">4793.43</td><td style = \"text-align: right;\">4819.98</td><td style = \"text-align: right;\">4840.54</td><td style = \"text-align: right;\">4867.77</td><td style = \"text-align: right;\">4892.41</td><td style = \"text-align: right;\">4907.79</td><td style = \"text-align: right;\">4968.18</td><td style = \"text-align: right;\">5015.26</td><td style = \"text-align: right;\">5031.67</td><td style = \"text-align: right;\">5052.19</td><td style = \"text-align: right;\">5104.61</td><td style = \"text-align: right;\">5122.96</td><td style = \"text-align: right;\">5214.51</td><td style = \"text-align: right;\">5215.8</td><td style = \"text-align: right;\">5225.26</td><td style = \"text-align: right;\">5340.12</td><td style = \"text-align: right;\">5355.1</td><td style = \"text-align: right;\">5366.04</td><td style = \"text-align: right;\">5425.86</td><td style = \"text-align: right;\">5464.65</td><td style = \"text-align: right;\">5513.11</td><td style = \"text-align: right;\">5539.41</td><td style = \"text-align: right;\">5596.39</td><td style = \"text-align: right;\">5702.77</td><td style = \"text-align: right;\">5735.54</td><td style = \"text-align: right;\">5762.08</td><td style = \"text-align: right;\">5776.13</td><td style = \"text-align: right;\">5786.64</td><td style = \"text-align: right;\">5791.69</td><td style = \"text-align: right;\">5828.63</td><td style = \"text-align: right;\">5841.4</td><td style = \"text-align: right;\">5843.56</td><td style = \"text-align: right;\">5856.41</td><td style = \"text-align: right;\">5858.81</td><td style = \"text-align: right;\">5900.06</td><td style = \"text-align: right;\">5918.3</td><td style = \"text-align: right;\">5986.14</td><td style = \"text-align: right;\">6000.32</td><td style = \"text-align: right;\">6046.95</td><td style = \"text-align: right;\">6072.82</td><td style = \"text-align: right;\">6083.92</td><td style = \"text-align: right;\">6134.28</td><td style = \"text-align: right;\">6140.66</td><td style = \"text-align: right;\">6159.8</td><td style = \"text-align: right;\">6182.69</td><td style = \"text-align: right;\">6192.68</td><td style = \"text-align: right;\">6204.89</td><td style = \"text-align: right;\">6217.38</td><td style = \"text-align: right;\">6226.42</td><td style = \"text-align: right;\">6227.23</td><td style = \"text-align: right;\">6231.82</td><td style = \"text-align: right;\">6245.11</td><td style = \"text-align: right;\">6261.11</td><td style = \"text-align: right;\">6275.13</td><td style = \"text-align: right;\">6278.66</td><td style = \"text-align: right;\">6288.96</td><td style = \"text-align: right;\">6295.8</td><td style = \"text-align: right;\">6297.04</td><td style = \"text-align: right;\">6298.45</td><td style = \"text-align: right;\">6327.33</td><td style = \"text-align: right;\">6339.53</td><td style = \"text-align: right;\">6353.1</td><td style = \"text-align: right;\">6360.4</td><td style = \"text-align: right;\">6363.08</td><td style = \"text-align: right;\">6411.68</td><td style = \"text-align: right;\">6412.1</td><td style = \"text-align: right;\">6453.82</td><td style = \"text-align: right;\">6509.6</td><td style = \"text-align: right;\">6520.69</td><td style = \"text-align: right;\">6523.0</td><td style = \"text-align: right;\">6535.86</td><td style = \"text-align: right;\">6560.06</td><td style = \"text-align: right;\">6560.67</td><td style = \"text-align: right;\">6645.25</td><td style = \"text-align: right;\">6684.51</td><td style = \"text-align: right;\">6743.4</td><td style = \"text-align: right;\">6759.23</td><td style = \"text-align: right;\">6772.55</td><td style = \"text-align: right;\">6773.5</td><td style = \"text-align: right;\">6784.9</td><td style = \"text-align: right;\">6797.2</td><td style = \"text-align: right;\">6845.02</td><td style = \"text-align: right;\">6852.32</td><td style = \"text-align: right;\">6886.02</td><td style = \"text-align: right;\">6887.34</td><td style = \"text-align: right;\">6889.18</td><td style = \"text-align: right;\">&ctdot;</td></tr><tr><td class = \"rowNumber\" style = \"font-weight: bold; text-align: right;\">4</td><td style = \"text-align: left;\">2018-01-01T03:00:00</td><td style = \"text-align: left;\">2017-12-31T12:00:00</td><td style = \"text-align: right;\">3613.21</td><td style = \"text-align: right;\">3678.05</td><td style = \"text-align: right;\">3734.93</td><td style = \"text-align: right;\">3969.08</td><td style = \"text-align: right;\">3978.12</td><td style = \"text-align: right;\">4009.25</td><td style = \"text-align: right;\">4151.98</td><td style = \"text-align: right;\">4161.03</td><td style = \"text-align: right;\">4186.3</td><td style = \"text-align: right;\">4202.7</td><td style = \"text-align: right;\">4218.73</td><td style = \"text-align: right;\">4224.11</td><td style = \"text-align: right;\">4233.48</td><td style = \"text-align: right;\">4257.24</td><td style = \"text-align: right;\">4332.24</td><td style = \"text-align: right;\">4452.27</td><td style = \"text-align: right;\">4459.54</td><td style = \"text-align: right;\">4504.18</td><td style = \"text-align: right;\">4562.26</td><td style = \"text-align: right;\">4595.43</td><td style = \"text-align: right;\">4608.18</td><td style = \"text-align: right;\">4657.02</td><td style = \"text-align: right;\">4675.1</td><td style = \"text-align: right;\">4679.03</td><td style = \"text-align: right;\">4756.64</td><td style = \"text-align: right;\">4823.63</td><td style = \"text-align: right;\">4826.1</td><td style = \"text-align: right;\">4881.14</td><td style = \"text-align: right;\">4890.04</td><td style = \"text-align: right;\">4908.21</td><td style = \"text-align: right;\">4925.68</td><td style = \"text-align: right;\">4964.79</td><td style = \"text-align: right;\">5014.29</td><td style = \"text-align: right;\">5037.71</td><td style = \"text-align: right;\">5087.59</td><td style = \"text-align: right;\">5088.54</td><td style = \"text-align: right;\">5097.91</td><td style = \"text-align: right;\">5104.74</td><td style = \"text-align: right;\">5241.38</td><td style = \"text-align: right;\">5468.93</td><td style = \"text-align: right;\">5476.7</td><td style = \"text-align: right;\">5507.88</td><td style = \"text-align: right;\">5525.98</td><td style = \"text-align: right;\">5592.21</td><td style = \"text-align: right;\">5637.12</td><td style = \"text-align: right;\">5664.29</td><td style = \"text-align: right;\">5702.65</td><td style = \"text-align: right;\">5731.73</td><td style = \"text-align: right;\">5752.4</td><td style = \"text-align: right;\">5768.49</td><td style = \"text-align: right;\">5921.77</td><td style = \"text-align: right;\">6012.37</td><td style = \"text-align: right;\">6058.27</td><td style = \"text-align: right;\">6076.17</td><td style = \"text-align: right;\">6239.42</td><td style = \"text-align: right;\">6254.25</td><td style = \"text-align: right;\">6383.32</td><td style = \"text-align: right;\">6395.65</td><td style = \"text-align: right;\">6406.13</td><td style = \"text-align: right;\">6419.04</td><td style = \"text-align: right;\">6425.86</td><td style = \"text-align: right;\">6494.9</td><td style = \"text-align: right;\">6520.79</td><td style = \"text-align: right;\">6542.49</td><td style = \"text-align: right;\">6551.87</td><td style = \"text-align: right;\">6612.87</td><td style = \"text-align: right;\">6624.38</td><td style = \"text-align: right;\">6648.05</td><td style = \"text-align: right;\">6656.76</td><td style = \"text-align: right;\">6684.09</td><td style = \"text-align: right;\">6690.72</td><td style = \"text-align: right;\">6736.5</td><td style = \"text-align: right;\">6801.21</td><td style = \"text-align: right;\">6817.86</td><td style = \"text-align: right;\">6900.34</td><td style = \"text-align: right;\">6907.94</td><td style = \"text-align: right;\">6919.8</td><td style = \"text-align: right;\">6937.93</td><td style = \"text-align: right;\">6940.58</td><td style = \"text-align: right;\">6941.68</td><td style = \"text-align: right;\">6970.24</td><td style = \"text-align: right;\">6970.4</td><td style = \"text-align: right;\">6978.79</td><td style = \"text-align: right;\">6998.03</td><td style = \"text-align: right;\">7027.76</td><td style = \"text-align: right;\">7053.99</td><td style = \"text-align: right;\">7065.58</td><td style = \"text-align: right;\">7105.42</td><td style = \"text-align: right;\">7125.56</td><td style = \"text-align: right;\">7157.4</td><td style = \"text-align: right;\">7216.84</td><td style = \"text-align: right;\">7223.69</td><td style = \"text-align: right;\">7282.09</td><td style = \"text-align: right;\">7335.83</td><td style = \"text-align: right;\">7346.77</td><td style = \"text-align: right;\">7363.56</td><td style = \"text-align: right;\">7366.14</td><td style = \"text-align: right;\">7397.13</td><td style = \"text-align: right;\">&ctdot;</td></tr><tr><td class = \"rowNumber\" style = \"font-weight: bold; text-align: right;\">5</td><td style = \"text-align: left;\">2018-01-01T04:00:00</td><td style = \"text-align: left;\">2017-12-31T12:00:00</td><td style = \"text-align: right;\">3248.59</td><td style = \"text-align: right;\">3274.14</td><td style = \"text-align: right;\">3445.66</td><td style = \"text-align: right;\">3504.0</td><td style = \"text-align: right;\">3568.0</td><td style = \"text-align: right;\">3663.55</td><td style = \"text-align: right;\">3697.66</td><td style = \"text-align: right;\">3698.2</td><td style = \"text-align: right;\">3777.59</td><td style = \"text-align: right;\">3853.85</td><td style = \"text-align: right;\">3957.53</td><td style = \"text-align: right;\">3960.51</td><td style = \"text-align: right;\">4023.62</td><td style = \"text-align: right;\">4553.95</td><td style = \"text-align: right;\">4558.63</td><td style = \"text-align: right;\">4611.54</td><td style = \"text-align: right;\">4624.84</td><td style = \"text-align: right;\">4629.21</td><td style = \"text-align: right;\">4661.47</td><td style = \"text-align: right;\">4682.74</td><td style = \"text-align: right;\">4753.11</td><td style = \"text-align: right;\">4756.84</td><td style = \"text-align: right;\">4762.73</td><td style = \"text-align: right;\">4767.31</td><td style = \"text-align: right;\">4833.06</td><td style = \"text-align: right;\">4848.03</td><td style = \"text-align: right;\">4871.66</td><td style = \"text-align: right;\">4879.29</td><td style = \"text-align: right;\">4899.79</td><td style = \"text-align: right;\">4903.07</td><td style = \"text-align: right;\">4925.73</td><td style = \"text-align: right;\">4937.8</td><td style = \"text-align: right;\">4939.64</td><td style = \"text-align: right;\">4949.61</td><td style = \"text-align: right;\">4961.65</td><td style = \"text-align: right;\">5009.68</td><td style = \"text-align: right;\">5016.09</td><td style = \"text-align: right;\">5043.65</td><td style = \"text-align: right;\">5052.58</td><td style = \"text-align: right;\">5128.77</td><td style = \"text-align: right;\">5189.4</td><td style = \"text-align: right;\">5259.6</td><td style = \"text-align: right;\">5269.18</td><td style = \"text-align: right;\">5292.95</td><td style = \"text-align: right;\">5343.73</td><td style = \"text-align: right;\">5358.35</td><td style = \"text-align: right;\">5375.65</td><td style = \"text-align: right;\">5399.44</td><td style = \"text-align: right;\">5435.57</td><td style = \"text-align: right;\">5521.23</td><td style = \"text-align: right;\">5543.1</td><td style = \"text-align: right;\">5548.9</td><td style = \"text-align: right;\">5556.06</td><td style = \"text-align: right;\">5558.56</td><td style = \"text-align: right;\">5595.48</td><td style = \"text-align: right;\">5606.1</td><td style = \"text-align: right;\">5618.59</td><td style = \"text-align: right;\">5657.68</td><td style = \"text-align: right;\">5667.96</td><td style = \"text-align: right;\">5743.36</td><td style = \"text-align: right;\">5770.62</td><td style = \"text-align: right;\">5839.34</td><td style = \"text-align: right;\">5857.12</td><td style = \"text-align: right;\">5866.98</td><td style = \"text-align: right;\">5925.8</td><td style = \"text-align: right;\">5944.79</td><td style = \"text-align: right;\">5971.76</td><td style = \"text-align: right;\">5972.42</td><td style = \"text-align: right;\">5988.19</td><td style = \"text-align: right;\">5989.0</td><td style = \"text-align: right;\">6008.95</td><td style = \"text-align: right;\">6023.89</td><td style = \"text-align: right;\">6090.28</td><td style = \"text-align: right;\">6110.91</td><td style = \"text-align: right;\">6150.06</td><td style = \"text-align: right;\">6204.25</td><td style = \"text-align: right;\">6206.84</td><td style = \"text-align: right;\">6210.44</td><td style = \"text-align: right;\">6217.51</td><td style = \"text-align: right;\">6244.14</td><td style = \"text-align: right;\">6265.73</td><td style = \"text-align: right;\">6291.43</td><td style = \"text-align: right;\">6293.88</td><td style = \"text-align: right;\">6298.07</td><td style = \"text-align: right;\">6300.56</td><td style = \"text-align: right;\">6321.32</td><td style = \"text-align: right;\">6332.81</td><td style = \"text-align: right;\">6350.6</td><td style = \"text-align: right;\">6357.77</td><td style = \"text-align: right;\">6369.8</td><td style = \"text-align: right;\">6373.0</td><td style = \"text-align: right;\">6464.18</td><td style = \"text-align: right;\">6473.83</td><td style = \"text-align: right;\">6514.59</td><td style = \"text-align: right;\">6516.18</td><td style = \"text-align: right;\">6573.95</td><td style = \"text-align: right;\">6605.24</td><td style = \"text-align: right;\">6634.57</td><td style = \"text-align: right;\">&ctdot;</td></tr><tr><td class = \"rowNumber\" style = \"font-weight: bold; text-align: right;\">6</td><td style = \"text-align: left;\">2018-01-01T05:00:00</td><td style = \"text-align: left;\">2017-12-31T12:00:00</td><td style = \"text-align: right;\">3795.4</td><td style = \"text-align: right;\">3831.22</td><td style = \"text-align: right;\">3896.29</td><td style = \"text-align: right;\">3952.29</td><td style = \"text-align: right;\">3971.97</td><td style = \"text-align: right;\">3987.28</td><td style = \"text-align: right;\">3989.74</td><td style = \"text-align: right;\">4071.56</td><td style = \"text-align: right;\">4085.94</td><td style = \"text-align: right;\">4093.06</td><td style = \"text-align: right;\">4104.38</td><td style = \"text-align: right;\">4127.18</td><td style = \"text-align: right;\">4374.93</td><td style = \"text-align: right;\">4382.55</td><td style = \"text-align: right;\">4435.86</td><td style = \"text-align: right;\">4492.01</td><td style = \"text-align: right;\">4545.67</td><td style = \"text-align: right;\">4591.93</td><td style = \"text-align: right;\">4601.31</td><td style = \"text-align: right;\">4734.14</td><td style = \"text-align: right;\">4748.14</td><td style = \"text-align: right;\">4842.01</td><td style = \"text-align: right;\">4851.08</td><td style = \"text-align: right;\">4899.73</td><td style = \"text-align: right;\">4905.12</td><td style = \"text-align: right;\">4920.06</td><td style = \"text-align: right;\">4925.28</td><td style = \"text-align: right;\">4934.8</td><td style = \"text-align: right;\">4974.7</td><td style = \"text-align: right;\">4992.13</td><td style = \"text-align: right;\">5005.13</td><td style = \"text-align: right;\">5018.57</td><td style = \"text-align: right;\">5071.3</td><td style = \"text-align: right;\">5076.03</td><td style = \"text-align: right;\">5095.67</td><td style = \"text-align: right;\">5115.35</td><td style = \"text-align: right;\">5145.03</td><td style = \"text-align: right;\">5148.35</td><td style = \"text-align: right;\">5184.37</td><td style = \"text-align: right;\">5198.82</td><td style = \"text-align: right;\">5213.46</td><td style = \"text-align: right;\">5214.61</td><td style = \"text-align: right;\">5219.59</td><td style = \"text-align: right;\">5244.67</td><td style = \"text-align: right;\">5278.21</td><td style = \"text-align: right;\">5285.92</td><td style = \"text-align: right;\">5304.72</td><td style = \"text-align: right;\">5307.53</td><td style = \"text-align: right;\">5321.33</td><td style = \"text-align: right;\">5345.6</td><td style = \"text-align: right;\">5385.06</td><td style = \"text-align: right;\">5386.64</td><td style = \"text-align: right;\">5390.92</td><td style = \"text-align: right;\">5391.14</td><td style = \"text-align: right;\">5418.94</td><td style = \"text-align: right;\">5545.26</td><td style = \"text-align: right;\">5563.32</td><td style = \"text-align: right;\">5573.52</td><td style = \"text-align: right;\">5582.16</td><td style = \"text-align: right;\">5584.26</td><td style = \"text-align: right;\">5631.72</td><td style = \"text-align: right;\">5656.18</td><td style = \"text-align: right;\">5674.39</td><td style = \"text-align: right;\">5678.76</td><td style = \"text-align: right;\">5701.64</td><td style = \"text-align: right;\">5744.83</td><td style = \"text-align: right;\">5746.15</td><td style = \"text-align: right;\">5778.9</td><td style = \"text-align: right;\">5783.48</td><td style = \"text-align: right;\">5787.64</td><td style = \"text-align: right;\">5861.24</td><td style = \"text-align: right;\">5867.67</td><td style = \"text-align: right;\">5871.28</td><td style = \"text-align: right;\">5881.94</td><td style = \"text-align: right;\">5893.03</td><td style = \"text-align: right;\">5899.15</td><td style = \"text-align: right;\">5914.8</td><td style = \"text-align: right;\">5918.42</td><td style = \"text-align: right;\">5919.55</td><td style = \"text-align: right;\">5921.33</td><td style = \"text-align: right;\">5925.77</td><td style = \"text-align: right;\">5934.44</td><td style = \"text-align: right;\">5944.89</td><td style = \"text-align: right;\">5952.33</td><td style = \"text-align: right;\">5964.57</td><td style = \"text-align: right;\">5975.07</td><td style = \"text-align: right;\">5977.11</td><td style = \"text-align: right;\">5978.75</td><td style = \"text-align: right;\">5980.99</td><td style = \"text-align: right;\">5992.65</td><td style = \"text-align: right;\">6018.2</td><td style = \"text-align: right;\">6018.25</td><td style = \"text-align: right;\">6018.78</td><td style = \"text-align: right;\">6021.52</td><td style = \"text-align: right;\">6062.32</td><td style = \"text-align: right;\">6065.93</td><td style = \"text-align: right;\">6100.92</td><td style = \"text-align: right;\">6180.43</td><td style = \"text-align: right;\">&ctdot;</td></tr><tr><td class = \"rowNumber\" style = \"font-weight: bold; text-align: right;\">7</td><td style = \"text-align: left;\">2018-01-01T06:00:00</td><td style = \"text-align: left;\">2017-12-31T12:00:00</td><td style = \"text-align: right;\">3115.93</td><td style = \"text-align: right;\">3371.07</td><td style = \"text-align: right;\">3629.02</td><td style = \"text-align: right;\">3662.25</td><td style = \"text-align: right;\">3699.25</td><td style = \"text-align: right;\">3719.88</td><td style = \"text-align: right;\">3894.37</td><td style = \"text-align: right;\">3924.08</td><td style = \"text-align: right;\">3971.22</td><td style = \"text-align: right;\">4058.74</td><td style = \"text-align: right;\">4085.74</td><td style = \"text-align: right;\">4102.76</td><td style = \"text-align: right;\">4161.38</td><td style = \"text-align: right;\">4179.71</td><td style = \"text-align: right;\">4185.99</td><td style = \"text-align: right;\">4205.72</td><td style = \"text-align: right;\">4216.39</td><td style = \"text-align: right;\">4237.26</td><td style = \"text-align: right;\">4334.49</td><td style = \"text-align: right;\">4337.63</td><td style = \"text-align: right;\">4356.57</td><td style = \"text-align: right;\">4371.12</td><td style = \"text-align: right;\">4381.13</td><td style = \"text-align: right;\">4381.49</td><td style = \"text-align: right;\">4384.32</td><td style = \"text-align: right;\">4391.86</td><td style = \"text-align: right;\">4588.81</td><td style = \"text-align: right;\">4621.87</td><td style = \"text-align: right;\">4644.14</td><td style = \"text-align: right;\">4658.68</td><td style = \"text-align: right;\">4667.11</td><td style = \"text-align: right;\">4735.0</td><td style = \"text-align: right;\">4765.19</td><td style = \"text-align: right;\">4777.82</td><td style = \"text-align: right;\">4788.75</td><td style = \"text-align: right;\">4791.7</td><td style = \"text-align: right;\">4791.85</td><td style = \"text-align: right;\">4810.13</td><td style = \"text-align: right;\">4824.42</td><td style = \"text-align: right;\">4856.48</td><td style = \"text-align: right;\">4927.66</td><td style = \"text-align: right;\">4927.72</td><td style = \"text-align: right;\">4929.21</td><td style = \"text-align: right;\">4939.85</td><td style = \"text-align: right;\">4950.33</td><td style = \"text-align: right;\">4982.7</td><td style = \"text-align: right;\">5015.88</td><td style = \"text-align: right;\">5034.65</td><td style = \"text-align: right;\">5036.81</td><td style = \"text-align: right;\">5055.22</td><td style = \"text-align: right;\">5058.38</td><td style = \"text-align: right;\">5062.37</td><td style = \"text-align: right;\">5064.35</td><td style = \"text-align: right;\">5094.3</td><td style = \"text-align: right;\">5111.76</td><td style = \"text-align: right;\">5113.93</td><td style = \"text-align: right;\">5119.27</td><td style = \"text-align: right;\">5131.28</td><td style = \"text-align: right;\">5149.09</td><td style = \"text-align: right;\">5185.33</td><td style = \"text-align: right;\">5186.96</td><td style = \"text-align: right;\">5194.69</td><td style = \"text-align: right;\">5218.71</td><td style = \"text-align: right;\">5221.72</td><td style = \"text-align: right;\">5233.86</td><td style = \"text-align: right;\">5235.94</td><td style = \"text-align: right;\">5247.6</td><td style = \"text-align: right;\">5268.33</td><td style = \"text-align: right;\">5269.74</td><td style = \"text-align: right;\">5277.15</td><td style = \"text-align: right;\">5289.12</td><td style = \"text-align: right;\">5300.0</td><td style = \"text-align: right;\">5370.0</td><td style = \"text-align: right;\">5379.94</td><td style = \"text-align: right;\">5429.07</td><td style = \"text-align: right;\">5442.14</td><td style = \"text-align: right;\">5443.04</td><td style = \"text-align: right;\">5470.75</td><td style = \"text-align: right;\">5473.51</td><td style = \"text-align: right;\">5533.72</td><td style = \"text-align: right;\">5565.45</td><td style = \"text-align: right;\">5577.3</td><td style = \"text-align: right;\">5607.99</td><td style = \"text-align: right;\">5614.22</td><td style = \"text-align: right;\">5635.88</td><td style = \"text-align: right;\">5669.49</td><td style = \"text-align: right;\">5670.73</td><td style = \"text-align: right;\">5676.14</td><td style = \"text-align: right;\">5692.01</td><td style = \"text-align: right;\">5713.95</td><td style = \"text-align: right;\">5717.61</td><td style = \"text-align: right;\">5723.19</td><td style = \"text-align: right;\">5723.45</td><td style = \"text-align: right;\">5723.98</td><td style = \"text-align: right;\">5764.55</td><td style = \"text-align: right;\">5767.88</td><td style = \"text-align: right;\">5806.61</td><td style = \"text-align: right;\">5806.84</td><td style = \"text-align: right;\">&ctdot;</td></tr><tr><td class = \"rowNumber\" style = \"font-weight: bold; text-align: right;\">8</td><td style = \"text-align: left;\">2018-01-01T07:00:00</td><td style = \"text-align: left;\">2017-12-31T12:00:00</td><td style = \"text-align: right;\">2888.38</td><td style = \"text-align: right;\">2911.87</td><td style = \"text-align: right;\">2917.9</td><td style = \"text-align: right;\">2991.19</td><td style = \"text-align: right;\">3059.58</td><td style = \"text-align: right;\">3062.05</td><td style = \"text-align: right;\">3072.54</td><td style = \"text-align: right;\">3192.06</td><td style = \"text-align: right;\">3356.47</td><td style = \"text-align: right;\">3414.27</td><td style = \"text-align: right;\">3442.65</td><td style = \"text-align: right;\">3483.91</td><td style = \"text-align: right;\">3511.82</td><td style = \"text-align: right;\">3587.69</td><td style = \"text-align: right;\">3614.99</td><td style = \"text-align: right;\">3638.06</td><td style = \"text-align: right;\">3657.04</td><td style = \"text-align: right;\">3670.18</td><td style = \"text-align: right;\">3677.9</td><td style = \"text-align: right;\">3737.05</td><td style = \"text-align: right;\">3766.93</td><td style = \"text-align: right;\">3918.11</td><td style = \"text-align: right;\">3983.03</td><td style = \"text-align: right;\">4037.06</td><td style = \"text-align: right;\">4070.23</td><td style = \"text-align: right;\">4118.99</td><td style = \"text-align: right;\">4134.07</td><td style = \"text-align: right;\">4175.69</td><td style = \"text-align: right;\">4207.84</td><td style = \"text-align: right;\">4298.65</td><td style = \"text-align: right;\">4305.77</td><td style = \"text-align: right;\">4371.43</td><td style = \"text-align: right;\">4399.05</td><td style = \"text-align: right;\">4402.25</td><td style = \"text-align: right;\">4403.53</td><td style = \"text-align: right;\">4427.62</td><td style = \"text-align: right;\">4439.75</td><td style = \"text-align: right;\">4470.73</td><td style = \"text-align: right;\">4516.58</td><td style = \"text-align: right;\">4557.04</td><td style = \"text-align: right;\">4680.88</td><td style = \"text-align: right;\">4705.1</td><td style = \"text-align: right;\">4725.65</td><td style = \"text-align: right;\">4727.92</td><td style = \"text-align: right;\">4733.48</td><td style = \"text-align: right;\">4750.13</td><td style = \"text-align: right;\">4751.29</td><td style = \"text-align: right;\">4754.72</td><td style = \"text-align: right;\">4793.06</td><td style = \"text-align: right;\">4793.71</td><td style = \"text-align: right;\">4802.54</td><td style = \"text-align: right;\">4827.61</td><td style = \"text-align: right;\">4843.0</td><td style = \"text-align: right;\">4927.69</td><td style = \"text-align: right;\">4956.28</td><td style = \"text-align: right;\">4967.4</td><td style = \"text-align: right;\">4979.37</td><td style = \"text-align: right;\">4984.13</td><td style = \"text-align: right;\">4984.82</td><td style = \"text-align: right;\">5026.58</td><td style = \"text-align: right;\">5101.21</td><td style = \"text-align: right;\">5119.95</td><td style = \"text-align: right;\">5126.33</td><td style = \"text-align: right;\">5143.49</td><td style = \"text-align: right;\">5151.11</td><td style = \"text-align: right;\">5151.14</td><td style = \"text-align: right;\">5190.43</td><td style = \"text-align: right;\">5233.19</td><td style = \"text-align: right;\">5305.84</td><td style = \"text-align: right;\">5308.47</td><td style = \"text-align: right;\">5319.07</td><td style = \"text-align: right;\">5328.62</td><td style = \"text-align: right;\">5337.62</td><td style = \"text-align: right;\">5348.93</td><td style = \"text-align: right;\">5362.09</td><td style = \"text-align: right;\">5385.14</td><td style = \"text-align: right;\">5387.67</td><td style = \"text-align: right;\">5434.21</td><td style = \"text-align: right;\">5468.73</td><td style = \"text-align: right;\">5496.72</td><td style = \"text-align: right;\">5498.96</td><td style = \"text-align: right;\">5533.42</td><td style = \"text-align: right;\">5641.73</td><td style = \"text-align: right;\">5667.18</td><td style = \"text-align: right;\">5722.8</td><td style = \"text-align: right;\">5734.47</td><td style = \"text-align: right;\">5749.11</td><td style = \"text-align: right;\">5763.72</td><td style = \"text-align: right;\">5767.18</td><td style = \"text-align: right;\">5793.11</td><td style = \"text-align: right;\">5806.54</td><td style = \"text-align: right;\">5829.86</td><td style = \"text-align: right;\">5856.45</td><td style = \"text-align: right;\">5864.39</td><td style = \"text-align: right;\">5932.74</td><td style = \"text-align: right;\">5997.61</td><td style = \"text-align: right;\">6008.2</td><td style = \"text-align: right;\">6038.97</td><td style = \"text-align: right;\">&ctdot;</td></tr><tr><td class = \"rowNumber\" style = \"font-weight: bold; text-align: right;\">9</td><td style = \"text-align: left;\">2018-01-01T08:00:00</td><td style = \"text-align: left;\">2017-12-31T12:00:00</td><td style = \"text-align: right;\">2568.29</td><td style = \"text-align: right;\">2724.78</td><td style = \"text-align: right;\">2725.12</td><td style = \"text-align: right;\">2775.11</td><td style = \"text-align: right;\">2841.14</td><td style = \"text-align: right;\">2947.64</td><td style = \"text-align: right;\">2951.26</td><td style = \"text-align: right;\">2956.73</td><td style = \"text-align: right;\">2984.86</td><td style = \"text-align: right;\">3075.89</td><td style = \"text-align: right;\">3113.73</td><td style = \"text-align: right;\">3143.44</td><td style = \"text-align: right;\">3307.5</td><td style = \"text-align: right;\">3429.4</td><td style = \"text-align: right;\">3452.34</td><td style = \"text-align: right;\">3497.67</td><td style = \"text-align: right;\">3512.08</td><td style = \"text-align: right;\">3543.96</td><td style = \"text-align: right;\">3549.74</td><td style = \"text-align: right;\">3640.27</td><td style = \"text-align: right;\">3674.88</td><td style = \"text-align: right;\">3688.51</td><td style = \"text-align: right;\">3718.51</td><td style = \"text-align: right;\">3725.5</td><td style = \"text-align: right;\">3740.59</td><td style = \"text-align: right;\">3763.13</td><td style = \"text-align: right;\">3772.49</td><td style = \"text-align: right;\">3837.64</td><td style = \"text-align: right;\">3840.04</td><td style = \"text-align: right;\">3874.92</td><td style = \"text-align: right;\">3919.2</td><td style = \"text-align: right;\">3921.09</td><td style = \"text-align: right;\">3966.09</td><td style = \"text-align: right;\">3990.11</td><td style = \"text-align: right;\">4029.38</td><td style = \"text-align: right;\">4042.61</td><td style = \"text-align: right;\">4050.92</td><td style = \"text-align: right;\">4060.41</td><td style = \"text-align: right;\">4065.92</td><td style = \"text-align: right;\">4074.06</td><td style = \"text-align: right;\">4087.8</td><td style = \"text-align: right;\">4091.98</td><td style = \"text-align: right;\">4110.17</td><td style = \"text-align: right;\">4141.53</td><td style = \"text-align: right;\">4142.22</td><td style = \"text-align: right;\">4143.95</td><td style = \"text-align: right;\">4149.28</td><td style = \"text-align: right;\">4171.42</td><td style = \"text-align: right;\">4186.02</td><td style = \"text-align: right;\">4211.43</td><td style = \"text-align: right;\">4233.78</td><td style = \"text-align: right;\">4245.21</td><td style = \"text-align: right;\">4259.81</td><td style = \"text-align: right;\">4290.18</td><td style = \"text-align: right;\">4314.14</td><td style = \"text-align: right;\">4322.05</td><td style = \"text-align: right;\">4349.75</td><td style = \"text-align: right;\">4356.07</td><td style = \"text-align: right;\">4477.2</td><td style = \"text-align: right;\">4504.82</td><td style = \"text-align: right;\">4511.24</td><td style = \"text-align: right;\">4514.7</td><td style = \"text-align: right;\">4521.98</td><td style = \"text-align: right;\">4565.65</td><td style = \"text-align: right;\">4600.16</td><td style = \"text-align: right;\">4611.98</td><td style = \"text-align: right;\">4685.09</td><td style = \"text-align: right;\">4719.01</td><td style = \"text-align: right;\">4732.95</td><td style = \"text-align: right;\">4757.68</td><td style = \"text-align: right;\">4758.34</td><td style = \"text-align: right;\">4784.77</td><td style = \"text-align: right;\">4793.61</td><td style = \"text-align: right;\">4796.0</td><td style = \"text-align: right;\">4801.49</td><td style = \"text-align: right;\">4809.6</td><td style = \"text-align: right;\">4821.53</td><td style = \"text-align: right;\">4871.94</td><td style = \"text-align: right;\">4926.51</td><td style = \"text-align: right;\">4961.96</td><td style = \"text-align: right;\">4962.22</td><td style = \"text-align: right;\">4971.37</td><td style = \"text-align: right;\">4973.38</td><td style = \"text-align: right;\">4992.83</td><td style = \"text-align: right;\">4993.24</td><td style = \"text-align: right;\">5025.58</td><td style = \"text-align: right;\">5037.37</td><td style = \"text-align: right;\">5041.82</td><td style = \"text-align: right;\">5048.89</td><td style = \"text-align: right;\">5072.66</td><td style = \"text-align: right;\">5073.49</td><td style = \"text-align: right;\">5085.2</td><td style = \"text-align: right;\">5085.36</td><td style = \"text-align: right;\">5099.89</td><td style = \"text-align: right;\">5163.71</td><td style = \"text-align: right;\">5187.05</td><td style = \"text-align: right;\">5228.95</td><td style = \"text-align: right;\">5246.51</td><td style = \"text-align: right;\">&ctdot;</td></tr><tr><td class = \"rowNumber\" style = \"font-weight: bold; text-align: right;\">10</td><td style = \"text-align: left;\">2018-01-01T09:00:00</td><td style = \"text-align: left;\">2017-12-31T12:00:00</td><td style = \"text-align: right;\">2419.87</td><td style = \"text-align: right;\">2449.88</td><td style = \"text-align: right;\">2508.35</td><td style = \"text-align: right;\">2643.81</td><td style = \"text-align: right;\">2746.21</td><td style = \"text-align: right;\">2758.53</td><td style = \"text-align: right;\">2795.93</td><td style = \"text-align: right;\">2898.11</td><td style = \"text-align: right;\">2938.78</td><td style = \"text-align: right;\">2999.15</td><td style = \"text-align: right;\">3001.99</td><td style = \"text-align: right;\">3084.77</td><td style = \"text-align: right;\">3097.04</td><td style = \"text-align: right;\">3122.61</td><td style = \"text-align: right;\">3140.23</td><td style = \"text-align: right;\">3166.93</td><td style = \"text-align: right;\">3190.68</td><td style = \"text-align: right;\">3214.79</td><td style = \"text-align: right;\">3218.67</td><td style = \"text-align: right;\">3221.27</td><td style = \"text-align: right;\">3244.49</td><td style = \"text-align: right;\">3355.37</td><td style = \"text-align: right;\">3363.73</td><td style = \"text-align: right;\">3365.83</td><td style = \"text-align: right;\">3387.57</td><td style = \"text-align: right;\">3396.17</td><td style = \"text-align: right;\">3402.09</td><td style = \"text-align: right;\">3423.52</td><td style = \"text-align: right;\">3432.82</td><td style = \"text-align: right;\">3505.74</td><td style = \"text-align: right;\">3517.58</td><td style = \"text-align: right;\">3519.58</td><td style = \"text-align: right;\">3531.39</td><td style = \"text-align: right;\">3571.7</td><td style = \"text-align: right;\">3583.49</td><td style = \"text-align: right;\">3593.68</td><td style = \"text-align: right;\">3624.46</td><td style = \"text-align: right;\">3654.28</td><td style = \"text-align: right;\">3654.94</td><td style = \"text-align: right;\">3667.53</td><td style = \"text-align: right;\">3675.41</td><td style = \"text-align: right;\">3687.0</td><td style = \"text-align: right;\">3715.34</td><td style = \"text-align: right;\">3716.9</td><td style = \"text-align: right;\">3737.53</td><td style = \"text-align: right;\">3741.37</td><td style = \"text-align: right;\">3750.16</td><td style = \"text-align: right;\">3750.32</td><td style = \"text-align: right;\">3756.86</td><td style = \"text-align: right;\">3759.28</td><td style = \"text-align: right;\">3764.22</td><td style = \"text-align: right;\">3802.81</td><td style = \"text-align: right;\">3852.16</td><td style = \"text-align: right;\">3860.37</td><td style = \"text-align: right;\">3873.74</td><td style = \"text-align: right;\">3880.27</td><td style = \"text-align: right;\">3891.27</td><td style = \"text-align: right;\">3916.68</td><td style = \"text-align: right;\">3935.31</td><td style = \"text-align: right;\">3955.69</td><td style = \"text-align: right;\">3975.12</td><td style = \"text-align: right;\">3984.13</td><td style = \"text-align: right;\">4006.45</td><td style = \"text-align: right;\">4017.01</td><td style = \"text-align: right;\">4029.85</td><td style = \"text-align: right;\">4033.75</td><td style = \"text-align: right;\">4037.24</td><td style = \"text-align: right;\">4040.59</td><td style = \"text-align: right;\">4041.28</td><td style = \"text-align: right;\">4070.29</td><td style = \"text-align: right;\">4088.46</td><td style = \"text-align: right;\">4092.6</td><td style = \"text-align: right;\">4101.81</td><td style = \"text-align: right;\">4120.1</td><td style = \"text-align: right;\">4125.99</td><td style = \"text-align: right;\">4126.85</td><td style = \"text-align: right;\">4137.67</td><td style = \"text-align: right;\">4140.67</td><td style = \"text-align: right;\">4180.51</td><td style = \"text-align: right;\">4206.96</td><td style = \"text-align: right;\">4210.06</td><td style = \"text-align: right;\">4216.48</td><td style = \"text-align: right;\">4220.48</td><td style = \"text-align: right;\">4271.36</td><td style = \"text-align: right;\">4293.34</td><td style = \"text-align: right;\">4313.33</td><td style = \"text-align: right;\">4323.07</td><td style = \"text-align: right;\">4323.58</td><td style = \"text-align: right;\">4325.85</td><td style = \"text-align: right;\">4328.21</td><td style = \"text-align: right;\">4381.88</td><td style = \"text-align: right;\">4385.55</td><td style = \"text-align: right;\">4387.32</td><td style = \"text-align: right;\">4443.12</td><td style = \"text-align: right;\">4466.59</td><td style = \"text-align: right;\">4474.71</td><td style = \"text-align: right;\">4497.18</td><td style = \"text-align: right;\">4508.47</td><td style = \"text-align: right;\">&ctdot;</td></tr><tr><td class = \"rowNumber\" style = \"font-weight: bold; text-align: right;\">11</td><td style = \"text-align: left;\">2018-01-01T10:00:00</td><td style = \"text-align: left;\">2017-12-31T12:00:00</td><td style = \"text-align: right;\">1906.85</td><td style = \"text-align: right;\">1949.74</td><td style = \"text-align: right;\">1987.96</td><td style = \"text-align: right;\">2029.24</td><td style = \"text-align: right;\">2082.12</td><td style = \"text-align: right;\">2161.33</td><td style = \"text-align: right;\">2202.03</td><td style = \"text-align: right;\">2220.64</td><td style = \"text-align: right;\">2225.02</td><td style = \"text-align: right;\">2232.15</td><td style = \"text-align: right;\">2232.2</td><td style = \"text-align: right;\">2238.35</td><td style = \"text-align: right;\">2266.79</td><td style = \"text-align: right;\">2315.33</td><td style = \"text-align: right;\">2382.36</td><td style = \"text-align: right;\">2433.36</td><td style = \"text-align: right;\">2473.84</td><td style = \"text-align: right;\">2513.11</td><td style = \"text-align: right;\">2526.45</td><td style = \"text-align: right;\">2542.25</td><td style = \"text-align: right;\">2567.91</td><td style = \"text-align: right;\">2594.72</td><td style = \"text-align: right;\">2635.52</td><td style = \"text-align: right;\">2670.47</td><td style = \"text-align: right;\">2717.1</td><td style = \"text-align: right;\">2728.7</td><td style = \"text-align: right;\">2758.11</td><td style = \"text-align: right;\">2826.46</td><td style = \"text-align: right;\">2834.63</td><td style = \"text-align: right;\">2902.36</td><td style = \"text-align: right;\">2920.42</td><td style = \"text-align: right;\">2940.28</td><td style = \"text-align: right;\">2942.15</td><td style = \"text-align: right;\">2953.96</td><td style = \"text-align: right;\">2990.18</td><td style = \"text-align: right;\">3018.35</td><td style = \"text-align: right;\">3029.3</td><td style = \"text-align: right;\">3080.58</td><td style = \"text-align: right;\">3088.34</td><td style = \"text-align: right;\">3113.16</td><td style = \"text-align: right;\">3121.84</td><td style = \"text-align: right;\">3129.26</td><td style = \"text-align: right;\">3253.41</td><td style = \"text-align: right;\">3253.88</td><td style = \"text-align: right;\">3282.33</td><td style = \"text-align: right;\">3319.47</td><td style = \"text-align: right;\">3370.41</td><td style = \"text-align: right;\">3373.68</td><td style = \"text-align: right;\">3375.95</td><td style = \"text-align: right;\">3396.55</td><td style = \"text-align: right;\">3399.49</td><td style = \"text-align: right;\">3421.8</td><td style = \"text-align: right;\">3441.03</td><td style = \"text-align: right;\">3468.26</td><td style = \"text-align: right;\">3474.65</td><td style = \"text-align: right;\">3499.26</td><td style = \"text-align: right;\">3512.51</td><td style = \"text-align: right;\">3528.45</td><td style = \"text-align: right;\">3529.95</td><td style = \"text-align: right;\">3537.64</td><td style = \"text-align: right;\">3560.15</td><td style = \"text-align: right;\">3563.11</td><td style = \"text-align: right;\">3614.69</td><td style = \"text-align: right;\">3624.11</td><td style = \"text-align: right;\">3630.91</td><td style = \"text-align: right;\">3647.5</td><td style = \"text-align: right;\">3655.43</td><td style = \"text-align: right;\">3665.86</td><td style = \"text-align: right;\">3667.0</td><td style = \"text-align: right;\">3719.0</td><td style = \"text-align: right;\">3771.24</td><td style = \"text-align: right;\">3772.72</td><td style = \"text-align: right;\">3781.14</td><td style = \"text-align: right;\">3781.53</td><td style = \"text-align: right;\">3804.34</td><td style = \"text-align: right;\">3839.42</td><td style = \"text-align: right;\">3851.89</td><td style = \"text-align: right;\">3865.14</td><td style = \"text-align: right;\">3870.66</td><td style = \"text-align: right;\">3891.57</td><td style = \"text-align: right;\">3914.24</td><td style = \"text-align: right;\">3922.95</td><td style = \"text-align: right;\">3935.42</td><td style = \"text-align: right;\">3939.94</td><td style = \"text-align: right;\">3941.76</td><td style = \"text-align: right;\">3965.76</td><td style = \"text-align: right;\">3992.32</td><td style = \"text-align: right;\">4019.97</td><td style = \"text-align: right;\">4020.15</td><td style = \"text-align: right;\">4042.11</td><td style = \"text-align: right;\">4061.22</td><td style = \"text-align: right;\">4064.96</td><td style = \"text-align: right;\">4078.25</td><td style = \"text-align: right;\">4114.81</td><td style = \"text-align: right;\">4138.7</td><td style = \"text-align: right;\">4148.06</td><td style = \"text-align: right;\">4174.01</td><td style = \"text-align: right;\">4208.07</td><td style = \"text-align: right;\">&ctdot;</td></tr><tr><td class = \"rowNumber\" style = \"font-weight: bold; text-align: right;\">12</td><td style = \"text-align: left;\">2018-01-01T11:00:00</td><td style = \"text-align: left;\">2017-12-31T12:00:00</td><td style = \"text-align: right;\">1640.12</td><td style = \"text-align: right;\">1647.86</td><td style = \"text-align: right;\">1714.45</td><td style = \"text-align: right;\">1737.75</td><td style = \"text-align: right;\">1755.11</td><td style = \"text-align: right;\">1830.91</td><td style = \"text-align: right;\">1832.55</td><td style = \"text-align: right;\">1895.82</td><td style = \"text-align: right;\">1918.48</td><td style = \"text-align: right;\">1949.93</td><td style = \"text-align: right;\">1951.62</td><td style = \"text-align: right;\">2004.45</td><td style = \"text-align: right;\">2014.43</td><td style = \"text-align: right;\">2016.48</td><td style = \"text-align: right;\">2023.79</td><td style = \"text-align: right;\">2030.66</td><td style = \"text-align: right;\">2103.59</td><td style = \"text-align: right;\">2103.63</td><td style = \"text-align: right;\">2207.09</td><td style = \"text-align: right;\">2213.38</td><td style = \"text-align: right;\">2215.22</td><td style = \"text-align: right;\">2220.89</td><td style = \"text-align: right;\">2242.94</td><td style = \"text-align: right;\">2263.86</td><td style = \"text-align: right;\">2296.89</td><td style = \"text-align: right;\">2312.86</td><td style = \"text-align: right;\">2335.29</td><td style = \"text-align: right;\">2368.46</td><td style = \"text-align: right;\">2396.11</td><td style = \"text-align: right;\">2441.91</td><td style = \"text-align: right;\">2467.55</td><td style = \"text-align: right;\">2468.19</td><td style = \"text-align: right;\">2469.91</td><td style = \"text-align: right;\">2517.63</td><td style = \"text-align: right;\">2528.49</td><td style = \"text-align: right;\">2536.03</td><td style = \"text-align: right;\">2540.08</td><td style = \"text-align: right;\">2567.26</td><td style = \"text-align: right;\">2579.89</td><td style = \"text-align: right;\">2603.29</td><td style = \"text-align: right;\">2608.64</td><td style = \"text-align: right;\">2625.46</td><td style = \"text-align: right;\">2630.86</td><td style = \"text-align: right;\">2637.23</td><td style = \"text-align: right;\">2643.58</td><td style = \"text-align: right;\">2656.54</td><td style = \"text-align: right;\">2660.2</td><td style = \"text-align: right;\">2672.75</td><td style = \"text-align: right;\">2675.27</td><td style = \"text-align: right;\">2692.78</td><td style = \"text-align: right;\">2699.07</td><td style = \"text-align: right;\">2717.64</td><td style = \"text-align: right;\">2720.44</td><td style = \"text-align: right;\">2724.56</td><td style = \"text-align: right;\">2726.11</td><td style = \"text-align: right;\">2732.01</td><td style = \"text-align: right;\">2775.94</td><td style = \"text-align: right;\">2790.1</td><td style = \"text-align: right;\">2793.9</td><td style = \"text-align: right;\">2862.34</td><td style = \"text-align: right;\">2876.54</td><td style = \"text-align: right;\">2887.8</td><td style = \"text-align: right;\">2903.27</td><td style = \"text-align: right;\">2906.97</td><td style = \"text-align: right;\">2930.14</td><td style = \"text-align: right;\">2944.61</td><td style = \"text-align: right;\">2970.41</td><td style = \"text-align: right;\">2973.17</td><td style = \"text-align: right;\">3021.83</td><td style = \"text-align: right;\">3026.44</td><td style = \"text-align: right;\">3042.32</td><td style = \"text-align: right;\">3063.01</td><td style = \"text-align: right;\">3067.28</td><td style = \"text-align: right;\">3074.07</td><td style = \"text-align: right;\">3089.97</td><td style = \"text-align: right;\">3090.3</td><td style = \"text-align: right;\">3108.4</td><td style = \"text-align: right;\">3116.08</td><td style = \"text-align: right;\">3148.45</td><td style = \"text-align: right;\">3188.94</td><td style = \"text-align: right;\">3238.05</td><td style = \"text-align: right;\">3242.25</td><td style = \"text-align: right;\">3247.27</td><td style = \"text-align: right;\">3270.37</td><td style = \"text-align: right;\">3294.73</td><td style = \"text-align: right;\">3309.62</td><td style = \"text-align: right;\">3403.65</td><td style = \"text-align: right;\">3428.98</td><td style = \"text-align: right;\">3434.43</td><td style = \"text-align: right;\">3455.34</td><td style = \"text-align: right;\">3469.55</td><td style = \"text-align: right;\">3472.47</td><td style = \"text-align: right;\">3510.91</td><td style = \"text-align: right;\">3514.07</td><td style = \"text-align: right;\">3530.34</td><td style = \"text-align: right;\">3530.52</td><td style = \"text-align: right;\">3538.63</td><td style = \"text-align: right;\">3549.49</td><td style = \"text-align: right;\">&ctdot;</td></tr><tr><td class = \"rowNumber\" style = \"font-weight: bold; text-align: right;\">13</td><td style = \"text-align: left;\">2018-01-01T12:00:00</td><td style = \"text-align: left;\">2017-12-31T12:00:00</td><td style = \"text-align: right;\">1272.28</td><td style = \"text-align: right;\">1345.11</td><td style = \"text-align: right;\">1348.43</td><td style = \"text-align: right;\">1358.78</td><td style = \"text-align: right;\">1363.95</td><td style = \"text-align: right;\">1374.25</td><td style = \"text-align: right;\">1394.08</td><td style = \"text-align: right;\">1404.06</td><td style = \"text-align: right;\">1436.65</td><td style = \"text-align: right;\">1444.02</td><td style = \"text-align: right;\">1478.31</td><td style = \"text-align: right;\">1501.19</td><td style = \"text-align: right;\">1509.52</td><td style = \"text-align: right;\">1533.56</td><td style = \"text-align: right;\">1602.64</td><td style = \"text-align: right;\">1604.49</td><td style = \"text-align: right;\">1609.17</td><td style = \"text-align: right;\">1611.2</td><td style = \"text-align: right;\">1642.9</td><td style = \"text-align: right;\">1647.17</td><td style = \"text-align: right;\">1661.48</td><td style = \"text-align: right;\">1670.12</td><td style = \"text-align: right;\">1682.08</td><td style = \"text-align: right;\">1688.85</td><td style = \"text-align: right;\">1700.85</td><td style = \"text-align: right;\">1723.69</td><td style = \"text-align: right;\">1768.03</td><td style = \"text-align: right;\">1793.2</td><td style = \"text-align: right;\">1800.48</td><td style = \"text-align: right;\">1823.62</td><td style = \"text-align: right;\">1823.71</td><td style = \"text-align: right;\">1823.74</td><td style = \"text-align: right;\">1845.56</td><td style = \"text-align: right;\">1865.65</td><td style = \"text-align: right;\">1875.99</td><td style = \"text-align: right;\">1921.0</td><td style = \"text-align: right;\">1950.37</td><td style = \"text-align: right;\">1962.37</td><td style = \"text-align: right;\">1982.99</td><td style = \"text-align: right;\">1984.64</td><td style = \"text-align: right;\">1985.84</td><td style = \"text-align: right;\">2006.75</td><td style = \"text-align: right;\">2019.91</td><td style = \"text-align: right;\">2025.26</td><td style = \"text-align: right;\">2039.47</td><td style = \"text-align: right;\">2043.33</td><td style = \"text-align: right;\">2045.56</td><td style = \"text-align: right;\">2075.71</td><td style = \"text-align: right;\">2076.26</td><td style = \"text-align: right;\">2086.21</td><td style = \"text-align: right;\">2095.51</td><td style = \"text-align: right;\">2120.85</td><td style = \"text-align: right;\">2131.17</td><td style = \"text-align: right;\">2133.77</td><td style = \"text-align: right;\">2134.45</td><td style = \"text-align: right;\">2172.02</td><td style = \"text-align: right;\">2174.9</td><td style = \"text-align: right;\">2193.8</td><td style = \"text-align: right;\">2194.76</td><td style = \"text-align: right;\">2195.83</td><td style = \"text-align: right;\">2207.08</td><td style = \"text-align: right;\">2211.8</td><td style = \"text-align: right;\">2216.26</td><td style = \"text-align: right;\">2221.38</td><td style = \"text-align: right;\">2239.05</td><td style = \"text-align: right;\">2240.63</td><td style = \"text-align: right;\">2241.6</td><td style = \"text-align: right;\">2245.11</td><td style = \"text-align: right;\">2251.35</td><td style = \"text-align: right;\">2260.55</td><td style = \"text-align: right;\">2264.79</td><td style = \"text-align: right;\">2265.53</td><td style = \"text-align: right;\">2269.91</td><td style = \"text-align: right;\">2296.0</td><td style = \"text-align: right;\">2309.42</td><td style = \"text-align: right;\">2325.6</td><td style = \"text-align: right;\">2327.05</td><td style = \"text-align: right;\">2329.45</td><td style = \"text-align: right;\">2336.51</td><td style = \"text-align: right;\">2337.24</td><td style = \"text-align: right;\">2346.39</td><td style = \"text-align: right;\">2350.44</td><td style = \"text-align: right;\">2353.06</td><td style = \"text-align: right;\">2356.89</td><td style = \"text-align: right;\">2360.82</td><td style = \"text-align: right;\">2379.02</td><td style = \"text-align: right;\">2388.41</td><td style = \"text-align: right;\">2388.62</td><td style = \"text-align: right;\">2405.8</td><td style = \"text-align: right;\">2413.59</td><td style = \"text-align: right;\">2424.78</td><td style = \"text-align: right;\">2430.42</td><td style = \"text-align: right;\">2437.45</td><td style = \"text-align: right;\">2444.27</td><td style = \"text-align: right;\">2446.77</td><td style = \"text-align: right;\">2450.0</td><td style = \"text-align: right;\">2458.47</td><td style = \"text-align: right;\">2465.69</td><td style = \"text-align: right;\">&ctdot;</td></tr><tr><td style = \"text-align: right;\">&vellip;</td><td style = \"text-align: right;\">&vellip;</td><td style = \"text-align: right;\">&vellip;</td><td style = \"text-align: right;\">&vellip;</td><td style = \"text-align: right;\">&vellip;</td><td style = \"text-align: right;\">&vellip;</td><td style = \"text-align: right;\">&vellip;</td><td style = \"text-align: right;\">&vellip;</td><td style = \"text-align: right;\">&vellip;</td><td style = \"text-align: right;\">&vellip;</td><td style = \"text-align: right;\">&vellip;</td><td style = \"text-align: right;\">&vellip;</td><td style = \"text-align: right;\">&vellip;</td><td style = \"text-align: right;\">&vellip;</td><td style = \"text-align: right;\">&vellip;</td><td style = \"text-align: right;\">&vellip;</td><td style = \"text-align: right;\">&vellip;</td><td style = \"text-align: right;\">&vellip;</td><td style = \"text-align: right;\">&vellip;</td><td style = \"text-align: right;\">&vellip;</td><td style = \"text-align: right;\">&vellip;</td><td style = \"text-align: right;\">&vellip;</td><td style = \"text-align: right;\">&vellip;</td><td style = \"text-align: right;\">&vellip;</td><td style = \"text-align: right;\">&vellip;</td><td style = \"text-align: right;\">&vellip;</td><td style = \"text-align: right;\">&vellip;</td><td style = \"text-align: right;\">&vellip;</td><td style = \"text-align: right;\">&vellip;</td><td style = \"text-align: right;\">&vellip;</td><td style = \"text-align: right;\">&vellip;</td><td style = \"text-align: right;\">&vellip;</td><td style = \"text-align: right;\">&vellip;</td><td style = \"text-align: right;\">&vellip;</td><td style = \"text-align: right;\">&vellip;</td><td style = \"text-align: right;\">&vellip;</td><td style = \"text-align: right;\">&vellip;</td><td style = \"text-align: right;\">&vellip;</td><td style = \"text-align: right;\">&vellip;</td><td style = \"text-align: right;\">&vellip;</td><td style = \"text-align: right;\">&vellip;</td><td style = \"text-align: right;\">&vellip;</td><td style = \"text-align: right;\">&vellip;</td><td style = \"text-align: right;\">&vellip;</td><td style = \"text-align: right;\">&vellip;</td><td style = \"text-align: right;\">&vellip;</td><td style = \"text-align: right;\">&vellip;</td><td style = \"text-align: right;\">&vellip;</td><td style = \"text-align: right;\">&vellip;</td><td style = \"text-align: right;\">&vellip;</td><td style = \"text-align: right;\">&vellip;</td><td style = \"text-align: right;\">&vellip;</td><td style = \"text-align: right;\">&vellip;</td><td style = \"text-align: right;\">&vellip;</td><td style = \"text-align: right;\">&vellip;</td><td style = \"text-align: right;\">&vellip;</td><td style = \"text-align: right;\">&vellip;</td><td style = \"text-align: right;\">&vellip;</td><td style = \"text-align: right;\">&vellip;</td><td style = \"text-align: right;\">&vellip;</td><td style = \"text-align: right;\">&vellip;</td><td style = \"text-align: right;\">&vellip;</td><td style = \"text-align: right;\">&vellip;</td><td style = \"text-align: right;\">&vellip;</td><td style = \"text-align: right;\">&vellip;</td><td style = \"text-align: right;\">&vellip;</td><td style = \"text-align: right;\">&vellip;</td><td style = \"text-align: right;\">&vellip;</td><td style = \"text-align: right;\">&vellip;</td><td style = \"text-align: right;\">&vellip;</td><td style = \"text-align: right;\">&vellip;</td><td style = \"text-align: right;\">&vellip;</td><td style = \"text-align: right;\">&vellip;</td><td style = \"text-align: right;\">&vellip;</td><td style = \"text-align: right;\">&vellip;</td><td style = \"text-align: right;\">&vellip;</td><td style = \"text-align: right;\">&vellip;</td><td style = \"text-align: right;\">&vellip;</td><td style = \"text-align: right;\">&vellip;</td><td style = \"text-align: right;\">&vellip;</td><td style = \"text-align: right;\">&vellip;</td><td style = \"text-align: right;\">&vellip;</td><td style = \"text-align: right;\">&vellip;</td><td style = \"text-align: right;\">&vellip;</td><td style = \"text-align: right;\">&vellip;</td><td style = \"text-align: right;\">&vellip;</td><td style = \"text-align: right;\">&vellip;</td><td style = \"text-align: right;\">&vellip;</td><td style = \"text-align: right;\">&vellip;</td><td style = \"text-align: right;\">&vellip;</td><td style = \"text-align: right;\">&vellip;</td><td style = \"text-align: right;\">&vellip;</td><td style = \"text-align: right;\">&vellip;</td><td style = \"text-align: right;\">&vellip;</td><td style = \"text-align: right;\">&vellip;</td><td style = \"text-align: right;\">&vellip;</td><td style = \"text-align: right;\">&vellip;</td><td style = \"text-align: right;\">&vellip;</td><td style = \"text-align: right;\">&vellip;</td><td style = \"text-align: right;\">&vellip;</td><td style = \"text-align: right;\">&vellip;</td><td style = \"text-align: right;\">&dtdot;</td></tr><tr><td class = \"rowNumber\" style = \"font-weight: bold; text-align: right;\">37</td><td style = \"text-align: left;\">2018-01-02T12:00:00</td><td style = \"text-align: left;\">2017-12-31T12:00:00</td><td style = \"text-align: right;\">472.112</td><td style = \"text-align: right;\">476.043</td><td style = \"text-align: right;\">503.37</td><td style = \"text-align: right;\">596.928</td><td style = \"text-align: right;\">640.476</td><td style = \"text-align: right;\">659.943</td><td style = \"text-align: right;\">688.944</td><td style = \"text-align: right;\">725.734</td><td style = \"text-align: right;\">731.977</td><td style = \"text-align: right;\">760.734</td><td style = \"text-align: right;\">788.563</td><td style = \"text-align: right;\">809.082</td><td style = \"text-align: right;\">822.827</td><td style = \"text-align: right;\">835.709</td><td style = \"text-align: right;\">839.358</td><td style = \"text-align: right;\">858.481</td><td style = \"text-align: right;\">874.34</td><td style = \"text-align: right;\">895.353</td><td style = \"text-align: right;\">902.559</td><td style = \"text-align: right;\">923.084</td><td style = \"text-align: right;\">960.215</td><td style = \"text-align: right;\">973.793</td><td style = \"text-align: right;\">977.341</td><td style = \"text-align: right;\">979.32</td><td style = \"text-align: right;\">1011.41</td><td style = \"text-align: right;\">1013.96</td><td style = \"text-align: right;\">1018.93</td><td style = \"text-align: right;\">1019.52</td><td style = \"text-align: right;\">1047.65</td><td style = \"text-align: right;\">1051.74</td><td style = \"text-align: right;\">1059.5</td><td style = \"text-align: right;\">1060.35</td><td style = \"text-align: right;\">1065.05</td><td style = \"text-align: right;\">1083.18</td><td style = \"text-align: right;\">1088.01</td><td style = \"text-align: right;\">1090.53</td><td style = \"text-align: right;\">1092.08</td><td style = \"text-align: right;\">1092.79</td><td style = \"text-align: right;\">1094.55</td><td style = \"text-align: right;\">1103.73</td><td style = \"text-align: right;\">1124.24</td><td style = \"text-align: right;\">1132.81</td><td style = \"text-align: right;\">1135.96</td><td style = \"text-align: right;\">1149.5</td><td style = \"text-align: right;\">1152.75</td><td style = \"text-align: right;\">1155.42</td><td style = \"text-align: right;\">1155.76</td><td style = \"text-align: right;\">1178.99</td><td style = \"text-align: right;\">1181.77</td><td style = \"text-align: right;\">1189.25</td><td style = \"text-align: right;\">1204.46</td><td style = \"text-align: right;\">1205.37</td><td style = \"text-align: right;\">1269.78</td><td style = \"text-align: right;\">1284.59</td><td style = \"text-align: right;\">1286.09</td><td style = \"text-align: right;\">1297.74</td><td style = \"text-align: right;\">1298.32</td><td style = \"text-align: right;\">1312.69</td><td style = \"text-align: right;\">1319.99</td><td style = \"text-align: right;\">1328.96</td><td style = \"text-align: right;\">1329.85</td><td style = \"text-align: right;\">1339.58</td><td style = \"text-align: right;\">1340.25</td><td style = \"text-align: right;\">1354.34</td><td style = \"text-align: right;\">1354.51</td><td style = \"text-align: right;\">1354.77</td><td style = \"text-align: right;\">1364.08</td><td style = \"text-align: right;\">1373.47</td><td style = \"text-align: right;\">1376.37</td><td style = \"text-align: right;\">1378.58</td><td style = \"text-align: right;\">1393.77</td><td style = \"text-align: right;\">1396.99</td><td style = \"text-align: right;\">1401.07</td><td style = \"text-align: right;\">1406.93</td><td style = \"text-align: right;\">1423.38</td><td style = \"text-align: right;\">1430.16</td><td style = \"text-align: right;\">1431.77</td><td style = \"text-align: right;\">1447.45</td><td style = \"text-align: right;\">1449.12</td><td style = \"text-align: right;\">1471.5</td><td style = \"text-align: right;\">1478.76</td><td style = \"text-align: right;\">1487.48</td><td style = \"text-align: right;\">1488.34</td><td style = \"text-align: right;\">1491.97</td><td style = \"text-align: right;\">1496.91</td><td style = \"text-align: right;\">1497.52</td><td style = \"text-align: right;\">1509.63</td><td style = \"text-align: right;\">1516.08</td><td style = \"text-align: right;\">1522.04</td><td style = \"text-align: right;\">1542.9</td><td style = \"text-align: right;\">1547.6</td><td style = \"text-align: right;\">1551.06</td><td style = \"text-align: right;\">1553.24</td><td style = \"text-align: right;\">1580.92</td><td style = \"text-align: right;\">1607.8</td><td style = \"text-align: right;\">1609.94</td><td style = \"text-align: right;\">1615.44</td><td style = \"text-align: right;\">1626.84</td><td style = \"text-align: right;\">&ctdot;</td></tr><tr><td class = \"rowNumber\" style = \"font-weight: bold; text-align: right;\">38</td><td style = \"text-align: left;\">2018-01-02T13:00:00</td><td style = \"text-align: left;\">2017-12-31T12:00:00</td><td style = \"text-align: right;\">403.068</td><td style = \"text-align: right;\">404.116</td><td style = \"text-align: right;\">540.52</td><td style = \"text-align: right;\">612.13</td><td style = \"text-align: right;\">613.116</td><td style = \"text-align: right;\">624.151</td><td style = \"text-align: right;\">635.045</td><td style = \"text-align: right;\">635.643</td><td style = \"text-align: right;\">685.386</td><td style = \"text-align: right;\">718.875</td><td style = \"text-align: right;\">734.077</td><td style = \"text-align: right;\">754.645</td><td style = \"text-align: right;\">760.43</td><td style = \"text-align: right;\">774.197</td><td style = \"text-align: right;\">792.953</td><td style = \"text-align: right;\">832.747</td><td style = \"text-align: right;\">837.847</td><td style = \"text-align: right;\">849.763</td><td style = \"text-align: right;\">943.977</td><td style = \"text-align: right;\">994.178</td><td style = \"text-align: right;\">998.601</td><td style = \"text-align: right;\">1022.52</td><td style = \"text-align: right;\">1023.96</td><td style = \"text-align: right;\">1071.82</td><td style = \"text-align: right;\">1074.93</td><td style = \"text-align: right;\">1080.87</td><td style = \"text-align: right;\">1092.18</td><td style = \"text-align: right;\">1120.35</td><td style = \"text-align: right;\">1144.2</td><td style = \"text-align: right;\">1146.71</td><td style = \"text-align: right;\">1164.64</td><td style = \"text-align: right;\">1175.76</td><td style = \"text-align: right;\">1193.81</td><td style = \"text-align: right;\">1238.41</td><td style = \"text-align: right;\">1249.34</td><td style = \"text-align: right;\">1262.63</td><td style = \"text-align: right;\">1262.94</td><td style = \"text-align: right;\">1281.81</td><td style = \"text-align: right;\">1294.06</td><td style = \"text-align: right;\">1296.17</td><td style = \"text-align: right;\">1315.41</td><td style = \"text-align: right;\">1335.01</td><td style = \"text-align: right;\">1337.61</td><td style = \"text-align: right;\">1340.68</td><td style = \"text-align: right;\">1343.19</td><td style = \"text-align: right;\">1344.33</td><td style = \"text-align: right;\">1348.37</td><td style = \"text-align: right;\">1352.2</td><td style = \"text-align: right;\">1368.13</td><td style = \"text-align: right;\">1372.83</td><td style = \"text-align: right;\">1373.99</td><td style = \"text-align: right;\">1397.7</td><td style = \"text-align: right;\">1400.53</td><td style = \"text-align: right;\">1404.5</td><td style = \"text-align: right;\">1405.65</td><td style = \"text-align: right;\">1410.1</td><td style = \"text-align: right;\">1415.7</td><td style = \"text-align: right;\">1417.16</td><td style = \"text-align: right;\">1417.9</td><td style = \"text-align: right;\">1425.68</td><td style = \"text-align: right;\">1434.49</td><td style = \"text-align: right;\">1449.13</td><td style = \"text-align: right;\">1450.75</td><td style = \"text-align: right;\">1454.43</td><td style = \"text-align: right;\">1456.24</td><td style = \"text-align: right;\">1458.62</td><td style = \"text-align: right;\">1472.78</td><td style = \"text-align: right;\">1491.57</td><td style = \"text-align: right;\">1529.48</td><td style = \"text-align: right;\">1537.77</td><td style = \"text-align: right;\">1541.29</td><td style = \"text-align: right;\">1575.19</td><td style = \"text-align: right;\">1590.85</td><td style = \"text-align: right;\">1592.06</td><td style = \"text-align: right;\">1594.97</td><td style = \"text-align: right;\">1612.11</td><td style = \"text-align: right;\">1621.18</td><td style = \"text-align: right;\">1663.09</td><td style = \"text-align: right;\">1668.34</td><td style = \"text-align: right;\">1683.55</td><td style = \"text-align: right;\">1685.72</td><td style = \"text-align: right;\">1685.82</td><td style = \"text-align: right;\">1686.11</td><td style = \"text-align: right;\">1686.77</td><td style = \"text-align: right;\">1698.89</td><td style = \"text-align: right;\">1699.72</td><td style = \"text-align: right;\">1702.91</td><td style = \"text-align: right;\">1709.91</td><td style = \"text-align: right;\">1730.86</td><td style = \"text-align: right;\">1749.16</td><td style = \"text-align: right;\">1754.93</td><td style = \"text-align: right;\">1760.0</td><td style = \"text-align: right;\">1773.09</td><td style = \"text-align: right;\">1775.59</td><td style = \"text-align: right;\">1802.84</td><td style = \"text-align: right;\">1814.29</td><td style = \"text-align: right;\">1819.27</td><td style = \"text-align: right;\">1821.33</td><td style = \"text-align: right;\">&ctdot;</td></tr><tr><td class = \"rowNumber\" style = \"font-weight: bold; text-align: right;\">39</td><td style = \"text-align: left;\">2018-01-02T14:00:00</td><td style = \"text-align: left;\">2017-12-31T12:00:00</td><td style = \"text-align: right;\">336.489</td><td style = \"text-align: right;\">363.343</td><td style = \"text-align: right;\">406.073</td><td style = \"text-align: right;\">478.793</td><td style = \"text-align: right;\">485.365</td><td style = \"text-align: right;\">549.899</td><td style = \"text-align: right;\">599.606</td><td style = \"text-align: right;\">678.19</td><td style = \"text-align: right;\">690.783</td><td style = \"text-align: right;\">735.979</td><td style = \"text-align: right;\">775.711</td><td style = \"text-align: right;\">793.982</td><td style = \"text-align: right;\">804.797</td><td style = \"text-align: right;\">838.237</td><td style = \"text-align: right;\">847.4</td><td style = \"text-align: right;\">849.344</td><td style = \"text-align: right;\">886.955</td><td style = \"text-align: right;\">890.624</td><td style = \"text-align: right;\">895.987</td><td style = \"text-align: right;\">925.272</td><td style = \"text-align: right;\">937.228</td><td style = \"text-align: right;\">1035.6</td><td style = \"text-align: right;\">1053.81</td><td style = \"text-align: right;\">1078.51</td><td style = \"text-align: right;\">1082.15</td><td style = \"text-align: right;\">1092.99</td><td style = \"text-align: right;\">1115.71</td><td style = \"text-align: right;\">1141.86</td><td style = \"text-align: right;\">1155.58</td><td style = \"text-align: right;\">1171.9</td><td style = \"text-align: right;\">1192.78</td><td style = \"text-align: right;\">1207.09</td><td style = \"text-align: right;\">1255.98</td><td style = \"text-align: right;\">1258.67</td><td style = \"text-align: right;\">1302.34</td><td style = \"text-align: right;\">1317.27</td><td style = \"text-align: right;\">1321.9</td><td style = \"text-align: right;\">1324.94</td><td style = \"text-align: right;\">1336.39</td><td style = \"text-align: right;\">1357.88</td><td style = \"text-align: right;\">1363.15</td><td style = \"text-align: right;\">1368.86</td><td style = \"text-align: right;\">1371.86</td><td style = \"text-align: right;\">1374.85</td><td style = \"text-align: right;\">1378.36</td><td style = \"text-align: right;\">1421.55</td><td style = \"text-align: right;\">1442.75</td><td style = \"text-align: right;\">1444.79</td><td style = \"text-align: right;\">1446.18</td><td style = \"text-align: right;\">1456.78</td><td style = \"text-align: right;\">1482.65</td><td style = \"text-align: right;\">1483.06</td><td style = \"text-align: right;\">1508.63</td><td style = \"text-align: right;\">1509.67</td><td style = \"text-align: right;\">1510.92</td><td style = \"text-align: right;\">1543.15</td><td style = \"text-align: right;\">1574.36</td><td style = \"text-align: right;\">1577.28</td><td style = \"text-align: right;\">1585.88</td><td style = \"text-align: right;\">1616.14</td><td style = \"text-align: right;\">1619.37</td><td style = \"text-align: right;\">1630.23</td><td style = \"text-align: right;\">1679.61</td><td style = \"text-align: right;\">1680.1</td><td style = \"text-align: right;\">1765.52</td><td style = \"text-align: right;\">1779.84</td><td style = \"text-align: right;\">1782.7</td><td style = \"text-align: right;\">1785.23</td><td style = \"text-align: right;\">1791.07</td><td style = \"text-align: right;\">1844.01</td><td style = \"text-align: right;\">1867.81</td><td style = \"text-align: right;\">1881.46</td><td style = \"text-align: right;\">1885.11</td><td style = \"text-align: right;\">1885.26</td><td style = \"text-align: right;\">1892.41</td><td style = \"text-align: right;\">1913.11</td><td style = \"text-align: right;\">1921.31</td><td style = \"text-align: right;\">1947.84</td><td style = \"text-align: right;\">1957.76</td><td style = \"text-align: right;\">1971.28</td><td style = \"text-align: right;\">1971.64</td><td style = \"text-align: right;\">1978.26</td><td style = \"text-align: right;\">1983.0</td><td style = \"text-align: right;\">1990.7</td><td style = \"text-align: right;\">2003.95</td><td style = \"text-align: right;\">2009.82</td><td style = \"text-align: right;\">2022.32</td><td style = \"text-align: right;\">2064.4</td><td style = \"text-align: right;\">2070.11</td><td style = \"text-align: right;\">2076.19</td><td style = \"text-align: right;\">2089.19</td><td style = \"text-align: right;\">2098.31</td><td style = \"text-align: right;\">2109.71</td><td style = \"text-align: right;\">2135.91</td><td style = \"text-align: right;\">2136.66</td><td style = \"text-align: right;\">2137.09</td><td style = \"text-align: right;\">2154.73</td><td style = \"text-align: right;\">2157.39</td><td style = \"text-align: right;\">&ctdot;</td></tr><tr><td class = \"rowNumber\" style = \"font-weight: bold; text-align: right;\">40</td><td style = \"text-align: left;\">2018-01-02T15:00:00</td><td style = \"text-align: left;\">2017-12-31T12:00:00</td><td style = \"text-align: right;\">340.614</td><td style = \"text-align: right;\">354.019</td><td style = \"text-align: right;\">381.953</td><td style = \"text-align: right;\">391.911</td><td style = \"text-align: right;\">395.82</td><td style = \"text-align: right;\">411.74</td><td style = \"text-align: right;\">443.369</td><td style = \"text-align: right;\">447.07</td><td style = \"text-align: right;\">448.82</td><td style = \"text-align: right;\">625.348</td><td style = \"text-align: right;\">728.534</td><td style = \"text-align: right;\">798.643</td><td style = \"text-align: right;\">846.152</td><td style = \"text-align: right;\">875.313</td><td style = \"text-align: right;\">896.084</td><td style = \"text-align: right;\">938.118</td><td style = \"text-align: right;\">945.629</td><td style = \"text-align: right;\">966.29</td><td style = \"text-align: right;\">983.633</td><td style = \"text-align: right;\">1044.21</td><td style = \"text-align: right;\">1059.17</td><td style = \"text-align: right;\">1094.59</td><td style = \"text-align: right;\">1177.86</td><td style = \"text-align: right;\">1199.95</td><td style = \"text-align: right;\">1211.73</td><td style = \"text-align: right;\">1267.95</td><td style = \"text-align: right;\">1289.13</td><td style = \"text-align: right;\">1309.05</td><td style = \"text-align: right;\">1319.54</td><td style = \"text-align: right;\">1323.62</td><td style = \"text-align: right;\">1342.96</td><td style = \"text-align: right;\">1381.87</td><td style = \"text-align: right;\">1403.18</td><td style = \"text-align: right;\">1456.54</td><td style = \"text-align: right;\">1461.84</td><td style = \"text-align: right;\">1498.77</td><td style = \"text-align: right;\">1514.16</td><td style = \"text-align: right;\">1534.82</td><td style = \"text-align: right;\">1568.02</td><td style = \"text-align: right;\">1588.21</td><td style = \"text-align: right;\">1614.42</td><td style = \"text-align: right;\">1624.46</td><td style = \"text-align: right;\">1629.78</td><td style = \"text-align: right;\">1665.95</td><td style = \"text-align: right;\">1667.15</td><td style = \"text-align: right;\">1671.87</td><td style = \"text-align: right;\">1677.56</td><td style = \"text-align: right;\">1700.55</td><td style = \"text-align: right;\">1701.07</td><td style = \"text-align: right;\">1727.97</td><td style = \"text-align: right;\">1740.45</td><td style = \"text-align: right;\">1802.4</td><td style = \"text-align: right;\">1819.49</td><td style = \"text-align: right;\">1831.87</td><td style = \"text-align: right;\">1832.22</td><td style = \"text-align: right;\">1845.4</td><td style = \"text-align: right;\">1849.93</td><td style = \"text-align: right;\">1865.22</td><td style = \"text-align: right;\">1871.89</td><td style = \"text-align: right;\">1915.72</td><td style = \"text-align: right;\">1970.88</td><td style = \"text-align: right;\">1978.05</td><td style = \"text-align: right;\">1991.45</td><td style = \"text-align: right;\">1991.82</td><td style = \"text-align: right;\">2000.36</td><td style = \"text-align: right;\">2003.31</td><td style = \"text-align: right;\">2008.45</td><td style = \"text-align: right;\">2012.64</td><td style = \"text-align: right;\">2029.05</td><td style = \"text-align: right;\">2036.6</td><td style = \"text-align: right;\">2044.73</td><td style = \"text-align: right;\">2082.45</td><td style = \"text-align: right;\">2085.23</td><td style = \"text-align: right;\">2087.46</td><td style = \"text-align: right;\">2089.2</td><td style = \"text-align: right;\">2093.65</td><td style = \"text-align: right;\">2100.04</td><td style = \"text-align: right;\">2137.32</td><td style = \"text-align: right;\">2186.3</td><td style = \"text-align: right;\">2216.11</td><td style = \"text-align: right;\">2224.44</td><td style = \"text-align: right;\">2233.94</td><td style = \"text-align: right;\">2235.35</td><td style = \"text-align: right;\">2245.29</td><td style = \"text-align: right;\">2267.29</td><td style = \"text-align: right;\">2270.78</td><td style = \"text-align: right;\">2277.85</td><td style = \"text-align: right;\">2277.85</td><td style = \"text-align: right;\">2297.86</td><td style = \"text-align: right;\">2315.82</td><td style = \"text-align: right;\">2322.0</td><td style = \"text-align: right;\">2334.37</td><td style = \"text-align: right;\">2344.97</td><td style = \"text-align: right;\">2350.22</td><td style = \"text-align: right;\">2378.15</td><td style = \"text-align: right;\">2382.94</td><td style = \"text-align: right;\">2466.56</td><td style = \"text-align: right;\">2476.02</td><td style = \"text-align: right;\">&ctdot;</td></tr><tr><td class = \"rowNumber\" style = \"font-weight: bold; text-align: right;\">41</td><td style = \"text-align: left;\">2018-01-02T16:00:00</td><td style = \"text-align: left;\">2017-12-31T12:00:00</td><td style = \"text-align: right;\">546.163</td><td style = \"text-align: right;\">875.352</td><td style = \"text-align: right;\">885.739</td><td style = \"text-align: right;\">1021.07</td><td style = \"text-align: right;\">1105.58</td><td style = \"text-align: right;\">1110.54</td><td style = \"text-align: right;\">1155.32</td><td style = \"text-align: right;\">1182.59</td><td style = \"text-align: right;\">1183.36</td><td style = \"text-align: right;\">1223.25</td><td style = \"text-align: right;\">1278.21</td><td style = \"text-align: right;\">1310.71</td><td style = \"text-align: right;\">1332.69</td><td style = \"text-align: right;\">1351.86</td><td style = \"text-align: right;\">1352.65</td><td style = \"text-align: right;\">1356.26</td><td style = \"text-align: right;\">1435.78</td><td style = \"text-align: right;\">1481.36</td><td style = \"text-align: right;\">1495.0</td><td style = \"text-align: right;\">1503.21</td><td style = \"text-align: right;\">1527.01</td><td style = \"text-align: right;\">1529.49</td><td style = \"text-align: right;\">1590.98</td><td style = \"text-align: right;\">1626.45</td><td style = \"text-align: right;\">1643.56</td><td style = \"text-align: right;\">1686.02</td><td style = \"text-align: right;\">1713.91</td><td style = \"text-align: right;\">1715.94</td><td style = \"text-align: right;\">1815.35</td><td style = \"text-align: right;\">1835.87</td><td style = \"text-align: right;\">1870.33</td><td style = \"text-align: right;\">1910.25</td><td style = \"text-align: right;\">1943.83</td><td style = \"text-align: right;\">1954.94</td><td style = \"text-align: right;\">1967.63</td><td style = \"text-align: right;\">2012.98</td><td style = \"text-align: right;\">2029.23</td><td style = \"text-align: right;\">2040.7</td><td style = \"text-align: right;\">2047.44</td><td style = \"text-align: right;\">2054.11</td><td style = \"text-align: right;\">2088.86</td><td style = \"text-align: right;\">2117.75</td><td style = \"text-align: right;\">2133.0</td><td style = \"text-align: right;\">2134.02</td><td style = \"text-align: right;\">2145.43</td><td style = \"text-align: right;\">2149.24</td><td style = \"text-align: right;\">2151.13</td><td style = \"text-align: right;\">2155.86</td><td style = \"text-align: right;\">2179.83</td><td style = \"text-align: right;\">2181.19</td><td style = \"text-align: right;\">2187.24</td><td style = \"text-align: right;\">2214.95</td><td style = \"text-align: right;\">2220.74</td><td style = \"text-align: right;\">2227.66</td><td style = \"text-align: right;\">2232.93</td><td style = \"text-align: right;\">2263.21</td><td style = \"text-align: right;\">2271.46</td><td style = \"text-align: right;\">2305.67</td><td style = \"text-align: right;\">2319.38</td><td style = \"text-align: right;\">2320.49</td><td style = \"text-align: right;\">2337.7</td><td style = \"text-align: right;\">2345.87</td><td style = \"text-align: right;\">2351.3</td><td style = \"text-align: right;\">2371.17</td><td style = \"text-align: right;\">2407.2</td><td style = \"text-align: right;\">2411.12</td><td style = \"text-align: right;\">2437.37</td><td style = \"text-align: right;\">2467.69</td><td style = \"text-align: right;\">2478.35</td><td style = \"text-align: right;\">2485.35</td><td style = \"text-align: right;\">2494.86</td><td style = \"text-align: right;\">2513.45</td><td style = \"text-align: right;\">2552.78</td><td style = \"text-align: right;\">2553.55</td><td style = \"text-align: right;\">2560.75</td><td style = \"text-align: right;\">2593.18</td><td style = \"text-align: right;\">2610.29</td><td style = \"text-align: right;\">2676.43</td><td style = \"text-align: right;\">2682.3</td><td style = \"text-align: right;\">2685.94</td><td style = \"text-align: right;\">2687.5</td><td style = \"text-align: right;\">2698.28</td><td style = \"text-align: right;\">2713.0</td><td style = \"text-align: right;\">2719.08</td><td style = \"text-align: right;\">2734.83</td><td style = \"text-align: right;\">2742.88</td><td style = \"text-align: right;\">2758.06</td><td style = \"text-align: right;\">2762.92</td><td style = \"text-align: right;\">2763.32</td><td style = \"text-align: right;\">2769.65</td><td style = \"text-align: right;\">2773.96</td><td style = \"text-align: right;\">2782.02</td><td style = \"text-align: right;\">2789.09</td><td style = \"text-align: right;\">2802.63</td><td style = \"text-align: right;\">2822.43</td><td style = \"text-align: right;\">2833.03</td><td style = \"text-align: right;\">2840.74</td><td style = \"text-align: right;\">2867.37</td><td style = \"text-align: right;\">&ctdot;</td></tr><tr><td class = \"rowNumber\" style = \"font-weight: bold; text-align: right;\">42</td><td style = \"text-align: left;\">2018-01-02T17:00:00</td><td style = \"text-align: left;\">2017-12-31T12:00:00</td><td style = \"text-align: right;\">514.809</td><td style = \"text-align: right;\">608.59</td><td style = \"text-align: right;\">844.907</td><td style = \"text-align: right;\">857.327</td><td style = \"text-align: right;\">880.753</td><td style = \"text-align: right;\">884.777</td><td style = \"text-align: right;\">1004.78</td><td style = \"text-align: right;\">1037.72</td><td style = \"text-align: right;\">1051.51</td><td style = \"text-align: right;\">1242.32</td><td style = \"text-align: right;\">1243.7</td><td style = \"text-align: right;\">1261.04</td><td style = \"text-align: right;\">1267.37</td><td style = \"text-align: right;\">1291.86</td><td style = \"text-align: right;\">1319.88</td><td style = \"text-align: right;\">1323.42</td><td style = \"text-align: right;\">1392.83</td><td style = \"text-align: right;\">1400.06</td><td style = \"text-align: right;\">1468.23</td><td style = \"text-align: right;\">1480.47</td><td style = \"text-align: right;\">1524.54</td><td style = \"text-align: right;\">1559.81</td><td style = \"text-align: right;\">1573.04</td><td style = \"text-align: right;\">1592.69</td><td style = \"text-align: right;\">1703.75</td><td style = \"text-align: right;\">1713.79</td><td style = \"text-align: right;\">1756.47</td><td style = \"text-align: right;\">1768.9</td><td style = \"text-align: right;\">1775.04</td><td style = \"text-align: right;\">1796.48</td><td style = \"text-align: right;\">1800.93</td><td style = \"text-align: right;\">1871.44</td><td style = \"text-align: right;\">1883.3</td><td style = \"text-align: right;\">1888.76</td><td style = \"text-align: right;\">1917.79</td><td style = \"text-align: right;\">2014.85</td><td style = \"text-align: right;\">2026.66</td><td style = \"text-align: right;\">2033.58</td><td style = \"text-align: right;\">2105.77</td><td style = \"text-align: right;\">2107.87</td><td style = \"text-align: right;\">2128.57</td><td style = \"text-align: right;\">2129.92</td><td style = \"text-align: right;\">2138.49</td><td style = \"text-align: right;\">2158.23</td><td style = \"text-align: right;\">2185.58</td><td style = \"text-align: right;\">2226.71</td><td style = \"text-align: right;\">2238.5</td><td style = \"text-align: right;\">2241.65</td><td style = \"text-align: right;\">2246.34</td><td style = \"text-align: right;\">2279.26</td><td style = \"text-align: right;\">2304.78</td><td style = \"text-align: right;\">2373.76</td><td style = \"text-align: right;\">2386.59</td><td style = \"text-align: right;\">2421.13</td><td style = \"text-align: right;\">2453.69</td><td style = \"text-align: right;\">2488.35</td><td style = \"text-align: right;\">2496.88</td><td style = \"text-align: right;\">2497.77</td><td style = \"text-align: right;\">2534.91</td><td style = \"text-align: right;\">2548.48</td><td style = \"text-align: right;\">2566.22</td><td style = \"text-align: right;\">2567.95</td><td style = \"text-align: right;\">2573.82</td><td style = \"text-align: right;\">2606.12</td><td style = \"text-align: right;\">2634.33</td><td style = \"text-align: right;\">2649.23</td><td style = \"text-align: right;\">2675.41</td><td style = \"text-align: right;\">2677.64</td><td style = \"text-align: right;\">2709.67</td><td style = \"text-align: right;\">2758.68</td><td style = \"text-align: right;\">2762.1</td><td style = \"text-align: right;\">2777.8</td><td style = \"text-align: right;\">2782.11</td><td style = \"text-align: right;\">2803.42</td><td style = \"text-align: right;\">2841.3</td><td style = \"text-align: right;\">2873.62</td><td style = \"text-align: right;\">2918.46</td><td style = \"text-align: right;\">2937.57</td><td style = \"text-align: right;\">2944.11</td><td style = \"text-align: right;\">2944.23</td><td style = \"text-align: right;\">2953.21</td><td style = \"text-align: right;\">2983.97</td><td style = \"text-align: right;\">2990.85</td><td style = \"text-align: right;\">3023.36</td><td style = \"text-align: right;\">3032.32</td><td style = \"text-align: right;\">3036.74</td><td style = \"text-align: right;\">3053.85</td><td style = \"text-align: right;\">3080.96</td><td style = \"text-align: right;\">3156.67</td><td style = \"text-align: right;\">3165.7</td><td style = \"text-align: right;\">3184.19</td><td style = \"text-align: right;\">3185.49</td><td style = \"text-align: right;\">3208.72</td><td style = \"text-align: right;\">3219.59</td><td style = \"text-align: right;\">3251.7</td><td style = \"text-align: right;\">3262.18</td><td style = \"text-align: right;\">3263.97</td><td style = \"text-align: right;\">3281.29</td><td style = \"text-align: right;\">&ctdot;</td></tr><tr><td class = \"rowNumber\" style = \"font-weight: bold; text-align: right;\">43</td><td style = \"text-align: left;\">2018-01-02T18:00:00</td><td style = \"text-align: left;\">2017-12-31T12:00:00</td><td style = \"text-align: right;\">1378.62</td><td style = \"text-align: right;\">1451.02</td><td style = \"text-align: right;\">1550.24</td><td style = \"text-align: right;\">1600.46</td><td style = \"text-align: right;\">1618.09</td><td style = \"text-align: right;\">1673.56</td><td style = \"text-align: right;\">1697.36</td><td style = \"text-align: right;\">1741.54</td><td style = \"text-align: right;\">1809.86</td><td style = \"text-align: right;\">1859.27</td><td style = \"text-align: right;\">1902.75</td><td style = \"text-align: right;\">1906.47</td><td style = \"text-align: right;\">1926.03</td><td style = \"text-align: right;\">1935.32</td><td style = \"text-align: right;\">1940.04</td><td style = \"text-align: right;\">2025.83</td><td style = \"text-align: right;\">2030.92</td><td style = \"text-align: right;\">2060.82</td><td style = \"text-align: right;\">2084.96</td><td style = \"text-align: right;\">2124.62</td><td style = \"text-align: right;\">2128.13</td><td style = \"text-align: right;\">2139.78</td><td style = \"text-align: right;\">2209.89</td><td style = \"text-align: right;\">2210.04</td><td style = \"text-align: right;\">2217.44</td><td style = \"text-align: right;\">2230.15</td><td style = \"text-align: right;\">2291.59</td><td style = \"text-align: right;\">2367.56</td><td style = \"text-align: right;\">2373.01</td><td style = \"text-align: right;\">2401.79</td><td style = \"text-align: right;\">2405.76</td><td style = \"text-align: right;\">2470.58</td><td style = \"text-align: right;\">2487.47</td><td style = \"text-align: right;\">2508.0</td><td style = \"text-align: right;\">2526.2</td><td style = \"text-align: right;\">2530.14</td><td style = \"text-align: right;\">2620.51</td><td style = \"text-align: right;\">2630.65</td><td style = \"text-align: right;\">2635.24</td><td style = \"text-align: right;\">2657.19</td><td style = \"text-align: right;\">2679.71</td><td style = \"text-align: right;\">2684.24</td><td style = \"text-align: right;\">2694.8</td><td style = \"text-align: right;\">2725.85</td><td style = \"text-align: right;\">2733.21</td><td style = \"text-align: right;\">2742.14</td><td style = \"text-align: right;\">2749.8</td><td style = \"text-align: right;\">2767.73</td><td style = \"text-align: right;\">2774.33</td><td style = \"text-align: right;\">2774.49</td><td style = \"text-align: right;\">2840.27</td><td style = \"text-align: right;\">2887.11</td><td style = \"text-align: right;\">2924.77</td><td style = \"text-align: right;\">2939.48</td><td style = \"text-align: right;\">2950.26</td><td style = \"text-align: right;\">2962.09</td><td style = \"text-align: right;\">2996.43</td><td style = \"text-align: right;\">3004.11</td><td style = \"text-align: right;\">3012.86</td><td style = \"text-align: right;\">3050.91</td><td style = \"text-align: right;\">3083.11</td><td style = \"text-align: right;\">3093.21</td><td style = \"text-align: right;\">3102.73</td><td style = \"text-align: right;\">3111.56</td><td style = \"text-align: right;\">3126.82</td><td style = \"text-align: right;\">3159.99</td><td style = \"text-align: right;\">3208.64</td><td style = \"text-align: right;\">3211.14</td><td style = \"text-align: right;\">3218.43</td><td style = \"text-align: right;\">3254.62</td><td style = \"text-align: right;\">3259.47</td><td style = \"text-align: right;\">3274.64</td><td style = \"text-align: right;\">3291.77</td><td style = \"text-align: right;\">3307.74</td><td style = \"text-align: right;\">3321.87</td><td style = \"text-align: right;\">3331.92</td><td style = \"text-align: right;\">3361.98</td><td style = \"text-align: right;\">3366.0</td><td style = \"text-align: right;\">3408.42</td><td style = \"text-align: right;\">3412.16</td><td style = \"text-align: right;\">3429.79</td><td style = \"text-align: right;\">3513.82</td><td style = \"text-align: right;\">3529.18</td><td style = \"text-align: right;\">3534.11</td><td style = \"text-align: right;\">3539.46</td><td style = \"text-align: right;\">3552.29</td><td style = \"text-align: right;\">3565.5</td><td style = \"text-align: right;\">3597.81</td><td style = \"text-align: right;\">3604.01</td><td style = \"text-align: right;\">3683.45</td><td style = \"text-align: right;\">3688.62</td><td style = \"text-align: right;\">3694.38</td><td style = \"text-align: right;\">3700.41</td><td style = \"text-align: right;\">3711.81</td><td style = \"text-align: right;\">3717.26</td><td style = \"text-align: right;\">3735.16</td><td style = \"text-align: right;\">3749.54</td><td style = \"text-align: right;\">3775.4</td><td style = \"text-align: right;\">&ctdot;</td></tr><tr><td class = \"rowNumber\" style = \"font-weight: bold; text-align: right;\">44</td><td style = \"text-align: left;\">2018-01-02T19:00:00</td><td style = \"text-align: left;\">2017-12-31T12:00:00</td><td style = \"text-align: right;\">1349.42</td><td style = \"text-align: right;\">1368.92</td><td style = \"text-align: right;\">1393.16</td><td style = \"text-align: right;\">1409.67</td><td style = \"text-align: right;\">1464.46</td><td style = \"text-align: right;\">1513.0</td><td style = \"text-align: right;\">1757.34</td><td style = \"text-align: right;\">1768.75</td><td style = \"text-align: right;\">1782.23</td><td style = \"text-align: right;\">1837.32</td><td style = \"text-align: right;\">1879.43</td><td style = \"text-align: right;\">1916.97</td><td style = \"text-align: right;\">2051.31</td><td style = \"text-align: right;\">2111.41</td><td style = \"text-align: right;\">2114.61</td><td style = \"text-align: right;\">2126.57</td><td style = \"text-align: right;\">2215.16</td><td style = \"text-align: right;\">2220.64</td><td style = \"text-align: right;\">2231.47</td><td style = \"text-align: right;\">2240.5</td><td style = \"text-align: right;\">2252.46</td><td style = \"text-align: right;\">2262.57</td><td style = \"text-align: right;\">2277.15</td><td style = \"text-align: right;\">2318.02</td><td style = \"text-align: right;\">2328.37</td><td style = \"text-align: right;\">2356.22</td><td style = \"text-align: right;\">2357.01</td><td style = \"text-align: right;\">2358.77</td><td style = \"text-align: right;\">2370.45</td><td style = \"text-align: right;\">2371.64</td><td style = \"text-align: right;\">2377.55</td><td style = \"text-align: right;\">2401.4</td><td style = \"text-align: right;\">2424.05</td><td style = \"text-align: right;\">2431.22</td><td style = \"text-align: right;\">2434.08</td><td style = \"text-align: right;\">2435.38</td><td style = \"text-align: right;\">2456.15</td><td style = \"text-align: right;\">2520.56</td><td style = \"text-align: right;\">2520.96</td><td style = \"text-align: right;\">2552.66</td><td style = \"text-align: right;\">2567.79</td><td style = \"text-align: right;\">2582.81</td><td style = \"text-align: right;\">2606.3</td><td style = \"text-align: right;\">2613.22</td><td style = \"text-align: right;\">2643.23</td><td style = \"text-align: right;\">2715.29</td><td style = \"text-align: right;\">2743.07</td><td style = \"text-align: right;\">2744.18</td><td style = \"text-align: right;\">2754.12</td><td style = \"text-align: right;\">2821.74</td><td style = \"text-align: right;\">2822.17</td><td style = \"text-align: right;\">2889.59</td><td style = \"text-align: right;\">2902.62</td><td style = \"text-align: right;\">2940.63</td><td style = \"text-align: right;\">2957.8</td><td style = \"text-align: right;\">2989.36</td><td style = \"text-align: right;\">2995.85</td><td style = \"text-align: right;\">3021.4</td><td style = \"text-align: right;\">3029.87</td><td style = \"text-align: right;\">3032.95</td><td style = \"text-align: right;\">3061.04</td><td style = \"text-align: right;\">3080.09</td><td style = \"text-align: right;\">3107.01</td><td style = \"text-align: right;\">3107.09</td><td style = \"text-align: right;\">3132.58</td><td style = \"text-align: right;\">3191.44</td><td style = \"text-align: right;\">3216.13</td><td style = \"text-align: right;\">3266.38</td><td style = \"text-align: right;\">3306.93</td><td style = \"text-align: right;\">3309.93</td><td style = \"text-align: right;\">3321.74</td><td style = \"text-align: right;\">3329.81</td><td style = \"text-align: right;\">3341.11</td><td style = \"text-align: right;\">3431.1</td><td style = \"text-align: right;\">3436.09</td><td style = \"text-align: right;\">3439.74</td><td style = \"text-align: right;\">3471.5</td><td style = \"text-align: right;\">3521.48</td><td style = \"text-align: right;\">3538.54</td><td style = \"text-align: right;\">3599.74</td><td style = \"text-align: right;\">3606.31</td><td style = \"text-align: right;\">3625.29</td><td style = \"text-align: right;\">3631.24</td><td style = \"text-align: right;\">3651.92</td><td style = \"text-align: right;\">3653.24</td><td style = \"text-align: right;\">3736.01</td><td style = \"text-align: right;\">3754.84</td><td style = \"text-align: right;\">3759.39</td><td style = \"text-align: right;\">3776.61</td><td style = \"text-align: right;\">3778.04</td><td style = \"text-align: right;\">3789.94</td><td style = \"text-align: right;\">3815.14</td><td style = \"text-align: right;\">3827.85</td><td style = \"text-align: right;\">3838.52</td><td style = \"text-align: right;\">3854.18</td><td style = \"text-align: right;\">3871.76</td><td style = \"text-align: right;\">3877.21</td><td style = \"text-align: right;\">3922.29</td><td style = \"text-align: right;\">&ctdot;</td></tr><tr><td class = \"rowNumber\" style = \"font-weight: bold; text-align: right;\">45</td><td style = \"text-align: left;\">2018-01-02T20:00:00</td><td style = \"text-align: left;\">2017-12-31T12:00:00</td><td style = \"text-align: right;\">1649.1</td><td style = \"text-align: right;\">1701.17</td><td style = \"text-align: right;\">1723.87</td><td style = \"text-align: right;\">1740.88</td><td style = \"text-align: right;\">1756.34</td><td style = \"text-align: right;\">1853.81</td><td style = \"text-align: right;\">1869.76</td><td style = \"text-align: right;\">1898.94</td><td style = \"text-align: right;\">1910.48</td><td style = \"text-align: right;\">1927.44</td><td style = \"text-align: right;\">1940.53</td><td style = \"text-align: right;\">1944.34</td><td style = \"text-align: right;\">1994.84</td><td style = \"text-align: right;\">1999.32</td><td style = \"text-align: right;\">2110.95</td><td style = \"text-align: right;\">2111.43</td><td style = \"text-align: right;\">2111.77</td><td style = \"text-align: right;\">2155.07</td><td style = \"text-align: right;\">2179.68</td><td style = \"text-align: right;\">2229.86</td><td style = \"text-align: right;\">2257.09</td><td style = \"text-align: right;\">2259.9</td><td style = \"text-align: right;\">2272.25</td><td style = \"text-align: right;\">2329.47</td><td style = \"text-align: right;\">2331.16</td><td style = \"text-align: right;\">2372.32</td><td style = \"text-align: right;\">2390.06</td><td style = \"text-align: right;\">2406.95</td><td style = \"text-align: right;\">2471.19</td><td style = \"text-align: right;\">2589.36</td><td style = \"text-align: right;\">2628.44</td><td style = \"text-align: right;\">2642.02</td><td style = \"text-align: right;\">2662.42</td><td style = \"text-align: right;\">2665.64</td><td style = \"text-align: right;\">2674.24</td><td style = \"text-align: right;\">2687.16</td><td style = \"text-align: right;\">2692.68</td><td style = \"text-align: right;\">2693.69</td><td style = \"text-align: right;\">2724.94</td><td style = \"text-align: right;\">2733.44</td><td style = \"text-align: right;\">2766.25</td><td style = \"text-align: right;\">2775.43</td><td style = \"text-align: right;\">2778.84</td><td style = \"text-align: right;\">2782.35</td><td style = \"text-align: right;\">2805.08</td><td style = \"text-align: right;\">2806.0</td><td style = \"text-align: right;\">2816.74</td><td style = \"text-align: right;\">2817.86</td><td style = \"text-align: right;\">2825.94</td><td style = \"text-align: right;\">2834.21</td><td style = \"text-align: right;\">2877.26</td><td style = \"text-align: right;\">2902.94</td><td style = \"text-align: right;\">2922.83</td><td style = \"text-align: right;\">2924.62</td><td style = \"text-align: right;\">2946.19</td><td style = \"text-align: right;\">2958.19</td><td style = \"text-align: right;\">2975.61</td><td style = \"text-align: right;\">2979.35</td><td style = \"text-align: right;\">3003.7</td><td style = \"text-align: right;\">3017.56</td><td style = \"text-align: right;\">3033.13</td><td style = \"text-align: right;\">3070.25</td><td style = \"text-align: right;\">3072.83</td><td style = \"text-align: right;\">3171.92</td><td style = \"text-align: right;\">3194.16</td><td style = \"text-align: right;\">3200.61</td><td style = \"text-align: right;\">3217.28</td><td style = \"text-align: right;\">3227.53</td><td style = \"text-align: right;\">3250.93</td><td style = \"text-align: right;\">3263.28</td><td style = \"text-align: right;\">3265.73</td><td style = \"text-align: right;\">3283.33</td><td style = \"text-align: right;\">3283.34</td><td style = \"text-align: right;\">3292.15</td><td style = \"text-align: right;\">3324.82</td><td style = \"text-align: right;\">3349.22</td><td style = \"text-align: right;\">3349.83</td><td style = \"text-align: right;\">3358.6</td><td style = \"text-align: right;\">3378.94</td><td style = \"text-align: right;\">3380.21</td><td style = \"text-align: right;\">3399.88</td><td style = \"text-align: right;\">3443.72</td><td style = \"text-align: right;\">3446.63</td><td style = \"text-align: right;\">3457.67</td><td style = \"text-align: right;\">3486.72</td><td style = \"text-align: right;\">3495.21</td><td style = \"text-align: right;\">3563.26</td><td style = \"text-align: right;\">3563.84</td><td style = \"text-align: right;\">3571.14</td><td style = \"text-align: right;\">3632.2</td><td style = \"text-align: right;\">3641.32</td><td style = \"text-align: right;\">3645.38</td><td style = \"text-align: right;\">3665.84</td><td style = \"text-align: right;\">3726.08</td><td style = \"text-align: right;\">3726.84</td><td style = \"text-align: right;\">3732.7</td><td style = \"text-align: right;\">3734.07</td><td style = \"text-align: right;\">3735.06</td><td style = \"text-align: right;\">&ctdot;</td></tr><tr><td class = \"rowNumber\" style = \"font-weight: bold; text-align: right;\">46</td><td style = \"text-align: left;\">2018-01-02T21:00:00</td><td style = \"text-align: left;\">2017-12-31T12:00:00</td><td style = \"text-align: right;\">2086.87</td><td style = \"text-align: right;\">2202.22</td><td style = \"text-align: right;\">2211.88</td><td style = \"text-align: right;\">2263.22</td><td style = \"text-align: right;\">2311.89</td><td style = \"text-align: right;\">2311.91</td><td style = \"text-align: right;\">2317.0</td><td style = \"text-align: right;\">2351.99</td><td style = \"text-align: right;\">2372.91</td><td style = \"text-align: right;\">2392.66</td><td style = \"text-align: right;\">2403.8</td><td style = \"text-align: right;\">2407.87</td><td style = \"text-align: right;\">2499.33</td><td style = \"text-align: right;\">2528.02</td><td style = \"text-align: right;\">2535.32</td><td style = \"text-align: right;\">2689.5</td><td style = \"text-align: right;\">2708.65</td><td style = \"text-align: right;\">2744.17</td><td style = \"text-align: right;\">2763.66</td><td style = \"text-align: right;\">2765.08</td><td style = \"text-align: right;\">2765.53</td><td style = \"text-align: right;\">2800.89</td><td style = \"text-align: right;\">2805.13</td><td style = \"text-align: right;\">2814.43</td><td style = \"text-align: right;\">2825.22</td><td style = \"text-align: right;\">2921.29</td><td style = \"text-align: right;\">2927.12</td><td style = \"text-align: right;\">2964.13</td><td style = \"text-align: right;\">2977.48</td><td style = \"text-align: right;\">2980.65</td><td style = \"text-align: right;\">3014.03</td><td style = \"text-align: right;\">3020.32</td><td style = \"text-align: right;\">3047.8</td><td style = \"text-align: right;\">3063.13</td><td style = \"text-align: right;\">3067.6</td><td style = \"text-align: right;\">3078.33</td><td style = \"text-align: right;\">3110.19</td><td style = \"text-align: right;\">3122.83</td><td style = \"text-align: right;\">3131.69</td><td style = \"text-align: right;\">3133.27</td><td style = \"text-align: right;\">3133.44</td><td style = \"text-align: right;\">3139.46</td><td style = \"text-align: right;\">3155.47</td><td style = \"text-align: right;\">3164.11</td><td style = \"text-align: right;\">3169.39</td><td style = \"text-align: right;\">3190.64</td><td style = \"text-align: right;\">3228.16</td><td style = \"text-align: right;\">3257.11</td><td style = \"text-align: right;\">3275.24</td><td style = \"text-align: right;\">3275.96</td><td style = \"text-align: right;\">3288.22</td><td style = \"text-align: right;\">3319.24</td><td style = \"text-align: right;\">3320.73</td><td style = \"text-align: right;\">3331.04</td><td style = \"text-align: right;\">3339.09</td><td style = \"text-align: right;\">3342.01</td><td style = \"text-align: right;\">3347.72</td><td style = \"text-align: right;\">3368.85</td><td style = \"text-align: right;\">3373.56</td><td style = \"text-align: right;\">3472.12</td><td style = \"text-align: right;\">3494.22</td><td style = \"text-align: right;\">3499.32</td><td style = \"text-align: right;\">3516.49</td><td style = \"text-align: right;\">3530.19</td><td style = \"text-align: right;\">3535.47</td><td style = \"text-align: right;\">3555.94</td><td style = \"text-align: right;\">3622.41</td><td style = \"text-align: right;\">3658.94</td><td style = \"text-align: right;\">3674.61</td><td style = \"text-align: right;\">3698.16</td><td style = \"text-align: right;\">3700.14</td><td style = \"text-align: right;\">3701.04</td><td style = \"text-align: right;\">3707.28</td><td style = \"text-align: right;\">3709.22</td><td style = \"text-align: right;\">3728.38</td><td style = \"text-align: right;\">3731.98</td><td style = \"text-align: right;\">3736.96</td><td style = \"text-align: right;\">3740.14</td><td style = \"text-align: right;\">3757.79</td><td style = \"text-align: right;\">3773.23</td><td style = \"text-align: right;\">3802.12</td><td style = \"text-align: right;\">3836.79</td><td style = \"text-align: right;\">3861.19</td><td style = \"text-align: right;\">3872.11</td><td style = \"text-align: right;\">3898.76</td><td style = \"text-align: right;\">3911.15</td><td style = \"text-align: right;\">3920.84</td><td style = \"text-align: right;\">3925.34</td><td style = \"text-align: right;\">3934.59</td><td style = \"text-align: right;\">3957.12</td><td style = \"text-align: right;\">3972.27</td><td style = \"text-align: right;\">3976.38</td><td style = \"text-align: right;\">3997.11</td><td style = \"text-align: right;\">3998.79</td><td style = \"text-align: right;\">4014.85</td><td style = \"text-align: right;\">4022.24</td><td style = \"text-align: right;\">4061.71</td><td style = \"text-align: right;\">4079.05</td><td style = \"text-align: right;\">&ctdot;</td></tr><tr><td class = \"rowNumber\" style = \"font-weight: bold; text-align: right;\">47</td><td style = \"text-align: left;\">2018-01-02T22:00:00</td><td style = \"text-align: left;\">2017-12-31T12:00:00</td><td style = \"text-align: right;\">2508.37</td><td style = \"text-align: right;\">2592.27</td><td style = \"text-align: right;\">2635.92</td><td style = \"text-align: right;\">2707.79</td><td style = \"text-align: right;\">2777.85</td><td style = \"text-align: right;\">2787.36</td><td style = \"text-align: right;\">2850.36</td><td style = \"text-align: right;\">2879.47</td><td style = \"text-align: right;\">2932.84</td><td style = \"text-align: right;\">2956.58</td><td style = \"text-align: right;\">3015.01</td><td style = \"text-align: right;\">3040.34</td><td style = \"text-align: right;\">3051.12</td><td style = \"text-align: right;\">3129.46</td><td style = \"text-align: right;\">3173.54</td><td style = \"text-align: right;\">3187.36</td><td style = \"text-align: right;\">3343.08</td><td style = \"text-align: right;\">3345.82</td><td style = \"text-align: right;\">3414.63</td><td style = \"text-align: right;\">3425.05</td><td style = \"text-align: right;\">3507.12</td><td style = \"text-align: right;\">3520.8</td><td style = \"text-align: right;\">3563.12</td><td style = \"text-align: right;\">3604.54</td><td style = \"text-align: right;\">3634.66</td><td style = \"text-align: right;\">3672.92</td><td style = \"text-align: right;\">3757.1</td><td style = \"text-align: right;\">3769.54</td><td style = \"text-align: right;\">3840.45</td><td style = \"text-align: right;\">3872.52</td><td style = \"text-align: right;\">3964.48</td><td style = \"text-align: right;\">3966.12</td><td style = \"text-align: right;\">4017.79</td><td style = \"text-align: right;\">4068.59</td><td style = \"text-align: right;\">4074.39</td><td style = \"text-align: right;\">4074.72</td><td style = \"text-align: right;\">4083.41</td><td style = \"text-align: right;\">4138.31</td><td style = \"text-align: right;\">4183.58</td><td style = \"text-align: right;\">4188.54</td><td style = \"text-align: right;\">4252.82</td><td style = \"text-align: right;\">4253.78</td><td style = \"text-align: right;\">4272.42</td><td style = \"text-align: right;\">4333.09</td><td style = \"text-align: right;\">4351.24</td><td style = \"text-align: right;\">4369.28</td><td style = \"text-align: right;\">4455.38</td><td style = \"text-align: right;\">4476.02</td><td style = \"text-align: right;\">4538.38</td><td style = \"text-align: right;\">4548.38</td><td style = \"text-align: right;\">4551.91</td><td style = \"text-align: right;\">4668.38</td><td style = \"text-align: right;\">4678.55</td><td style = \"text-align: right;\">4686.05</td><td style = \"text-align: right;\">4686.84</td><td style = \"text-align: right;\">4710.29</td><td style = \"text-align: right;\">4726.26</td><td style = \"text-align: right;\">4731.09</td><td style = \"text-align: right;\">4757.38</td><td style = \"text-align: right;\">4776.96</td><td style = \"text-align: right;\">4788.52</td><td style = \"text-align: right;\">4798.26</td><td style = \"text-align: right;\">4821.22</td><td style = \"text-align: right;\">4822.63</td><td style = \"text-align: right;\">4877.2</td><td style = \"text-align: right;\">4957.35</td><td style = \"text-align: right;\">4959.28</td><td style = \"text-align: right;\">4962.4</td><td style = \"text-align: right;\">4966.91</td><td style = \"text-align: right;\">5008.19</td><td style = \"text-align: right;\">5010.6</td><td style = \"text-align: right;\">5022.14</td><td style = \"text-align: right;\">5025.19</td><td style = \"text-align: right;\">5025.21</td><td style = \"text-align: right;\">5063.85</td><td style = \"text-align: right;\">5091.38</td><td style = \"text-align: right;\">5094.11</td><td style = \"text-align: right;\">5115.71</td><td style = \"text-align: right;\">5149.44</td><td style = \"text-align: right;\">5191.5</td><td style = \"text-align: right;\">5213.05</td><td style = \"text-align: right;\">5256.7</td><td style = \"text-align: right;\">5263.83</td><td style = \"text-align: right;\">5286.5</td><td style = \"text-align: right;\">5294.91</td><td style = \"text-align: right;\">5334.52</td><td style = \"text-align: right;\">5353.71</td><td style = \"text-align: right;\">5372.72</td><td style = \"text-align: right;\">5399.64</td><td style = \"text-align: right;\">5423.59</td><td style = \"text-align: right;\">5425.78</td><td style = \"text-align: right;\">5489.18</td><td style = \"text-align: right;\">5558.89</td><td style = \"text-align: right;\">5564.45</td><td style = \"text-align: right;\">5569.86</td><td style = \"text-align: right;\">5577.14</td><td style = \"text-align: right;\">5579.06</td><td style = \"text-align: right;\">5616.88</td><td style = \"text-align: right;\">&ctdot;</td></tr><tr><td class = \"rowNumber\" style = \"font-weight: bold; text-align: right;\">48</td><td style = \"text-align: left;\">2018-01-02T23:00:00</td><td style = \"text-align: left;\">2017-12-31T12:00:00</td><td style = \"text-align: right;\">3475.46</td><td style = \"text-align: right;\">3508.39</td><td style = \"text-align: right;\">3560.11</td><td style = \"text-align: right;\">3579.56</td><td style = \"text-align: right;\">3789.43</td><td style = \"text-align: right;\">3822.43</td><td style = \"text-align: right;\">3865.03</td><td style = \"text-align: right;\">3922.34</td><td style = \"text-align: right;\">4149.07</td><td style = \"text-align: right;\">4154.42</td><td style = \"text-align: right;\">4154.82</td><td style = \"text-align: right;\">4160.58</td><td style = \"text-align: right;\">4218.22</td><td style = \"text-align: right;\">4244.66</td><td style = \"text-align: right;\">4252.47</td><td style = \"text-align: right;\">4311.18</td><td style = \"text-align: right;\">4350.23</td><td style = \"text-align: right;\">4371.14</td><td style = \"text-align: right;\">4406.39</td><td style = \"text-align: right;\">4704.67</td><td style = \"text-align: right;\">4752.03</td><td style = \"text-align: right;\">4817.17</td><td style = \"text-align: right;\">4841.19</td><td style = \"text-align: right;\">4900.69</td><td style = \"text-align: right;\">5009.22</td><td style = \"text-align: right;\">5076.52</td><td style = \"text-align: right;\">5090.44</td><td style = \"text-align: right;\">5131.88</td><td style = \"text-align: right;\">5134.92</td><td style = \"text-align: right;\">5151.17</td><td style = \"text-align: right;\">5178.13</td><td style = \"text-align: right;\">5195.81</td><td style = \"text-align: right;\">5245.86</td><td style = \"text-align: right;\">5285.5</td><td style = \"text-align: right;\">5326.93</td><td style = \"text-align: right;\">5332.27</td><td style = \"text-align: right;\">5358.15</td><td style = \"text-align: right;\">5444.78</td><td style = \"text-align: right;\">5476.44</td><td style = \"text-align: right;\">5550.95</td><td style = \"text-align: right;\">5565.42</td><td style = \"text-align: right;\">5573.68</td><td style = \"text-align: right;\">5608.92</td><td style = \"text-align: right;\">5615.92</td><td style = \"text-align: right;\">5617.36</td><td style = \"text-align: right;\">5618.55</td><td style = \"text-align: right;\">5627.96</td><td style = \"text-align: right;\">5631.15</td><td style = \"text-align: right;\">5657.53</td><td style = \"text-align: right;\">5659.51</td><td style = \"text-align: right;\">5689.74</td><td style = \"text-align: right;\">5768.43</td><td style = \"text-align: right;\">5828.98</td><td style = \"text-align: right;\">5839.06</td><td style = \"text-align: right;\">5841.48</td><td style = \"text-align: right;\">5908.65</td><td style = \"text-align: right;\">5928.49</td><td style = \"text-align: right;\">5946.19</td><td style = \"text-align: right;\">5952.52</td><td style = \"text-align: right;\">6009.53</td><td style = \"text-align: right;\">6038.06</td><td style = \"text-align: right;\">6069.3</td><td style = \"text-align: right;\">6084.29</td><td style = \"text-align: right;\">6103.62</td><td style = \"text-align: right;\">6110.78</td><td style = \"text-align: right;\">6169.74</td><td style = \"text-align: right;\">6190.31</td><td style = \"text-align: right;\">6202.88</td><td style = \"text-align: right;\">6207.42</td><td style = \"text-align: right;\">6240.55</td><td style = \"text-align: right;\">6272.52</td><td style = \"text-align: right;\">6309.32</td><td style = \"text-align: right;\">6343.8</td><td style = \"text-align: right;\">6349.7</td><td style = \"text-align: right;\">6368.13</td><td style = \"text-align: right;\">6372.81</td><td style = \"text-align: right;\">6384.61</td><td style = \"text-align: right;\">6431.53</td><td style = \"text-align: right;\">6435.74</td><td style = \"text-align: right;\">6445.02</td><td style = \"text-align: right;\">6540.39</td><td style = \"text-align: right;\">6544.39</td><td style = \"text-align: right;\">6548.54</td><td style = \"text-align: right;\">6557.92</td><td style = \"text-align: right;\">6558.06</td><td style = \"text-align: right;\">6560.44</td><td style = \"text-align: right;\">6562.84</td><td style = \"text-align: right;\">6595.91</td><td style = \"text-align: right;\">6617.02</td><td style = \"text-align: right;\">6733.23</td><td style = \"text-align: right;\">6745.34</td><td style = \"text-align: right;\">6754.49</td><td style = \"text-align: right;\">6761.22</td><td style = \"text-align: right;\">6787.59</td><td style = \"text-align: right;\">6835.14</td><td style = \"text-align: right;\">6848.97</td><td style = \"text-align: right;\">6871.97</td><td style = \"text-align: right;\">6883.32</td><td style = \"text-align: right;\">&ctdot;</td></tr></tbody></table></div>"
      ],
      "text/latex": [
       "\\begin{tabular}{r|cccccccc}\n",
       "\t& forecast\\_time & issue\\_time & p\\_1 & p\\_2 & p\\_3 & p\\_4 & p\\_5 & \\\\\n",
       "\t\\hline\n",
       "\t& DateTime & DateTime & Float64 & Float64 & Float64 & Float64 & Float64 & \\\\\n",
       "\t\\hline\n",
       "\t1 & 2018-01-01T00:00:00 & 2017-12-31T12:00:00 & 4498.39 & 4504.78 & 4516.86 & 4572.79 & 4666.27 & $\\dots$ \\\\\n",
       "\t2 & 2018-01-01T01:00:00 & 2017-12-31T12:00:00 & 4437.08 & 4442.95 & 4446.17 & 4487.63 & 4756.88 & $\\dots$ \\\\\n",
       "\t3 & 2018-01-01T02:00:00 & 2017-12-31T12:00:00 & 3856.06 & 4056.18 & 4064.34 & 4119.03 & 4140.09 & $\\dots$ \\\\\n",
       "\t4 & 2018-01-01T03:00:00 & 2017-12-31T12:00:00 & 3613.21 & 3678.05 & 3734.93 & 3969.08 & 3978.12 & $\\dots$ \\\\\n",
       "\t5 & 2018-01-01T04:00:00 & 2017-12-31T12:00:00 & 3248.59 & 3274.14 & 3445.66 & 3504.0 & 3568.0 & $\\dots$ \\\\\n",
       "\t6 & 2018-01-01T05:00:00 & 2017-12-31T12:00:00 & 3795.4 & 3831.22 & 3896.29 & 3952.29 & 3971.97 & $\\dots$ \\\\\n",
       "\t7 & 2018-01-01T06:00:00 & 2017-12-31T12:00:00 & 3115.93 & 3371.07 & 3629.02 & 3662.25 & 3699.25 & $\\dots$ \\\\\n",
       "\t8 & 2018-01-01T07:00:00 & 2017-12-31T12:00:00 & 2888.38 & 2911.87 & 2917.9 & 2991.19 & 3059.58 & $\\dots$ \\\\\n",
       "\t9 & 2018-01-01T08:00:00 & 2017-12-31T12:00:00 & 2568.29 & 2724.78 & 2725.12 & 2775.11 & 2841.14 & $\\dots$ \\\\\n",
       "\t10 & 2018-01-01T09:00:00 & 2017-12-31T12:00:00 & 2419.87 & 2449.88 & 2508.35 & 2643.81 & 2746.21 & $\\dots$ \\\\\n",
       "\t11 & 2018-01-01T10:00:00 & 2017-12-31T12:00:00 & 1906.85 & 1949.74 & 1987.96 & 2029.24 & 2082.12 & $\\dots$ \\\\\n",
       "\t12 & 2018-01-01T11:00:00 & 2017-12-31T12:00:00 & 1640.12 & 1647.86 & 1714.45 & 1737.75 & 1755.11 & $\\dots$ \\\\\n",
       "\t13 & 2018-01-01T12:00:00 & 2017-12-31T12:00:00 & 1272.28 & 1345.11 & 1348.43 & 1358.78 & 1363.95 & $\\dots$ \\\\\n",
       "\t14 & 2018-01-01T13:00:00 & 2017-12-31T12:00:00 & 1241.47 & 1246.57 & 1278.72 & 1290.93 & 1297.97 & $\\dots$ \\\\\n",
       "\t15 & 2018-01-01T14:00:00 & 2017-12-31T12:00:00 & 1097.37 & 1110.16 & 1114.34 & 1124.88 & 1180.02 & $\\dots$ \\\\\n",
       "\t16 & 2018-01-01T15:00:00 & 2017-12-31T12:00:00 & 1168.99 & 1198.81 & 1230.2 & 1239.41 & 1241.47 & $\\dots$ \\\\\n",
       "\t17 & 2018-01-01T16:00:00 & 2017-12-31T12:00:00 & 1079.8 & 1084.57 & 1085.75 & 1089.99 & 1097.83 & $\\dots$ \\\\\n",
       "\t18 & 2018-01-01T17:00:00 & 2017-12-31T12:00:00 & 1704.52 & 1713.98 & 1716.14 & 1716.18 & 1722.13 & $\\dots$ \\\\\n",
       "\t19 & 2018-01-01T18:00:00 & 2017-12-31T12:00:00 & 2118.95 & 2121.82 & 2137.16 & 2141.57 & 2142.74 & $\\dots$ \\\\\n",
       "\t20 & 2018-01-01T19:00:00 & 2017-12-31T12:00:00 & 2019.38 & 2025.92 & 2034.73 & 2047.09 & 2074.18 & $\\dots$ \\\\\n",
       "\t21 & 2018-01-01T20:00:00 & 2017-12-31T12:00:00 & 2098.56 & 2112.46 & 2123.6 & 2178.4 & 2191.61 & $\\dots$ \\\\\n",
       "\t22 & 2018-01-01T21:00:00 & 2017-12-31T12:00:00 & 2195.64 & 2199.59 & 2212.08 & 2235.18 & 2271.96 & $\\dots$ \\\\\n",
       "\t23 & 2018-01-01T22:00:00 & 2017-12-31T12:00:00 & 1850.49 & 1852.8 & 1853.5 & 1862.01 & 1992.75 & $\\dots$ \\\\\n",
       "\t24 & 2018-01-01T23:00:00 & 2017-12-31T12:00:00 & 1852.8 & 1997.85 & 2048.58 & 2086.24 & 2184.02 & $\\dots$ \\\\\n",
       "\t$\\dots$ & $\\dots$ & $\\dots$ & $\\dots$ & $\\dots$ & $\\dots$ & $\\dots$ & $\\dots$ &  \\\\\n",
       "\\end{tabular}\n"
      ],
      "text/plain": [
       "\u001b[1m48×103 DataFrame\u001b[0m\n",
       "\u001b[1m Row \u001b[0m│\u001b[1m forecast_time       \u001b[0m\u001b[1m issue_time          \u001b[0m\u001b[1m p_1      \u001b[0m\u001b[1m p_2      \u001b[0m\u001b[1m p_3      \u001b[0m\u001b[1m\u001b[0m ⋯\n",
       "     │\u001b[90m DateTime            \u001b[0m\u001b[90m DateTime            \u001b[0m\u001b[90m Float64  \u001b[0m\u001b[90m Float64  \u001b[0m\u001b[90m Float64  \u001b[0m\u001b[90m\u001b[0m ⋯\n",
       "─────┼──────────────────────────────────────────────────────────────────────────\n",
       "   1 │ 2018-01-01T00:00:00  2017-12-31T12:00:00  4498.39   4504.78   4516.86   ⋯\n",
       "   2 │ 2018-01-01T01:00:00  2017-12-31T12:00:00  4437.08   4442.95   4446.17\n",
       "   3 │ 2018-01-01T02:00:00  2017-12-31T12:00:00  3856.06   4056.18   4064.34\n",
       "   4 │ 2018-01-01T03:00:00  2017-12-31T12:00:00  3613.21   3678.05   3734.93\n",
       "   5 │ 2018-01-01T04:00:00  2017-12-31T12:00:00  3248.59   3274.14   3445.66   ⋯\n",
       "   6 │ 2018-01-01T05:00:00  2017-12-31T12:00:00  3795.4    3831.22   3896.29\n",
       "   7 │ 2018-01-01T06:00:00  2017-12-31T12:00:00  3115.93   3371.07   3629.02\n",
       "   8 │ 2018-01-01T07:00:00  2017-12-31T12:00:00  2888.38   2911.87   2917.9\n",
       "  ⋮  │          ⋮                    ⋮              ⋮         ⋮         ⋮      ⋱\n",
       "  42 │ 2018-01-02T17:00:00  2017-12-31T12:00:00   514.809   608.59    844.907  ⋯\n",
       "  43 │ 2018-01-02T18:00:00  2017-12-31T12:00:00  1378.62   1451.02   1550.24\n",
       "  44 │ 2018-01-02T19:00:00  2017-12-31T12:00:00  1349.42   1368.92   1393.16\n",
       "  45 │ 2018-01-02T20:00:00  2017-12-31T12:00:00  1649.1    1701.17   1723.87\n",
       "  46 │ 2018-01-02T21:00:00  2017-12-31T12:00:00  2086.87   2202.22   2211.88   ⋯\n",
       "  47 │ 2018-01-02T22:00:00  2017-12-31T12:00:00  2508.37   2592.27   2635.92\n",
       "  48 │ 2018-01-02T23:00:00  2017-12-31T12:00:00  3475.46   3508.39   3560.11\n",
       "\u001b[36m                                                  98 columns and 33 rows omitted\u001b[0m"
      ]
     },
     "metadata": {},
     "output_type": "display_data"
    }
   ],
   "source": [
    "# for r in R[1]\n",
    "r = R[4]\n",
    "\n",
    "global decision_date = start_date + Dates.Hour(r - 1)\n",
    "\n",
    "#=======================================================================\n",
    "DEFINE DATETIMES AND FORECAST VS ACTUAL VS MODEL TIMES OR HOURS\n",
    "=======================================================================#\n",
    "\n",
    "horizon_start_index = findfirst(isequal(decision_date), unique_forecast_times);\n",
    "\n",
    "current_issue = corr_forecast_issue_times[horizon_start_index, :issue_time];\n",
    "\n",
    "issue_index = findall(x -> x == current_issue, unique_issue_times)[1];\n",
    "# find next issue time and compare to start date\n",
    "# next_issue = unique_issue_times[issue_index + 1];\n",
    "# define active issues (XXX workshop name) as set of forecasts that are available for the hours to use for lookahead\n",
    "active_issues = [current_issue];\n",
    "# get the indices of the forecasts of the active issue times\n",
    "current_forecast_indices = findall(x -> x in active_issues, corr_forecast_issue_times[!,:issue_time]);\n",
    "\n",
    "# get the actual forecast times of the current forecast indices\n",
    "current_forecast_times = corr_forecast_issue_times[current_forecast_indices, :forecast_time];\n",
    "# get the forecast times that are after the start_data\n",
    "forecast_times_start_incl = filter(x -> x >= decision_date, current_forecast_times);\n",
    "# calculate the length of the forecast times after the start date\n",
    "policy_model_length = length(forecast_times_start_incl);\n",
    "policy_lookahead_length = policy_model_length - 1; # minus one always for the existing lookahead...\n",
    "\n",
    "# extract the actuals from the last 48 - model_forecast_length\n",
    "# actuals_length = 48 - policy_model_length + 1;\n",
    "policy_actuals_length = forecast_scenario_length - policy_lookahead_length;\n",
    "\n",
    "lookahead_decision_hours = collect(policy_actuals_length:forecast_scenario_length);\n",
    "\n",
    "load_current_marginals = load_marginals_by_issue[issue_index];\n",
    "solar_current_marginals = solar_marginals_by_issue[issue_index];\n",
    "wind_current_marginals = wind_marginals_by_issue[issue_index];\n",
    "\n",
    "#=======================================================================\n",
    "GENERATE SCENARIOS FOR LOAD, SOLAR, AND WIND\n",
    "=======================================================================#\n",
    "# Y_load =  generate_norta_scenarios(number_of_scenarios, forecast_scenario_length, decision_date, horizon_start_index, \n",
    "#                                     active_issues, corr_forecast_issue_times, normal_dist,  \n",
    "#                                     M_load, load_current_marginals, load_landing_probabilities,\n",
    "#                                     sunny_decision_hours, false)\n",
    "\n",
    "# Y_solar = generate_norta_scenarios(number_of_scenarios, forecast_scenario_length, decision_date, horizon_start_index, \n",
    "#                                     active_issues, corr_forecast_issue_times, normal_dist,  \n",
    "#                                     M_solar, solar_current_marginals, solar_landing_probabilities,\n",
    "#                                     sunny_decision_hours, true)\n",
    "\n",
    "# Y_wind = generate_norta_scenarios(number_of_scenarios, forecast_scenario_length, decision_date, horizon_start_index, \n",
    "#                                     active_issues, corr_forecast_issue_times, normal_dist,  \n",
    "#                                     M_wind, wind_current_marginals, wind_landing_probabilities,\n",
    "#                                     sunny_decision_hours, false)\n",
    "\n",
    "    "
   ]
  },
  {
   "cell_type": "code",
   "execution_count": 130,
   "id": "ebbc56b6",
   "metadata": {},
   "outputs": [
    {
     "ename": "UndefVarError",
     "evalue": "UndefVarError: `sunny_decision_hours` not defined",
     "output_type": "error",
     "traceback": [
      "UndefVarError: `sunny_decision_hours` not defined\n",
      "\n",
      "Stacktrace:\n",
      " [1] top-level scope\n",
      "   @ c:\\Users\\ks885\\Documents\\aa_research\\Modeling\\spcm_genx_experiment\\SPCM\\src\\scenario_generation\\sequential_norta\\test\\jl_notebook_cell_df34fa98e69747e1a8f8a730347b8e2f_X21sZmlsZQ==.jl:11"
     ]
    }
   ],
   "source": [
    "number_of_scen = number_of_scenarios\n",
    "scenario_len = forecast_scenario_length\n",
    "date = decision_date\n",
    "start_ind = horizon_start_index\n",
    "active_iss = active_issues\n",
    "corr_forc_iss_times = corr_forecast_issue_times\n",
    "d_norm = normal_dist\n",
    "M = M_solar\n",
    "current_marginals = solar_current_marginals\n",
    "landing_probabilities = solar_landing_probabilities\n",
    "sunny_decision_hours = sunny_decision_hours\n",
    "is_solar = true"
   ]
  },
  {
   "cell_type": "code",
   "execution_count": 131,
   "id": "a66b8912",
   "metadata": {},
   "outputs": [
    {
     "ename": "UndefVarError",
     "evalue": "UndefVarError: `is_solar` not defined",
     "output_type": "error",
     "traceback": [
      "UndefVarError: `is_solar` not defined\n",
      "\n",
      "Stacktrace:\n",
      " [1] top-level scope\n",
      "   @ c:\\Users\\ks885\\Documents\\aa_research\\Modeling\\spcm_genx_experiment\\SPCM\\src\\scenario_generation\\sequential_norta\\test\\jl_notebook_cell_df34fa98e69747e1a8f8a730347b8e2f_X22sZmlsZQ==.jl:25"
     ]
    }
   ],
   "source": [
    "percentile_column_index = startswith.(names(current_marginals), \"p_\");\n",
    "dim_M = size(M, 1);\n",
    "\n",
    "if dim_M != scenario_len\n",
    "    kernel_scenario_len = dim_M;\n",
    "else\n",
    "    kernel_scenario_len = scenario_len;\n",
    "end\n",
    "\n",
    "# get the indices of the forecasts of the active issue times\n",
    "curr_forec_indices = findall(x -> x in active_iss, corr_forc_iss_times[!,:issue_time]);\n",
    "\n",
    "# get the actual forecast times of the current forecast indices\n",
    "curr_forec_times = corr_forc_iss_times[curr_forec_indices, :forecast_time];\n",
    "# get the forecast times that are after the start_data\n",
    "forec_times_start_incl = filter(x -> x >= date, curr_forec_times);\n",
    "# calculate the length of the forecast times after the start date\n",
    "policy_model_len = length(forec_times_start_incl);\n",
    "policy_lookahead_len = policy_model_len - 1; # minus one always for the existing lookahead...\n",
    "policy_actuals_len = scenario_len - policy_lookahead_len;\n",
    "first_forec_decision_time_hour = curr_forec_indices[1];\n",
    "# policy_decn_hours = collect(policy_actuals_len:scenario_len);\n",
    "forecast_decision_time_hours = collect(first_forec_decision_time_hour:first_forec_decision_time_hour+scenario_len-1)\n",
    "\n",
    "if is_solar\n",
    "    decision_time_sunny_hours = intersect(sunny_decision_hours, forecast_decision_time_hours);\n",
    "    policy_time_sunny_hours = decision_time_sunny_hours .- first_forec_decision_time_hour .+ 1;\n",
    "\n",
    "    # find the actuals sunny hours before and at the policy start\n",
    "    kernel_actuals_policy_time_hours = policy_time_sunny_hours[policy_time_sunny_hours .<= policy_actuals_len];\n",
    "    policy_actuals_kernel_len = length(kernel_actuals_policy_time_hours);\n",
    "    policy_lookahead_kernel_len = kernel_scenario_len - policy_actuals_kernel_len;\n",
    "else\n",
    "    policy_lookahead_kernel_len = policy_model_len - 1;\n",
    "    policy_actuals_kernel_len = scenario_len - policy_lookahead_kernel_len;\n",
    "end\n",
    "\n",
    "# initialize the matrix for the normal random variables for the calculation of Z\n",
    "W = Matrix{Float64}(undef, number_of_scen, kernel_scenario_len);\n",
    "# initialize the vector for the cumulative distribution function on Z\n",
    "cdf_Z_48 = zeros(scenario_len,1);\n",
    "\n",
    "# initialize the matrix for the scenarios\n",
    "Y = Matrix{Float64}(undef, number_of_scen, scenario_len);\n",
    "\n",
    "for nscen in 1:number_of_scen\n",
    "    # nscen = 1\n",
    "    # initialize\n",
    "    array_actual_Z = Array{Float64}(undef, kernel_scenario_len)\n",
    "    array_actual_phi = Array{Float64}(undef, kernel_scenario_len)\n",
    "\n",
    "    # checks\n",
    "    max_actual = Array{Float64}(undef, kernel_scenario_len)\n",
    "    min_actual = Array{Float64}(undef, kernel_scenario_len)\n",
    "    # loop through number of scenarios to get W realizations from actuals\n",
    "    for k in 1:kernel_scenario_len\n",
    "        current_marginals_dist = current_marginals[k, percentile_column_index]\n",
    "        vec_current_marginals_dist = collect(current_marginals_dist)\n",
    "        ecdf_actuals = ecdf(vec_current_marginals_dist)\n",
    "\n",
    "        actual_lp_via_md = ecdf_actuals(current_marginals[k,:avg_actual])\n",
    "        if actual_lp_via_md  == 1\n",
    "            actual_lp_via_md  = 0.99\n",
    "        elseif actual_lp_via_md  == 0\n",
    "            actual_lp_via_md  = 0.01\n",
    "        end\n",
    "        \n",
    "        # take inverse\n",
    "        actual_Z_via_md = quantile(d_norm, actual_lp_via_md)\n",
    "\n",
    "        array_actual_Z[k] = actual_Z_via_md\n",
    "    end\n",
    "\n",
    "    W_from_actuals = inv(M) * array_actual_Z\n",
    "\n",
    "    # set the historical landing probabilities in the first columns of W\n",
    "    # W[nscen, 1:policy_actuals_len] = historical_lp; # XXX wrong\n",
    "    W[nscen, 1:policy_actuals_kernel_len] = W_from_actuals[1:policy_actuals_kernel_len];\n",
    "\n",
    "    # W_upd = rand(d, solar_policy_forecast_length); # policy_forecast_length\n",
    "    # the rest of the columns are filled with random numbers\n",
    "    W_upd = rand(d_norm, policy_lookahead_kernel_len); # policy_forecast_length\n",
    "\n",
    "    # W[nscen, solar_policy_actuals_len+1:end] = W_upd; # policy_actuals_len\n",
    "    W[nscen, policy_actuals_kernel_len+1:end] = W_upd; # policy_actuals_len\n",
    "\n",
    "    W_lookahead = W[nscen, :];\n",
    "\n",
    "    Z = M * W_lookahead;\n",
    "\n",
    "    cdf_Z_base = cdf.(d_norm, Z);\n",
    "\n",
    "    # cdf_Z_48[lookahead_sunny_indices] = cdf_Z; # XXX skip\n",
    "    if is_solar\n",
    "        # model_sunny_indices = lookahead_sunny_indices[policy_actuals_len+1:end];\n",
    "        cdf_Z_48[policy_time_sunny_hours] = cdf_Z_base;\n",
    "    else\n",
    "        cdf_Z_48 = cdf_Z_base;\n",
    "    end\n",
    "\n",
    "    # current_marginals = marginals_by_issue[issue_index];\n",
    "\n",
    "    for k in 1:scenario_len\n",
    "        # k = 1\n",
    "        # marginal_id = within_forecast_sunny_hours[k];\n",
    "        # current_marginals_dist = current_marginals[marginal_id, 3:101];\n",
    "        current_marginals_dist = current_marginals[k, percentile_column_index];\n",
    "        current_actual = current_marginals[k, :avg_actual];\n",
    "        \n",
    "        # calculate \n",
    "        if k <= policy_actuals_kernel_len # replace policy_actuals_len with actual values\n",
    "            Y[nscen, k] = current_actual;\n",
    "        else\n",
    "            Y[nscen, k] = quantile(current_marginals_dist, cdf_Z_48[k]);\n",
    "        end\n",
    "    end\n",
    "end\n",
    "\n",
    "model_indices = (scenario_len - policy_model_len + 1): (scenario_len)\n",
    "policy_model_Y = Y[:, model_indices];"
   ]
  },
  {
   "cell_type": "code",
   "execution_count": 132,
   "id": "d1b71130",
   "metadata": {},
   "outputs": [
    {
     "ename": "UndefVarError",
     "evalue": "UndefVarError: `policy_model_Y` not defined",
     "output_type": "error",
     "traceback": [
      "UndefVarError: `policy_model_Y` not defined\n"
     ]
    }
   ],
   "source": [
    "policy_model_Y"
   ]
  },
  {
   "cell_type": "code",
   "execution_count": 133,
   "id": "6c915a67",
   "metadata": {},
   "outputs": [
    {
     "data": {
      "text/plain": [
       "372.167962"
      ]
     },
     "metadata": {},
     "output_type": "display_data"
    }
   ],
   "source": [
    "solar_actuals_dec_timeseries[R[4]]"
   ]
  },
  {
   "cell_type": "code",
   "execution_count": 134,
   "id": "b735a1cb",
   "metadata": {},
   "outputs": [
    {
     "data": {
      "text/plain": [
       "28"
      ]
     },
     "metadata": {},
     "output_type": "display_data"
    }
   ],
   "source": [
    "percentile_column_index = startswith.(names(current_marginals), \"p_\");\n",
    "dim_M = size(M, 1);\n",
    "\n",
    "if dim_M != scenario_len\n",
    "    kernel_scenario_len = dim_M;\n",
    "else\n",
    "    kernel_scenario_len = scenario_len;\n",
    "end\n",
    "\n"
   ]
  },
  {
   "cell_type": "code",
   "execution_count": 135,
   "id": "d13bd111",
   "metadata": {},
   "outputs": [
    {
     "data": {
      "text/plain": [
       "48-element Vector{Int64}:\n",
       "    1\n",
       "    2\n",
       "    3\n",
       "    4\n",
       "    5\n",
       "    6\n",
       "    7\n",
       "    8\n",
       "    9\n",
       "   10\n",
       "    ⋮\n",
       " 8728\n",
       " 8729\n",
       " 8730\n",
       " 8731\n",
       " 8732\n",
       " 8733\n",
       " 8734\n",
       " 8735\n",
       " 8736"
      ]
     },
     "metadata": {},
     "output_type": "display_data"
    }
   ],
   "source": [
    "# get the indices of the forecasts of the active issue times\n",
    "curr_forec_indices = findall(x -> x in active_iss, corr_forc_iss_times[!,:issue_time])\n"
   ]
  },
  {
   "cell_type": "code",
   "execution_count": 136,
   "id": "37914ced",
   "metadata": {},
   "outputs": [
    {
     "data": {
      "text/plain": [
       "48-element Vector{DateTime}:\n",
       " 2018-01-01T00:00:00\n",
       " 2018-01-01T01:00:00\n",
       " 2018-01-01T02:00:00\n",
       " 2018-01-01T03:00:00\n",
       " 2018-01-01T04:00:00\n",
       " 2018-01-01T05:00:00\n",
       " 2018-01-01T06:00:00\n",
       " 2018-01-01T07:00:00\n",
       " 2018-01-01T08:00:00\n",
       " 2018-01-01T09:00:00\n",
       " ⋮\n",
       " 2018-01-02T15:00:00\n",
       " 2018-01-02T16:00:00\n",
       " 2018-01-02T17:00:00\n",
       " 2018-01-02T18:00:00\n",
       " 2018-01-02T19:00:00\n",
       " 2018-01-02T20:00:00\n",
       " 2018-01-02T21:00:00\n",
       " 2018-01-02T22:00:00\n",
       " 2018-01-02T23:00:00"
      ]
     },
     "metadata": {},
     "output_type": "display_data"
    }
   ],
   "source": [
    "# get the actual forecast times of the current forecast indices\n",
    "curr_forec_times = corr_forc_iss_times[curr_forec_indices, :forecast_time]"
   ]
  },
  {
   "cell_type": "code",
   "execution_count": 137,
   "id": "c2952670",
   "metadata": {},
   "outputs": [
    {
     "data": {
      "text/plain": [
       "38-element Vector{DateTime}:\n",
       " 2018-01-01T10:00:00\n",
       " 2018-01-01T11:00:00\n",
       " 2018-01-01T12:00:00\n",
       " 2018-01-01T13:00:00\n",
       " 2018-01-01T14:00:00\n",
       " 2018-01-01T15:00:00\n",
       " 2018-01-01T16:00:00\n",
       " 2018-01-01T17:00:00\n",
       " 2018-01-01T18:00:00\n",
       " 2018-01-01T19:00:00\n",
       " ⋮\n",
       " 2018-01-02T15:00:00\n",
       " 2018-01-02T16:00:00\n",
       " 2018-01-02T17:00:00\n",
       " 2018-01-02T18:00:00\n",
       " 2018-01-02T19:00:00\n",
       " 2018-01-02T20:00:00\n",
       " 2018-01-02T21:00:00\n",
       " 2018-01-02T22:00:00\n",
       " 2018-01-02T23:00:00"
      ]
     },
     "metadata": {},
     "output_type": "display_data"
    }
   ],
   "source": [
    "# get the forecast times that are after the start_data\n",
    "forec_times_start_incl = filter(x -> x >= date, curr_forec_times)\n"
   ]
  },
  {
   "cell_type": "code",
   "execution_count": 138,
   "id": "ebdad10c",
   "metadata": {},
   "outputs": [
    {
     "data": {
      "text/plain": [
       "38"
      ]
     },
     "metadata": {},
     "output_type": "display_data"
    }
   ],
   "source": [
    "# calculate the length of the forecast times after the start date\n",
    "policy_model_len = length(forec_times_start_incl)\n"
   ]
  },
  {
   "cell_type": "code",
   "execution_count": 139,
   "id": "2e85c0f8",
   "metadata": {},
   "outputs": [
    {
     "data": {
      "text/plain": [
       "37"
      ]
     },
     "metadata": {},
     "output_type": "display_data"
    }
   ],
   "source": [
    "policy_lookahead_len = policy_model_len - 1"
   ]
  },
  {
   "cell_type": "code",
   "execution_count": 140,
   "id": "d4bbbd89",
   "metadata": {},
   "outputs": [
    {
     "data": {
      "text/plain": [
       "11"
      ]
     },
     "metadata": {},
     "output_type": "display_data"
    }
   ],
   "source": [
    "# minus one always for the existing lookahead...\n",
    "policy_actuals_len = scenario_len - policy_lookahead_len\n",
    "# forecast actuals length"
   ]
  },
  {
   "cell_type": "code",
   "execution_count": 141,
   "id": "107cf0cc",
   "metadata": {},
   "outputs": [
    {
     "data": {
      "text/plain": [
       "48-element Vector{Int64}:\n",
       "    1\n",
       "    2\n",
       "    3\n",
       "    4\n",
       "    5\n",
       "    6\n",
       "    7\n",
       "    8\n",
       "    9\n",
       "   10\n",
       "    ⋮\n",
       " 8728\n",
       " 8729\n",
       " 8730\n",
       " 8731\n",
       " 8732\n",
       " 8733\n",
       " 8734\n",
       " 8735\n",
       " 8736"
      ]
     },
     "metadata": {},
     "output_type": "display_data"
    }
   ],
   "source": [
    "curr_forec_indices\n",
    "# raw issue indices"
   ]
  },
  {
   "cell_type": "code",
   "execution_count": 142,
   "id": "9f7985c2",
   "metadata": {},
   "outputs": [
    {
     "data": {
      "text/plain": [
       "1"
      ]
     },
     "metadata": {},
     "output_type": "display_data"
    }
   ],
   "source": [
    "first_forec_decision_time_hour = curr_forec_indices[1]\n",
    "# first issue decieion time hour"
   ]
  },
  {
   "cell_type": "code",
   "execution_count": 143,
   "id": "6160833c",
   "metadata": {},
   "outputs": [
    {
     "data": {
      "text/plain": [
       "48-element Vector{Int64}:\n",
       "  1\n",
       "  2\n",
       "  3\n",
       "  4\n",
       "  5\n",
       "  6\n",
       "  7\n",
       "  8\n",
       "  9\n",
       " 10\n",
       "  ⋮\n",
       " 40\n",
       " 41\n",
       " 42\n",
       " 43\n",
       " 44\n",
       " 45\n",
       " 46\n",
       " 47\n",
       " 48"
      ]
     },
     "metadata": {},
     "output_type": "display_data"
    }
   ],
   "source": [
    "# policy_decn_hours = collect(policy_actuals_len:scenario_len);\n",
    "forecast_decision_time_hours = collect(first_forec_decision_time_hour:first_forec_decision_time_hour+scenario_len-1)\n",
    "# indices of current issue"
   ]
  },
  {
   "cell_type": "code",
   "execution_count": 171,
   "id": "163cff5d",
   "metadata": {},
   "outputs": [
    {
     "data": {
      "text/plain": [
       "4880-element Vector{Int64}:\n",
       "    8\n",
       "    9\n",
       "   10\n",
       "   11\n",
       "   12\n",
       "   13\n",
       "   14\n",
       "   15\n",
       "   16\n",
       "   17\n",
       "    ⋮\n",
       " 8723\n",
       " 8724\n",
       " 8725\n",
       " 8726\n",
       " 8727\n",
       " 8728\n",
       " 8729\n",
       " 8730\n",
       " 8731"
      ]
     },
     "metadata": {},
     "output_type": "display_data"
    }
   ],
   "source": [
    "solar_positive_indices"
   ]
  },
  {
   "cell_type": "code",
   "execution_count": 170,
   "id": "bcbb70e8",
   "metadata": {},
   "outputs": [
    {
     "data": {
      "text/plain": [
       "24-element Vector{Int64}:\n",
       "  8\n",
       "  9\n",
       " 10\n",
       " 11\n",
       " 12\n",
       " 13\n",
       " 14\n",
       " 15\n",
       " 16\n",
       " 17\n",
       "  ⋮\n",
       " 35\n",
       " 36\n",
       " 37\n",
       " 38\n",
       " 39\n",
       " 40\n",
       " 41\n",
       " 42\n",
       " 43"
      ]
     },
     "metadata": {},
     "output_type": "display_data"
    }
   ],
   "source": [
    "# decision_time_sunny_hours = intersect(solar_positive_indices, forecast_decision_time_hours)\n",
    "decision_time_sunny_hours = intersect(solar_positive_indices, forecast_decision_time_hours)\n"
   ]
  },
  {
   "cell_type": "code",
   "execution_count": 145,
   "id": "71cb54a9",
   "metadata": {},
   "outputs": [
    {
     "data": {
      "text/plain": [
       "24-element Vector{Int64}:\n",
       "  8\n",
       "  9\n",
       " 10\n",
       " 11\n",
       " 12\n",
       " 13\n",
       " 14\n",
       " 15\n",
       " 16\n",
       " 17\n",
       "  ⋮\n",
       " 35\n",
       " 36\n",
       " 37\n",
       " 38\n",
       " 39\n",
       " 40\n",
       " 41\n",
       " 42\n",
       " 43"
      ]
     },
     "metadata": {},
     "output_type": "display_data"
    }
   ],
   "source": [
    "policy_time_sunny_hours = decision_time_sunny_hours .- first_forec_decision_time_hour .+ 1"
   ]
  },
  {
   "cell_type": "code",
   "execution_count": 146,
   "id": "196ecc1c",
   "metadata": {},
   "outputs": [
    {
     "data": {
      "text/plain": [
       "4-element Vector{Int64}:\n",
       "  8\n",
       "  9\n",
       " 10\n",
       " 11"
      ]
     },
     "metadata": {},
     "output_type": "display_data"
    }
   ],
   "source": [
    "\n",
    "# find the actuals sunny hours before and at the policy start\n",
    "kernel_actuals_policy_time_hours = policy_time_sunny_hours[policy_time_sunny_hours .<= policy_actuals_len]"
   ]
  },
  {
   "cell_type": "code",
   "execution_count": 147,
   "id": "fc867b26",
   "metadata": {},
   "outputs": [
    {
     "data": {
      "text/plain": [
       "4"
      ]
     },
     "metadata": {},
     "output_type": "display_data"
    }
   ],
   "source": [
    "policy_actuals_kernel_len = length(kernel_actuals_policy_time_hours)\n"
   ]
  },
  {
   "cell_type": "code",
   "execution_count": 148,
   "id": "8e0105c8",
   "metadata": {},
   "outputs": [
    {
     "data": {
      "text/plain": [
       "24"
      ]
     },
     "metadata": {},
     "output_type": "display_data"
    }
   ],
   "source": [
    "policy_lookahead_kernel_len = kernel_scenario_len - policy_actuals_kernel_len"
   ]
  },
  {
   "cell_type": "code",
   "execution_count": 149,
   "id": "88f84d98",
   "metadata": {},
   "outputs": [],
   "source": [
    "# initialize the matrix for the normal random variables for the calculation of Z\n",
    "W = Matrix{Float64}(undef, number_of_scen, kernel_scenario_len);\n",
    "# initialize the vector for the cumulative distribution function on Z\n",
    "cdf_Z_48 = zeros(scenario_len,1);\n",
    "\n",
    "# initialize the matrix for the scenarios\n",
    "Y = Matrix{Float64}(undef, number_of_scen, scenario_len);"
   ]
  },
  {
   "cell_type": "code",
   "execution_count": 150,
   "id": "a77b1563",
   "metadata": {},
   "outputs": [
    {
     "data": {
      "text/plain": [
       "1"
      ]
     },
     "metadata": {},
     "output_type": "display_data"
    }
   ],
   "source": [
    "nscen = 1"
   ]
  },
  {
   "cell_type": "code",
   "execution_count": 151,
   "id": "904a34f3",
   "metadata": {},
   "outputs": [
    {
     "data": {
      "text/plain": [
       "28-element Vector{Float64}:\n",
       "  8.672463046105e-312\n",
       "  4.0714792032809396e198\n",
       "  4.94e-322\n",
       "  4.94e-321\n",
       "  1.235e-321\n",
       "  1.0e-322\n",
       "  5.0e-324\n",
       "  1.6e-322\n",
       "  8.6721845164e-312\n",
       "  1.66737e-319\n",
       "  ⋮\n",
       "  1.6e-322\n",
       " -8.808408122717926e-105\n",
       "  4.94e-322\n",
       "  4.94e-321\n",
       "  1.235e-321\n",
       "  1.0e-322\n",
       "  6.83051471218891e110\n",
       "  1.6e-322\n",
       "  8.672184516557e-312"
      ]
     },
     "metadata": {},
     "output_type": "display_data"
    }
   ],
   "source": [
    "# nscen = 1\n",
    "# initialize\n",
    "array_actual_Z = Array{Float64}(undef, kernel_scenario_len)\n",
    "array_actual_phi = Array{Float64}(undef, kernel_scenario_len)\n",
    "\n",
    "# checks\n",
    "max_actual = Array{Float64}(undef, kernel_scenario_len)\n",
    "min_actual = Array{Float64}(undef, kernel_scenario_len)"
   ]
  },
  {
   "cell_type": "code",
   "execution_count": 152,
   "id": "2acbeeb6",
   "metadata": {},
   "outputs": [
    {
     "data": {
      "text/html": [
       "<div><div style = \"float: left;\"><span>DataFrameRow (99 columns)</span></div><div style = \"clear: both;\"></div></div><div class = \"data-frame\" style = \"overflow-x: scroll;\"><table class = \"data-frame\" style = \"margin-bottom: 6px;\"><thead><tr class = \"header\"><th class = \"rowLabel\" style = \"font-weight: bold; text-align: right;\">Row</th><th style = \"text-align: left;\">p_1</th><th style = \"text-align: left;\">p_2</th><th style = \"text-align: left;\">p_3</th><th style = \"text-align: left;\">p_4</th><th style = \"text-align: left;\">p_5</th><th style = \"text-align: left;\">p_6</th><th style = \"text-align: left;\">p_7</th><th style = \"text-align: left;\">p_8</th><th style = \"text-align: left;\">p_9</th><th style = \"text-align: left;\">p_10</th><th style = \"text-align: left;\">p_11</th><th style = \"text-align: left;\">p_12</th><th style = \"text-align: left;\">p_13</th><th style = \"text-align: left;\">p_14</th><th style = \"text-align: left;\">p_15</th><th style = \"text-align: left;\">p_16</th><th style = \"text-align: left;\">p_17</th><th style = \"text-align: left;\">p_18</th><th style = \"text-align: left;\">p_19</th><th style = \"text-align: left;\">p_20</th><th style = \"text-align: left;\">p_21</th><th style = \"text-align: left;\">p_22</th><th style = \"text-align: left;\">p_23</th><th style = \"text-align: left;\">p_24</th><th style = \"text-align: left;\">p_25</th><th style = \"text-align: left;\">p_26</th><th style = \"text-align: left;\">p_27</th><th style = \"text-align: left;\">p_28</th><th style = \"text-align: left;\">p_29</th><th style = \"text-align: left;\">p_30</th><th style = \"text-align: left;\">p_31</th><th style = \"text-align: left;\">p_32</th><th style = \"text-align: left;\">p_33</th><th style = \"text-align: left;\">p_34</th><th style = \"text-align: left;\">p_35</th><th style = \"text-align: left;\">p_36</th><th style = \"text-align: left;\">p_37</th><th style = \"text-align: left;\">p_38</th><th style = \"text-align: left;\">p_39</th><th style = \"text-align: left;\">p_40</th><th style = \"text-align: left;\">p_41</th><th style = \"text-align: left;\">p_42</th><th style = \"text-align: left;\">p_43</th><th style = \"text-align: left;\">p_44</th><th style = \"text-align: left;\">p_45</th><th style = \"text-align: left;\">p_46</th><th style = \"text-align: left;\">p_47</th><th style = \"text-align: left;\">p_48</th><th style = \"text-align: left;\">p_49</th><th style = \"text-align: left;\">p_50</th><th style = \"text-align: left;\">p_51</th><th style = \"text-align: left;\">p_52</th><th style = \"text-align: left;\">p_53</th><th style = \"text-align: left;\">p_54</th><th style = \"text-align: left;\">p_55</th><th style = \"text-align: left;\">p_56</th><th style = \"text-align: left;\">p_57</th><th style = \"text-align: left;\">p_58</th><th style = \"text-align: left;\">p_59</th><th style = \"text-align: left;\">p_60</th><th style = \"text-align: left;\">p_61</th><th style = \"text-align: left;\">p_62</th><th style = \"text-align: left;\">p_63</th><th style = \"text-align: left;\">p_64</th><th style = \"text-align: left;\">p_65</th><th style = \"text-align: left;\">p_66</th><th style = \"text-align: left;\">p_67</th><th style = \"text-align: left;\">p_68</th><th style = \"text-align: left;\">p_69</th><th style = \"text-align: left;\">p_70</th><th style = \"text-align: left;\">p_71</th><th style = \"text-align: left;\">p_72</th><th style = \"text-align: left;\">p_73</th><th style = \"text-align: left;\">p_74</th><th style = \"text-align: left;\">p_75</th><th style = \"text-align: left;\">p_76</th><th style = \"text-align: left;\">p_77</th><th style = \"text-align: left;\">p_78</th><th style = \"text-align: left;\">p_79</th><th style = \"text-align: left;\">p_80</th><th style = \"text-align: left;\">p_81</th><th style = \"text-align: left;\">p_82</th><th style = \"text-align: left;\">p_83</th><th style = \"text-align: left;\">p_84</th><th style = \"text-align: left;\">p_85</th><th style = \"text-align: left;\">p_86</th><th style = \"text-align: left;\">p_87</th><th style = \"text-align: left;\">p_88</th><th style = \"text-align: left;\">p_89</th><th style = \"text-align: left;\">p_90</th><th style = \"text-align: left;\">p_91</th><th style = \"text-align: left;\">p_92</th><th style = \"text-align: left;\">p_93</th><th style = \"text-align: left;\">p_94</th><th style = \"text-align: left;\">p_95</th><th style = \"text-align: left;\">p_96</th><th style = \"text-align: left;\">p_97</th><th style = \"text-align: left;\">p_98</th><th style = \"text-align: left;\">p_99</th></tr><tr class = \"subheader headerLastRow\"><th class = \"rowLabel\" style = \"font-weight: bold; text-align: right;\"></th><th title = \"Float64\" style = \"text-align: left;\">Float64</th><th title = \"Float64\" style = \"text-align: left;\">Float64</th><th title = \"Float64\" style = \"text-align: left;\">Float64</th><th title = \"Float64\" style = \"text-align: left;\">Float64</th><th title = \"Float64\" style = \"text-align: left;\">Float64</th><th title = \"Float64\" style = \"text-align: left;\">Float64</th><th title = \"Float64\" style = \"text-align: left;\">Float64</th><th title = \"Float64\" style = \"text-align: left;\">Float64</th><th title = \"Float64\" style = \"text-align: left;\">Float64</th><th title = \"Float64\" style = \"text-align: left;\">Float64</th><th title = \"Float64\" style = \"text-align: left;\">Float64</th><th title = \"Float64\" style = \"text-align: left;\">Float64</th><th title = \"Float64\" style = \"text-align: left;\">Float64</th><th title = \"Float64\" style = \"text-align: left;\">Float64</th><th title = \"Float64\" style = \"text-align: left;\">Float64</th><th title = \"Float64\" style = \"text-align: left;\">Float64</th><th title = \"Float64\" style = \"text-align: left;\">Float64</th><th title = \"Float64\" style = \"text-align: left;\">Float64</th><th title = \"Float64\" style = \"text-align: left;\">Float64</th><th title = \"Float64\" style = \"text-align: left;\">Float64</th><th title = \"Float64\" style = \"text-align: left;\">Float64</th><th title = \"Float64\" style = \"text-align: left;\">Float64</th><th title = \"Float64\" style = \"text-align: left;\">Float64</th><th title = \"Float64\" style = \"text-align: left;\">Float64</th><th title = \"Float64\" style = \"text-align: left;\">Float64</th><th title = \"Float64\" style = \"text-align: left;\">Float64</th><th title = \"Float64\" style = \"text-align: left;\">Float64</th><th title = \"Float64\" style = \"text-align: left;\">Float64</th><th title = \"Float64\" style = \"text-align: left;\">Float64</th><th title = \"Float64\" style = \"text-align: left;\">Float64</th><th title = \"Float64\" style = \"text-align: left;\">Float64</th><th title = \"Float64\" style = \"text-align: left;\">Float64</th><th title = \"Float64\" style = \"text-align: left;\">Float64</th><th title = \"Float64\" style = \"text-align: left;\">Float64</th><th title = \"Float64\" style = \"text-align: left;\">Float64</th><th title = \"Float64\" style = \"text-align: left;\">Float64</th><th title = \"Float64\" style = \"text-align: left;\">Float64</th><th title = \"Float64\" style = \"text-align: left;\">Float64</th><th title = \"Float64\" style = \"text-align: left;\">Float64</th><th title = \"Float64\" style = \"text-align: left;\">Float64</th><th title = \"Float64\" style = \"text-align: left;\">Float64</th><th title = \"Float64\" style = \"text-align: left;\">Float64</th><th title = \"Float64\" style = \"text-align: left;\">Float64</th><th title = \"Float64\" style = \"text-align: left;\">Float64</th><th title = \"Float64\" style = \"text-align: left;\">Float64</th><th title = \"Float64\" style = \"text-align: left;\">Float64</th><th title = \"Float64\" style = \"text-align: left;\">Float64</th><th title = \"Float64\" style = \"text-align: left;\">Float64</th><th title = \"Float64\" style = \"text-align: left;\">Float64</th><th title = \"Float64\" style = \"text-align: left;\">Float64</th><th title = \"Float64\" style = \"text-align: left;\">Float64</th><th title = \"Float64\" style = \"text-align: left;\">Float64</th><th title = \"Float64\" style = \"text-align: left;\">Float64</th><th title = \"Float64\" style = \"text-align: left;\">Float64</th><th title = \"Float64\" style = \"text-align: left;\">Float64</th><th title = \"Float64\" style = \"text-align: left;\">Float64</th><th title = \"Float64\" style = \"text-align: left;\">Float64</th><th title = \"Float64\" style = \"text-align: left;\">Float64</th><th title = \"Float64\" style = \"text-align: left;\">Float64</th><th title = \"Float64\" style = \"text-align: left;\">Float64</th><th title = \"Float64\" style = \"text-align: left;\">Float64</th><th title = \"Float64\" style = \"text-align: left;\">Float64</th><th title = \"Float64\" style = \"text-align: left;\">Float64</th><th title = \"Float64\" style = \"text-align: left;\">Float64</th><th title = \"Float64\" style = \"text-align: left;\">Float64</th><th title = \"Float64\" style = \"text-align: left;\">Float64</th><th title = \"Float64\" style = \"text-align: left;\">Float64</th><th title = \"Float64\" style = \"text-align: left;\">Float64</th><th title = \"Float64\" style = \"text-align: left;\">Float64</th><th title = \"Float64\" style = \"text-align: left;\">Float64</th><th title = \"Float64\" style = \"text-align: left;\">Float64</th><th title = \"Float64\" style = \"text-align: left;\">Float64</th><th title = \"Float64\" style = \"text-align: left;\">Float64</th><th title = \"Float64\" style = \"text-align: left;\">Float64</th><th title = \"Float64\" style = \"text-align: left;\">Float64</th><th title = \"Float64\" style = \"text-align: left;\">Float64</th><th title = \"Float64\" style = \"text-align: left;\">Float64</th><th title = \"Float64\" style = \"text-align: left;\">Float64</th><th title = \"Float64\" style = \"text-align: left;\">Float64</th><th title = \"Float64\" style = \"text-align: left;\">Float64</th><th title = \"Float64\" style = \"text-align: left;\">Float64</th><th title = \"Float64\" style = \"text-align: left;\">Float64</th><th title = \"Float64\" style = \"text-align: left;\">Float64</th><th title = \"Float64\" style = \"text-align: left;\">Float64</th><th title = \"Float64\" style = \"text-align: left;\">Float64</th><th title = \"Float64\" style = \"text-align: left;\">Float64</th><th title = \"Float64\" style = \"text-align: left;\">Float64</th><th title = \"Float64\" style = \"text-align: left;\">Float64</th><th title = \"Float64\" style = \"text-align: left;\">Float64</th><th title = \"Float64\" style = \"text-align: left;\">Float64</th><th title = \"Float64\" style = \"text-align: left;\">Float64</th><th title = \"Float64\" style = \"text-align: left;\">Float64</th><th title = \"Float64\" style = \"text-align: left;\">Float64</th><th title = \"Float64\" style = \"text-align: left;\">Float64</th><th title = \"Float64\" style = \"text-align: left;\">Float64</th><th title = \"Float64\" style = \"text-align: left;\">Float64</th><th title = \"Float64\" style = \"text-align: left;\">Float64</th><th title = \"Float64\" style = \"text-align: left;\">Float64</th><th title = \"Float64\" style = \"text-align: left;\">Float64</th></tr></thead><tbody><tr><td class = \"rowLabel\" style = \"font-weight: bold; text-align: right;\">1</td><td style = \"text-align: right;\">0.0</td><td style = \"text-align: right;\">0.0</td><td style = \"text-align: right;\">0.0</td><td style = \"text-align: right;\">0.0</td><td style = \"text-align: right;\">0.0</td><td style = \"text-align: right;\">0.0</td><td style = \"text-align: right;\">0.0</td><td style = \"text-align: right;\">0.0</td><td style = \"text-align: right;\">0.0</td><td style = \"text-align: right;\">0.0</td><td style = \"text-align: right;\">0.0</td><td style = \"text-align: right;\">0.0</td><td style = \"text-align: right;\">0.0</td><td style = \"text-align: right;\">0.0</td><td style = \"text-align: right;\">0.0</td><td style = \"text-align: right;\">0.0</td><td style = \"text-align: right;\">0.0</td><td style = \"text-align: right;\">0.0</td><td style = \"text-align: right;\">0.0</td><td style = \"text-align: right;\">0.0</td><td style = \"text-align: right;\">0.0</td><td style = \"text-align: right;\">0.0</td><td style = \"text-align: right;\">0.0</td><td style = \"text-align: right;\">0.0</td><td style = \"text-align: right;\">0.0</td><td style = \"text-align: right;\">0.0</td><td style = \"text-align: right;\">0.0</td><td style = \"text-align: right;\">0.0</td><td style = \"text-align: right;\">0.0</td><td style = \"text-align: right;\">0.0</td><td style = \"text-align: right;\">0.0</td><td style = \"text-align: right;\">0.0</td><td style = \"text-align: right;\">0.0</td><td style = \"text-align: right;\">0.0</td><td style = \"text-align: right;\">0.0</td><td style = \"text-align: right;\">0.0</td><td style = \"text-align: right;\">0.0</td><td style = \"text-align: right;\">0.0</td><td style = \"text-align: right;\">0.0</td><td style = \"text-align: right;\">0.0</td><td style = \"text-align: right;\">0.0</td><td style = \"text-align: right;\">0.0</td><td style = \"text-align: right;\">0.0</td><td style = \"text-align: right;\">0.0</td><td style = \"text-align: right;\">0.0</td><td style = \"text-align: right;\">0.0</td><td style = \"text-align: right;\">0.0</td><td style = \"text-align: right;\">0.0</td><td style = \"text-align: right;\">0.0</td><td style = \"text-align: right;\">0.0</td><td style = \"text-align: right;\">0.0</td><td style = \"text-align: right;\">0.0</td><td style = \"text-align: right;\">0.0</td><td style = \"text-align: right;\">0.0</td><td style = \"text-align: right;\">0.0</td><td style = \"text-align: right;\">0.0</td><td style = \"text-align: right;\">0.0</td><td style = \"text-align: right;\">0.0</td><td style = \"text-align: right;\">0.0</td><td style = \"text-align: right;\">0.0</td><td style = \"text-align: right;\">0.0</td><td style = \"text-align: right;\">0.0</td><td style = \"text-align: right;\">0.0</td><td style = \"text-align: right;\">0.0</td><td style = \"text-align: right;\">0.0</td><td style = \"text-align: right;\">0.0</td><td style = \"text-align: right;\">0.0</td><td style = \"text-align: right;\">0.0</td><td style = \"text-align: right;\">0.0</td><td style = \"text-align: right;\">0.0</td><td style = \"text-align: right;\">0.0</td><td style = \"text-align: right;\">0.0</td><td style = \"text-align: right;\">0.0</td><td style = \"text-align: right;\">0.0</td><td style = \"text-align: right;\">0.0</td><td style = \"text-align: right;\">0.0</td><td style = \"text-align: right;\">0.0</td><td style = \"text-align: right;\">0.0</td><td style = \"text-align: right;\">0.0</td><td style = \"text-align: right;\">0.0</td><td style = \"text-align: right;\">0.0</td><td style = \"text-align: right;\">0.0</td><td style = \"text-align: right;\">0.0</td><td style = \"text-align: right;\">0.0</td><td style = \"text-align: right;\">0.0</td><td style = \"text-align: right;\">0.0</td><td style = \"text-align: right;\">0.0</td><td style = \"text-align: right;\">0.0</td><td style = \"text-align: right;\">0.0</td><td style = \"text-align: right;\">0.0</td><td style = \"text-align: right;\">0.0</td><td style = \"text-align: right;\">0.0</td><td style = \"text-align: right;\">0.0</td><td style = \"text-align: right;\">0.0</td><td style = \"text-align: right;\">0.0</td><td style = \"text-align: right;\">0.0</td><td style = \"text-align: right;\">0.0</td><td style = \"text-align: right;\">0.0</td><td style = \"text-align: right;\">0.0</td></tr></tbody></table></div>"
      ],
      "text/latex": [
       "\\begin{tabular}{r|cccccccccc}\n",
       "\t& p\\_1 & p\\_2 & p\\_3 & p\\_4 & p\\_5 & p\\_6 & p\\_7 & p\\_8 & p\\_9 & \\\\\n",
       "\t\\hline\n",
       "\t& Float64 & Float64 & Float64 & Float64 & Float64 & Float64 & Float64 & Float64 & Float64 & \\\\\n",
       "\t\\hline\n",
       "\t1 & 0.0 & 0.0 & 0.0 & 0.0 & 0.0 & 0.0 & 0.0 & 0.0 & 0.0 & $\\dots$ \\\\\n",
       "\\end{tabular}\n"
      ],
      "text/plain": [
       "\u001b[1mDataFrameRow\u001b[0m\n",
       "\u001b[1m Row \u001b[0m│\u001b[1m p_1     \u001b[0m\u001b[1m p_2     \u001b[0m\u001b[1m p_3     \u001b[0m\u001b[1m p_4     \u001b[0m\u001b[1m p_5     \u001b[0m\u001b[1m p_6     \u001b[0m\u001b[1m p_7     \u001b[0m\u001b[1m p_8     \u001b[0m\u001b[1m\u001b[0m ⋯\n",
       "     │\u001b[90m Float64 \u001b[0m\u001b[90m Float64 \u001b[0m\u001b[90m Float64 \u001b[0m\u001b[90m Float64 \u001b[0m\u001b[90m Float64 \u001b[0m\u001b[90m Float64 \u001b[0m\u001b[90m Float64 \u001b[0m\u001b[90m Float64 \u001b[0m\u001b[90m\u001b[0m ⋯\n",
       "─────┼──────────────────────────────────────────────────────────────────────────\n",
       "   1 │     0.0      0.0      0.0      0.0      0.0      0.0      0.0      0.0  ⋯\n",
       "\u001b[36m                                                              91 columns omitted\u001b[0m"
      ]
     },
     "metadata": {},
     "output_type": "display_data"
    }
   ],
   "source": [
    "k = 1\n",
    "current_marginals_dist = current_marginals[k, percentile_column_index]\n"
   ]
  },
  {
   "cell_type": "code",
   "execution_count": 153,
   "id": "044006df",
   "metadata": {},
   "outputs": [
    {
     "data": {
      "text/plain": [
       "99-element Vector{Float64}:\n",
       " 0.0\n",
       " 0.0\n",
       " 0.0\n",
       " 0.0\n",
       " 0.0\n",
       " 0.0\n",
       " 0.0\n",
       " 0.0\n",
       " 0.0\n",
       " 0.0\n",
       " ⋮\n",
       " 0.0\n",
       " 0.0\n",
       " 0.0\n",
       " 0.0\n",
       " 0.0\n",
       " 0.0\n",
       " 0.0\n",
       " 0.0\n",
       " 0.0"
      ]
     },
     "metadata": {},
     "output_type": "display_data"
    }
   ],
   "source": [
    "vec_current_marginals_dist = collect(current_marginals_dist)\n"
   ]
  },
  {
   "cell_type": "code",
   "execution_count": 154,
   "id": "719c0139",
   "metadata": {},
   "outputs": [
    {
     "data": {
      "text/plain": [
       "ECDF{Vector{Float64}, Weights{Float64, Float64, Vector{Float64}}}([0.0, 0.0, 0.0, 0.0, 0.0, 0.0, 0.0, 0.0, 0.0, 0.0  …  0.0, 0.0, 0.0, 0.0, 0.0, 0.0, 0.0, 0.0, 0.0, 0.0], Float64[])"
      ]
     },
     "metadata": {},
     "output_type": "display_data"
    }
   ],
   "source": [
    "ecdf_actuals = ecdf(vec_current_marginals_dist)\n"
   ]
  },
  {
   "cell_type": "code",
   "execution_count": 155,
   "id": "b1148e50",
   "metadata": {},
   "outputs": [
    {
     "data": {
      "text/plain": [
       "1.0"
      ]
     },
     "metadata": {},
     "output_type": "display_data"
    }
   ],
   "source": [
    "actual_lp_via_md = ecdf_actuals(current_marginals[k,:avg_actual])\n"
   ]
  },
  {
   "cell_type": "code",
   "execution_count": 156,
   "id": "66265c68",
   "metadata": {},
   "outputs": [
    {
     "data": {
      "text/plain": [
       "0.99"
      ]
     },
     "metadata": {},
     "output_type": "display_data"
    }
   ],
   "source": [
    "if actual_lp_via_md  == 1\n",
    "    actual_lp_via_md  = 0.99\n",
    "elseif actual_lp_via_md  == 0\n",
    "    actual_lp_via_md  = 0.01\n",
    "end\n"
   ]
  },
  {
   "cell_type": "code",
   "execution_count": 157,
   "id": "559cfcd4",
   "metadata": {},
   "outputs": [
    {
     "data": {
      "text/plain": [
       "2.326347874040846"
      ]
     },
     "metadata": {},
     "output_type": "display_data"
    }
   ],
   "source": [
    "\n",
    "# take inverse\n",
    "actual_Z_via_md = quantile(d_norm, actual_lp_via_md)\n"
   ]
  },
  {
   "cell_type": "code",
   "execution_count": 158,
   "id": "6d9465ee",
   "metadata": {},
   "outputs": [
    {
     "data": {
      "text/plain": [
       "2.326347874040846"
      ]
     },
     "metadata": {},
     "output_type": "display_data"
    }
   ],
   "source": [
    "\n",
    "array_actual_Z[k] = actual_Z_via_md"
   ]
  },
  {
   "cell_type": "code",
   "execution_count": 159,
   "id": "1bc67060",
   "metadata": {},
   "outputs": [],
   "source": [
    "for k in 1:kernel_scenario_len\n",
    "    current_marginals_dist = current_marginals[k, percentile_column_index]\n",
    "    vec_current_marginals_dist = collect(current_marginals_dist)\n",
    "    ecdf_actuals = ecdf(vec_current_marginals_dist)\n",
    "\n",
    "    actual_lp_via_md = ecdf_actuals(current_marginals[k,:avg_actual])\n",
    "    if actual_lp_via_md  == 1\n",
    "        actual_lp_via_md  = 0.99\n",
    "    elseif actual_lp_via_md  == 0\n",
    "        actual_lp_via_md  = 0.01\n",
    "    end\n",
    "    \n",
    "    # take inverse\n",
    "    actual_Z_via_md = quantile(d_norm, actual_lp_via_md)\n",
    "\n",
    "    array_actual_Z[k] = actual_Z_via_md\n",
    "end"
   ]
  },
  {
   "cell_type": "code",
   "execution_count": 160,
   "id": "feeb688f",
   "metadata": {},
   "outputs": [
    {
     "data": {
      "text/plain": [
       "15-element Vector{Float64}:\n",
       "  2.326347874040846\n",
       "  2.326347874040846\n",
       "  1.1202053547494895\n",
       "  0.6665642591979043\n",
       "  0.6045853465832374\n",
       "  0.9084578685373853\n",
       "  1.3996566480498194\n",
       "  0.5744599931693579\n",
       "  1.2206403488473494\n",
       " -0.24290265588608947\n",
       " -1.1202053547494892\n",
       "  2.326347874040846\n",
       "  2.326347874040846\n",
       "  2.326347874040846\n",
       "  2.326347874040846"
      ]
     },
     "metadata": {},
     "output_type": "display_data"
    }
   ],
   "source": [
    "array_actual_Z[8:22]"
   ]
  },
  {
   "cell_type": "code",
   "execution_count": 161,
   "id": "a21d78fc",
   "metadata": {},
   "outputs": [
    {
     "data": {
      "text/plain": [
       "28-element Vector{Float64}:\n",
       "  2.326347874040846\n",
       "  1.8248776612177462\n",
       "  1.8057494888673276\n",
       "  1.2030395945465042\n",
       "  1.3148955570374243\n",
       "  1.1209799808535352\n",
       "  1.5698489009313792\n",
       "  0.9648945256766468\n",
       "  0.8025971028728303\n",
       " -0.2795554657954107\n",
       "  ⋮\n",
       "  1.5162136797029055\n",
       "  1.7253193111650404\n",
       "  1.0346537575644064\n",
       "  1.1150375745530958\n",
       "  0.7867769102808666\n",
       "  2.0758373838957014\n",
       "  3.1586238914502456\n",
       "  4.425536291655851\n",
       "  4.227241297095139"
      ]
     },
     "metadata": {},
     "output_type": "display_data"
    }
   ],
   "source": [
    "W_from_actuals = inv(M) * array_actual_Z"
   ]
  },
  {
   "cell_type": "code",
   "execution_count": 162,
   "id": "cd4e8131",
   "metadata": {},
   "outputs": [
    {
     "data": {
      "text/plain": [
       "4-element Vector{Float64}:\n",
       " 2.326347874040846\n",
       " 1.8248776612177462\n",
       " 1.8057494888673276\n",
       " 1.2030395945465042"
      ]
     },
     "metadata": {},
     "output_type": "display_data"
    }
   ],
   "source": [
    "# set the historical landing probabilities in the first columns of W\n",
    "# W[nscen, 1:policy_actuals_len] = historical_lp; # XXX wrong\n",
    "W[nscen, 1:policy_actuals_kernel_len] = W_from_actuals[1:policy_actuals_kernel_len]\n",
    "\n"
   ]
  },
  {
   "cell_type": "code",
   "execution_count": 163,
   "id": "86898db3",
   "metadata": {},
   "outputs": [
    {
     "data": {
      "text/plain": [
       "24-element Vector{Float64}:\n",
       " -1.4680175595540228\n",
       " -0.41324194560452254\n",
       "  0.8393366221167892\n",
       "  0.4133421496068428\n",
       " -0.9869422400282055\n",
       " -1.503935416515616\n",
       "  0.6164765867976383\n",
       " -1.4079885254089328\n",
       " -0.28810645534662177\n",
       "  0.39900545762013\n",
       "  ⋮\n",
       " -0.8465877220141987\n",
       "  2.5436719561116754\n",
       "  0.07584399073885822\n",
       " -0.1460982446438876\n",
       " -1.9885871296765367\n",
       " -0.9151627050611479\n",
       "  0.7048468838819091\n",
       "  0.7180325815727617\n",
       " -0.015422794885103095"
      ]
     },
     "metadata": {},
     "output_type": "display_data"
    }
   ],
   "source": [
    "# W_upd = rand(d, solar_policy_forecast_length); # policy_forecast_length\n",
    "# the rest of the columns are filled with random numbers\n",
    "W_upd = rand(d_norm, policy_lookahead_kernel_len)"
   ]
  },
  {
   "cell_type": "code",
   "execution_count": 164,
   "id": "bb726d01",
   "metadata": {},
   "outputs": [
    {
     "data": {
      "text/plain": [
       "24-element Vector{Float64}:\n",
       " -1.4680175595540228\n",
       " -0.41324194560452254\n",
       "  0.8393366221167892\n",
       "  0.4133421496068428\n",
       " -0.9869422400282055\n",
       " -1.503935416515616\n",
       "  0.6164765867976383\n",
       " -1.4079885254089328\n",
       " -0.28810645534662177\n",
       "  0.39900545762013\n",
       "  ⋮\n",
       " -0.8465877220141987\n",
       "  2.5436719561116754\n",
       "  0.07584399073885822\n",
       " -0.1460982446438876\n",
       " -1.9885871296765367\n",
       " -0.9151627050611479\n",
       "  0.7048468838819091\n",
       "  0.7180325815727617\n",
       " -0.015422794885103095"
      ]
     },
     "metadata": {},
     "output_type": "display_data"
    }
   ],
   "source": [
    "# W[nscen, solar_policy_actuals_len+1:end] = W_upd; # policy_actuals_len\n",
    "W[nscen, policy_actuals_kernel_len+1:end] = W_upd"
   ]
  },
  {
   "cell_type": "code",
   "execution_count": 165,
   "id": "b4a002f6",
   "metadata": {},
   "outputs": [
    {
     "data": {
      "text/plain": [
       "28-element Vector{Float64}:\n",
       "  2.326347874040846\n",
       "  1.8248776612177462\n",
       "  1.8057494888673276\n",
       "  1.2030395945465042\n",
       " -1.4680175595540228\n",
       " -0.41324194560452254\n",
       "  0.8393366221167892\n",
       "  0.4133421496068428\n",
       " -0.9869422400282055\n",
       " -1.503935416515616\n",
       "  ⋮\n",
       " -0.8465877220141987\n",
       "  2.5436719561116754\n",
       "  0.07584399073885822\n",
       " -0.1460982446438876\n",
       " -1.9885871296765367\n",
       " -0.9151627050611479\n",
       "  0.7048468838819091\n",
       "  0.7180325815727617\n",
       " -0.015422794885103095"
      ]
     },
     "metadata": {},
     "output_type": "display_data"
    }
   ],
   "source": [
    "\n",
    "W_lookahead = W[nscen, :]"
   ]
  },
  {
   "cell_type": "code",
   "execution_count": 166,
   "id": "b173a4d1",
   "metadata": {},
   "outputs": [
    {
     "data": {
      "text/plain": [
       "28-element Vector{Float64}:\n",
       "  2.326347874040846\n",
       "  2.326347874040846\n",
       "  2.326347874040846\n",
       "  2.326347874040846\n",
       "  0.24538716026551977\n",
       "  0.1812727567178719\n",
       "  0.780310814457647\n",
       "  0.7862437807026101\n",
       " -0.43413845902053033\n",
       " -1.2975810489591948\n",
       "  ⋮\n",
       " -2.3473491844496404\n",
       "  0.6493089458630084\n",
       "  0.08053385460441481\n",
       " -0.4435424847283518\n",
       " -1.7959663924735283\n",
       " -1.9332740517296738\n",
       " -1.1541395688241038\n",
       "  0.6521381755443918\n",
       "  1.7666600080641492"
      ]
     },
     "metadata": {},
     "output_type": "display_data"
    }
   ],
   "source": [
    "\n",
    "Z = M * W_lookahead"
   ]
  },
  {
   "cell_type": "code",
   "execution_count": 167,
   "id": "d5b147a2",
   "metadata": {},
   "outputs": [
    {
     "data": {
      "text/plain": [
       "28-element Vector{Float64}:\n",
       " 0.9900000000000001\n",
       " 0.9900000000000001\n",
       " 0.9900000000000001\n",
       " 0.9900000000000001\n",
       " 0.5969216651105778\n",
       " 0.5719232556246292\n",
       " 0.7823960255836132\n",
       " 0.7841376592045857\n",
       " 0.3320939495540039\n",
       " 0.09721566887479494\n",
       " ⋮\n",
       " 0.009453762953377005\n",
       " 0.7419306476919846\n",
       " 0.532093664206159\n",
       " 0.3286866983213065\n",
       " 0.03624993106680151\n",
       " 0.026601223297464234\n",
       " 0.1242214766241585\n",
       " 0.7428439806086118\n",
       " 0.9613574076388969"
      ]
     },
     "metadata": {},
     "output_type": "display_data"
    }
   ],
   "source": [
    "\n",
    "cdf_Z_base = cdf.(d_norm, Z)"
   ]
  },
  {
   "cell_type": "code",
   "execution_count": 168,
   "id": "ad8cfb19",
   "metadata": {},
   "outputs": [
    {
     "ename": "DimensionMismatch",
     "evalue": "DimensionMismatch: tried to assign 28 elements to 24 destinations",
     "output_type": "error",
     "traceback": [
      "DimensionMismatch: tried to assign 28 elements to 24 destinations\n",
      "\n",
      "Stacktrace:\n",
      " [1] throw_setindex_mismatch(X::Vector{Float64}, I::Tuple{Int64})\n",
      "   @ Base .\\indices.jl:191\n",
      " [2] setindex_shape_check\n",
      "   @ .\\indices.jl:245 [inlined]\n",
      " [3] setindex!(A::Matrix{Float64}, X::Vector{Float64}, I::Vector{Int64})\n",
      "   @ Base .\\array.jl:976\n",
      " [4] top-level scope\n",
      "   @ c:\\Users\\ks885\\Documents\\aa_research\\Modeling\\spcm_genx_experiment\\SPCM\\src\\scenario_generation\\sequential_norta\\test\\jl_notebook_cell_df34fa98e69747e1a8f8a730347b8e2f_Y104sZmlsZQ==.jl:3"
     ]
    }
   ],
   "source": [
    "\n",
    "# model_sunny_indices = lookahead_sunny_indices[policy_actuals_len+1:end];\n",
    "cdf_Z_48[policy_time_sunny_hours] = cdf_Z_base\n"
   ]
  }
 ],
 "metadata": {
  "kernelspec": {
   "display_name": "Julia 1.9.4",
   "language": "julia",
   "name": "julia-1.9"
  },
  "language_info": {
   "file_extension": ".jl",
   "mimetype": "application/julia",
   "name": "julia",
   "version": "1.9.4"
  }
 },
 "nbformat": 4,
 "nbformat_minor": 5
}
