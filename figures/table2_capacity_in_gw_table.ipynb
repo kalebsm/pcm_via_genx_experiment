{
 "cells": [
  {
   "cell_type": "code",
   "execution_count": 46,
   "id": "525c7f8a",
   "metadata": {},
   "outputs": [],
   "source": [
    "import pandas as pd\n",
    "import numpy as np\n",
    "import seaborn as sb\n",
    "import datetime\n",
    "import os\n",
    "import sys\n",
    "from get_unique_resources_data import get_unique_resources_data\n",
    "from get_printable_resource_names import get_printable_resource_names\n",
    "import matplotlib.pyplot as plt"
   ]
  },
  {
   "cell_type": "code",
   "execution_count": 47,
   "id": "cfa0fe7b",
   "metadata": {},
   "outputs": [
    {
     "name": "stdout",
     "output_type": "stream",
     "text": [
      "c:\\Users\\ks885\\Documents\\aa_research\\Modeling\\spcm_genx_experiment\\figures\n"
     ]
    }
   ],
   "source": [
    "case_names = [    \n",
    "              \"Thermal_Base\",\n",
    "              \"2_Hr_BESS\", \n",
    "              \"2_Hr_BESS_Fuelx2\",\n",
    "              \"4_Hr_BESS\",\n",
    "              \"4_Hr_BESS_Fuelx2\",\n",
    "              \"4_Hr_BESS_Fuelx3\",\n",
    "              \"4_Hr_BESS_Fuelx4\",\n",
    "              \"6_Hr_BESS\",\n",
    "              \"6_Hr_BESS_Fuelx2\",\n",
    "              \"8_Hr_BESS\",\n",
    "              \"8_Hr_BESS_Fuelx2\",\n",
    "              \"10_Hr_BESS\",\n",
    "              \"10_Hr_BESS_Fuelx2\",\n",
    "              ]\n",
    "\n",
    "current_dir = os.getcwd()\n",
    "print(current_dir)\n",
    "\n",
    "plots_path = os.path.join(current_dir, 'plots') + \"/\"\n",
    "tables_path = os.path.join(current_dir, 'tables') + \"/\"\n",
    "latex_path = os.path.join(current_dir, 'latex') + \"/\"\n",
    "if not os.path.exists(plots_path):\n",
    "    os.makedirs(plots_path)\n",
    "if not os.path.exists(tables_path):\n",
    "    os.makedirs(tables_path)\n",
    "if not os.path.exists(latex_path):\n",
    "    os.makedirs(latex_path)\n",
    "\n",
    "\n",
    "cem_path = os.path.join(os.path.dirname(current_dir), 'GenX.jl', 'research_systems')\n",
    "policies_path = os.path.join(os.path.dirname(current_dir), 'SPCM', 'research_systems')\n",
    "\n",
    "date = datetime.datetime.now().strftime(\"%Y-%m-%d_%H-%M-%S\")"
   ]
  },
  {
   "cell_type": "code",
   "execution_count": 48,
   "id": "e4ea573c",
   "metadata": {},
   "outputs": [
    {
     "name": "stdout",
     "output_type": "stream",
     "text": [
      "adding resource: NG 2-on-1 Combined Cycle (F-Frame) from case: Thermal_Base\n",
      "adding resource: NG Combustion Turbine (F-Frame) from case: Thermal_Base\n",
      "adding resource: Land-Based Wind - Class 1 - Technology 1 from case: Thermal_Base\n",
      "adding resource: Utility PV - Class 1 from case: Thermal_Base\n",
      "adding resource: Utility-Scale Battery Storage - 2Hr from case: 2_Hr_BESS\n",
      "adding resource: Utility-Scale Battery Storage - 4Hr from case: 4_Hr_BESS\n",
      "adding resource: Utility-Scale Battery Storage - 6Hr from case: 6_Hr_BESS\n",
      "adding resource: Utility-Scale Battery Storage - 8Hr from case: 8_Hr_BESS\n",
      "adding resource: Utility-Scale Battery Storage - 10Hr from case: 10_Hr_BESS\n"
     ]
    }
   ],
   "source": [
    "# get unique generator names\n",
    "unique_resources, cases_resources_capacities = get_unique_resources_data(case_names, policies_path)\n"
   ]
  },
  {
   "cell_type": "code",
   "execution_count": 49,
   "id": "951cc6aa",
   "metadata": {},
   "outputs": [],
   "source": [
    "cases_resources_capacities_table = get_printable_resource_names(cases_resources_capacities)\n",
    "# unique_resources_printable = get_printable_resource_names(unique_resources)"
   ]
  },
  {
   "cell_type": "code",
   "execution_count": 50,
   "id": "b1101283",
   "metadata": {},
   "outputs": [],
   "source": [
    "# Get the columns that start with 'BESS'\n",
    "bess_columns = [col for col in cases_resources_capacities_table.columns if col.startswith('BESS')]\n",
    "\n",
    "# Create a temporary vector to hold the maximum values of the BESS columns\n",
    "bess_capacities = cases_resources_capacities_table[bess_columns].max(axis=1)\n",
    "\n",
    "# Drop the original BESS columns\n",
    "cases_resources_capacities_table_all = cases_resources_capacities_table.drop(columns=bess_columns)\n",
    "\n",
    "# add the maximum BESS capacities to the table\n",
    "cases_resources_capacities_table_all['BESS'] = bess_capacities\n",
    "\n"
   ]
  },
  {
   "cell_type": "code",
   "execution_count": 51,
   "id": "db555011",
   "metadata": {},
   "outputs": [],
   "source": [
    "# Round the values in the table to zero decimal places and convert to integers\n",
    "cases_resources_capacities_table_rounded = cases_resources_capacities_table_all.copy()\n",
    "columns_to_round = [col for col in cases_resources_capacities_table_rounded.columns if col != 'Case Name']\n",
    "cases_resources_capacities_table_rounded[columns_to_round] = cases_resources_capacities_table_rounded[columns_to_round].round(0).astype(int)"
   ]
  },
  {
   "cell_type": "code",
   "execution_count": 52,
   "id": "9c9ccbf8",
   "metadata": {},
   "outputs": [],
   "source": [
    "# save the table to a csv file in tables_path, and latex format in latex_path\n",
    "cases_resources_capacities_table_rounded.to_csv(os.path.join(tables_path, 'table2_capacity_in_gw.csv'), index=False)\n",
    "cases_resources_capacities_table_rounded.to_latex(os.path.join(latex_path, 'table2_capacity_in_gw.tex'), index=False, escape=False)"
   ]
  }
 ],
 "metadata": {
  "kernelspec": {
   "display_name": "base",
   "language": "python",
   "name": "python3"
  },
  "language_info": {
   "codemirror_mode": {
    "name": "ipython",
    "version": 3
   },
   "file_extension": ".py",
   "mimetype": "text/x-python",
   "name": "python",
   "nbconvert_exporter": "python",
   "pygments_lexer": "ipython3",
   "version": "3.11.11"
  }
 },
 "nbformat": 4,
 "nbformat_minor": 5
}
