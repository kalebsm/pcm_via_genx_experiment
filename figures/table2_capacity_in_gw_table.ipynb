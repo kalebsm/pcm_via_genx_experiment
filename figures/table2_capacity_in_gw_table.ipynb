{
 "cells": [
  {
   "cell_type": "code",
   "execution_count": 1,
   "id": "525c7f8a",
   "metadata": {
    "execution": {
     "iopub.execute_input": "2025-07-25T15:09:31.789515Z",
     "iopub.status.busy": "2025-07-25T15:09:31.788516Z",
     "iopub.status.idle": "2025-07-25T15:09:32.920437Z",
     "shell.execute_reply": "2025-07-25T15:09:32.920437Z"
    }
   },
   "outputs": [],
   "source": [
    "import pandas as pd\n",
    "import numpy as np\n",
    "import seaborn as sb\n",
    "import datetime\n",
    "import os\n",
    "import sys\n",
    "from get_unique_resources_data import get_unique_resources_data\n",
    "from get_printable_resource_names import get_printable_resource_names\n",
    "import matplotlib.pyplot as plt"
   ]
  },
  {
   "cell_type": "code",
   "execution_count": 2,
   "id": "cfa0fe7b",
   "metadata": {
    "execution": {
     "iopub.execute_input": "2025-07-25T15:09:32.922464Z",
     "iopub.status.busy": "2025-07-25T15:09:32.922464Z",
     "iopub.status.idle": "2025-07-25T15:09:32.927680Z",
     "shell.execute_reply": "2025-07-25T15:09:32.927680Z"
    }
   },
   "outputs": [
    {
     "name": "stdout",
     "output_type": "stream",
     "text": [
      "C:\\Users\\ks885\\Documents\\aa_research\\Modeling\\spcm_genx_experiment\\figures\n"
     ]
    }
   ],
   "source": [
    "case_names = [    \n",
    "              \"Thermal_Base\",\n",
    "              \"2_Hr_BESS\", \n",
    "              \"2_Hr_BESS_Fuelx2\",\n",
    "              \"4_Hr_BESS\",\n",
    "              \"4_Hr_BESS_Fuelx2\",\n",
    "              \"4_Hr_BESS_Fuelx3\",\n",
    "              \"4_Hr_BESS_Fuelx4\",\n",
    "              \"6_Hr_BESS\",\n",
    "              \"6_Hr_BESS_Fuelx2\",\n",
    "              \"8_Hr_BESS\",\n",
    "              \"8_Hr_BESS_Fuelx2\",\n",
    "              \"10_Hr_BESS\",\n",
    "              \"10_Hr_BESS_Fuelx2\",\n",
    "              ]\n",
    "\n",
    "current_dir = os.getcwd()\n",
    "print(current_dir)\n",
    "\n",
    "plots_path = os.path.join(current_dir, 'plots') + \"/\"\n",
    "csv_path = os.path.join(current_dir, 'csv') + \"/\"\n",
    "latex_path = os.path.join(current_dir, 'latex') + \"/\"\n",
    "if not os.path.exists(plots_path):\n",
    "    os.makedirs(plots_path)\n",
    "if not os.path.exists(csv_path):\n",
    "    os.makedirs(csv_path)\n",
    "if not os.path.exists(latex_path):\n",
    "    os.makedirs(latex_path)\n",
    "\n",
    "\n",
    "cem_path = os.path.join(os.path.dirname(current_dir), 'GenX.jl', 'research_systems')\n",
    "policies_path = os.path.join(os.path.dirname(current_dir), 'SPCM', 'research_systems')\n",
    "\n",
    "date = datetime.datetime.now().strftime(\"%Y-%m-%d_%H-%M-%S\")"
   ]
  },
  {
   "cell_type": "code",
   "execution_count": 3,
   "id": "e4ea573c",
   "metadata": {
    "execution": {
     "iopub.execute_input": "2025-07-25T15:09:32.929717Z",
     "iopub.status.busy": "2025-07-25T15:09:32.929717Z",
     "iopub.status.idle": "2025-07-25T15:09:33.062968Z",
     "shell.execute_reply": "2025-07-25T15:09:33.062343Z"
    }
   },
   "outputs": [
    {
     "name": "stdout",
     "output_type": "stream",
     "text": [
      "adding resource: NG 2-on-1 Combined Cycle (F-Frame) from case: Thermal_Base\n",
      "adding resource: NG Combustion Turbine (F-Frame) from case: Thermal_Base\n",
      "adding resource: Land-Based Wind - Class 1 - Technology 1 from case: Thermal_Base\n",
      "adding resource: Utility PV - Class 1 from case: Thermal_Base\n",
      "adding resource: Utility-Scale Battery Storage - 2Hr from case: 2_Hr_BESS\n",
      "adding resource: Utility-Scale Battery Storage - 4Hr from case: 4_Hr_BESS\n",
      "adding resource: Utility-Scale Battery Storage - 6Hr from case: 6_Hr_BESS\n",
      "adding resource: Utility-Scale Battery Storage - 8Hr from case: 8_Hr_BESS\n",
      "adding resource: Utility-Scale Battery Storage - 10Hr from case: 10_Hr_BESS\n"
     ]
    }
   ],
   "source": [
    "# get unique generator names\n",
    "unique_resources, cases_resources_capacities = get_unique_resources_data(case_names, policies_path)\n"
   ]
  },
  {
   "cell_type": "code",
   "execution_count": 4,
   "id": "039561a1",
   "metadata": {
    "execution": {
     "iopub.execute_input": "2025-07-25T15:09:33.064993Z",
     "iopub.status.busy": "2025-07-25T15:09:33.063967Z",
     "iopub.status.idle": "2025-07-25T15:09:33.069315Z",
     "shell.execute_reply": "2025-07-25T15:09:33.069315Z"
    }
   },
   "outputs": [
    {
     "data": {
      "text/plain": [
       "['NG 2-on-1 Combined Cycle (F-Frame)',\n",
       " 'NG Combustion Turbine (F-Frame)',\n",
       " 'Land-Based Wind - Class 1 - Technology 1',\n",
       " 'Utility PV - Class 1',\n",
       " 'Utility-Scale Battery Storage - 2Hr',\n",
       " 'Utility-Scale Battery Storage - 4Hr',\n",
       " 'Utility-Scale Battery Storage - 6Hr',\n",
       " 'Utility-Scale Battery Storage - 8Hr',\n",
       " 'Utility-Scale Battery Storage - 10Hr']"
      ]
     },
     "execution_count": 4,
     "metadata": {},
     "output_type": "execute_result"
    }
   ],
   "source": [
    "unique_resources"
   ]
  },
  {
   "cell_type": "code",
   "execution_count": 5,
   "id": "951cc6aa",
   "metadata": {
    "execution": {
     "iopub.execute_input": "2025-07-25T15:09:33.071312Z",
     "iopub.status.busy": "2025-07-25T15:09:33.071312Z",
     "iopub.status.idle": "2025-07-25T15:09:33.073725Z",
     "shell.execute_reply": "2025-07-25T15:09:33.073725Z"
    }
   },
   "outputs": [],
   "source": [
    "cases_resources_capacities_table = get_printable_resource_names(cases_resources_capacities)\n",
    "# unique_resources_printable = get_printable_resource_names(unique_resources)"
   ]
  },
  {
   "cell_type": "code",
   "execution_count": 6,
   "id": "b1101283",
   "metadata": {
    "execution": {
     "iopub.execute_input": "2025-07-25T15:09:33.075724Z",
     "iopub.status.busy": "2025-07-25T15:09:33.075724Z",
     "iopub.status.idle": "2025-07-25T15:09:33.079803Z",
     "shell.execute_reply": "2025-07-25T15:09:33.079803Z"
    }
   },
   "outputs": [],
   "source": [
    "# Get the columns that start with 'BESS'\n",
    "bess_columns = [col for col in cases_resources_capacities_table.columns if col.startswith('BESS')]\n",
    "\n",
    "# Create a temporary vector to hold the maximum values of the BESS columns\n",
    "bess_capacities = cases_resources_capacities_table[bess_columns].max(axis=1)\n",
    "\n",
    "# Drop the original BESS columns\n",
    "cases_resources_capacities_table_all = cases_resources_capacities_table.drop(columns=bess_columns)\n",
    "\n",
    "# add the maximum BESS capacities to the table\n",
    "cases_resources_capacities_table_all['BESS'] = bess_capacities\n",
    "\n"
   ]
  },
  {
   "cell_type": "code",
   "execution_count": 7,
   "id": "65b39956",
   "metadata": {
    "execution": {
     "iopub.execute_input": "2025-07-25T15:09:33.081801Z",
     "iopub.status.busy": "2025-07-25T15:09:33.081801Z",
     "iopub.status.idle": "2025-07-25T15:09:33.092643Z",
     "shell.execute_reply": "2025-07-25T15:09:33.092643Z"
    }
   },
   "outputs": [],
   "source": [
    "# Calculate the fraction of each resource for each case\n",
    "fractions = cases_resources_capacities_table_all.copy()\n",
    "resource_cols = [col for col in fractions.columns if col != 'Case Name']\n",
    "fractions_total = fractions[resource_cols].sum(axis=1)\n",
    "for col in resource_cols:\n",
    "    fractions[col] = fractions[col] / fractions_total\n",
    "fractions['Total'] = fractions[resource_cols].sum(axis=1)  # should be 1.0 for each row\n",
    "# print to csv\n",
    "fractions.to_csv(os.path.join(csv_path, 'table2b_capacity_in_percentage_float.csv'), index=False)\n",
    "# convert numbers to percentages and remove decimal places and add a percent sign\n",
    "fractions_percentage = fractions.copy()\n",
    "fractions_percentage[resource_cols] = fractions_percentage[resource_cols].applymap(lambda x: f\"{int(round(x * 100, 0))}%\")\n",
    "# print percentage to csv\n",
    "fractions_percentage.to_csv(os.path.join(csv_path, 'table2b_capacity_in_percentage_str.csv'), index=False)\n"
   ]
  },
  {
   "cell_type": "code",
   "execution_count": 8,
   "id": "db555011",
   "metadata": {
    "execution": {
     "iopub.execute_input": "2025-07-25T15:09:33.094639Z",
     "iopub.status.busy": "2025-07-25T15:09:33.094639Z",
     "iopub.status.idle": "2025-07-25T15:09:33.098437Z",
     "shell.execute_reply": "2025-07-25T15:09:33.098437Z"
    }
   },
   "outputs": [],
   "source": [
    "# Round the values in the table to zero decimal places and convert to integers\n",
    "cases_resources_capacities_table_rounded = cases_resources_capacities_table_all.copy()\n",
    "columns_to_round = [col for col in cases_resources_capacities_table_rounded.columns if col != 'Case Name']\n",
    "cases_resources_capacities_table_rounded[columns_to_round] = cases_resources_capacities_table_rounded[columns_to_round].round(0).astype(int)"
   ]
  },
  {
   "cell_type": "code",
   "execution_count": 9,
   "id": "ca935453",
   "metadata": {
    "execution": {
     "iopub.execute_input": "2025-07-25T15:09:33.100433Z",
     "iopub.status.busy": "2025-07-25T15:09:33.100433Z",
     "iopub.status.idle": "2025-07-25T15:09:33.108465Z",
     "shell.execute_reply": "2025-07-25T15:09:33.108465Z"
    }
   },
   "outputs": [
    {
     "data": {
      "text/html": [
       "<div>\n",
       "<style scoped>\n",
       "    .dataframe tbody tr th:only-of-type {\n",
       "        vertical-align: middle;\n",
       "    }\n",
       "\n",
       "    .dataframe tbody tr th {\n",
       "        vertical-align: top;\n",
       "    }\n",
       "\n",
       "    .dataframe thead th {\n",
       "        text-align: right;\n",
       "    }\n",
       "</style>\n",
       "<table border=\"1\" class=\"dataframe\">\n",
       "  <thead>\n",
       "    <tr style=\"text-align: right;\">\n",
       "      <th></th>\n",
       "      <th>Case Name</th>\n",
       "      <th>NG CC</th>\n",
       "      <th>NG CT</th>\n",
       "      <th>Wind</th>\n",
       "      <th>Solar</th>\n",
       "      <th>BESS</th>\n",
       "    </tr>\n",
       "  </thead>\n",
       "  <tbody>\n",
       "    <tr>\n",
       "      <th>0</th>\n",
       "      <td>Thermal_Base</td>\n",
       "      <td>46.274023</td>\n",
       "      <td>9.457160</td>\n",
       "      <td>32.791061</td>\n",
       "      <td>17.972935</td>\n",
       "      <td>0.000000</td>\n",
       "    </tr>\n",
       "    <tr>\n",
       "      <th>1</th>\n",
       "      <td>2_Hr_BESS</td>\n",
       "      <td>34.646970</td>\n",
       "      <td>12.954406</td>\n",
       "      <td>49.965193</td>\n",
       "      <td>25.930402</td>\n",
       "      <td>13.039450</td>\n",
       "    </tr>\n",
       "    <tr>\n",
       "      <th>2</th>\n",
       "      <td>2_Hr_BESS_Fuelx2</td>\n",
       "      <td>27.226989</td>\n",
       "      <td>12.359484</td>\n",
       "      <td>74.051006</td>\n",
       "      <td>45.098958</td>\n",
       "      <td>45.216721</td>\n",
       "    </tr>\n",
       "    <tr>\n",
       "      <th>3</th>\n",
       "      <td>4_Hr_BESS</td>\n",
       "      <td>33.500065</td>\n",
       "      <td>11.691107</td>\n",
       "      <td>53.880599</td>\n",
       "      <td>23.917770</td>\n",
       "      <td>16.257362</td>\n",
       "    </tr>\n",
       "    <tr>\n",
       "      <th>4</th>\n",
       "      <td>4_Hr_BESS_Fuelx2</td>\n",
       "      <td>26.335443</td>\n",
       "      <td>12.038484</td>\n",
       "      <td>72.559042</td>\n",
       "      <td>46.470854</td>\n",
       "      <td>32.857363</td>\n",
       "    </tr>\n",
       "    <tr>\n",
       "      <th>5</th>\n",
       "      <td>4_Hr_BESS_Fuelx3</td>\n",
       "      <td>24.713901</td>\n",
       "      <td>10.732273</td>\n",
       "      <td>77.868475</td>\n",
       "      <td>60.816319</td>\n",
       "      <td>41.107589</td>\n",
       "    </tr>\n",
       "    <tr>\n",
       "      <th>6</th>\n",
       "      <td>4_Hr_BESS_Fuelx4</td>\n",
       "      <td>24.749554</td>\n",
       "      <td>8.188353</td>\n",
       "      <td>79.198094</td>\n",
       "      <td>68.234310</td>\n",
       "      <td>50.674644</td>\n",
       "    </tr>\n",
       "    <tr>\n",
       "      <th>7</th>\n",
       "      <td>6_Hr_BESS</td>\n",
       "      <td>33.852765</td>\n",
       "      <td>10.804578</td>\n",
       "      <td>54.948394</td>\n",
       "      <td>21.498364</td>\n",
       "      <td>13.085191</td>\n",
       "    </tr>\n",
       "    <tr>\n",
       "      <th>8</th>\n",
       "      <td>6_Hr_BESS_Fuelx2</td>\n",
       "      <td>26.102852</td>\n",
       "      <td>12.107401</td>\n",
       "      <td>70.503699</td>\n",
       "      <td>48.438166</td>\n",
       "      <td>23.528685</td>\n",
       "    </tr>\n",
       "    <tr>\n",
       "      <th>9</th>\n",
       "      <td>8_Hr_BESS</td>\n",
       "      <td>34.412069</td>\n",
       "      <td>10.078836</td>\n",
       "      <td>55.254771</td>\n",
       "      <td>20.432080</td>\n",
       "      <td>10.572517</td>\n",
       "    </tr>\n",
       "    <tr>\n",
       "      <th>10</th>\n",
       "      <td>8_Hr_BESS_Fuelx2</td>\n",
       "      <td>25.615968</td>\n",
       "      <td>11.463766</td>\n",
       "      <td>70.489171</td>\n",
       "      <td>48.844766</td>\n",
       "      <td>20.442921</td>\n",
       "    </tr>\n",
       "    <tr>\n",
       "      <th>11</th>\n",
       "      <td>10_Hr_BESS</td>\n",
       "      <td>33.884760</td>\n",
       "      <td>10.101832</td>\n",
       "      <td>54.187708</td>\n",
       "      <td>22.186502</td>\n",
       "      <td>10.061408</td>\n",
       "    </tr>\n",
       "    <tr>\n",
       "      <th>12</th>\n",
       "      <td>10_Hr_BESS_Fuelx2</td>\n",
       "      <td>25.817035</td>\n",
       "      <td>10.441835</td>\n",
       "      <td>71.251188</td>\n",
       "      <td>47.798508</td>\n",
       "      <td>17.556087</td>\n",
       "    </tr>\n",
       "  </tbody>\n",
       "</table>\n",
       "</div>"
      ],
      "text/plain": [
       "            Case Name      NG CC      NG CT       Wind      Solar       BESS\n",
       "0        Thermal_Base  46.274023   9.457160  32.791061  17.972935   0.000000\n",
       "1           2_Hr_BESS  34.646970  12.954406  49.965193  25.930402  13.039450\n",
       "2    2_Hr_BESS_Fuelx2  27.226989  12.359484  74.051006  45.098958  45.216721\n",
       "3           4_Hr_BESS  33.500065  11.691107  53.880599  23.917770  16.257362\n",
       "4    4_Hr_BESS_Fuelx2  26.335443  12.038484  72.559042  46.470854  32.857363\n",
       "5    4_Hr_BESS_Fuelx3  24.713901  10.732273  77.868475  60.816319  41.107589\n",
       "6    4_Hr_BESS_Fuelx4  24.749554   8.188353  79.198094  68.234310  50.674644\n",
       "7           6_Hr_BESS  33.852765  10.804578  54.948394  21.498364  13.085191\n",
       "8    6_Hr_BESS_Fuelx2  26.102852  12.107401  70.503699  48.438166  23.528685\n",
       "9           8_Hr_BESS  34.412069  10.078836  55.254771  20.432080  10.572517\n",
       "10   8_Hr_BESS_Fuelx2  25.615968  11.463766  70.489171  48.844766  20.442921\n",
       "11         10_Hr_BESS  33.884760  10.101832  54.187708  22.186502  10.061408\n",
       "12  10_Hr_BESS_Fuelx2  25.817035  10.441835  71.251188  47.798508  17.556087"
      ]
     },
     "execution_count": 9,
     "metadata": {},
     "output_type": "execute_result"
    }
   ],
   "source": [
    "cases_resources_capacities_table_all"
   ]
  },
  {
   "cell_type": "code",
   "execution_count": 10,
   "id": "9c9ccbf8",
   "metadata": {
    "execution": {
     "iopub.execute_input": "2025-07-25T15:09:33.110461Z",
     "iopub.status.busy": "2025-07-25T15:09:33.110461Z",
     "iopub.status.idle": "2025-07-25T15:09:33.113303Z",
     "shell.execute_reply": "2025-07-25T15:09:33.113303Z"
    }
   },
   "outputs": [],
   "source": [
    "# save the table to a csv file in tables_path, and latex format in latex_path\n",
    "cases_resources_capacities_table_rounded.to_csv(os.path.join(csv_path, 'table2_capacity_in_gw.csv'), index=False)\n"
   ]
  },
  {
   "cell_type": "code",
   "execution_count": 11,
   "id": "9f36e27f",
   "metadata": {
    "execution": {
     "iopub.execute_input": "2025-07-25T15:09:33.115300Z",
     "iopub.status.busy": "2025-07-25T15:09:33.114303Z",
     "iopub.status.idle": "2025-07-25T15:09:33.120173Z",
     "shell.execute_reply": "2025-07-25T15:09:33.120173Z"
    }
   },
   "outputs": [],
   "source": [
    "latex_file = os.path.join(latex_path, 'table2_capacity_in_gw.tex')\n",
    "\n",
    "with open(latex_file, 'w') as f:\n",
    "    f.write('\\\\begin{table}[htp]\\n')\n",
    "    f.write('\\\\centering\\n')\n",
    "    f.write('\\\\begin{tabular}{lcccccc}\\n')\n",
    "    f.write('\\\\hline\\n')\n",
    "    f.write('\\\\textbf{Case} & \\\\textbf{NG CC} & \\\\textbf{NG CT} & \\\\textbf{Wind} & \\\\textbf{Solar} & \\\\textbf{Battery} & \\\\textbf{Total} \\\\\\\\ \\\\hline\\n')\n",
    "    for idx, row in cases_resources_capacities_table_rounded.iterrows():\n",
    "        case = row['Case Name'].replace('_', '\\\\_')\n",
    "        ng_cc = row['NG CC']\n",
    "        ng_ct = row['NG CT']\n",
    "        wind = row['Wind']\n",
    "        solar = row['Solar']\n",
    "        battery = row['BESS']\n",
    "        total = ng_cc + ng_ct + wind + solar + battery\n",
    "        case_print = case.replace('_', ' ')\n",
    "        f.write(f'{case_print} & {ng_cc} & {ng_ct} & {wind} & {solar} & {battery} & {total} \\\\\\\\\\n')\n",
    "    f.write('\\\\hline\\n')\n",
    "    f.write('\\\\end{tabular}\\n')\n",
    "    f.write('\\\\caption{Capacity in GW of each resource in the constructed cases}\\n')\n",
    "    f.write('\\\\label{table:all_cases}\\n')\n",
    "    f.write('\\\\end{table}\\n')"
   ]
  },
  {
   "cell_type": "code",
   "execution_count": 12,
   "id": "c38f9a2b",
   "metadata": {
    "execution": {
     "iopub.execute_input": "2025-07-25T15:09:33.122170Z",
     "iopub.status.busy": "2025-07-25T15:09:33.122170Z",
     "iopub.status.idle": "2025-07-25T15:09:33.127714Z",
     "shell.execute_reply": "2025-07-25T15:09:33.127714Z"
    }
   },
   "outputs": [],
   "source": [
    "latex_file = os.path.join(latex_path, 'table2b_capacity_in_percentages.tex')\n",
    "\n",
    "with open(latex_file, 'w') as f:\n",
    "    f.write('\\\\begin{table}[htp]\\n')\n",
    "    f.write('\\\\centering\\n')\n",
    "    f.write('\\\\begin{tabular}{lcccccc}\\n')\n",
    "    f.write('\\\\hline\\n')\n",
    "    f.write('\\\\textbf{Case} & \\\\textbf{NG CC} & \\\\textbf{NG CT} & \\\\textbf{Wind} & \\\\textbf{Solar} & \\\\textbf{Battery} & \\\\textbf{Total} \\\\\\\\ \\\\hline\\n')\n",
    "    for idx, row in cases_resources_capacities_table_all.iterrows():\n",
    "        case = row['Case Name'].replace('_', '\\\\_')\n",
    "        ng_cc = row['NG CC']\n",
    "        ng_ct = row['NG CT']\n",
    "        wind = row['Wind']\n",
    "        solar = row['Solar']\n",
    "        battery = row['BESS']\n",
    "        total = ng_cc + ng_ct + wind + solar + battery\n",
    "        ng_cc_perc = f\"{int(round(ng_cc * 100 / total, 0))}\\%\"\n",
    "        ng_ct_perc = f\"{int(round(ng_ct * 100 / total, 0))}\\%\"\n",
    "        wind_perc = f\"{int(round(wind * 100 / total, 0))}\\%\"\n",
    "        solar_perc = f\"{int(round(solar * 100 / total, 0))}\\%\"\n",
    "        battery_perc = f\"{int(round(battery * 100 / total, 0))}\\%\"\n",
    "\n",
    "        case_print = case.replace('_', ' ')\n",
    "        f.write(f'{case_print} & {ng_cc_perc} & {ng_ct_perc} & {wind_perc} & {solar_perc} & {battery_perc} & {total} \\\\\\\\\\n')\n",
    "    f.write('\\\\hline\\n')\n",
    "    f.write('\\\\end{tabular}\\n')\n",
    "    f.write('\\\\caption{Capacity fraction of each resource and total system capacity in GW}\\n')\n",
    "    f.write('\\\\label{table:all_cases}\\n')\n",
    "    f.write('\\\\end{table}\\n')"
   ]
  },
  {
   "cell_type": "code",
   "execution_count": null,
   "id": "64d8b3a4",
   "metadata": {},
   "outputs": [],
   "source": []
  },
  {
   "cell_type": "code",
   "execution_count": 13,
   "id": "791d6c34",
   "metadata": {
    "execution": {
     "iopub.execute_input": "2025-07-25T15:09:33.129711Z",
     "iopub.status.busy": "2025-07-25T15:09:33.129711Z",
     "iopub.status.idle": "2025-07-25T15:09:33.131269Z",
     "shell.execute_reply": "2025-07-25T15:09:33.131269Z"
    }
   },
   "outputs": [],
   "source": [
    "# cases_resources_capacities_table_rounded.to_latex(os.path.join(latex_path, 'table2_capacity_in_gw.tex'), index=False, escape=False)"
   ]
  }
 ],
 "metadata": {
  "kernelspec": {
   "display_name": "base",
   "language": "python",
   "name": "python3"
  },
  "language_info": {
   "codemirror_mode": {
    "name": "ipython",
    "version": 3
   },
   "file_extension": ".py",
   "mimetype": "text/x-python",
   "name": "python",
   "nbconvert_exporter": "python",
   "pygments_lexer": "ipython3",
   "version": "3.11.11"
  }
 },
 "nbformat": 4,
 "nbformat_minor": 5
}
