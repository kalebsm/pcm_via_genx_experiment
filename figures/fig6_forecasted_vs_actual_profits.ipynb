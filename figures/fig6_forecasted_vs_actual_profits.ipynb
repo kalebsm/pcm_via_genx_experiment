{
 "cells": [
  {
   "cell_type": "code",
   "execution_count": 1,
   "id": "47ac5d73",
   "metadata": {},
   "outputs": [],
   "source": [
    "import pandas as pd\n",
    "import numpy as np\n",
    "import seaborn as sb\n",
    "import datetime\n",
    "import matplotlib.pyplot as plt\n",
    "from matplotlib.backends.backend_pdf import PdfPages\n",
    "from get_decision_variable_map import get_decision_variable_map\n",
    "from get_case_outputs_all_models import get_case_outputs_all_models\n",
    "from get_unique_resources_data import get_unique_resources_data\n",
    "from get_printable_resource_names import get_printable_resource_names\n",
    "import h5py"
   ]
  },
  {
   "cell_type": "code",
   "execution_count": 2,
   "id": "f8365183",
   "metadata": {},
   "outputs": [
    {
     "name": "stdout",
     "output_type": "stream",
     "text": [
      "c:\\Users\\ks885\\Documents\\aa_research\\Modeling\\spcm_genx_experiment\\figures\n"
     ]
    }
   ],
   "source": [
    "import os\n",
    "\n",
    "current_dir = os.getcwd()\n",
    "print(current_dir)"
   ]
  },
  {
   "cell_type": "code",
   "execution_count": 3,
   "id": "ccb21db7",
   "metadata": {},
   "outputs": [],
   "source": [
    "plots_path = os.path.join(current_dir, 'plots') + \"/\"\n",
    "pdf_path = os.path.join(current_dir, 'pdf_tables') + \"/\"\n",
    "latex_path = os.path.join(current_dir, 'latex') + \"/\"\n",
    "csv_path = os.path.join(current_dir, 'csv') + \"/\"\n",
    "jpg_path = os.path.join(current_dir, 'jpg') + \"/\"\n",
    "lookahead_avg_prices_path = os.path.join(jpg_path, 'lookahead_avg_prices') + \"/\""
   ]
  },
  {
   "cell_type": "code",
   "execution_count": 4,
   "id": "ee73c5d6",
   "metadata": {},
   "outputs": [],
   "source": [
    "lookahead_profits_path = os.path.join(jpg_path, 'lookahead_profits') + \"/\"\n",
    "if not os.path.exists(lookahead_profits_path):\n",
    "    os.makedirs(lookahead_profits_path)"
   ]
  },
  {
   "cell_type": "code",
   "execution_count": 5,
   "id": "76f1e628",
   "metadata": {},
   "outputs": [],
   "source": [
    "# modeling scaling ModelScalingFactor\n",
    "ModelScalingFactor = 1000\n",
    "\n",
    "cem_path = os.path.join(os.path.dirname(current_dir), 'GenX.jl', 'research_systems')\n",
    "policies_path = os.path.join(os.path.dirname(current_dir), 'SPCM', 'research_systems')\n",
    "\n",
    "date = datetime.datetime.now().strftime(\"%Y-%m-%d_%H-%M-%S\")"
   ]
  },
  {
   "cell_type": "code",
   "execution_count": 6,
   "id": "557a21b2",
   "metadata": {},
   "outputs": [],
   "source": [
    "case_names = [    \n",
    "              \"Thermal_Base\",\n",
    "              \"2_Hr_BESS\", \n",
    "              \"2_Hr_BESS_Fuelx2\",\n",
    "              \"4_Hr_BESS\",\n",
    "              \"4_Hr_BESS_Fuelx2\",\n",
    "              \"4_Hr_BESS_Fuelx3\",\n",
    "              \"4_Hr_BESS_Fuelx4\",\n",
    "              \"6_Hr_BESS\",\n",
    "              \"6_Hr_BESS_Fuelx2\",\n",
    "              \"8_Hr_BESS\",\n",
    "              \"8_Hr_BESS_Fuelx2\",\n",
    "              \"10_Hr_BESS\",\n",
    "              \"10_Hr_BESS_Fuelx2\",\n",
    "              ]\n",
    "\n",
    "policy_types = [\n",
    "                'pf',\n",
    "                'dlac-p',\n",
    "                'dlac-i',\n",
    "                'slac',\n",
    "]\n",
    "\n",
    "# Create a DataFrame with decision_variable_names as the index\n",
    "decision_variable_map = get_decision_variable_map()"
   ]
  },
  {
   "cell_type": "code",
   "execution_count": 7,
   "id": "835ddc34",
   "metadata": {},
   "outputs": [
    {
     "name": "stdout",
     "output_type": "stream",
     "text": [
      "adding resource: NG 2-on-1 Combined Cycle (F-Frame) from case: Thermal_Base\n",
      "adding resource: NG Combustion Turbine (F-Frame) from case: Thermal_Base\n",
      "adding resource: Land-Based Wind - Class 1 - Technology 1 from case: Thermal_Base\n",
      "adding resource: Utility PV - Class 1 from case: Thermal_Base\n",
      "adding resource: Utility-Scale Battery Storage - 2Hr from case: 2_Hr_BESS\n",
      "adding resource: Utility-Scale Battery Storage - 4Hr from case: 4_Hr_BESS\n",
      "adding resource: Utility-Scale Battery Storage - 6Hr from case: 6_Hr_BESS\n",
      "adding resource: Utility-Scale Battery Storage - 8Hr from case: 8_Hr_BESS\n",
      "adding resource: Utility-Scale Battery Storage - 10Hr from case: 10_Hr_BESS\n"
     ]
    }
   ],
   "source": [
    "unique_resources, cases_resources_capacities = get_unique_resources_data(case_names, policies_path)\n"
   ]
  },
  {
   "cell_type": "code",
   "execution_count": 8,
   "id": "b0b2a6c5",
   "metadata": {},
   "outputs": [],
   "source": [
    "print_unique_resources = get_printable_resource_names(unique_resources)"
   ]
  },
  {
   "cell_type": "code",
   "execution_count": 9,
   "id": "76edfbae",
   "metadata": {},
   "outputs": [],
   "source": [
    "### preliminary data processing\n",
    "# create a dictionary mapping the index to DateTime \n",
    "start_date = datetime.datetime(2018, 1, 1)\n",
    "index_to_datetime = {i-1: start_date + datetime.timedelta(hours=i-1) for i in range(1, 8687)}\n",
    "# create a list of DateTime from start_date to the end of the year \n",
    "datetime_list = [start_date + datetime.timedelta(hours=i) for i in range(8687)]"
   ]
  },
  {
   "cell_type": "code",
   "execution_count": 10,
   "id": "1f0c59ec",
   "metadata": {},
   "outputs": [
    {
     "ename": "FileNotFoundError",
     "evalue": "[Errno 2] No such file or directory: 'c:\\\\Users\\\\ks885\\\\Documents\\\\aa_research\\\\Modeling\\\\spcm_genx_experiment\\\\figures\\\\jpg/lookahead_avg_prices/average_prices_comparison_8_Hr_BESS_slac.csv'",
     "output_type": "error",
     "traceback": [
      "\u001b[1;31m---------------------------------------------------------------------------\u001b[0m",
      "\u001b[1;31mFileNotFoundError\u001b[0m                         Traceback (most recent call last)",
      "Cell \u001b[1;32mIn[10], line 22\u001b[0m\n\u001b[0;32m     19\u001b[0m     \u001b[38;5;28mprint\u001b[39m(\u001b[38;5;124m'\u001b[39m\u001b[38;5;124mModel not recognized\u001b[39m\u001b[38;5;124m'\u001b[39m)\n\u001b[0;32m     21\u001b[0m \u001b[38;5;66;03m# read in correlated prices data\u001b[39;00m\n\u001b[1;32m---> 22\u001b[0m correlated_prices \u001b[38;5;241m=\u001b[39m \u001b[43mpd\u001b[49m\u001b[38;5;241;43m.\u001b[39;49m\u001b[43mread_csv\u001b[49m\u001b[43m(\u001b[49m\u001b[43mlookahead_avg_prices_path\u001b[49m\u001b[43m  \u001b[49m\u001b[38;5;241;43m+\u001b[39;49m\u001b[43m \u001b[49m\u001b[38;5;124;43mf\u001b[39;49m\u001b[38;5;124;43m'\u001b[39;49m\u001b[38;5;124;43maverage_prices_comparison_\u001b[39;49m\u001b[38;5;132;43;01m{\u001b[39;49;00m\u001b[43mcase_model\u001b[49m\u001b[38;5;132;43;01m}\u001b[39;49;00m\u001b[38;5;124;43m.csv\u001b[39;49m\u001b[38;5;124;43m'\u001b[39;49m\u001b[43m)\u001b[49m\n\u001b[0;32m     23\u001b[0m decision_prices \u001b[38;5;241m=\u001b[39m correlated_prices[\u001b[38;5;124m'\u001b[39m\u001b[38;5;124mDecision Prices\u001b[39m\u001b[38;5;124m'\u001b[39m]\n\u001b[0;32m     24\u001b[0m lookahead_prices \u001b[38;5;241m=\u001b[39m correlated_prices[\u001b[38;5;124m'\u001b[39m\u001b[38;5;124mNoon Lookahead Prices\u001b[39m\u001b[38;5;124m'\u001b[39m]\n",
      "File \u001b[1;32mc:\\Users\\ks885\\AppData\\Local\\anaconda3\\Lib\\site-packages\\pandas\\io\\parsers\\readers.py:912\u001b[0m, in \u001b[0;36mread_csv\u001b[1;34m(filepath_or_buffer, sep, delimiter, header, names, index_col, usecols, dtype, engine, converters, true_values, false_values, skipinitialspace, skiprows, skipfooter, nrows, na_values, keep_default_na, na_filter, verbose, skip_blank_lines, parse_dates, infer_datetime_format, keep_date_col, date_parser, date_format, dayfirst, cache_dates, iterator, chunksize, compression, thousands, decimal, lineterminator, quotechar, quoting, doublequote, escapechar, comment, encoding, encoding_errors, dialect, on_bad_lines, delim_whitespace, low_memory, memory_map, float_precision, storage_options, dtype_backend)\u001b[0m\n\u001b[0;32m    899\u001b[0m kwds_defaults \u001b[38;5;241m=\u001b[39m _refine_defaults_read(\n\u001b[0;32m    900\u001b[0m     dialect,\n\u001b[0;32m    901\u001b[0m     delimiter,\n\u001b[1;32m   (...)\u001b[0m\n\u001b[0;32m    908\u001b[0m     dtype_backend\u001b[38;5;241m=\u001b[39mdtype_backend,\n\u001b[0;32m    909\u001b[0m )\n\u001b[0;32m    910\u001b[0m kwds\u001b[38;5;241m.\u001b[39mupdate(kwds_defaults)\n\u001b[1;32m--> 912\u001b[0m \u001b[38;5;28;01mreturn\u001b[39;00m \u001b[43m_read\u001b[49m\u001b[43m(\u001b[49m\u001b[43mfilepath_or_buffer\u001b[49m\u001b[43m,\u001b[49m\u001b[43m \u001b[49m\u001b[43mkwds\u001b[49m\u001b[43m)\u001b[49m\n",
      "File \u001b[1;32mc:\\Users\\ks885\\AppData\\Local\\anaconda3\\Lib\\site-packages\\pandas\\io\\parsers\\readers.py:577\u001b[0m, in \u001b[0;36m_read\u001b[1;34m(filepath_or_buffer, kwds)\u001b[0m\n\u001b[0;32m    574\u001b[0m _validate_names(kwds\u001b[38;5;241m.\u001b[39mget(\u001b[38;5;124m\"\u001b[39m\u001b[38;5;124mnames\u001b[39m\u001b[38;5;124m\"\u001b[39m, \u001b[38;5;28;01mNone\u001b[39;00m))\n\u001b[0;32m    576\u001b[0m \u001b[38;5;66;03m# Create the parser.\u001b[39;00m\n\u001b[1;32m--> 577\u001b[0m parser \u001b[38;5;241m=\u001b[39m \u001b[43mTextFileReader\u001b[49m\u001b[43m(\u001b[49m\u001b[43mfilepath_or_buffer\u001b[49m\u001b[43m,\u001b[49m\u001b[43m \u001b[49m\u001b[38;5;241;43m*\u001b[39;49m\u001b[38;5;241;43m*\u001b[39;49m\u001b[43mkwds\u001b[49m\u001b[43m)\u001b[49m\n\u001b[0;32m    579\u001b[0m \u001b[38;5;28;01mif\u001b[39;00m chunksize \u001b[38;5;129;01mor\u001b[39;00m iterator:\n\u001b[0;32m    580\u001b[0m     \u001b[38;5;28;01mreturn\u001b[39;00m parser\n",
      "File \u001b[1;32mc:\\Users\\ks885\\AppData\\Local\\anaconda3\\Lib\\site-packages\\pandas\\io\\parsers\\readers.py:1407\u001b[0m, in \u001b[0;36mTextFileReader.__init__\u001b[1;34m(self, f, engine, **kwds)\u001b[0m\n\u001b[0;32m   1404\u001b[0m     \u001b[38;5;28mself\u001b[39m\u001b[38;5;241m.\u001b[39moptions[\u001b[38;5;124m\"\u001b[39m\u001b[38;5;124mhas_index_names\u001b[39m\u001b[38;5;124m\"\u001b[39m] \u001b[38;5;241m=\u001b[39m kwds[\u001b[38;5;124m\"\u001b[39m\u001b[38;5;124mhas_index_names\u001b[39m\u001b[38;5;124m\"\u001b[39m]\n\u001b[0;32m   1406\u001b[0m \u001b[38;5;28mself\u001b[39m\u001b[38;5;241m.\u001b[39mhandles: IOHandles \u001b[38;5;241m|\u001b[39m \u001b[38;5;28;01mNone\u001b[39;00m \u001b[38;5;241m=\u001b[39m \u001b[38;5;28;01mNone\u001b[39;00m\n\u001b[1;32m-> 1407\u001b[0m \u001b[38;5;28mself\u001b[39m\u001b[38;5;241m.\u001b[39m_engine \u001b[38;5;241m=\u001b[39m \u001b[38;5;28;43mself\u001b[39;49m\u001b[38;5;241;43m.\u001b[39;49m\u001b[43m_make_engine\u001b[49m\u001b[43m(\u001b[49m\u001b[43mf\u001b[49m\u001b[43m,\u001b[49m\u001b[43m \u001b[49m\u001b[38;5;28;43mself\u001b[39;49m\u001b[38;5;241;43m.\u001b[39;49m\u001b[43mengine\u001b[49m\u001b[43m)\u001b[49m\n",
      "File \u001b[1;32mc:\\Users\\ks885\\AppData\\Local\\anaconda3\\Lib\\site-packages\\pandas\\io\\parsers\\readers.py:1661\u001b[0m, in \u001b[0;36mTextFileReader._make_engine\u001b[1;34m(self, f, engine)\u001b[0m\n\u001b[0;32m   1659\u001b[0m     \u001b[38;5;28;01mif\u001b[39;00m \u001b[38;5;124m\"\u001b[39m\u001b[38;5;124mb\u001b[39m\u001b[38;5;124m\"\u001b[39m \u001b[38;5;129;01mnot\u001b[39;00m \u001b[38;5;129;01min\u001b[39;00m mode:\n\u001b[0;32m   1660\u001b[0m         mode \u001b[38;5;241m+\u001b[39m\u001b[38;5;241m=\u001b[39m \u001b[38;5;124m\"\u001b[39m\u001b[38;5;124mb\u001b[39m\u001b[38;5;124m\"\u001b[39m\n\u001b[1;32m-> 1661\u001b[0m \u001b[38;5;28mself\u001b[39m\u001b[38;5;241m.\u001b[39mhandles \u001b[38;5;241m=\u001b[39m \u001b[43mget_handle\u001b[49m\u001b[43m(\u001b[49m\n\u001b[0;32m   1662\u001b[0m \u001b[43m    \u001b[49m\u001b[43mf\u001b[49m\u001b[43m,\u001b[49m\n\u001b[0;32m   1663\u001b[0m \u001b[43m    \u001b[49m\u001b[43mmode\u001b[49m\u001b[43m,\u001b[49m\n\u001b[0;32m   1664\u001b[0m \u001b[43m    \u001b[49m\u001b[43mencoding\u001b[49m\u001b[38;5;241;43m=\u001b[39;49m\u001b[38;5;28;43mself\u001b[39;49m\u001b[38;5;241;43m.\u001b[39;49m\u001b[43moptions\u001b[49m\u001b[38;5;241;43m.\u001b[39;49m\u001b[43mget\u001b[49m\u001b[43m(\u001b[49m\u001b[38;5;124;43m\"\u001b[39;49m\u001b[38;5;124;43mencoding\u001b[39;49m\u001b[38;5;124;43m\"\u001b[39;49m\u001b[43m,\u001b[49m\u001b[43m \u001b[49m\u001b[38;5;28;43;01mNone\u001b[39;49;00m\u001b[43m)\u001b[49m\u001b[43m,\u001b[49m\n\u001b[0;32m   1665\u001b[0m \u001b[43m    \u001b[49m\u001b[43mcompression\u001b[49m\u001b[38;5;241;43m=\u001b[39;49m\u001b[38;5;28;43mself\u001b[39;49m\u001b[38;5;241;43m.\u001b[39;49m\u001b[43moptions\u001b[49m\u001b[38;5;241;43m.\u001b[39;49m\u001b[43mget\u001b[49m\u001b[43m(\u001b[49m\u001b[38;5;124;43m\"\u001b[39;49m\u001b[38;5;124;43mcompression\u001b[39;49m\u001b[38;5;124;43m\"\u001b[39;49m\u001b[43m,\u001b[49m\u001b[43m \u001b[49m\u001b[38;5;28;43;01mNone\u001b[39;49;00m\u001b[43m)\u001b[49m\u001b[43m,\u001b[49m\n\u001b[0;32m   1666\u001b[0m \u001b[43m    \u001b[49m\u001b[43mmemory_map\u001b[49m\u001b[38;5;241;43m=\u001b[39;49m\u001b[38;5;28;43mself\u001b[39;49m\u001b[38;5;241;43m.\u001b[39;49m\u001b[43moptions\u001b[49m\u001b[38;5;241;43m.\u001b[39;49m\u001b[43mget\u001b[49m\u001b[43m(\u001b[49m\u001b[38;5;124;43m\"\u001b[39;49m\u001b[38;5;124;43mmemory_map\u001b[39;49m\u001b[38;5;124;43m\"\u001b[39;49m\u001b[43m,\u001b[49m\u001b[43m \u001b[49m\u001b[38;5;28;43;01mFalse\u001b[39;49;00m\u001b[43m)\u001b[49m\u001b[43m,\u001b[49m\n\u001b[0;32m   1667\u001b[0m \u001b[43m    \u001b[49m\u001b[43mis_text\u001b[49m\u001b[38;5;241;43m=\u001b[39;49m\u001b[43mis_text\u001b[49m\u001b[43m,\u001b[49m\n\u001b[0;32m   1668\u001b[0m \u001b[43m    \u001b[49m\u001b[43merrors\u001b[49m\u001b[38;5;241;43m=\u001b[39;49m\u001b[38;5;28;43mself\u001b[39;49m\u001b[38;5;241;43m.\u001b[39;49m\u001b[43moptions\u001b[49m\u001b[38;5;241;43m.\u001b[39;49m\u001b[43mget\u001b[49m\u001b[43m(\u001b[49m\u001b[38;5;124;43m\"\u001b[39;49m\u001b[38;5;124;43mencoding_errors\u001b[39;49m\u001b[38;5;124;43m\"\u001b[39;49m\u001b[43m,\u001b[49m\u001b[43m \u001b[49m\u001b[38;5;124;43m\"\u001b[39;49m\u001b[38;5;124;43mstrict\u001b[39;49m\u001b[38;5;124;43m\"\u001b[39;49m\u001b[43m)\u001b[49m\u001b[43m,\u001b[49m\n\u001b[0;32m   1669\u001b[0m \u001b[43m    \u001b[49m\u001b[43mstorage_options\u001b[49m\u001b[38;5;241;43m=\u001b[39;49m\u001b[38;5;28;43mself\u001b[39;49m\u001b[38;5;241;43m.\u001b[39;49m\u001b[43moptions\u001b[49m\u001b[38;5;241;43m.\u001b[39;49m\u001b[43mget\u001b[49m\u001b[43m(\u001b[49m\u001b[38;5;124;43m\"\u001b[39;49m\u001b[38;5;124;43mstorage_options\u001b[39;49m\u001b[38;5;124;43m\"\u001b[39;49m\u001b[43m,\u001b[49m\u001b[43m \u001b[49m\u001b[38;5;28;43;01mNone\u001b[39;49;00m\u001b[43m)\u001b[49m\u001b[43m,\u001b[49m\n\u001b[0;32m   1670\u001b[0m \u001b[43m\u001b[49m\u001b[43m)\u001b[49m\n\u001b[0;32m   1671\u001b[0m \u001b[38;5;28;01massert\u001b[39;00m \u001b[38;5;28mself\u001b[39m\u001b[38;5;241m.\u001b[39mhandles \u001b[38;5;129;01mis\u001b[39;00m \u001b[38;5;129;01mnot\u001b[39;00m \u001b[38;5;28;01mNone\u001b[39;00m\n\u001b[0;32m   1672\u001b[0m f \u001b[38;5;241m=\u001b[39m \u001b[38;5;28mself\u001b[39m\u001b[38;5;241m.\u001b[39mhandles\u001b[38;5;241m.\u001b[39mhandle\n",
      "File \u001b[1;32mc:\\Users\\ks885\\AppData\\Local\\anaconda3\\Lib\\site-packages\\pandas\\io\\common.py:859\u001b[0m, in \u001b[0;36mget_handle\u001b[1;34m(path_or_buf, mode, encoding, compression, memory_map, is_text, errors, storage_options)\u001b[0m\n\u001b[0;32m    854\u001b[0m \u001b[38;5;28;01melif\u001b[39;00m \u001b[38;5;28misinstance\u001b[39m(handle, \u001b[38;5;28mstr\u001b[39m):\n\u001b[0;32m    855\u001b[0m     \u001b[38;5;66;03m# Check whether the filename is to be opened in binary mode.\u001b[39;00m\n\u001b[0;32m    856\u001b[0m     \u001b[38;5;66;03m# Binary mode does not support 'encoding' and 'newline'.\u001b[39;00m\n\u001b[0;32m    857\u001b[0m     \u001b[38;5;28;01mif\u001b[39;00m ioargs\u001b[38;5;241m.\u001b[39mencoding \u001b[38;5;129;01mand\u001b[39;00m \u001b[38;5;124m\"\u001b[39m\u001b[38;5;124mb\u001b[39m\u001b[38;5;124m\"\u001b[39m \u001b[38;5;129;01mnot\u001b[39;00m \u001b[38;5;129;01min\u001b[39;00m ioargs\u001b[38;5;241m.\u001b[39mmode:\n\u001b[0;32m    858\u001b[0m         \u001b[38;5;66;03m# Encoding\u001b[39;00m\n\u001b[1;32m--> 859\u001b[0m         handle \u001b[38;5;241m=\u001b[39m \u001b[38;5;28mopen\u001b[39m(\n\u001b[0;32m    860\u001b[0m             handle,\n\u001b[0;32m    861\u001b[0m             ioargs\u001b[38;5;241m.\u001b[39mmode,\n\u001b[0;32m    862\u001b[0m             encoding\u001b[38;5;241m=\u001b[39mioargs\u001b[38;5;241m.\u001b[39mencoding,\n\u001b[0;32m    863\u001b[0m             errors\u001b[38;5;241m=\u001b[39merrors,\n\u001b[0;32m    864\u001b[0m             newline\u001b[38;5;241m=\u001b[39m\u001b[38;5;124m\"\u001b[39m\u001b[38;5;124m\"\u001b[39m,\n\u001b[0;32m    865\u001b[0m         )\n\u001b[0;32m    866\u001b[0m     \u001b[38;5;28;01melse\u001b[39;00m:\n\u001b[0;32m    867\u001b[0m         \u001b[38;5;66;03m# Binary mode\u001b[39;00m\n\u001b[0;32m    868\u001b[0m         handle \u001b[38;5;241m=\u001b[39m \u001b[38;5;28mopen\u001b[39m(handle, ioargs\u001b[38;5;241m.\u001b[39mmode)\n",
      "\u001b[1;31mFileNotFoundError\u001b[0m: [Errno 2] No such file or directory: 'c:\\\\Users\\\\ks885\\\\Documents\\\\aa_research\\\\Modeling\\\\spcm_genx_experiment\\\\figures\\\\jpg/lookahead_avg_prices/average_prices_comparison_8_Hr_BESS_slac.csv'"
     ]
    }
   ],
   "source": [
    "for case_name in case_names:\n",
    "\n",
    "\n",
    "    for model in policy_types:\n",
    "        case_model = case_name + '_' + model\n",
    "\n",
    "        if model == 'pf':\n",
    "            # decision_prices = pf_prices\n",
    "            # results_path = policies_path + '\\\\' + case_name + '\\\\' + 'results_' + model + '\\\\'\n",
    "            # selected_path = results_path + 'prices_scen_array.h5'\n",
    "            continue\n",
    "        elif model == 'dlac-p':\n",
    "            results_path = policies_path + '\\\\' + case_name + '\\\\' + 'results_' + model + '\\\\'\n",
    "        elif model == 'dlac-i':\n",
    "            results_path = policies_path + '\\\\' + case_name + '\\\\' + 'results_' + model + '\\\\'\n",
    "        elif model == 'slac':\n",
    "            results_path = policies_path + '\\\\' + case_name + '\\\\' + 'results_' + model + '\\\\'\n",
    "        else:\n",
    "            print('Model not recognized')\n",
    "\n",
    "        # read in correlated prices data\n",
    "        correlated_prices = pd.read_csv(lookahead_avg_prices_path  + f'average_prices_comparison_{case_model}.csv')\n",
    "        decision_prices = correlated_prices['Decision Prices']\n",
    "        lookahead_prices = correlated_prices['Noon Lookahead Prices']\n",
    "        \n",
    "        # get a list of indices of datetime_list that of Datetimes in correlated_prices['DateTime']\n",
    "        indices_of_interest = [datetime_list.index(datetime.datetime.strptime(dt, '%Y-%m-%d %H:%M:%S')) for dt in correlated_prices['DateTime']]\n",
    "\n",
    "        # read in generator dispatches...\n",
    "        gen_dispatch = pd.read_csv(results_path + 'unit_pgen.csv')\n",
    "        \n",
    "        # read in generator names\n",
    "        gen_charac = pd.read_csv(results_path + 'NetRevenue.csv')\n",
    "        gen_names = gen_charac['generators'].values\n",
    "\n",
    "        # add generator names to dispatch data\n",
    "        # gen_dispatch['Resources'] = gen_names\n",
    "        # transpose for easier reading\n",
    "        # gen_dispatch_t = gen_dispatch.transpose()\n",
    "        # # replace column names with generator names\n",
    "        # gen_dispatch_t.columns = gen_names\n",
    "        # ad a column of Datetime to gen dispatch t\n",
    "        # gen_dispatch_t['DateTime'] = [index_to_datetime[i] for i in range(0, 8686)]\n",
    "\n",
    "        # read in battery charges\n",
    "        bess_charge = pd.read_csv(results_path + 'unit_charge.csv')\n",
    "        # add a column of Datetime to bess charge t\n",
    "        # bess_charge_t['DateTime'] = [index_to_datetime[i] for i in range(0, 8686)]\n",
    "\n",
    "        # find the indices where correlated_prices['DateTime'] is in datetime_list\n",
    "        indices_of_interest = [datetime_list.index(datetime.datetime.strptime(dt, '%Y-%m-%d %H:%M:%S')) for dt in correlated_prices['DateTime']]\n",
    "        # get the subset of gen_dispatch_t and bess_charge_t that correspond to the indices of interest\n",
    "        gen_dispatch_t_subset = gen_dispatch.iloc[indices_of_interest]\n",
    "        bess_charge_t_subset = bess_charge.iloc[indices_of_interest]\n",
    "\n",
    "        # calculate profits at each hour for each generator\n",
    "        # Reset the index of gen_dispatch_t_subset to align with decision_prices and lookahead_prices\n",
    "        gen_dispatch_t_subset = gen_dispatch_t_subset.reset_index(drop=True)\n",
    "        bess_charge_t_subset = bess_charge_t_subset.reset_index(drop=True)\n",
    "\n",
    "        # Calculate profits at each hour for each generator\n",
    "        decision_revenues = gen_dispatch_t_subset.multiply(decision_prices.values, axis=0)\n",
    "        lookahead_revenues = gen_dispatch_t_subset.multiply(lookahead_prices.values, axis=0)\n",
    "\n",
    "        decision_charge_costs = bess_charge_t_subset.multiply(decision_prices.values, axis=0)\n",
    "        lookahead_charge_costs = bess_charge_t_subset.multiply(lookahead_prices.values, axis=0)\n",
    "\n",
    "        decision_profits = decision_revenues - decision_charge_costs\n",
    "        lookahead_profits = lookahead_revenues - lookahead_charge_costs\n",
    "\n",
    "        # total each generator profits\n",
    "        decision_gen_profits = decision_profits.sum(axis=0)\n",
    "        lookahead_gen_profits = lookahead_profits.sum(axis=0)\n",
    "\n",
    "        print_gen_names = get_printable_resource_names(gen_names)\n",
    "        # create a dataframe for profits\n",
    "        profits_df = pd.DataFrame({\n",
    "            'Generator': print_gen_names,\n",
    "            'Decision Profits': decision_gen_profits.values,\n",
    "            'Lookahead Profits': lookahead_gen_profits.values\n",
    "        })\n",
    "\n",
    "        profits_df.set_index('Generator', inplace=True)\n",
    "\n",
    "        # save each profit to a pdf file\n",
    "        fig, ax = plt.subplots()\n",
    "        profits_df.plot(kind='bar', ax=ax)\n",
    "        ax.set_title(f'Decision Profits vs Lookahead Profits for {case_name} - {model}')\n",
    "        ax.set_ylabel('Profits')\n",
    "        plt.tight_layout()\n",
    "        plt.savefig(lookahead_profits_path + f'{case_name}_{model}_profits.png')\n",
    "        plt.close()"
   ]
  }
 ],
 "metadata": {
  "kernelspec": {
   "display_name": "base",
   "language": "python",
   "name": "python3"
  },
  "language_info": {
   "codemirror_mode": {
    "name": "ipython",
    "version": 3
   },
   "file_extension": ".py",
   "mimetype": "text/x-python",
   "name": "python",
   "nbconvert_exporter": "python",
   "pygments_lexer": "ipython3",
   "version": "3.11.11"
  }
 },
 "nbformat": 4,
 "nbformat_minor": 5
}
