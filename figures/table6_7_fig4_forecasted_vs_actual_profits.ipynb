{
 "cells": [
  {
   "cell_type": "code",
   "execution_count": 1,
   "id": "47ac5d73",
   "metadata": {
    "execution": {
     "iopub.execute_input": "2025-07-25T15:05:11.491881Z",
     "iopub.status.busy": "2025-07-25T15:05:11.491881Z",
     "iopub.status.idle": "2025-07-25T15:05:13.262764Z",
     "shell.execute_reply": "2025-07-25T15:05:13.262527Z"
    }
   },
   "outputs": [],
   "source": [
    "import pandas as pd\n",
    "import numpy as np\n",
    "import seaborn as sb\n",
    "import datetime\n",
    "import matplotlib.pyplot as plt\n",
    "from matplotlib.backends.backend_pdf import PdfPages\n",
    "from get_decision_variable_map import get_decision_variable_map\n",
    "from get_case_outputs_all_models import get_case_outputs_all_models\n",
    "from get_unique_resources_data import get_unique_resources_data\n",
    "from get_printable_resource_names import get_printable_resource_names\n",
    "import h5py"
   ]
  },
  {
   "cell_type": "code",
   "execution_count": 2,
   "id": "f8365183",
   "metadata": {
    "execution": {
     "iopub.execute_input": "2025-07-25T15:05:13.264760Z",
     "iopub.status.busy": "2025-07-25T15:05:13.264760Z",
     "iopub.status.idle": "2025-07-25T15:05:13.267246Z",
     "shell.execute_reply": "2025-07-25T15:05:13.267246Z"
    }
   },
   "outputs": [
    {
     "name": "stdout",
     "output_type": "stream",
     "text": [
      "C:\\Users\\ks885\\Documents\\aa_research\\Modeling\\spcm_genx_experiment\\figures\n"
     ]
    }
   ],
   "source": [
    "import os\n",
    "\n",
    "current_dir = os.getcwd()\n",
    "print(current_dir)"
   ]
  },
  {
   "cell_type": "code",
   "execution_count": 3,
   "id": "ccb21db7",
   "metadata": {
    "execution": {
     "iopub.execute_input": "2025-07-25T15:05:13.269242Z",
     "iopub.status.busy": "2025-07-25T15:05:13.268246Z",
     "iopub.status.idle": "2025-07-25T15:05:13.271818Z",
     "shell.execute_reply": "2025-07-25T15:05:13.271818Z"
    }
   },
   "outputs": [],
   "source": [
    "plots_path = os.path.join(current_dir, 'plots') + \"/\"\n",
    "pdf_path = os.path.join(current_dir, 'pdf_tables') + \"/\"\n",
    "latex_path = os.path.join(current_dir, 'latex') + \"/\"\n",
    "csv_path = os.path.join(current_dir, 'csv') + \"/\"\n",
    "jpg_path = os.path.join(current_dir, 'jpg') + \"/\"\n",
    "veps_path = os.path.join(current_dir, 'veps') + \"/\"\n",
    "lookahead_avg_prices_path = os.path.join(veps_path, 'lookahead_avg_prices') + \"/\""
   ]
  },
  {
   "cell_type": "code",
   "execution_count": 4,
   "id": "ee73c5d6",
   "metadata": {
    "execution": {
     "iopub.execute_input": "2025-07-25T15:05:13.273820Z",
     "iopub.status.busy": "2025-07-25T15:05:13.273820Z",
     "iopub.status.idle": "2025-07-25T15:05:13.275695Z",
     "shell.execute_reply": "2025-07-25T15:05:13.275695Z"
    }
   },
   "outputs": [],
   "source": [
    "lookahead_profits_path = os.path.join(veps_path, 'lookahead_profits') + \"/\"\n",
    "if not os.path.exists(lookahead_profits_path):\n",
    "    os.makedirs(lookahead_profits_path)"
   ]
  },
  {
   "cell_type": "code",
   "execution_count": 5,
   "id": "76f1e628",
   "metadata": {
    "execution": {
     "iopub.execute_input": "2025-07-25T15:05:13.277692Z",
     "iopub.status.busy": "2025-07-25T15:05:13.276694Z",
     "iopub.status.idle": "2025-07-25T15:05:13.279818Z",
     "shell.execute_reply": "2025-07-25T15:05:13.279818Z"
    }
   },
   "outputs": [],
   "source": [
    "# modeling scaling ModelScalingFactor\n",
    "ModelScalingFactor = 1000\n",
    "\n",
    "cem_path = os.path.join(os.path.dirname(current_dir), 'GenX.jl', 'research_systems')\n",
    "policies_path = os.path.join(os.path.dirname(current_dir), 'SPCM', 'research_systems')\n",
    "\n",
    "date = datetime.datetime.now().strftime(\"%Y-%m-%d_%H-%M-%S\")"
   ]
  },
  {
   "cell_type": "code",
   "execution_count": 6,
   "id": "557a21b2",
   "metadata": {
    "execution": {
     "iopub.execute_input": "2025-07-25T15:05:13.281815Z",
     "iopub.status.busy": "2025-07-25T15:05:13.280817Z",
     "iopub.status.idle": "2025-07-25T15:05:13.284156Z",
     "shell.execute_reply": "2025-07-25T15:05:13.284156Z"
    }
   },
   "outputs": [],
   "source": [
    "case_names = [    \n",
    "              \"Thermal_Base\",\n",
    "              \"2_Hr_BESS\", \n",
    "              \"2_Hr_BESS_Fuelx2\",\n",
    "              \"4_Hr_BESS\",\n",
    "              \"4_Hr_BESS_Fuelx2\",\n",
    "              \"4_Hr_BESS_Fuelx3\",\n",
    "              \"4_Hr_BESS_Fuelx4\",\n",
    "              \"6_Hr_BESS\",\n",
    "              \"6_Hr_BESS_Fuelx2\",\n",
    "              \"8_Hr_BESS\",\n",
    "              \"8_Hr_BESS_Fuelx2\",\n",
    "              \"10_Hr_BESS\",\n",
    "              \"10_Hr_BESS_Fuelx2\",\n",
    "              ]\n",
    "\n",
    "policy_types = [\n",
    "                'pf',\n",
    "                'dlac-p',\n",
    "                'dlac-i',\n",
    "                'slac',\n",
    "]\n",
    "\n",
    "# Create a DataFrame with decision_variable_names as the index\n",
    "decision_variable_map = get_decision_variable_map()"
   ]
  },
  {
   "cell_type": "code",
   "execution_count": 7,
   "id": "835ddc34",
   "metadata": {
    "execution": {
     "iopub.execute_input": "2025-07-25T15:05:13.286154Z",
     "iopub.status.busy": "2025-07-25T15:05:13.285157Z",
     "iopub.status.idle": "2025-07-25T15:05:13.417657Z",
     "shell.execute_reply": "2025-07-25T15:05:13.417657Z"
    }
   },
   "outputs": [
    {
     "name": "stdout",
     "output_type": "stream",
     "text": [
      "adding resource: NG 2-on-1 Combined Cycle (F-Frame) from case: Thermal_Base\n",
      "adding resource: NG Combustion Turbine (F-Frame) from case: Thermal_Base\n",
      "adding resource: Land-Based Wind - Class 1 - Technology 1 from case: Thermal_Base\n",
      "adding resource: Utility PV - Class 1 from case: Thermal_Base\n",
      "adding resource: Utility-Scale Battery Storage - 2Hr from case: 2_Hr_BESS\n",
      "adding resource: Utility-Scale Battery Storage - 4Hr from case: 4_Hr_BESS\n",
      "adding resource: Utility-Scale Battery Storage - 6Hr from case: 6_Hr_BESS\n",
      "adding resource: Utility-Scale Battery Storage - 8Hr from case: 8_Hr_BESS\n",
      "adding resource: Utility-Scale Battery Storage - 10Hr from case: 10_Hr_BESS\n"
     ]
    }
   ],
   "source": [
    "unique_resources, cases_resources_capacities = get_unique_resources_data(case_names, policies_path)\n"
   ]
  },
  {
   "cell_type": "code",
   "execution_count": 8,
   "id": "b0b2a6c5",
   "metadata": {
    "execution": {
     "iopub.execute_input": "2025-07-25T15:05:13.419654Z",
     "iopub.status.busy": "2025-07-25T15:05:13.419654Z",
     "iopub.status.idle": "2025-07-25T15:05:13.422128Z",
     "shell.execute_reply": "2025-07-25T15:05:13.422128Z"
    }
   },
   "outputs": [],
   "source": [
    "print_unique_resources = get_printable_resource_names(unique_resources)"
   ]
  },
  {
   "cell_type": "code",
   "execution_count": 9,
   "id": "427b4c0b",
   "metadata": {
    "execution": {
     "iopub.execute_input": "2025-07-25T15:05:13.424125Z",
     "iopub.status.busy": "2025-07-25T15:05:13.424125Z",
     "iopub.status.idle": "2025-07-25T15:05:13.428055Z",
     "shell.execute_reply": "2025-07-25T15:05:13.428055Z"
    }
   },
   "outputs": [
    {
     "data": {
      "text/plain": [
       "['NG CC', 'NG CT', 'Wind', 'Solar', 'BESS']"
      ]
     },
     "execution_count": 9,
     "metadata": {},
     "output_type": "execute_result"
    }
   ],
   "source": [
    "print_unique_resources"
   ]
  },
  {
   "cell_type": "code",
   "execution_count": 10,
   "id": "f5ec8173",
   "metadata": {
    "execution": {
     "iopub.execute_input": "2025-07-25T15:05:13.430079Z",
     "iopub.status.busy": "2025-07-25T15:05:13.429054Z",
     "iopub.status.idle": "2025-07-25T15:05:13.432631Z",
     "shell.execute_reply": "2025-07-25T15:05:13.432631Z"
    }
   },
   "outputs": [],
   "source": [
    "# create a dataframe\n",
    "cases_policies_df = pd.DataFrame(index=case_names, columns=[p for p in policy_types if p != 'pf'])"
   ]
  },
  {
   "cell_type": "code",
   "execution_count": 11,
   "id": "1e508818",
   "metadata": {
    "execution": {
     "iopub.execute_input": "2025-07-25T15:05:13.434641Z",
     "iopub.status.busy": "2025-07-25T15:05:13.433647Z",
     "iopub.status.idle": "2025-07-25T15:05:13.438792Z",
     "shell.execute_reply": "2025-07-25T15:05:13.438792Z"
    }
   },
   "outputs": [],
   "source": [
    "# create a dictionary of keys of print unique resources with cases_policies_df as the element\n",
    "res_cases_policies_dict = {res: pd.DataFrame(index=case_names, columns=[p for p in policy_types if p != 'pf']) for res in print_unique_resources}"
   ]
  },
  {
   "cell_type": "code",
   "execution_count": 12,
   "id": "7bfc45ae",
   "metadata": {
    "execution": {
     "iopub.execute_input": "2025-07-25T15:05:13.440789Z",
     "iopub.status.busy": "2025-07-25T15:05:13.440789Z",
     "iopub.status.idle": "2025-07-25T15:05:13.448428Z",
     "shell.execute_reply": "2025-07-25T15:05:13.448428Z"
    }
   },
   "outputs": [
    {
     "data": {
      "text/plain": [
       "{'NG CC':                   dlac-p dlac-i slac\n",
       " Thermal_Base         NaN    NaN  NaN\n",
       " 2_Hr_BESS            NaN    NaN  NaN\n",
       " 2_Hr_BESS_Fuelx2     NaN    NaN  NaN\n",
       " 4_Hr_BESS            NaN    NaN  NaN\n",
       " 4_Hr_BESS_Fuelx2     NaN    NaN  NaN\n",
       " 4_Hr_BESS_Fuelx3     NaN    NaN  NaN\n",
       " 4_Hr_BESS_Fuelx4     NaN    NaN  NaN\n",
       " 6_Hr_BESS            NaN    NaN  NaN\n",
       " 6_Hr_BESS_Fuelx2     NaN    NaN  NaN\n",
       " 8_Hr_BESS            NaN    NaN  NaN\n",
       " 8_Hr_BESS_Fuelx2     NaN    NaN  NaN\n",
       " 10_Hr_BESS           NaN    NaN  NaN\n",
       " 10_Hr_BESS_Fuelx2    NaN    NaN  NaN,\n",
       " 'NG CT':                   dlac-p dlac-i slac\n",
       " Thermal_Base         NaN    NaN  NaN\n",
       " 2_Hr_BESS            NaN    NaN  NaN\n",
       " 2_Hr_BESS_Fuelx2     NaN    NaN  NaN\n",
       " 4_Hr_BESS            NaN    NaN  NaN\n",
       " 4_Hr_BESS_Fuelx2     NaN    NaN  NaN\n",
       " 4_Hr_BESS_Fuelx3     NaN    NaN  NaN\n",
       " 4_Hr_BESS_Fuelx4     NaN    NaN  NaN\n",
       " 6_Hr_BESS            NaN    NaN  NaN\n",
       " 6_Hr_BESS_Fuelx2     NaN    NaN  NaN\n",
       " 8_Hr_BESS            NaN    NaN  NaN\n",
       " 8_Hr_BESS_Fuelx2     NaN    NaN  NaN\n",
       " 10_Hr_BESS           NaN    NaN  NaN\n",
       " 10_Hr_BESS_Fuelx2    NaN    NaN  NaN,\n",
       " 'Wind':                   dlac-p dlac-i slac\n",
       " Thermal_Base         NaN    NaN  NaN\n",
       " 2_Hr_BESS            NaN    NaN  NaN\n",
       " 2_Hr_BESS_Fuelx2     NaN    NaN  NaN\n",
       " 4_Hr_BESS            NaN    NaN  NaN\n",
       " 4_Hr_BESS_Fuelx2     NaN    NaN  NaN\n",
       " 4_Hr_BESS_Fuelx3     NaN    NaN  NaN\n",
       " 4_Hr_BESS_Fuelx4     NaN    NaN  NaN\n",
       " 6_Hr_BESS            NaN    NaN  NaN\n",
       " 6_Hr_BESS_Fuelx2     NaN    NaN  NaN\n",
       " 8_Hr_BESS            NaN    NaN  NaN\n",
       " 8_Hr_BESS_Fuelx2     NaN    NaN  NaN\n",
       " 10_Hr_BESS           NaN    NaN  NaN\n",
       " 10_Hr_BESS_Fuelx2    NaN    NaN  NaN,\n",
       " 'Solar':                   dlac-p dlac-i slac\n",
       " Thermal_Base         NaN    NaN  NaN\n",
       " 2_Hr_BESS            NaN    NaN  NaN\n",
       " 2_Hr_BESS_Fuelx2     NaN    NaN  NaN\n",
       " 4_Hr_BESS            NaN    NaN  NaN\n",
       " 4_Hr_BESS_Fuelx2     NaN    NaN  NaN\n",
       " 4_Hr_BESS_Fuelx3     NaN    NaN  NaN\n",
       " 4_Hr_BESS_Fuelx4     NaN    NaN  NaN\n",
       " 6_Hr_BESS            NaN    NaN  NaN\n",
       " 6_Hr_BESS_Fuelx2     NaN    NaN  NaN\n",
       " 8_Hr_BESS            NaN    NaN  NaN\n",
       " 8_Hr_BESS_Fuelx2     NaN    NaN  NaN\n",
       " 10_Hr_BESS           NaN    NaN  NaN\n",
       " 10_Hr_BESS_Fuelx2    NaN    NaN  NaN,\n",
       " 'BESS':                   dlac-p dlac-i slac\n",
       " Thermal_Base         NaN    NaN  NaN\n",
       " 2_Hr_BESS            NaN    NaN  NaN\n",
       " 2_Hr_BESS_Fuelx2     NaN    NaN  NaN\n",
       " 4_Hr_BESS            NaN    NaN  NaN\n",
       " 4_Hr_BESS_Fuelx2     NaN    NaN  NaN\n",
       " 4_Hr_BESS_Fuelx3     NaN    NaN  NaN\n",
       " 4_Hr_BESS_Fuelx4     NaN    NaN  NaN\n",
       " 6_Hr_BESS            NaN    NaN  NaN\n",
       " 6_Hr_BESS_Fuelx2     NaN    NaN  NaN\n",
       " 8_Hr_BESS            NaN    NaN  NaN\n",
       " 8_Hr_BESS_Fuelx2     NaN    NaN  NaN\n",
       " 10_Hr_BESS           NaN    NaN  NaN\n",
       " 10_Hr_BESS_Fuelx2    NaN    NaN  NaN}"
      ]
     },
     "execution_count": 12,
     "metadata": {},
     "output_type": "execute_result"
    }
   ],
   "source": [
    "res_cases_policies_dict"
   ]
  },
  {
   "cell_type": "code",
   "execution_count": 13,
   "id": "76edfbae",
   "metadata": {
    "execution": {
     "iopub.execute_input": "2025-07-25T15:05:13.450425Z",
     "iopub.status.busy": "2025-07-25T15:05:13.450425Z",
     "iopub.status.idle": "2025-07-25T15:05:13.467631Z",
     "shell.execute_reply": "2025-07-25T15:05:13.467293Z"
    }
   },
   "outputs": [],
   "source": [
    "### preliminary data processing\n",
    "# create a dictionary mapping the index to DateTime \n",
    "start_date = datetime.datetime(2018, 1, 1)\n",
    "index_to_datetime = {i-1: start_date + datetime.timedelta(hours=i-1) for i in range(1, 8687)}\n",
    "# create a list of DateTime from start_date to the end of the year \n",
    "datetime_list = [start_date + datetime.timedelta(hours=i) for i in range(8687)]"
   ]
  },
  {
   "cell_type": "code",
   "execution_count": 14,
   "id": "1f0c59ec",
   "metadata": {
    "execution": {
     "iopub.execute_input": "2025-07-25T15:05:13.469629Z",
     "iopub.status.busy": "2025-07-25T15:05:13.469629Z",
     "iopub.status.idle": "2025-07-25T15:06:00.823964Z",
     "shell.execute_reply": "2025-07-25T15:06:00.823312Z"
    }
   },
   "outputs": [
    {
     "name": "stderr",
     "output_type": "stream",
     "text": [
      "The PostScript backend does not support transparency; partially transparent artists will be rendered opaque.\n",
      "The PostScript backend does not support transparency; partially transparent artists will be rendered opaque.\n",
      "The PostScript backend does not support transparency; partially transparent artists will be rendered opaque.\n",
      "The PostScript backend does not support transparency; partially transparent artists will be rendered opaque.\n",
      "The PostScript backend does not support transparency; partially transparent artists will be rendered opaque.\n",
      "The PostScript backend does not support transparency; partially transparent artists will be rendered opaque.\n",
      "The PostScript backend does not support transparency; partially transparent artists will be rendered opaque.\n",
      "The PostScript backend does not support transparency; partially transparent artists will be rendered opaque.\n",
      "The PostScript backend does not support transparency; partially transparent artists will be rendered opaque.\n",
      "The PostScript backend does not support transparency; partially transparent artists will be rendered opaque.\n",
      "The PostScript backend does not support transparency; partially transparent artists will be rendered opaque.\n",
      "The PostScript backend does not support transparency; partially transparent artists will be rendered opaque.\n",
      "The PostScript backend does not support transparency; partially transparent artists will be rendered opaque.\n",
      "The PostScript backend does not support transparency; partially transparent artists will be rendered opaque.\n",
      "The PostScript backend does not support transparency; partially transparent artists will be rendered opaque.\n",
      "The PostScript backend does not support transparency; partially transparent artists will be rendered opaque.\n",
      "The PostScript backend does not support transparency; partially transparent artists will be rendered opaque.\n",
      "The PostScript backend does not support transparency; partially transparent artists will be rendered opaque.\n",
      "The PostScript backend does not support transparency; partially transparent artists will be rendered opaque.\n",
      "The PostScript backend does not support transparency; partially transparent artists will be rendered opaque.\n",
      "The PostScript backend does not support transparency; partially transparent artists will be rendered opaque.\n",
      "The PostScript backend does not support transparency; partially transparent artists will be rendered opaque.\n",
      "The PostScript backend does not support transparency; partially transparent artists will be rendered opaque.\n",
      "The PostScript backend does not support transparency; partially transparent artists will be rendered opaque.\n",
      "The PostScript backend does not support transparency; partially transparent artists will be rendered opaque.\n",
      "The PostScript backend does not support transparency; partially transparent artists will be rendered opaque.\n",
      "The PostScript backend does not support transparency; partially transparent artists will be rendered opaque.\n",
      "The PostScript backend does not support transparency; partially transparent artists will be rendered opaque.\n",
      "The PostScript backend does not support transparency; partially transparent artists will be rendered opaque.\n",
      "The PostScript backend does not support transparency; partially transparent artists will be rendered opaque.\n",
      "The PostScript backend does not support transparency; partially transparent artists will be rendered opaque.\n",
      "The PostScript backend does not support transparency; partially transparent artists will be rendered opaque.\n",
      "The PostScript backend does not support transparency; partially transparent artists will be rendered opaque.\n",
      "The PostScript backend does not support transparency; partially transparent artists will be rendered opaque.\n",
      "The PostScript backend does not support transparency; partially transparent artists will be rendered opaque.\n",
      "The PostScript backend does not support transparency; partially transparent artists will be rendered opaque.\n",
      "The PostScript backend does not support transparency; partially transparent artists will be rendered opaque.\n",
      "The PostScript backend does not support transparency; partially transparent artists will be rendered opaque.\n",
      "The PostScript backend does not support transparency; partially transparent artists will be rendered opaque.\n"
     ]
    }
   ],
   "source": [
    "for case_name in case_names:\n",
    "\n",
    "    # load generator characteristics from resources folder\n",
    "    thermal_dfGen = pd.read_csv(policies_path + '\\\\' + case_name + '\\\\resources' + '\\\\Thermal.csv')\n",
    "    vre_dfGen = pd.read_csv(policies_path + '\\\\' + case_name + '\\\\resources' + '\\\\Vre.csv')\n",
    "    storage_dfGen = pd.read_csv(policies_path + '\\\\' + case_name + '\\\\resources' + '\\\\Storage.csv')\n",
    "\n",
    "    # combine all resources to dfGen\n",
    "    dfGen = pd.concat([thermal_dfGen, vre_dfGen, storage_dfGen], ignore_index=True)\n",
    "    annual_cost_str = ['Inv_Cost_per_MWyr', 'Inv_Cost_per_MWhyr', 'Fixed_OM_Cost_per_MWyr']\n",
    "    dfGen_annual_per_mw_costs = dfGen[annual_cost_str].copy()\n",
    "\n",
    "    dfGen_annual_costs_sum = dfGen_annual_per_mw_costs.sum(axis=1)\n",
    "\n",
    "    gen_capacity_gw = dfGen['Existing_Cap_MW'] / ModelScalingFactor\n",
    "    gen_capacity_mw = dfGen['Existing_Cap_MW']\n",
    "    for model in policy_types:\n",
    "        case_model = case_name + '_' + model\n",
    "\n",
    "        if model == 'pf':\n",
    "            # decision_prices = pf_prices\n",
    "            # results_path = policies_path + '\\\\' + case_name + '\\\\' + 'results_' + model + '\\\\'\n",
    "            # selected_path = results_path + 'prices_scen_array.h5'\n",
    "            continue\n",
    "        elif model == 'dlac-p':\n",
    "            results_path = policies_path + '\\\\' + case_name + '\\\\' + 'results_' + model + '\\\\'\n",
    "        elif model == 'dlac-i':\n",
    "            results_path = policies_path + '\\\\' + case_name + '\\\\' + 'results_' + model + '\\\\'\n",
    "        elif model == 'slac':\n",
    "            results_path = policies_path + '\\\\' + case_name + '\\\\' + 'results_' + model + '\\\\'\n",
    "        else:\n",
    "            print('Model not recognized')\n",
    "\n",
    "        # read in correlated prices data\n",
    "        correlated_prices = pd.read_csv(lookahead_avg_prices_path  + f'average_prices_comparison_{case_model}.csv')\n",
    "        decision_prices = correlated_prices['Decision Prices']\n",
    "        lookahead_prices = correlated_prices['Noon Lookahead Prices']\n",
    "        \n",
    "        # get a list of indices of datetime_list that of Datetimes in correlated_prices['DateTime']\n",
    "        indices_of_interest = [datetime_list.index(datetime.datetime.strptime(dt, '%Y-%m-%d %H:%M:%S')) for dt in correlated_prices['DateTime']]\n",
    "\n",
    "        # read in generator dispatches...\n",
    "        gen_dispatch = pd.read_csv(results_path + 'unit_pgen.csv')\n",
    "        \n",
    "        # read in generator names\n",
    "        gen_charac = pd.read_csv(results_path + 'NetRevenue.csv')\n",
    "        gen_names = gen_charac['generators'].values\n",
    "        print_gen_names = get_printable_resource_names(gen_names)\n",
    "\n",
    "        # add generator names to dispatch data\n",
    "        # gen_dispatch['Resources'] = gen_names\n",
    "        # transpose for easier reading\n",
    "        # gen_dispatch_t = gen_dispatch.transpose()\n",
    "        # # replace column names with generator names\n",
    "        # gen_dispatch_t.columns = gen_names\n",
    "        # ad a column of Datetime to gen dispatch t\n",
    "        # gen_dispatch_t['DateTime'] = [index_to_datetime[i] for i in range(0, 8686)]\n",
    "\n",
    "        # read in battery charges\n",
    "        bess_charge = pd.read_csv(results_path + 'unit_charge.csv')\n",
    "        # add a column of Datetime to bess charge t\n",
    "        # bess_charge_t['DateTime'] = [index_to_datetime[i] for i in range(0, 8686)]\n",
    "\n",
    "        # find the indices where correlated_prices['DateTime'] is in datetime_list\n",
    "        indices_of_interest = [datetime_list.index(datetime.datetime.strptime(dt, '%Y-%m-%d %H:%M:%S')) for dt in correlated_prices['DateTime']]\n",
    "        # get the subset of gen_dispatch_t and bess_charge_t that correspond to the indices of interest\n",
    "        gen_dispatch_t_subset = gen_dispatch.iloc[indices_of_interest]\n",
    "        bess_charge_t_subset = bess_charge.iloc[indices_of_interest]\n",
    "\n",
    "        # calculate profits at each hour for each generator\n",
    "        # Reset the index of gen_dispatch_t_subset to align with decision_prices and lookahead_prices\n",
    "        gen_dispatch_t_subset = gen_dispatch_t_subset.reset_index(drop=True)\n",
    "        bess_charge_t_subset = bess_charge_t_subset.reset_index(drop=True)\n",
    "\n",
    "        # Calculate profits at each hour for each generator\n",
    "        decision_revenues = gen_dispatch_t_subset.multiply(decision_prices.values, axis=0)\n",
    "        lookahead_revenues = gen_dispatch_t_subset.multiply(lookahead_prices.values, axis=0)\n",
    "\n",
    "        decision_charge_costs = bess_charge_t_subset.multiply(decision_prices.values, axis=0)\n",
    "        lookahead_charge_costs = bess_charge_t_subset.multiply(lookahead_prices.values, axis=0)\n",
    "\n",
    "        decision_profits = decision_revenues - decision_charge_costs\n",
    "        lookahead_profits = lookahead_revenues - lookahead_charge_costs\n",
    "\n",
    "        # total each generator profits\n",
    "        decision_gen_profits = decision_profits.sum(axis=0)\n",
    "        lookahead_gen_profits = lookahead_profits.sum(axis=0)\n",
    "\n",
    "        gen_capacity_mw.index = gen_names\n",
    "\n",
    "        # calculate unit profit\n",
    "        rt_unit_profit = decision_gen_profits / gen_capacity_mw\n",
    "        da_unit_profit = lookahead_gen_profits / gen_capacity_mw\n",
    "\n",
    "        # reindex the profits to the generator names\n",
    "        dfGen_annual_costs_sum.index = gen_names\n",
    "        dfGen_annual_costs_sum.index = gen_names\n",
    "\n",
    "        # calculate normalized profits wrt to the annual costs\n",
    "        rt_pmr = rt_unit_profit / dfGen_annual_costs_sum\n",
    "        da_pmr = da_unit_profit / dfGen_annual_costs_sum\n",
    "        # calculate the difference between decision and lookahead profits\n",
    "        \n",
    "        # create a dataframe for profits\n",
    "        profits_df = pd.DataFrame({\n",
    "            'Generator': print_gen_names,\n",
    "            'RT Profits': decision_gen_profits.values,\n",
    "            'DA Profits': lookahead_gen_profits.values,\n",
    "            'RT Unit Profit': rt_unit_profit.values,\n",
    "            'DA Unit Profit': da_unit_profit.values,\n",
    "            'RT PMR': rt_pmr.values,\n",
    "            'DA PMR': da_pmr.values,\n",
    "        })\n",
    "\n",
    "        dec_look_profits_diff = decision_gen_profits - lookahead_gen_profits\n",
    "        profits_df['Decision - Lookahead Profits'] = (dec_look_profits_diff.values / ModelScalingFactor**2).round(2)\n",
    "\n",
    "        profits_df['RT - DA PMR'] = ((rt_pmr.values.astype(float) - da_pmr.values.astype(float)) * 100).round(2)\n",
    "\n",
    "        # add dec_look_profitts_diff to res_cases_policies_dict at the index of case_name and column of model\n",
    "        for res in print_gen_names:\n",
    "            if res in profits_df['Generator'].values:\n",
    "                res_cases_policies_dict[res].loc[case_name, model] = profits_df.loc[profits_df['Generator'] == res, 'RT - DA PMR'].values[0]\n",
    "            else:\n",
    "                res_cases_policies_dict[res].loc[case_name, model] = np.nan\n",
    "\n",
    "\n",
    "        profits_df.set_index('Generator', inplace=True)\n",
    "\n",
    "        # save each profit to a pdf file\n",
    "        fig, ax = plt.subplots()\n",
    "        profits_df.plot(kind='bar', ax=ax)\n",
    "        ax.set_title(f'Decision Profits vs Lookahead Profits for {case_name} - {model}')\n",
    "        ax.set_ylabel('Profits')\n",
    "        plt.tight_layout()\n",
    "        plt.savefig(lookahead_profits_path + f'{case_name}_{model}_profits.eps', format='eps')\n",
    "        plt.close()"
   ]
  },
  {
   "cell_type": "code",
   "execution_count": 15,
   "id": "2b291d3c",
   "metadata": {
    "execution": {
     "iopub.execute_input": "2025-07-25T15:06:00.826111Z",
     "iopub.status.busy": "2025-07-25T15:06:00.826111Z",
     "iopub.status.idle": "2025-07-25T15:06:00.835545Z",
     "shell.execute_reply": "2025-07-25T15:06:00.835545Z"
    }
   },
   "outputs": [],
   "source": [
    "# Create a new dictionary with case names as keys and generator names as row indices\n",
    "case_gen_dict = {\n",
    "    case: pd.DataFrame(\n",
    "        {res: res_cases_policies_dict[res].loc[case] for res in print_unique_resources}\n",
    "    ).T\n",
    "    for case in case_names\n",
    "}"
   ]
  },
  {
   "cell_type": "code",
   "execution_count": 16,
   "id": "42ff75f1",
   "metadata": {
    "execution": {
     "iopub.execute_input": "2025-07-25T15:06:00.837541Z",
     "iopub.status.busy": "2025-07-25T15:06:00.837541Z",
     "iopub.status.idle": "2025-07-25T15:06:00.851308Z",
     "shell.execute_reply": "2025-07-25T15:06:00.850952Z"
    }
   },
   "outputs": [
    {
     "data": {
      "text/plain": [
       "{'Thermal_Base':       dlac-p dlac-i   slac\n",
       " NG CC -18.28  18.59 -63.34\n",
       " NG CT   -0.8  27.31 -16.17\n",
       " Wind   -6.29  -2.17 -32.45\n",
       " Solar  -3.35  -2.95 -37.95\n",
       " BESS     NaN    NaN    NaN,\n",
       " '2_Hr_BESS':       dlac-p dlac-i   slac\n",
       " NG CC  12.22  47.66  33.38\n",
       " NG CT  20.75  55.31   43.4\n",
       " Wind     3.5  11.41   0.16\n",
       " Solar  -3.19   1.07   0.24\n",
       " BESS  -20.78  18.47  32.95,\n",
       " '2_Hr_BESS_Fuelx2':       dlac-p dlac-i   slac\n",
       " NG CC -23.98   44.2  32.64\n",
       " NG CT -29.61  45.93  34.13\n",
       " Wind    3.07  17.24  14.41\n",
       " Solar  -4.22   6.28   2.92\n",
       " BESS  -10.84  11.68  10.94,\n",
       " '4_Hr_BESS':       dlac-p dlac-i   slac\n",
       " NG CC  16.14  54.08  44.11\n",
       " NG CT  22.16  62.79  51.76\n",
       " Wind    6.62  13.34   7.48\n",
       " Solar  -2.43    6.0   6.85\n",
       " BESS    1.64  32.87   37.1,\n",
       " '4_Hr_BESS_Fuelx2':       dlac-p dlac-i   slac\n",
       " NG CC  -20.7  44.88  45.08\n",
       " NG CT -27.18  45.39  45.79\n",
       " Wind    6.21  21.89  21.55\n",
       " Solar   1.48  12.72   8.85\n",
       " BESS  -19.99  21.84  27.21,\n",
       " '4_Hr_BESS_Fuelx3':       dlac-p dlac-i   slac\n",
       " NG CC  -0.52  62.17  33.48\n",
       " NG CT  -3.52  63.52  30.61\n",
       " Wind    13.9  37.84  26.74\n",
       " Solar   6.96  20.18   14.5\n",
       " BESS    5.55  53.33  24.53,\n",
       " '4_Hr_BESS_Fuelx4':       dlac-p dlac-i   slac\n",
       " NG CC  -2.23  76.64  42.99\n",
       " NG CT  -6.95  78.31  37.65\n",
       " Wind   19.25  50.23  35.42\n",
       " Solar  12.08  26.47   19.6\n",
       " BESS    1.13  66.72  31.27,\n",
       " '6_Hr_BESS':       dlac-p dlac-i   slac\n",
       " NG CC    7.5   50.2  40.98\n",
       " NG CT  12.48  58.43  50.13\n",
       " Wind    4.34  13.71   5.32\n",
       " Solar  -2.15   8.45   5.24\n",
       " BESS   -9.01  28.07  36.39,\n",
       " '6_Hr_BESS_Fuelx2':       dlac-p dlac-i   slac\n",
       " NG CC   -5.6  44.42  43.37\n",
       " NG CT -10.37  43.32  42.64\n",
       " Wind    8.77  22.28  21.08\n",
       " Solar   4.93  14.93   9.42\n",
       " BESS  -17.06  15.43  26.37,\n",
       " '8_Hr_BESS':       dlac-p dlac-i   slac\n",
       " NG CC -22.07  56.46  37.02\n",
       " NG CT -20.91  66.31  47.45\n",
       " Wind   -0.95  15.87   4.93\n",
       " Solar  -8.69   8.67   0.97\n",
       " BESS   -17.0  39.44  43.37,\n",
       " '8_Hr_BESS_Fuelx2':       dlac-p dlac-i   slac\n",
       " NG CC   6.27  47.29  27.72\n",
       " NG CT   5.54  46.24  23.62\n",
       " Wind   13.13  24.37  18.21\n",
       " Solar  12.28  19.01  12.82\n",
       " BESS  -12.24  21.59  15.21,\n",
       " '10_Hr_BESS':       dlac-p dlac-i   slac\n",
       " NG CC -16.64  52.33  39.79\n",
       " NG CT -15.51  59.38  50.65\n",
       " Wind    0.24  15.52   6.58\n",
       " Solar  -3.74  10.73   2.28\n",
       " BESS  -16.99   34.6  40.95,\n",
       " '10_Hr_BESS_Fuelx2':       dlac-p dlac-i   slac\n",
       " NG CC   5.31  48.96  22.89\n",
       " NG CT   5.43  48.33  20.78\n",
       " Wind   13.16  25.28  16.32\n",
       " Solar  13.23  21.69  11.48\n",
       " BESS  -17.22  21.65   10.6}"
      ]
     },
     "execution_count": 16,
     "metadata": {},
     "output_type": "execute_result"
    }
   ],
   "source": [
    "case_gen_dict"
   ]
  },
  {
   "cell_type": "code",
   "execution_count": 17,
   "id": "8df0bf81",
   "metadata": {
    "execution": {
     "iopub.execute_input": "2025-07-25T15:06:00.853313Z",
     "iopub.status.busy": "2025-07-25T15:06:00.852308Z",
     "iopub.status.idle": "2025-07-25T15:06:00.855671Z",
     "shell.execute_reply": "2025-07-25T15:06:00.855671Z"
    }
   },
   "outputs": [],
   "source": [
    "# in csv path, make a Table4 folder\n",
    "table4_csv_path = os.path.join(csv_path, 'Table4') + \"/\"\n",
    "if not os.path.exists(table4_csv_path):\n",
    "    os.makedirs(table4_csv_path)"
   ]
  },
  {
   "cell_type": "code",
   "execution_count": 18,
   "id": "05620a04",
   "metadata": {
    "execution": {
     "iopub.execute_input": "2025-07-25T15:06:00.857670Z",
     "iopub.status.busy": "2025-07-25T15:06:00.857670Z",
     "iopub.status.idle": "2025-07-25T15:06:00.964180Z",
     "shell.execute_reply": "2025-07-25T15:06:00.964180Z"
    }
   },
   "outputs": [],
   "source": [
    "# loop through each print_unique_resource and print the dataframe in res_cases_policies_dict to a csv and latex file\n",
    "for res in print_unique_resources:\n",
    "    res_cases_policies_dict[res].to_csv(table4_csv_path + f'Table4_{res}_RT-DA_pmr.csv')\n",
    "    with open(latex_path + f'Table4_{res}_RT-DA_pmr.tex', 'w') as f:\n",
    "        f.write(res_cases_policies_dict[res].to_latex())"
   ]
  },
  {
   "cell_type": "code",
   "execution_count": 19,
   "id": "8fb2fdc3",
   "metadata": {
    "execution": {
     "iopub.execute_input": "2025-07-25T15:06:00.966207Z",
     "iopub.status.busy": "2025-07-25T15:06:00.966207Z",
     "iopub.status.idle": "2025-07-25T15:06:00.970841Z",
     "shell.execute_reply": "2025-07-25T15:06:00.970841Z"
    }
   },
   "outputs": [],
   "source": [
    "def save_case_gen_dict_latex(case, case_gen_dict, latex_path):\n",
    "    with open(latex_path + f'Table4_{case}_RT-DA_pmr.tex', 'w') as f:\n",
    "        f.write('\\\\begin{table}[htbp]\\n')\n",
    "        f.write('\\\\centering\\n')\n",
    "        f.write('\\\\begin{tabular}{l' + 'c' * len(case_gen_dict[case].columns) + '}\\n')\n",
    "        f.write('\\\\toprule\\n')\n",
    "        f.write('\\\\hline\\n')\n",
    "        f.write(' & ' + ' & '.join(case_gen_dict[case].columns) + ' \\\\\\\\\\n')\n",
    "        f.write('\\\\hline\\n')\n",
    "        for index, row in case_gen_dict[case].iterrows():\n",
    "            # remove nan values from row\n",
    "            row = row.dropna()\n",
    "            f.write('\\\\quad ' + f'{index} & ' + ' & '.join([f'{int(val)}\\%' for val in row]) + ' \\\\\\\\\\n')\n",
    "        f.write('\\\\hline\\n')\n",
    "        f.write('\\\\bottomrule\\n')\n",
    "        f.write('\\\\end{tabular}\\n')\n",
    "        case_print = case.replace('_', ' ')\n",
    "        f.write('\\\\caption{RT-DA PMR for ' + case_print + '}\\n')\n",
    "        f.write('\\\\label{tab:table4_' + case + '}\\n')\n",
    "        f.write('\\\\end{table}\\n')\n"
   ]
  },
  {
   "cell_type": "code",
   "execution_count": 20,
   "id": "58b408ac",
   "metadata": {
    "execution": {
     "iopub.execute_input": "2025-07-25T15:06:00.972838Z",
     "iopub.status.busy": "2025-07-25T15:06:00.972838Z",
     "iopub.status.idle": "2025-07-25T15:06:00.976686Z",
     "shell.execute_reply": "2025-07-25T15:06:00.976686Z"
    }
   },
   "outputs": [],
   "source": [
    "def write_all_cases_to_latex(case_names, case_gen_dict, latex_path):\n",
    "    with open(latex_path + 'Table4_all_cases_RT-DA_pmr.tex', 'w') as f:\n",
    "        f.write('\\\\begin{table*}[htbp]\\n')\n",
    "        f.write('\\\\centering\\n')\n",
    "        f.write('\\\\begin{tabular}{l' + 'c' * len(case_gen_dict[case_names[0]].columns) + '}\\n')\n",
    "        f.write('\\\\toprule\\n')\n",
    "        f.write('Case Name & ' + ' & '.join(case_gen_dict[case_names[0]].columns) + ' \\\\\\\\\\n')\n",
    "        f.write('\\\\midrule\\n')\n",
    "        for case in case_names:\n",
    "            case_print = case.replace('_', ' ')\n",
    "            f.write(f'{case_print} \\\\\\\\\\n')\n",
    "            for index, row in case_gen_dict[case].iterrows():\n",
    "                # remove nan values from row\n",
    "                row = row.dropna()\n",
    "                f.write('\\\\quad ' + f'{index} & ' + ' & '.join([f'{int(val)}\\%' for val in row]) + ' \\\\\\\\\\n')\n",
    "            f.write('\\\\midrule\\n')\n",
    "        f.write('\\\\bottomrule\\n')\n",
    "        f.write('\\\\end{tabular}\\n')\n",
    "        f.write('\\\\caption{RT-DA PMR for all cases.}\\n')\n",
    "        f.write('\\\\label{tab:table4_all_cases}\\n')\n",
    "        f.write('\\\\end{table*}\\n')"
   ]
  },
  {
   "cell_type": "code",
   "execution_count": 21,
   "id": "9ad77d55",
   "metadata": {
    "execution": {
     "iopub.execute_input": "2025-07-25T15:06:00.978714Z",
     "iopub.status.busy": "2025-07-25T15:06:00.977716Z",
     "iopub.status.idle": "2025-07-25T15:06:00.998666Z",
     "shell.execute_reply": "2025-07-25T15:06:00.998666Z"
    }
   },
   "outputs": [],
   "source": [
    "for case in case_names:\n",
    "    case_gen_dict[case].to_csv(table4_csv_path + f'Table4_{case}_RT-DA_pmr.csv')\n",
    "    save_case_gen_dict_latex(case, case_gen_dict, latex_path)"
   ]
  },
  {
   "cell_type": "code",
   "execution_count": 22,
   "id": "2dc303a3",
   "metadata": {
    "execution": {
     "iopub.execute_input": "2025-07-25T15:06:01.000655Z",
     "iopub.status.busy": "2025-07-25T15:06:01.000655Z",
     "iopub.status.idle": "2025-07-25T15:06:01.010345Z",
     "shell.execute_reply": "2025-07-25T15:06:01.010345Z"
    }
   },
   "outputs": [],
   "source": [
    "write_all_cases_to_latex(case_names, case_gen_dict, latex_path)"
   ]
  },
  {
   "cell_type": "code",
   "execution_count": 23,
   "id": "42d19497",
   "metadata": {
    "execution": {
     "iopub.execute_input": "2025-07-25T15:06:01.012370Z",
     "iopub.status.busy": "2025-07-25T15:06:01.012370Z",
     "iopub.status.idle": "2025-07-25T15:06:01.028300Z",
     "shell.execute_reply": "2025-07-25T15:06:01.027752Z"
    }
   },
   "outputs": [],
   "source": [
    "all_case_gen_df = pd.concat(\n",
    "    [df.assign(\n",
    "        Case=case_name,\n",
    "        Resource=df.index\n",
    "    ) for case_name, df in case_gen_dict.items()],\n",
    "    ignore_index=True\n",
    ")\n",
    "# reorder such that Resource is the first column\n",
    "all_case_gen_df = all_case_gen_df[['Resource'] + [col for col in all_case_gen_df.columns if col != 'Resource']]\n",
    "all_case_gen_df.to_csv(table4_csv_path + 'Table4_all_cases_RT-DA_pmr.csv', index=False)\n",
    "with open(latex_path + 'Table4_all_cases_RT-DA_pmr.tex', 'w') as f:\n",
    "    f.write(all_case_gen_df.to_latex(index=False))"
   ]
  }
 ],
 "metadata": {
  "kernelspec": {
   "display_name": "base",
   "language": "python",
   "name": "python3"
  },
  "language_info": {
   "codemirror_mode": {
    "name": "ipython",
    "version": 3
   },
   "file_extension": ".py",
   "mimetype": "text/x-python",
   "name": "python",
   "nbconvert_exporter": "python",
   "pygments_lexer": "ipython3",
   "version": "3.11.11"
  }
 },
 "nbformat": 4,
 "nbformat_minor": 5
}
