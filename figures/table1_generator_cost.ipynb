{
 "cells": [
  {
   "cell_type": "code",
   "execution_count": 1,
   "id": "1b8da8dc",
   "metadata": {
    "execution": {
     "iopub.execute_input": "2025-07-25T15:09:25.862106Z",
     "iopub.status.busy": "2025-07-25T15:09:25.862106Z",
     "iopub.status.idle": "2025-07-25T15:09:26.981490Z",
     "shell.execute_reply": "2025-07-25T15:09:26.981490Z"
    }
   },
   "outputs": [],
   "source": [
    "import pandas as pd\n",
    "import numpy as np\n",
    "import seaborn as sb\n",
    "import datetime\n",
    "import os\n",
    "import sys\n",
    "from get_unique_resources_data import get_unique_resources_data\n",
    "from get_printable_resource_names import get_printable_resource_names\n",
    "import matplotlib.pyplot as plt"
   ]
  },
  {
   "cell_type": "markdown",
   "id": "520cc86f",
   "metadata": {},
   "source": [
    "update later to include utils"
   ]
  },
  {
   "cell_type": "code",
   "execution_count": 2,
   "id": "79d8c9d5",
   "metadata": {
    "execution": {
     "iopub.execute_input": "2025-07-25T15:09:26.983961Z",
     "iopub.status.busy": "2025-07-25T15:09:26.983961Z",
     "iopub.status.idle": "2025-07-25T15:09:26.998601Z",
     "shell.execute_reply": "2025-07-25T15:09:26.998601Z"
    }
   },
   "outputs": [],
   "source": [
    "# read in a file starting from the root directory in data/a_upd_generator_df.csv\n",
    "generator_df = pd.read_csv('../data/a_upd_generator_df.csv')\n"
   ]
  },
  {
   "cell_type": "code",
   "execution_count": 3,
   "id": "34c44c30",
   "metadata": {
    "execution": {
     "iopub.execute_input": "2025-07-25T15:09:27.000600Z",
     "iopub.status.busy": "2025-07-25T15:09:27.000600Z",
     "iopub.status.idle": "2025-07-25T15:09:27.005655Z",
     "shell.execute_reply": "2025-07-25T15:09:27.005476Z"
    }
   },
   "outputs": [
    {
     "name": "stdout",
     "output_type": "stream",
     "text": [
      "C:\\Users\\ks885\\Documents\\aa_research\\Modeling\\spcm_genx_experiment\\figures\n"
     ]
    }
   ],
   "source": [
    "case_names = [    \n",
    "              \"Thermal_Base\",\n",
    "              \"2_Hr_BESS\", \n",
    "              \"2_Hr_BESS_Fuelx2\",\n",
    "              \"4_Hr_BESS\",\n",
    "              \"4_Hr_BESS_Fuelx2\",\n",
    "              \"4_Hr_BESS_Fuelx3\",\n",
    "              \"4_Hr_BESS_Fuelx4\",\n",
    "              \"6_Hr_BESS\",\n",
    "              \"6_Hr_BESS_Fuelx2\",\n",
    "              \"8_Hr_BESS\",\n",
    "              \"8_Hr_BESS_Fuelx2\",\n",
    "              \"10_Hr_BESS\",\n",
    "              \"10_Hr_BESS_Fuelx2\",\n",
    "              ]\n",
    "\n",
    "current_dir = os.getcwd()\n",
    "print(current_dir)\n",
    "\n",
    "plots_path = os.path.join(current_dir, 'plots') + \"/\"\n",
    "latex_path = os.path.join(current_dir, 'latex') + \"/\"\n",
    "csv_path = os.path.join(current_dir, 'csv') + \"/\"\n",
    "if not os.path.exists(plots_path):\n",
    "    os.makedirs(plots_path)\n",
    "if not os.path.exists(csv_path):\n",
    "    os.makedirs(csv_path)\n",
    "if not os.path.exists(latex_path):\n",
    "    os.makedirs(latex_path)\n",
    "\n",
    "\n",
    "cem_path = os.path.join(os.path.dirname(current_dir), 'GenX.jl', 'research_systems')\n",
    "policies_path = os.path.join(os.path.dirname(current_dir), 'SPCM', 'research_systems')\n",
    "\n",
    "date = datetime.datetime.now().strftime(\"%Y-%m-%d_%H-%M-%S\")"
   ]
  },
  {
   "cell_type": "code",
   "execution_count": 4,
   "id": "eacfc29c",
   "metadata": {
    "execution": {
     "iopub.execute_input": "2025-07-25T15:09:27.007682Z",
     "iopub.status.busy": "2025-07-25T15:09:27.006682Z",
     "iopub.status.idle": "2025-07-25T15:09:27.134616Z",
     "shell.execute_reply": "2025-07-25T15:09:27.134616Z"
    }
   },
   "outputs": [
    {
     "name": "stdout",
     "output_type": "stream",
     "text": [
      "adding resource: NG 2-on-1 Combined Cycle (F-Frame) from case: Thermal_Base\n",
      "adding resource: NG Combustion Turbine (F-Frame) from case: Thermal_Base\n",
      "adding resource: Land-Based Wind - Class 1 - Technology 1 from case: Thermal_Base\n",
      "adding resource: Utility PV - Class 1 from case: Thermal_Base\n",
      "adding resource: Utility-Scale Battery Storage - 2Hr from case: 2_Hr_BESS\n",
      "adding resource: Utility-Scale Battery Storage - 4Hr from case: 4_Hr_BESS\n",
      "adding resource: Utility-Scale Battery Storage - 6Hr from case: 6_Hr_BESS\n",
      "adding resource: Utility-Scale Battery Storage - 8Hr from case: 8_Hr_BESS\n",
      "adding resource: Utility-Scale Battery Storage - 10Hr from case: 10_Hr_BESS\n"
     ]
    }
   ],
   "source": [
    "# get unique generator names\n",
    "unique_resources, cases_resources_capacities = get_unique_resources_data(case_names, policies_path)\n"
   ]
  },
  {
   "cell_type": "code",
   "execution_count": 5,
   "id": "2ef8c9f1",
   "metadata": {
    "execution": {
     "iopub.execute_input": "2025-07-25T15:09:27.137611Z",
     "iopub.status.busy": "2025-07-25T15:09:27.137611Z",
     "iopub.status.idle": "2025-07-25T15:09:27.140356Z",
     "shell.execute_reply": "2025-07-25T15:09:27.140356Z"
    }
   },
   "outputs": [],
   "source": [
    "column_name_map = {\n",
    "    'Inv_Cost_per_MWyr': 'Investment [$/MW-Yr]',\n",
    "    'Inv_Cost_per_MWhyr': 'Investment [$/MWh-Yr]',\n",
    "    'Fixed_OM_Cost_per_MWyr': 'FOM [$/MW-Yr]',\n",
    "    'Var_OM_Cost_per_MWh': 'VOM [$/MWh]'\n",
    "}"
   ]
  },
  {
   "cell_type": "code",
   "execution_count": 6,
   "id": "9ba73ffc",
   "metadata": {
    "execution": {
     "iopub.execute_input": "2025-07-25T15:09:27.143352Z",
     "iopub.status.busy": "2025-07-25T15:09:27.142354Z",
     "iopub.status.idle": "2025-07-25T15:09:27.145725Z",
     "shell.execute_reply": "2025-07-25T15:09:27.145725Z"
    }
   },
   "outputs": [],
   "source": [
    "# get printable resource names\n",
    "printable_resource_names = get_printable_resource_names(unique_resources)"
   ]
  },
  {
   "cell_type": "code",
   "execution_count": 7,
   "id": "8178b9a6",
   "metadata": {
    "execution": {
     "iopub.execute_input": "2025-07-25T15:09:27.148720Z",
     "iopub.status.busy": "2025-07-25T15:09:27.148720Z",
     "iopub.status.idle": "2025-07-25T15:09:27.151514Z",
     "shell.execute_reply": "2025-07-25T15:09:27.151514Z"
    }
   },
   "outputs": [],
   "source": [
    "# create dataframe with unique resources as rows\n",
    "resources_cost_df = pd.DataFrame(index=unique_resources)\n"
   ]
  },
  {
   "cell_type": "code",
   "execution_count": 8,
   "id": "c3b9e3e4",
   "metadata": {
    "execution": {
     "iopub.execute_input": "2025-07-25T15:09:27.153506Z",
     "iopub.status.busy": "2025-07-25T15:09:27.153506Z",
     "iopub.status.idle": "2025-07-25T15:09:27.163259Z",
     "shell.execute_reply": "2025-07-25T15:09:27.163259Z"
    }
   },
   "outputs": [],
   "source": [
    "# add columns for each resources based on data in generator_df using the column name map\n",
    "for col, new_col in column_name_map.items():\n",
    "    resources_cost_df[new_col] = resources_cost_df.index.map(\n",
    "        lambda res: generator_df.loc[generator_df['Resource'] == res, col].values[0]\n",
    "        if res in generator_df['Resource'].values else np.nan\n",
    "    )"
   ]
  },
  {
   "cell_type": "code",
   "execution_count": 9,
   "id": "e8b27e9f",
   "metadata": {
    "execution": {
     "iopub.execute_input": "2025-07-25T15:09:27.165284Z",
     "iopub.status.busy": "2025-07-25T15:09:27.165284Z",
     "iopub.status.idle": "2025-07-25T15:09:27.169191Z",
     "shell.execute_reply": "2025-07-25T15:09:27.169191Z"
    }
   },
   "outputs": [],
   "source": [
    "# round all numbers to zero decimal places and make sure they are integers\n",
    "resources_cost_df = resources_cost_df.round(2)\n",
    "# make the numers that are not VOM integers\n",
    "resources_cost_df['Investment [$/MW-Yr]'] = resources_cost_df['Investment [$/MW-Yr]'].astype(int)\n",
    "resources_cost_df['Investment [$/MWh-Yr]'] = resources_cost_df['Investment [$/MWh-Yr]'].astype(int)\n",
    "resources_cost_df['FOM [$/MW-Yr]'] = resources_cost_df['FOM [$/MW-Yr]'].astype(int)\n",
    "resources_cost_df['VOM [$/MWh]'] = resources_cost_df['VOM [$/MWh]'].astype(float)"
   ]
  },
  {
   "cell_type": "code",
   "execution_count": 10,
   "id": "91b6d5bf",
   "metadata": {
    "execution": {
     "iopub.execute_input": "2025-07-25T15:09:27.171206Z",
     "iopub.status.busy": "2025-07-25T15:09:27.170218Z",
     "iopub.status.idle": "2025-07-25T15:09:27.174857Z",
     "shell.execute_reply": "2025-07-25T15:09:27.174857Z"
    }
   },
   "outputs": [],
   "source": [
    "# print a csv\n",
    "resources_cost_df.to_csv(csv_path + 'table1_resources_costs.csv')\n"
   ]
  },
  {
   "cell_type": "code",
   "execution_count": 11,
   "id": "4c555490",
   "metadata": {
    "execution": {
     "iopub.execute_input": "2025-07-25T15:09:27.176882Z",
     "iopub.status.busy": "2025-07-25T15:09:27.175884Z",
     "iopub.status.idle": "2025-07-25T15:09:27.181223Z",
     "shell.execute_reply": "2025-07-25T15:09:27.181223Z"
    }
   },
   "outputs": [
    {
     "name": "stdout",
     "output_type": "stream",
     "text": [
      "\\begin{table}[htp]\n",
      "\\centering\n",
      "{\\begin{tabular}{lcccc}\n",
      "\\hline\n",
      "\\multirow{2}{*}{Resource} & Investment & Investment & FOM & VOM \\\\\n",
      " & {[}$\\$/MW$-Yr{]} & {[}$\\$/MWh$-Yr{]} & {[}$\\$/MW$-Yr{]} & {[}$\\$/MWh${]} \\\\ \\hline\n",
      "NG 2-on-1 Combined Cycle (F-Frame) & 74,962 & 0 & 34,500 & 2.17 \\\\\n",
      "NG Combustion Turbine (F-Frame) & 67,440 & 0 & 26,100 & 6.94 \\\\\n",
      "Land-Based Wind - Class 1 - Technology 1 & 83,289 & 0 & 32,443 & 0.10 \\\\\n",
      "Utility PV - Class 1 & 74,134 & 0 & 23,765 & 0.10 \\\\\n",
      "Utility-Scale Battery Storage - 2Hr & 64,517 & 0 & 28,621 & 0 \\\\\n",
      "Utility-Scale Battery Storage - 4Hr & 105,038 & 0 & 48,168 & 0 \\\\\n",
      "Utility-Scale Battery Storage - 6Hr & 145,560 & 0 & 67,714 & 0 \\\\\n",
      "Utility-Scale Battery Storage - 8Hr & 186,081 & 0 & 87,260 & 0 \\\\\n",
      "Utility-Scale Battery Storage - 10Hr & 226,602 & 0 & 106,807 & 0 \\\\\n",
      "\\hline\n",
      "\\end{tabular}}\n",
      "\\captionof{table}{Initial Costs for Candidate Technologies in Simulations} \\label{tab:res_costs} \n",
      "\\end{table}\n",
      "\n"
     ]
    }
   ],
   "source": [
    "latex_table = r\"\"\"\\begin{table}[htp]\n",
    "\\centering\n",
    "{\\begin{tabular}{lcccc}\n",
    "\\hline\n",
    "\\multirow{2}{*}{Resource} & Investment & Investment & FOM & VOM \\\\\n",
    " & {[}$\\$/MW$-Yr{]} & {[}$\\$/MWh$-Yr{]} & {[}$\\$/MW$-Yr{]} & {[}$\\$/MWh${]} \\\\ \\hline\n",
    "\"\"\"\n",
    "\n",
    "for resource, row in resources_cost_df.iterrows():\n",
    "    inv_mwyr = int(row['Investment [$/MW-Yr]'])\n",
    "    inv_mwhyr = int(row['Investment [$/MWh-Yr]'])\n",
    "    fom = int(row['FOM [$/MW-Yr]'])\n",
    "    vom = row['VOM [$/MWh]']\n",
    "    if vom == 0 or vom == 0.0:\n",
    "        vom_str = f\"{int(vom)}\"\n",
    "    else:\n",
    "        vom_str = f\"{vom:.2f}\"\n",
    "    latex_table += f\"{resource} & {inv_mwyr:,} & {inv_mwhyr:,} & {fom:,} & {vom_str} \\\\\\\\\\n\"\n",
    "\n",
    "latex_table += r\"\"\"\\hline\n",
    "\\end{tabular}}\n",
    "\\captionof{table}{Initial Costs for Candidate Technologies in Simulations} \\label{tab:res_costs} \n",
    "\\end{table}\n",
    "\"\"\"\n",
    "\n",
    "print(latex_table)\n",
    "with open(latex_path + 'table1_resources_costs.tex', 'w') as f:\n",
    "    f.write(latex_table)\n"
   ]
  }
 ],
 "metadata": {
  "kernelspec": {
   "display_name": "base",
   "language": "python",
   "name": "python3"
  },
  "language_info": {
   "codemirror_mode": {
    "name": "ipython",
    "version": 3
   },
   "file_extension": ".py",
   "mimetype": "text/x-python",
   "name": "python",
   "nbconvert_exporter": "python",
   "pygments_lexer": "ipython3",
   "version": "3.11.11"
  }
 },
 "nbformat": 4,
 "nbformat_minor": 5
}
