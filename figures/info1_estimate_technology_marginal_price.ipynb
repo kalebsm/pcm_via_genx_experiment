{
 "cells": [
  {
   "cell_type": "code",
   "execution_count": 208,
   "id": "8bb0a8f5",
   "metadata": {},
   "outputs": [],
   "source": [
    "import pandas as pd\n",
    "import numpy as np\n",
    "import seaborn as sb\n",
    "import datetime\n",
    "import matplotlib.pyplot as plt\n",
    "from matplotlib.backends.backend_pdf import PdfPages\n",
    "from get_decision_variable_map import get_decision_variable_map\n",
    "from get_case_outputs_all_models import get_case_outputs_all_models\n",
    "from get_unique_resources_data import get_unique_resources_data\n",
    "from get_printable_resource_names import get_printable_resource_names"
   ]
  },
  {
   "cell_type": "code",
   "execution_count": 209,
   "id": "057c0773",
   "metadata": {},
   "outputs": [
    {
     "name": "stdout",
     "output_type": "stream",
     "text": [
      "c:\\Users\\ks885\\Documents\\aa_research\\Modeling\\spcm_genx_experiment\\figures\n"
     ]
    }
   ],
   "source": [
    "import os\n",
    "\n",
    "current_dir = os.getcwd()\n",
    "print(current_dir)"
   ]
  },
  {
   "cell_type": "code",
   "execution_count": 210,
   "id": "f5cb808c",
   "metadata": {},
   "outputs": [],
   "source": [
    "plots_path = os.path.join(current_dir, 'plots') + \"/\"\n",
    "pdf_path = os.path.join(current_dir, 'pdf_tables') + \"/\"\n",
    "latex_path = os.path.join(current_dir, 'latex') + \"/\"\n",
    "csv_path = os.path.join(current_dir, 'csv') + \"/\"\n",
    "jpg_path = os.path.join(current_dir, 'jpg') + \"/\""
   ]
  },
  {
   "cell_type": "code",
   "execution_count": 211,
   "id": "c57d7523",
   "metadata": {},
   "outputs": [],
   "source": [
    "revenue_band_path = os.path.join(jpg_path, 'revenue_band') + \"/\"\n",
    "if not os.path.exists(revenue_band_path):\n",
    "    os.makedirs(revenue_band_path)"
   ]
  },
  {
   "cell_type": "code",
   "execution_count": 212,
   "id": "47101ce3",
   "metadata": {},
   "outputs": [],
   "source": [
    "# modeling scaling ModelScalingFactor\n",
    "ModelScalingFactor = 1000\n",
    "\n",
    "cem_path = os.path.join(os.path.dirname(current_dir), 'GenX.jl', 'research_systems')\n",
    "policies_path = os.path.join(os.path.dirname(current_dir), 'SPCM', 'research_systems')\n",
    "\n",
    "date = datetime.datetime.now().strftime(\"%Y-%m-%d_%H-%M-%S\")"
   ]
  },
  {
   "cell_type": "code",
   "execution_count": 213,
   "id": "4a9c3614",
   "metadata": {},
   "outputs": [],
   "source": [
    "case_names = [    \n",
    "              \"Thermal_Base\",\n",
    "              \"2_Hr_BESS\", \n",
    "              \"2_Hr_BESS_Fuelx2\",\n",
    "              \"4_Hr_BESS\",\n",
    "              \"4_Hr_BESS_Fuelx2\",\n",
    "              \"4_Hr_BESS_Fuelx3\",\n",
    "              \"4_Hr_BESS_Fuelx4\",\n",
    "              \"6_Hr_BESS\",\n",
    "              \"6_Hr_BESS_Fuelx2\",\n",
    "              \"8_Hr_BESS\",\n",
    "              \"8_Hr_BESS_Fuelx2\",\n",
    "              \"10_Hr_BESS\",\n",
    "              \"10_Hr_BESS_Fuelx2\",\n",
    "              ]\n",
    "\n",
    "model_types = ['cem',\n",
    "                'pf',\n",
    "                'dlac-p',\n",
    "                'dlac-i',\n",
    "                'slac',\n",
    "]\n",
    "\n",
    "policy_types = [m for m in model_types if m != 'cem']\n",
    "\n",
    "# Create a DataFrame with decision_variable_names as the index\n",
    "decision_variable_map = get_decision_variable_map()\n"
   ]
  },
  {
   "cell_type": "code",
   "execution_count": 214,
   "id": "1f98ea85",
   "metadata": {},
   "outputs": [
    {
     "data": {
      "text/plain": [
       "['pf', 'dlac-p', 'dlac-i', 'slac']"
      ]
     },
     "execution_count": 214,
     "metadata": {},
     "output_type": "execute_result"
    }
   ],
   "source": [
    "policy_types"
   ]
  },
  {
   "cell_type": "code",
   "execution_count": 215,
   "id": "9060a5fa",
   "metadata": {},
   "outputs": [
    {
     "name": "stdout",
     "output_type": "stream",
     "text": [
      "adding resource: NG 2-on-1 Combined Cycle (F-Frame) from case: Thermal_Base\n",
      "adding resource: NG Combustion Turbine (F-Frame) from case: Thermal_Base\n",
      "adding resource: Land-Based Wind - Class 1 - Technology 1 from case: Thermal_Base\n",
      "adding resource: Utility PV - Class 1 from case: Thermal_Base\n",
      "adding resource: Utility-Scale Battery Storage - 2Hr from case: 2_Hr_BESS\n",
      "adding resource: Utility-Scale Battery Storage - 4Hr from case: 4_Hr_BESS\n",
      "adding resource: Utility-Scale Battery Storage - 6Hr from case: 6_Hr_BESS\n",
      "adding resource: Utility-Scale Battery Storage - 8Hr from case: 8_Hr_BESS\n",
      "adding resource: Utility-Scale Battery Storage - 10Hr from case: 10_Hr_BESS\n"
     ]
    }
   ],
   "source": [
    "unique_resources, cases_resources_capacities = get_unique_resources_data(case_names, policies_path)\n"
   ]
  },
  {
   "cell_type": "code",
   "execution_count": 216,
   "id": "eb1c8fc9",
   "metadata": {},
   "outputs": [],
   "source": [
    "print_unique_resources = get_printable_resource_names(unique_resources)"
   ]
  },
  {
   "cell_type": "code",
   "execution_count": 217,
   "id": "5cd58e08",
   "metadata": {},
   "outputs": [
    {
     "data": {
      "text/plain": [
       "['NG 2-on-1 Combined Cycle (F-Frame)',\n",
       " 'NG Combustion Turbine (F-Frame)',\n",
       " 'Land-Based Wind - Class 1 - Technology 1',\n",
       " 'Utility PV - Class 1',\n",
       " 'Utility-Scale Battery Storage - 2Hr',\n",
       " 'Utility-Scale Battery Storage - 4Hr',\n",
       " 'Utility-Scale Battery Storage - 6Hr',\n",
       " 'Utility-Scale Battery Storage - 8Hr',\n",
       " 'Utility-Scale Battery Storage - 10Hr']"
      ]
     },
     "execution_count": 217,
     "metadata": {},
     "output_type": "execute_result"
    }
   ],
   "source": [
    "unique_resources"
   ]
  },
  {
   "cell_type": "code",
   "execution_count": 218,
   "id": "da05c4b6",
   "metadata": {},
   "outputs": [],
   "source": [
    "non_bess_resources = [r for r in unique_resources if not any(x in r for x in ['Battery', 'BESS', 'Storage'])]"
   ]
  },
  {
   "cell_type": "code",
   "execution_count": 219,
   "id": "e10fbe54",
   "metadata": {},
   "outputs": [
    {
     "data": {
      "text/plain": [
       "['NG 2-on-1 Combined Cycle (F-Frame)',\n",
       " 'NG Combustion Turbine (F-Frame)',\n",
       " 'Land-Based Wind - Class 1 - Technology 1',\n",
       " 'Utility PV - Class 1']"
      ]
     },
     "execution_count": 219,
     "metadata": {},
     "output_type": "execute_result"
    }
   ],
   "source": [
    "non_bess_resources"
   ]
  },
  {
   "cell_type": "code",
   "execution_count": null,
   "id": "76dd3fbc",
   "metadata": {},
   "outputs": [
    {
     "name": "stdout",
     "output_type": "stream",
     "text": [
      "1.6275 5.28 6.363\n",
      "5.205 6.0 9.717\n",
      "0.1 0 0\n",
      "0.1 0 0\n",
      "3.255 5.28 6.363\n",
      "10.41 6.0 9.717\n",
      "0.1 0 0\n",
      "0.1 0 0\n",
      "3.255 10.56 6.363\n",
      "10.41 12.0 9.717\n",
      "0.1 0 0\n",
      "0.1 0 0\n",
      "3.255 5.28 6.363\n",
      "10.41 6.0 9.717\n",
      "0.1 0 0\n",
      "0.1 0 0\n",
      "3.255 10.56 6.363\n",
      "10.41 12.0 9.717\n",
      "0.1 0 0\n",
      "0.1 0 0\n",
      "3.255 15.840000000000002 6.363\n",
      "10.41 18.0 9.717\n",
      "0.1 0 0\n",
      "0.1 0 0\n",
      "3.255 21.12 6.363\n",
      "10.41 24.0 9.717\n",
      "0.1 0 0\n",
      "0.1 0 0\n",
      "3.255 5.28 6.363\n",
      "10.41 6.0 9.717\n",
      "0.1 0 0\n",
      "0.1 0 0\n",
      "3.255 10.56 6.363\n",
      "10.41 12.0 9.717\n",
      "0.1 0 0\n",
      "0.1 0 0\n",
      "3.255 5.28 6.363\n",
      "10.41 6.0 9.717\n",
      "0.1 0 0\n",
      "0.1 0 0\n",
      "3.255 10.56 6.363\n",
      "10.41 12.0 9.717\n",
      "0.1 0 0\n",
      "0.1 0 0\n",
      "3.255 5.28 6.363\n",
      "10.41 6.0 9.717\n",
      "0.1 0 0\n",
      "0.1 0 0\n",
      "3.255 10.56 6.363\n",
      "10.41 12.0 9.717\n",
      "0.1 0 0\n",
      "0.1 0 0\n"
     ]
    }
   ],
   "source": [
    "# initialize empty DataFrame to hold all outputs \n",
    "marginal_prices = pd.DataFrame(index=case_names, columns=non_bess_resources)\n",
    "\n",
    "# loop throuch cases and calculate marginal prices for each technology\n",
    "for case in case_names:\n",
    "    # read generator data\n",
    "    # storage = pd.read_csv(os.path.join(policies_path, case, 'resources/storage.csv'), index_col='Resource')\n",
    "    thermal = pd.read_csv(os.path.join(policies_path, case, 'resources/Thermal.csv'), index_col='Resource')\n",
    "    vre = pd.read_csv(os.path.join(policies_path, case, 'resources/Vre.csv'), index_col='Resource')\n",
    "\n",
    "    # concatenate resources data\n",
    "    non_bess_resources = pd.concat([thermal, vre], axis=0)\n",
    "\n",
    "    thermal_fuel_types = thermal['Fuel']\n",
    "\n",
    "    # read fuel data\n",
    "    case_fuel_data = pd.read_csv(os.path.join(policies_path, case, 'system/Fuels_data.csv'))\n",
    "\n",
    "    # get fuel prices of thermal_fuel_types\n",
    "    fuel_prices = case_fuel_data[thermal_fuel_types.values]\n",
    "    # calculate the average fuel price for each thermal resource\n",
    "    fuel_prices_avg = fuel_prices.mean(axis=0)\n",
    "\n",
    "    # for each row in non_bess_resources, calculate the marginal price\n",
    "    for index, row in non_bess_resources.iterrows():\n",
    "        # get the fuel type of the resource\n",
    "        fuel_type = row['Fuel'] if row['Fuel'] != None else None\n",
    "        if fuel_type is None or fuel_type not in fuel_prices_avg:\n",
    "            # print(f\"Fuel type {fuel_type} not found in fuel prices. Skipping resource {index}.\")\n",
    "            fuel_price = 0\n",
    "        else:\n",
    "            # get the fuel price for the resource\n",
    "            fuel_price = fuel_prices_avg[fuel_type]\n",
    "\n",
    "        resource_vom = row['Var_OM_Cost_per_MWh'] if 'Var_OM_Cost_per_MWh' in row else 0\n",
    "        \n",
    "        fuel_type_is_nan = pd.isna(row['Fuel'])\n",
    "        fuel_type = row['Fuel'] if not fuel_type_is_nan else None\n",
    "        fuel_price = 0 if fuel_type_is_nan or fuel_type not in fuel_prices_avg else fuel_prices_avg[fuel_type]\n",
    "        heat_rate = row['Heat_Rate_MMBTU_per_MWh'] if not pd.isna(row['Heat_Rate_MMBTU_per_MWh']) else 0\n",
    "        print(resource_vom, fuel_price, heat_rate)\n",
    "\n",
    "        # calculate the marginal price\n",
    "        marginal_price = resource_vom + (fuel_price * heat_rate)\n",
    "        # add the marginal price to the DataFrame\n",
    "        marginal_prices.at[case, index] = marginal_price\n"
   ]
  },
  {
   "cell_type": "code",
   "execution_count": 221,
   "id": "263c0773",
   "metadata": {},
   "outputs": [
    {
     "data": {
      "text/html": [
       "<div>\n",
       "<style scoped>\n",
       "    .dataframe tbody tr th:only-of-type {\n",
       "        vertical-align: middle;\n",
       "    }\n",
       "\n",
       "    .dataframe tbody tr th {\n",
       "        vertical-align: top;\n",
       "    }\n",
       "\n",
       "    .dataframe thead th {\n",
       "        text-align: right;\n",
       "    }\n",
       "</style>\n",
       "<table border=\"1\" class=\"dataframe\">\n",
       "  <thead>\n",
       "    <tr style=\"text-align: right;\">\n",
       "      <th></th>\n",
       "      <th>NG 2-on-1 Combined Cycle (F-Frame)</th>\n",
       "      <th>NG Combustion Turbine (F-Frame)</th>\n",
       "      <th>Land-Based Wind - Class 1 - Technology 1</th>\n",
       "      <th>Utility PV - Class 1</th>\n",
       "    </tr>\n",
       "  </thead>\n",
       "  <tbody>\n",
       "    <tr>\n",
       "      <th>Thermal_Base</th>\n",
       "      <td>35.22414</td>\n",
       "      <td>63.507</td>\n",
       "      <td>0.1</td>\n",
       "      <td>0.1</td>\n",
       "    </tr>\n",
       "    <tr>\n",
       "      <th>2_Hr_BESS</th>\n",
       "      <td>36.85164</td>\n",
       "      <td>68.712</td>\n",
       "      <td>0.1</td>\n",
       "      <td>0.1</td>\n",
       "    </tr>\n",
       "    <tr>\n",
       "      <th>2_Hr_BESS_Fuelx2</th>\n",
       "      <td>70.44828</td>\n",
       "      <td>127.014</td>\n",
       "      <td>0.1</td>\n",
       "      <td>0.1</td>\n",
       "    </tr>\n",
       "    <tr>\n",
       "      <th>4_Hr_BESS</th>\n",
       "      <td>36.85164</td>\n",
       "      <td>68.712</td>\n",
       "      <td>0.1</td>\n",
       "      <td>0.1</td>\n",
       "    </tr>\n",
       "    <tr>\n",
       "      <th>4_Hr_BESS_Fuelx2</th>\n",
       "      <td>70.44828</td>\n",
       "      <td>127.014</td>\n",
       "      <td>0.1</td>\n",
       "      <td>0.1</td>\n",
       "    </tr>\n",
       "    <tr>\n",
       "      <th>4_Hr_BESS_Fuelx3</th>\n",
       "      <td>104.04492</td>\n",
       "      <td>185.316</td>\n",
       "      <td>0.1</td>\n",
       "      <td>0.1</td>\n",
       "    </tr>\n",
       "    <tr>\n",
       "      <th>4_Hr_BESS_Fuelx4</th>\n",
       "      <td>137.64156</td>\n",
       "      <td>243.618</td>\n",
       "      <td>0.1</td>\n",
       "      <td>0.1</td>\n",
       "    </tr>\n",
       "    <tr>\n",
       "      <th>6_Hr_BESS</th>\n",
       "      <td>36.85164</td>\n",
       "      <td>68.712</td>\n",
       "      <td>0.1</td>\n",
       "      <td>0.1</td>\n",
       "    </tr>\n",
       "    <tr>\n",
       "      <th>6_Hr_BESS_Fuelx2</th>\n",
       "      <td>70.44828</td>\n",
       "      <td>127.014</td>\n",
       "      <td>0.1</td>\n",
       "      <td>0.1</td>\n",
       "    </tr>\n",
       "    <tr>\n",
       "      <th>8_Hr_BESS</th>\n",
       "      <td>36.85164</td>\n",
       "      <td>68.712</td>\n",
       "      <td>0.1</td>\n",
       "      <td>0.1</td>\n",
       "    </tr>\n",
       "    <tr>\n",
       "      <th>8_Hr_BESS_Fuelx2</th>\n",
       "      <td>70.44828</td>\n",
       "      <td>127.014</td>\n",
       "      <td>0.1</td>\n",
       "      <td>0.1</td>\n",
       "    </tr>\n",
       "    <tr>\n",
       "      <th>10_Hr_BESS</th>\n",
       "      <td>36.85164</td>\n",
       "      <td>68.712</td>\n",
       "      <td>0.1</td>\n",
       "      <td>0.1</td>\n",
       "    </tr>\n",
       "    <tr>\n",
       "      <th>10_Hr_BESS_Fuelx2</th>\n",
       "      <td>70.44828</td>\n",
       "      <td>127.014</td>\n",
       "      <td>0.1</td>\n",
       "      <td>0.1</td>\n",
       "    </tr>\n",
       "  </tbody>\n",
       "</table>\n",
       "</div>"
      ],
      "text/plain": [
       "                  NG 2-on-1 Combined Cycle (F-Frame)  \\\n",
       "Thermal_Base                                35.22414   \n",
       "2_Hr_BESS                                   36.85164   \n",
       "2_Hr_BESS_Fuelx2                            70.44828   \n",
       "4_Hr_BESS                                   36.85164   \n",
       "4_Hr_BESS_Fuelx2                            70.44828   \n",
       "4_Hr_BESS_Fuelx3                           104.04492   \n",
       "4_Hr_BESS_Fuelx4                           137.64156   \n",
       "6_Hr_BESS                                   36.85164   \n",
       "6_Hr_BESS_Fuelx2                            70.44828   \n",
       "8_Hr_BESS                                   36.85164   \n",
       "8_Hr_BESS_Fuelx2                            70.44828   \n",
       "10_Hr_BESS                                  36.85164   \n",
       "10_Hr_BESS_Fuelx2                           70.44828   \n",
       "\n",
       "                  NG Combustion Turbine (F-Frame)  \\\n",
       "Thermal_Base                               63.507   \n",
       "2_Hr_BESS                                  68.712   \n",
       "2_Hr_BESS_Fuelx2                          127.014   \n",
       "4_Hr_BESS                                  68.712   \n",
       "4_Hr_BESS_Fuelx2                          127.014   \n",
       "4_Hr_BESS_Fuelx3                          185.316   \n",
       "4_Hr_BESS_Fuelx4                          243.618   \n",
       "6_Hr_BESS                                  68.712   \n",
       "6_Hr_BESS_Fuelx2                          127.014   \n",
       "8_Hr_BESS                                  68.712   \n",
       "8_Hr_BESS_Fuelx2                          127.014   \n",
       "10_Hr_BESS                                 68.712   \n",
       "10_Hr_BESS_Fuelx2                         127.014   \n",
       "\n",
       "                  Land-Based Wind - Class 1 - Technology 1  \\\n",
       "Thermal_Base                                           0.1   \n",
       "2_Hr_BESS                                              0.1   \n",
       "2_Hr_BESS_Fuelx2                                       0.1   \n",
       "4_Hr_BESS                                              0.1   \n",
       "4_Hr_BESS_Fuelx2                                       0.1   \n",
       "4_Hr_BESS_Fuelx3                                       0.1   \n",
       "4_Hr_BESS_Fuelx4                                       0.1   \n",
       "6_Hr_BESS                                              0.1   \n",
       "6_Hr_BESS_Fuelx2                                       0.1   \n",
       "8_Hr_BESS                                              0.1   \n",
       "8_Hr_BESS_Fuelx2                                       0.1   \n",
       "10_Hr_BESS                                             0.1   \n",
       "10_Hr_BESS_Fuelx2                                      0.1   \n",
       "\n",
       "                  Utility PV - Class 1  \n",
       "Thermal_Base                       0.1  \n",
       "2_Hr_BESS                          0.1  \n",
       "2_Hr_BESS_Fuelx2                   0.1  \n",
       "4_Hr_BESS                          0.1  \n",
       "4_Hr_BESS_Fuelx2                   0.1  \n",
       "4_Hr_BESS_Fuelx3                   0.1  \n",
       "4_Hr_BESS_Fuelx4                   0.1  \n",
       "6_Hr_BESS                          0.1  \n",
       "6_Hr_BESS_Fuelx2                   0.1  \n",
       "8_Hr_BESS                          0.1  \n",
       "8_Hr_BESS_Fuelx2                   0.1  \n",
       "10_Hr_BESS                         0.1  \n",
       "10_Hr_BESS_Fuelx2                  0.1  "
      ]
     },
     "execution_count": 221,
     "metadata": {},
     "output_type": "execute_result"
    }
   ],
   "source": [
    "marginal_prices"
   ]
  },
  {
   "cell_type": "code",
   "execution_count": 222,
   "id": "53fb6fc7",
   "metadata": {},
   "outputs": [],
   "source": [
    "# print marginal prices to csv file\n",
    "marginal_prices.to_csv(os.path.join(csv_path, 'info1_marginal_prices.csv'))"
   ]
  }
 ],
 "metadata": {
  "kernelspec": {
   "display_name": "base",
   "language": "python",
   "name": "python3"
  },
  "language_info": {
   "codemirror_mode": {
    "name": "ipython",
    "version": 3
   },
   "file_extension": ".py",
   "mimetype": "text/x-python",
   "name": "python",
   "nbconvert_exporter": "python",
   "pygments_lexer": "ipython3",
   "version": "3.11.11"
  }
 },
 "nbformat": 4,
 "nbformat_minor": 5
}
